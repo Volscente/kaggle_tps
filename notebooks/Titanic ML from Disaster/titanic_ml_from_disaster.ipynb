{
 "cells": [
  {
   "cell_type": "markdown",
   "id": "458dbcf9-d2ae-40ae-ab49-f8961b9a8111",
   "metadata": {
    "tags": []
   },
   "source": [
    "# Titanic - Machine Learning from Disaster\n",
    "\n",
    "The notebook is intended to predict if a specific passenger can survive or not in the Titanic disaster."
   ]
  },
  {
   "cell_type": "code",
   "execution_count": null,
   "id": "ae5b2f46-463c-41b3-a613-6827e2ee0c20",
   "metadata": {
    "tags": []
   },
   "outputs": [],
   "source": [
    "# Import Standard Libraries\n",
    "import pandas as pd\n",
    "import matplotlib.pyplot as plt\n",
    "import seaborn as sns"
   ]
  },
  {
   "cell_type": "code",
   "execution_count": null,
   "id": "9ded9cdb-82b6-4d11-8534-18a324518265",
   "metadata": {
    "tags": []
   },
   "outputs": [],
   "source": [
    "# Define Seaborn theme parameters\n",
    "theme_parameters =  {\n",
    "    'axes.spines.right': False,\n",
    "    'axes.spines.top': False,\n",
    "    'grid.alpha':0.3,\n",
    "    'figure.figsize': (16, 6),\n",
    "    'font.family': 'Andale Mono',\n",
    "    'axes.titlesize': 24,\n",
    "    'figure.facecolor': '#E5E8E8',\n",
    "    'axes.facecolor': '#E5E8E8'\n",
    "}\n",
    "\n",
    "# Set the theme\n",
    "sns.set_theme(style='whitegrid',\n",
    "              palette=sns.color_palette('deep'), \n",
    "              rc=theme_parameters)"
   ]
  },
  {
   "cell_type": "markdown",
   "id": "bbcbf5a6-7a6f-4009-8fe9-b2e03978ddd0",
   "metadata": {},
   "source": [
    "# Read Data"
   ]
  },
  {
   "cell_type": "code",
   "execution_count": null,
   "id": "ac983a04-176f-4ab5-b78c-bd9d8dc51a46",
   "metadata": {
    "tags": []
   },
   "outputs": [],
   "source": [
    "# Switch flag for Kaggle Cloud\n",
    "kaggle = False"
   ]
  },
  {
   "cell_type": "code",
   "execution_count": null,
   "id": "9d8d7414-74a7-40b4-9352-c214e970779f",
   "metadata": {
    "tags": []
   },
   "outputs": [],
   "source": [
    "# Read training data\n",
    "if kaggle:\n",
    "    train_data = pd.read_csv('')\n",
    "    test_data = pd.read_csv('')\n",
    "else:\n",
    "    train_data = pd.read_csv('./../../data/Titanic ML from Disaster/train.csv')\n",
    "    test_data = pd.read_csv('./../../data/Titanic ML from Disaster/test.csv')"
   ]
  },
  {
   "cell_type": "code",
   "execution_count": null,
   "id": "dce154e0-0d10-4db9-afe9-0e69ccc23bde",
   "metadata": {
    "tags": []
   },
   "outputs": [],
   "source": [
    "train_data.head()"
   ]
  },
  {
   "cell_type": "code",
   "execution_count": null,
   "id": "34048391-2046-4beb-92f5-b05691ba8cbc",
   "metadata": {
    "tags": []
   },
   "outputs": [],
   "source": [
    "train_data.info()"
   ]
  }
 ],
 "metadata": {
  "kernelspec": {
   "display_name": "Python 3 (ipykernel)",
   "language": "python",
   "name": "python3"
  },
  "language_info": {
   "codemirror_mode": {
    "name": "ipython",
    "version": 3
   },
   "file_extension": ".py",
   "mimetype": "text/x-python",
   "name": "python",
   "nbconvert_exporter": "python",
   "pygments_lexer": "ipython3",
   "version": "3.10.5"
  }
 },
 "nbformat": 4,
 "nbformat_minor": 5
}
