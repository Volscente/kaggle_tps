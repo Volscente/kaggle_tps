{
 "cells": [
  {
   "cell_type": "markdown",
   "id": "9c014bbe-11c8-4563-a320-8a8391009048",
   "metadata": {},
   "source": [
    "# Wine Quality Classification\n",
    "\n",
    "The notebook is intended to develop & validate a model for multi-class classification of the Wine Quality."
   ]
  },
  {
   "cell_type": "code",
   "execution_count": null,
   "id": "9ea3258c-939a-402b-b46f-19a39a7f9273",
   "metadata": {},
   "outputs": [],
   "source": [
    "# Import Standard Libraries\n",
    "import pandas as pd\n",
    "import os\n",
    "\n",
    "import matplotlib.pyplot as plt\n",
    "import seaborn as sns"
   ]
  },
  {
   "cell_type": "code",
   "execution_count": null,
   "id": "3d3cb18b-3ce5-4f9e-9113-99b5148843c8",
   "metadata": {},
   "outputs": [],
   "source": [
    "# Define Seaborn theme parameters\n",
    "theme_parameters =  {\n",
    "    'axes.spines.right': False,\n",
    "    'axes.spines.top': False,\n",
    "    'grid.alpha':0.3,\n",
    "    'figure.figsize': (16, 6),\n",
    "    'font.family': 'Andale Mono',\n",
    "    'axes.titlesize': 24,\n",
    "    'figure.facecolor': '#E5E8E8',\n",
    "    'axes.facecolor': '#E5E8E8'\n",
    "}\n",
    "\n",
    "# Set the theme\n",
    "sns.set_theme(style='whitegrid',\n",
    "              palette=sns.color_palette('deep'), \n",
    "              rc=theme_parameters)"
   ]
  },
  {
   "cell_type": "code",
   "execution_count": null,
   "id": "530593f6-ab4a-4956-b9cb-e18ff93147d9",
   "metadata": {},
   "outputs": [],
   "source": [
    "# Notebook's variables\n",
    "train_data_path = os.path.join('./../../data/S3E2/wine_quality_train.csv')\n",
    "test_data_path = os.path.join('./../../data/S3E2/wine_quality_test.csv')"
   ]
  },
  {
   "cell_type": "markdown",
   "id": "e84c6c49-21a2-428e-974d-ccd6b3a9e326",
   "metadata": {},
   "source": []
  }
 ],
 "metadata": {
  "kernelspec": {
   "display_name": "Python 3 (ipykernel)",
   "language": "python",
   "name": "python3"
  },
  "language_info": {
   "codemirror_mode": {
    "name": "ipython",
    "version": 3
   },
   "file_extension": ".py",
   "mimetype": "text/x-python",
   "name": "python",
   "nbconvert_exporter": "python",
   "pygments_lexer": "ipython3",
   "version": "3.10.5"
  }
 },
 "nbformat": 4,
 "nbformat_minor": 5
}
