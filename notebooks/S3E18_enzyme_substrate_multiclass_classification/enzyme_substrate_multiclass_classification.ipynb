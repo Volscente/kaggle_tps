{
 "cells": [
  {
   "cell_type": "markdown",
   "id": "b4e010c6-7197-4e17-a92f-acd2cfa4e857",
   "metadata": {},
   "source": [
    "# Enzyme Substrate Multiclass Classification\n",
    "\n",
    "**Context:** Enzymes are known to act on molecules with structural similarities with their substrates. This behaviour is called promiscuity. Scientists working in drug discovery use this behaviour to target/design drugs to either block or promote biological actions. But, correct prediction of EC class(s) of substrates associated with enzymes has been a challenge in biology. Since there is no shortage of data, ML techniques can be employed to solve the aforementioned problem.\n",
    "\n",
    "\n",
    "**Goal**: Through the provided features impute the `x_e_out [-]`.\n",
    "\n",
    "**Feature Description**:\n",
    "- Geometry[-]: geometry of the heat source\n",
    "- Pressure [Mpa]: Pressure inside the boiler\n",
    "- Length [mm]: the heated length of the heat source\n",
    "- Dh [mm]: channel heated diameter\n",
    "- De [mm]: channel equivalent (or hydraulic) diameter\n",
    "- chf_exp: Experimental critical heat flux [MW/m2]\n",
    "- mass_flux [kg/m2 s]: In physics and engineering, mass flux is the rate of mass flow\n",
    "- x_e [-]: loca/exit equilibrium (or thermodynamic) quality\n",
    "\n",
    "**Resources**:\n",
    "- [Kaggle Challenge](https://www.kaggle.com/competitions/playground-series-s3e18/overview)\n",
    "- [Dataset](https://www.kaggle.com/datasets/gopalns/ec-mixed-class?select=mixed_desc.csv)"
   ]
  }
 ],
 "metadata": {
  "kernelspec": {
   "display_name": "Python 3 (ipykernel)",
   "language": "python",
   "name": "python3"
  },
  "language_info": {
   "codemirror_mode": {
    "name": "ipython",
    "version": 3
   },
   "file_extension": ".py",
   "mimetype": "text/x-python",
   "name": "python",
   "nbconvert_exporter": "python",
   "pygments_lexer": "ipython3",
   "version": "3.10.5"
  }
 },
 "nbformat": 4,
 "nbformat_minor": 5
}
