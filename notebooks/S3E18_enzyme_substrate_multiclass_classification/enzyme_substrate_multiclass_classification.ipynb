{
 "cells": [
  {
   "cell_type": "markdown",
   "id": "b4e010c6-7197-4e17-a92f-acd2cfa4e857",
   "metadata": {},
   "source": [
    "# Import Standard Libraries\n",
    "import os\n",
    "import re\n",
    "\n",
    "import pandas as pd\n",
    "import numpy as np\n",
    "import matplotlib.pyplot as plt\n",
    "from matplotlib.gridspec import GridSpec\n",
    "import matplotlib.ticker as ticker\n",
    "import seaborn as sns\n",
    "\n",
    "import mlflow\n",
    "\n",
    "from pathlib import Path\n",
    "from colorama import Style, Fore\n",
    "\n",
    "from sklearn.impute import SimpleImputer\n",
    "from sklearn.compose import ColumnTransformer\n",
    "from sklearn.pipeline import Pipeline\n",
    "from sklearn.preprocessing import OneHotEncoder, FunctionTransformer, StandardScaler, MinMaxScaler\n",
    "from sklearn.linear_model import LinearRegression\n",
    "from sklearn.base import BaseEstimator, TransformerMixin\n",
    "from sklearn.model_selection import train_test_split, LearningCurveDisplay, \\\n",
    "                                    learning_curve, ShuffleSplit, GridSearchCV, \\\n",
    "                                    KFold\n",
    "\n",
    "from sklearn.metrics import mean_squared_error, mean_absolute_error, \\\n",
    "                            mean_absolute_percentage_error, r2_score\n",
    "from sklearn.ensemble import RandomForestRegressor\n",
    "\n",
    "from scipy import stats\n",
    "\n",
    "from xgboost import XGBRegressor# Enzyme Substrate Multiclass Classification\n",
    "\n",
    "**Context:** Enzymes are known to act on molecules with structural similarities with their substrates. This behaviour is called promiscuity. Scientists working in drug discovery use this behaviour to target/design drugs to either block or promote biological actions. But, correct prediction of EC class(s) of substrates associated with enzymes has been a challenge in biology. Since there is no shortage of data, ML techniques can be employed to solve the aforementioned problem.\n",
    "\n",
    "\n",
    "**Goal**: Through the provided features impute the `x_e_out [-]`.\n",
    "\n",
    "**Feature Description**:\n",
    "- Geometry[-]: geometry of the heat source\n",
    "- Pressure [Mpa]: Pressure inside the boiler\n",
    "- Length [mm]: the heated length of the heat source\n",
    "- Dh [mm]: channel heated diameter\n",
    "- De [mm]: channel equivalent (or hydraulic) diameter\n",
    "- chf_exp: Experimental critical heat flux [MW/m2]\n",
    "- mass_flux [kg/m2 s]: In physics and engineering, mass flux is the rate of mass flow\n",
    "- x_e [-]: loca/exit equilibrium (or thermodynamic) quality\n",
    "\n",
    "**Resources**:\n",
    "- [Kaggle Challenge](https://www.kaggle.com/competitions/playground-series-s3e18/overview)\n",
    "- [Dataset](https://www.kaggle.com/datasets/gopalns/ec-mixed-class?select=mixed_desc.csv)"
   ]
  },
  {
   "cell_type": "code",
   "execution_count": 1,
   "id": "6e328572-331f-4b66-8bb1-5012f1812dd8",
   "metadata": {
    "tags": []
   },
   "outputs": [],
   "source": [
    "# Import Standard Libraries\n",
    "import os\n",
    "\n",
    "import pandas as pd\n",
    "import numpy as np\n",
    "\n",
    "import matplotlib.pyplot as plt\n",
    "from matplotlib.gridspec import GridSpec\n",
    "import matplotlib.ticker as ticker\n",
    "import seaborn as sns\n",
    "\n",
    "import mlflow\n",
    "\n",
    "from pathlib import Path\n",
    "from colorama import Style, Fore"
   ]
  },
  {
   "cell_type": "code",
   "execution_count": 2,
   "id": "5e612d58-4357-47b6-9de2-6877f1d6b036",
   "metadata": {
    "tags": []
   },
   "outputs": [],
   "source": [
    "# Define Seaborn theme parameters\n",
    "theme_parameters =  {\n",
    "    'axes.spines.right': False,\n",
    "    'axes.spines.top': False,\n",
    "    'grid.alpha':0.3,\n",
    "    'figure.figsize': (16, 6),\n",
    "    'font.family': 'Andale Mono',\n",
    "    'axes.titlesize': 24,\n",
    "    'figure.facecolor': '#E5E8E8',\n",
    "    'axes.facecolor': '#E5E8E8'\n",
    "}\n",
    "\n",
    "# Set the theme\n",
    "sns.set_theme(style='whitegrid',\n",
    "              palette=sns.color_palette('deep'), \n",
    "              rc=theme_parameters)"
   ]
  },
  {
   "cell_type": "code",
   "execution_count": 3,
   "id": "0c403c7b-96f9-4c1d-8131-f8bc62de31ed",
   "metadata": {
    "tags": []
   },
   "outputs": [],
   "source": [
    "# Define Colors\n",
    "black = Style.BRIGHT + Fore.BLACK\n",
    "magenta = Style.BRIGHT + Fore.MAGENTA\n",
    "red = Style.BRIGHT + Fore.RED\n",
    "blue = Style.BRIGHT + Fore.BLUE\n",
    "reset_colors = Style.RESET_ALL"
   ]
  },
  {
   "cell_type": "markdown",
   "id": "9d5d5e2a-e0f7-4cb5-94d3-919ae1620599",
   "metadata": {},
   "source": [
    "# Read Data"
   ]
  },
  {
   "cell_type": "code",
   "execution_count": 4,
   "id": "9c0b8f45-f0b9-4872-a7bd-5795c9696a3d",
   "metadata": {
    "tags": []
   },
   "outputs": [],
   "source": [
    "# Switch flag for Kaggle Cloud\n",
    "kaggle = True\n",
    "\n",
    "# Switch flag for including original dataset\n",
    "include_original_data = True"
   ]
  },
  {
   "cell_type": "code",
   "execution_count": null,
   "id": "6129a397-7134-4743-81ad-aaabf827e09f",
   "metadata": {},
   "outputs": [],
   "source": [
    "# Read training data\n",
    "if kaggle:\n",
    "    \n",
    "    # Read data from Kaggle FS\n",
    "    train_data = pd.read_csv('', index_col=0)\n",
    "    test_data = pd.read_csv('', index_col=0)\n",
    "\n",
    "else:\n",
    "    \n",
    "    # Define local data file paths\n",
    "    train_data_file_path = Path(os.path.abspath('')).parents[1] / 'data' / 'S3E18_enzyme_substrate_multiclass_classification' / 'enzyme_substrate_multiclass_classification_train.csv'\n",
    "   \n",
    "    data = pd.read_csv(data_file_path, index_col=0)\n"
   ]
  }
 ],
 "metadata": {
  "kernelspec": {
   "display_name": "Python 3 (ipykernel)",
   "language": "python",
   "name": "python3"
  },
  "language_info": {
   "codemirror_mode": {
    "name": "ipython",
    "version": 3
   },
   "file_extension": ".py",
   "mimetype": "text/x-python",
   "name": "python",
   "nbconvert_exporter": "python",
   "pygments_lexer": "ipython3",
   "version": "3.10.5"
  }
 },
 "nbformat": 4,
 "nbformat_minor": 5
}
