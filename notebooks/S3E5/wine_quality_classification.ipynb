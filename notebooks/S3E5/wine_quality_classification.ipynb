{
 "cells": [
  {
   "cell_type": "markdown",
   "id": "9c014bbe-11c8-4563-a320-8a8391009048",
   "metadata": {},
   "source": [
    "# Wine Quality Classification\n",
    "\n",
    "The notebook is intended to develop & validate a model for multi-class classification of the Wine Quality."
   ]
  },
  {
   "cell_type": "code",
   "execution_count": null,
   "id": "9ea3258c-939a-402b-b46f-19a39a7f9273",
   "metadata": {},
   "outputs": [],
   "source": [
    "# Import Standard Libraries\n",
    "import pandas as pd\n",
    "import os\n",
    "import numpy as np\n",
    "\n",
    "import matplotlib.pyplot as plt\n",
    "import seaborn as sns\n",
    "\n",
    "from scipy.stats import zscore"
   ]
  },
  {
   "cell_type": "code",
   "execution_count": null,
   "id": "3d3cb18b-3ce5-4f9e-9113-99b5148843c8",
   "metadata": {},
   "outputs": [],
   "source": [
    "# Define Seaborn theme parameters\n",
    "theme_parameters =  {\n",
    "    'axes.spines.right': False,\n",
    "    'axes.spines.top': False,\n",
    "    'grid.alpha':0.3,\n",
    "    'figure.figsize': (16, 6),\n",
    "    'font.family': 'Andale Mono',\n",
    "    'axes.titlesize': 24,\n",
    "    'figure.facecolor': '#E5E8E8',\n",
    "    'axes.facecolor': '#E5E8E8'\n",
    "}\n",
    "\n",
    "# Set the theme\n",
    "sns.set_theme(style='whitegrid',\n",
    "              palette=sns.color_palette('deep'), \n",
    "              rc=theme_parameters)"
   ]
  },
  {
   "cell_type": "code",
   "execution_count": null,
   "id": "530593f6-ab4a-4956-b9cb-e18ff93147d9",
   "metadata": {},
   "outputs": [],
   "source": [
    "# Notebook's variables\n",
    "train_data_path = os.path.join('./../../data/S3E5/wine_quality_train.csv')\n",
    "test_data_path = os.path.join('./../../data/S3E5/wine_quality_test.csv')"
   ]
  },
  {
   "cell_type": "markdown",
   "id": "dec46d54-938f-4611-8ef7-a6ab5429167f",
   "metadata": {},
   "source": [
    "# Read Data"
   ]
  },
  {
   "cell_type": "code",
   "execution_count": null,
   "id": "af2a5cd5-fe09-4373-9c82-2e18fed307f4",
   "metadata": {},
   "outputs": [],
   "source": [
    "# Read train and test data\n",
    "train_data = pd.read_csv(train_data_path)\n",
    "test_data = pd.read_csv(test_data_path)"
   ]
  },
  {
   "cell_type": "code",
   "execution_count": null,
   "id": "79337ab2-0fc5-41d9-a863-82a37adf819f",
   "metadata": {},
   "outputs": [],
   "source": [
    "train_data.head()"
   ]
  },
  {
   "cell_type": "code",
   "execution_count": null,
   "id": "377a540c-9e69-43cb-8bd9-907cdacca751",
   "metadata": {},
   "outputs": [],
   "source": [
    "test_data.head()"
   ]
  },
  {
   "cell_type": "code",
   "execution_count": null,
   "id": "bf171db9-4148-4df8-ba5e-c06db140279b",
   "metadata": {},
   "outputs": [],
   "source": [
    "train_data.info()"
   ]
  },
  {
   "cell_type": "code",
   "execution_count": null,
   "id": "a3982530-599d-4870-9401-2ec835f9f03a",
   "metadata": {},
   "outputs": [],
   "source": [
    "test_data.info()"
   ]
  },
  {
   "cell_type": "markdown",
   "id": "2110baa6-8a5f-476b-8d40-48bfb5661a22",
   "metadata": {},
   "source": [
    "# Exploratory Data Analysis"
   ]
  },
  {
   "cell_type": "markdown",
   "id": "ed6c821d-b3cd-4a4e-9c69-38f61a5f0ef8",
   "metadata": {},
   "source": [
    "## Train Feature & Label Distribution"
   ]
  },
  {
   "cell_type": "code",
   "execution_count": null,
   "id": "4230a7bc-0567-41a7-a57e-4278835bb045",
   "metadata": {},
   "outputs": [],
   "source": [
    "# Plot the histograms of each feature\n",
    "figure, ax = plt.subplots(3, 4, figsize=(16, 9))\n",
    "ax = ax.flatten()\n",
    "\n",
    "# Fetch the data to plot (exclude the 'id' column)\n",
    "for index, column_name in enumerate(train_data.columns[1:]):\n",
    "    \n",
    "    # Plot data\n",
    "    sns.histplot(data=train_data[column_name], \n",
    "                 ax=ax[index])\n",
    "    \n",
    "    ax[index].set_title(column_name, \n",
    "                        fontsize=14, \n",
    "                        fontweight='bold')\n",
    "    \n",
    "    ax[index].tick_params(labelrotation=45)\n",
    "    \n",
    "plt.suptitle('Feature & Label Distrubtion', \n",
    "             fontsize=20)\n",
    "    \n",
    "plt.tight_layout()"
   ]
  },
  {
   "cell_type": "markdown",
   "id": "f74dcfa9-fbbb-4585-8368-ca9313f80bbd",
   "metadata": {},
   "source": [
    "The following features have a skewed distribution:\n",
    "- `fixed acidity`\n",
    "- `citric acid`\n",
    "- `residual sugar`\n",
    "- `free sulfur dioxide`\n",
    "- `total sulfur dioxide`\n",
    "- `sulphates`\n",
    "- `alcohol`\n",
    "\n",
    "It would be useful to use the Z-Score Outliers Filter.\n",
    "<br>\n",
    "\n",
    "In addition, it is possible to see that the label classes 3, 4 and 8 do not have a lots of records. That is an imbalanced data problem. Consider to use a Stratified K-Fold during the training of the model."
   ]
  },
  {
   "cell_type": "markdown",
   "id": "d8ceb01b-fef2-4db1-8894-99a84ae0f436",
   "metadata": {},
   "source": [
    "## Train Feature Distribution per Label"
   ]
  },
  {
   "cell_type": "code",
   "execution_count": null,
   "id": "b4b0e56d-d4c4-4338-8b36-396bb639080b",
   "metadata": {},
   "outputs": [],
   "source": [
    "# Plot the box plot of each feature per label\n",
    "figure, ax = plt.subplots(3, 4, figsize=(16, 12))\n",
    "ax = ax.flatten()\n",
    "\n",
    "# Fetch the data to plot (exclude the 'id' column and 'quality' column)\n",
    "for index, column_name in enumerate(train_data.columns[1:-1]):\n",
    "    \n",
    "    # Plot data\n",
    "    sns.boxplot(data=train_data,\n",
    "                x='quality',\n",
    "                y=column_name,\n",
    "                ax=ax[index])\n",
    "    \n",
    "        \n",
    "# Remove the empty subplot\n",
    "figure.delaxes(ax[-1])\n",
    "\n",
    "# Set title plot\n",
    "plt.suptitle('Feature Distrubtion per Label', \n",
    "             fontsize=20, \n",
    "             fontweight='bold')\n",
    "\n",
    "plt.tight_layout()\n",
    "\n",
    "plt.show()"
   ]
  },
  {
   "cell_type": "markdown",
   "id": "7ae1d5af-7de0-457e-a65d-790f7df86929",
   "metadata": {},
   "source": [
    "There is a positive non-linear relationship between the following features and the `Quality`:\n",
    "- `sulphates`\n",
    "- `alcohol`\n",
    "\n",
    "Thre is a negative non-linear relationship between the following features the the `Quality`:\n",
    "- `voltatile acidity`\n",
    "- `density`"
   ]
  },
  {
   "cell_type": "markdown",
   "id": "bc648e74-c3f1-4e37-9dca-7ebb9cf7bae2",
   "metadata": {},
   "source": [
    "## Pearson Correlation"
   ]
  },
  {
   "cell_type": "code",
   "execution_count": null,
   "id": "294063ca-ce04-4340-842f-84342fba0f1e",
   "metadata": {},
   "outputs": [],
   "source": [
    "# Compute the correlation matrix\n",
    "correlation_matrix = train_data.iloc[:, 1:].corr()"
   ]
  },
  {
   "cell_type": "code",
   "execution_count": null,
   "id": "fc1ad9c8-0402-474c-9f2f-f8c83bbf1c62",
   "metadata": {},
   "outputs": [],
   "source": [
    "# Generate a mask for the upper triangle\n",
    "correlation_mask = np.triu(np.ones_like(correlation_matrix, dtype=bool))"
   ]
  },
  {
   "cell_type": "code",
   "execution_count": null,
   "id": "330d16a7-7ede-45a9-b434-5173522fe2d7",
   "metadata": {},
   "outputs": [],
   "source": [
    "# Define figure and axis\n",
    "figure, ax = plt.subplots(figsize=(12, 8))\n",
    "\n",
    "# Plot the correlation matrix\n",
    "sns.heatmap(correlation_matrix, \n",
    "            mask=correlation_mask, \n",
    "            cmap='mako',\n",
    "            vmax=1.0, \n",
    "            vmin=-1.0, \n",
    "            center=0, \n",
    "            square=True, \n",
    "            linewidths=.5, \n",
    "            annot=True,\n",
    "            annot_kws={'fontsize': 8},\n",
    "            cbar_kws={\"shrink\":.8, 'orientation':'vertical'})\n",
    "\n",
    "# Set title\n",
    "ax.set_title('Pearson Correlation', \n",
    "             fontsize=20, \n",
    "             fontweight='bold')\n",
    "\n",
    "plt.tight_layout()\n",
    "\n",
    "plt.show()"
   ]
  },
  {
   "cell_type": "markdown",
   "id": "4877b3aa-4f29-4f31-9e5f-0f541b671d88",
   "metadata": {},
   "source": [
    "The following features show a significant positive correlation:\n",
    "- `citric acid` and `fixed acidity`\n",
    "- `density` and `fixed acidity`\n",
    "- `total sulfur dioxide` and `free sulfur dioxide`\n",
    "\n",
    "The following features show a significant negative correlation:\n",
    "- `citric acid` and `volatile acidity`\n",
    "- `pH` and `fixed acidity`"
   ]
  },
  {
   "cell_type": "markdown",
   "id": "ec90aa6c-058f-4515-b1eb-a9c1468b0baa",
   "metadata": {},
   "source": [
    "## Train vs Test Feature & Label Distribution"
   ]
  },
  {
   "cell_type": "code",
   "execution_count": null,
   "id": "2208ad30-0376-4b7d-93fc-cf43dfabba3c",
   "metadata": {},
   "outputs": [],
   "source": [
    "# Plot the KDE of each feature\n",
    "figure, ax = plt.subplots(3, 4, figsize=(16, 12))\n",
    "ax = ax.flatten()\n",
    "\n",
    "# Fetch the data to plot (exclude the 'id' and 'quality' columns)\n",
    "for index, column_name in enumerate(train_data.columns[1:-1]):\n",
    "    \n",
    "    # Plot data\n",
    "    sns.kdeplot(data=train_data[column_name],\n",
    "                label='Train',\n",
    "                ax=ax[index])\n",
    "    \n",
    "    sns.kdeplot(data=test_data[column_name],\n",
    "                label='Test',\n",
    "                ax=ax[index])\n",
    "    \n",
    "    ax[index].set_title(column_name, fontsize=14)\n",
    "    \n",
    "    ax[index].tick_params(labelrotation=45)\n",
    "    \n",
    "    # Retrieve legend information\n",
    "    handles = ax[index].get_legend_handles_labels()[0]\n",
    "    labels = ax[index].get_legend_handles_labels()[1]\n",
    "    ax[index].legend().remove()\n",
    "    \n",
    "# Remove the empty subplot\n",
    "figure.delaxes(ax[-1])\n",
    "\n",
    "# Set the legend\n",
    "figure.legend(handles, \n",
    "              labels, \n",
    "              loc='upper center', \n",
    "              bbox_to_anchor=(0.5, 1.03), \n",
    "              fontsize=12,\n",
    "              ncol=2)\n",
    "\n",
    "plt.tight_layout()"
   ]
  },
  {
   "cell_type": "markdown",
   "id": "ee940156-c684-437a-815f-e8b182cdb824",
   "metadata": {},
   "source": [
    "There are no strong differences between the feature distribution of the train set and the test set."
   ]
  },
  {
   "cell_type": "markdown",
   "id": "9ff8217e-bf95-481c-9da9-2aadfc01a4b7",
   "metadata": {},
   "source": [
    "## Count Outliers with the Z-Score across Quality Classes"
   ]
  },
  {
   "cell_type": "code",
   "execution_count": null,
   "id": "0792fdd3-21de-431e-a300-49ace0f848a9",
   "metadata": {},
   "outputs": [],
   "source": [
    "# Compute the Z-Score for the feature columns across 'quality' classes\n",
    "z_scores = train_data.iloc[:, 1:-1].groupby(train_data['quality'], \n",
    "                                            group_keys=True).apply(zscore)"
   ]
  },
  {
   "cell_type": "code",
   "execution_count": null,
   "id": "029cbeb3-0ebe-4d8a-af4b-2ac6dfa428b4",
   "metadata": {},
   "outputs": [],
   "source": [
    "# Consider as an 'outlier' every records with a Z-Score bigger than 2 SDs in absolute value terms\n",
    "outliers = z_scores.abs().ge(2).groupby(z_scores.index.get_level_values(0)).sum()"
   ]
  },
  {
   "cell_type": "code",
   "execution_count": null,
   "id": "ff65971e-78e8-487a-95b7-f69366704ea6",
   "metadata": {},
   "outputs": [],
   "source": [
    "# Plot outlisers per feature across 'quality' classes\n",
    "figure, ax = plt.subplots(3, 4, figsize=(16, 9))\n",
    "ax = ax.flatten()\n",
    "\n",
    "# Fetch the data to plot (exclude the 'id' and 'quality' columns)\n",
    "for index, column_name in enumerate(outliers.columns):\n",
    "    \n",
    "    # Plot data\n",
    "    sns.barplot(data=outliers,\n",
    "                x=outliers.index,\n",
    "                y=column_name,\n",
    "                ax=ax[index])\n",
    "    \n",
    "    ax[index].set_title(column_name, fontsize=14)\n",
    "    \n",
    "    ax[index].tick_params(labelrotation=45)\n",
    "    \n",
    "# Remove the empty subplot\n",
    "figure.delaxes(ax[-1])\n",
    "\n",
    "# Set title plot\n",
    "plt.suptitle('Outliers Count', \n",
    "             fontsize=20, \n",
    "             fontweight='bold')\n",
    "    \n",
    "plt.tight_layout()"
   ]
  },
  {
   "cell_type": "markdown",
   "id": "f4ed4334-543f-49a7-ab0a-1211d4c08ca7",
   "metadata": {},
   "source": [
    "The quality classes 5, 6 and 7 show the highest amount of outliers."
   ]
  },
  {
   "cell_type": "markdown",
   "id": "06da7bd1-f2b9-4ddd-b242-ae6b5f7022c2",
   "metadata": {},
   "source": [
    "## Train Feature Pairplot"
   ]
  },
  {
   "cell_type": "code",
   "execution_count": null,
   "id": "d16304d4-ed36-449b-99f2-c41f234a09aa",
   "metadata": {},
   "outputs": [],
   "source": [
    "# Plot the Pairplot between the features\n",
    "sns.pairplot(train_data.drop(columns=['Id', 'quality']),\n",
    "             kind=\"reg\",\n",
    "             diag_kind='kde',\n",
    "             plot_kws={'line_kws':{'color':'red'}},\n",
    "             corner=True)\n",
    "\n",
    "# Set title plot\n",
    "plt.suptitle('Train Feature Pairplot', \n",
    "             fontsize=20, \n",
    "             fontweight='bold')\n",
    "\n",
    "plt.tight_layout()\n",
    "\n",
    "plt.show()"
   ]
  },
  {
   "cell_type": "markdown",
   "id": "314b41ce-1a7a-4697-a536-e1ab895617b8",
   "metadata": {},
   "source": [
    "## Conclusions\n",
    "- Several numerical features present a right-skew distribution -> Use of a StandardScalre\n",
    "- `quality` targe"
   ]
  },
  {
   "cell_type": "markdown",
   "id": "c3ade6a6-cd3b-4a3a-8b32-4a2cd91b5ca0",
   "metadata": {},
   "source": [
    "# Data Preparation"
   ]
  },
  {
   "cell_type": "code",
   "execution_count": null,
   "id": "56f451f3-3b3a-49a6-9d65-06457ab43632",
   "metadata": {},
   "outputs": [],
   "source": []
  }
 ],
 "metadata": {
  "kernelspec": {
   "display_name": "Python 3 (ipykernel)",
   "language": "python",
   "name": "python3"
  },
  "language_info": {
   "codemirror_mode": {
    "name": "ipython",
    "version": 3
   },
   "file_extension": ".py",
   "mimetype": "text/x-python",
   "name": "python",
   "nbconvert_exporter": "python",
   "pygments_lexer": "ipython3",
   "version": "3.10.5"
  }
 },
 "nbformat": 4,
 "nbformat_minor": 5
}
