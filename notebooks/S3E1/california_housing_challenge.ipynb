{
 "cells": [
  {
   "cell_type": "markdown",
   "id": "9ddee051",
   "metadata": {},
   "source": [
    "# California Housing Challenge\n",
    "\n",
    "The notebook is intended to predict the average house value upon the provided house features."
   ]
  },
  {
   "cell_type": "code",
   "execution_count": null,
   "id": "e9dde2ca",
   "metadata": {},
   "outputs": [],
   "source": [
    "# Import Standard Libraries\n",
    "import pandas as pd\n",
    "import numpy as np\n",
    "import pprint\n",
    "\n",
    "from scipy.stats import zscore\n",
    "\n",
    "import matplotlib.pyplot as plt\n",
    "import seaborn as sns\n",
    "import plotly.express as px\n",
    "\n",
    "import mlflow\n",
    "\n",
    "from sklearn.pipeline import Pipeline\n",
    "from sklearn.impute import SimpleImputer\n",
    "from sklearn.preprocessing import StandardScaler, OrdinalEncoder\n",
    "from sklearn.compose import ColumnTransformer\n",
    "from sklearn.model_selection import train_test_split, KFold, RepeatedKFold, GridSearchCV\n",
    "from sklearn.linear_model import LinearRegression\n",
    "from sklearn.metrics import mean_squared_error\n",
    "\n",
    "from xgboost import XGBRegressor\n",
    "\n",
    "import lightgbm as lgb"
   ]
  },
  {
   "cell_type": "code",
   "execution_count": null,
   "id": "0d44f3a8",
   "metadata": {},
   "outputs": [],
   "source": [
    "# Define Seaborn theme parameters\n",
    "theme_parameters =  {\n",
    "    'axes.spines.right': False,\n",
    "    'axes.spines.top': False,\n",
    "    'grid.alpha':0.3,\n",
    "    'figure.figsize': (16, 6),\n",
    "    'font.family': 'Andale Mono',\n",
    "    'axes.titlesize': 24,\n",
    "    'figure.facecolor': '#E5E8E8',\n",
    "    'axes.facecolor': '#E5E8E8'\n",
    "}\n",
    "\n",
    "# Set the theme\n",
    "sns.set_theme(style='whitegrid',\n",
    "              palette=sns.color_palette('deep'), \n",
    "              rc=theme_parameters)"
   ]
  },
  {
   "cell_type": "markdown",
   "id": "5baa8545",
   "metadata": {},
   "source": [
    "# Read Data"
   ]
  },
  {
   "cell_type": "code",
   "execution_count": null,
   "id": "1b70ff95",
   "metadata": {},
   "outputs": [],
   "source": [
    "# Switch flag for Kaggle Cloud\n",
    "kaggle = True"
   ]
  },
  {
   "cell_type": "code",
   "execution_count": null,
   "id": "7896134a",
   "metadata": {},
   "outputs": [],
   "source": [
    "# Read training data\n",
    "train_data = pd.read_csv('./../../data/S3E1/california_housing_train.csv')\n",
    "test_data = pd.read_csv('./../../data/S3E1/california_housing_test.csv')"
   ]
  },
  {
   "cell_type": "code",
   "execution_count": null,
   "id": "ad380f1b",
   "metadata": {},
   "outputs": [],
   "source": [
    "train_data.head()"
   ]
  },
  {
   "cell_type": "code",
   "execution_count": null,
   "id": "f4837d85",
   "metadata": {},
   "outputs": [],
   "source": [
    "train_data.info()"
   ]
  },
  {
   "cell_type": "markdown",
   "id": "ef317059",
   "metadata": {},
   "source": [
    "# Exploratory Data Analysis (EDA)"
   ]
  },
  {
   "cell_type": "markdown",
   "id": "ec79b4e4",
   "metadata": {
    "tags": []
   },
   "source": [
    "## Train Features & Label Distribution"
   ]
  },
  {
   "cell_type": "code",
   "execution_count": null,
   "id": "b6ef27d5",
   "metadata": {
    "tags": []
   },
   "outputs": [],
   "source": [
    "# Plot the histograms of each feature\n",
    "figure, ax = plt.subplots(3, 3, figsize=(16, 9))\n",
    "ax = ax.flatten()\n",
    "\n",
    "# Fetch the data to plot (exclude the 'id' column)\n",
    "for index, column_name in enumerate(train_data.columns[1:]):\n",
    "\n",
    "    # Plot data\n",
    "    sns.histplot(data=train_data[column_name], \n",
    "                 ax=ax[index])\n",
    "\n",
    "    ax[index].set_title(column_name, \n",
    "                        fontsize=14, \n",
    "                        fontweight='bold')\n",
    "\n",
    "    ax[index].tick_params(labelrotation=45)\n",
    "\n",
    "plt.suptitle('Feature & Label Distrubtion', \n",
    "             fontweight='bold',\n",
    "             fontsize=30)\n",
    "\n",
    "plt.tight_layout()"
   ]
  },
  {
   "cell_type": "markdown",
   "id": "b65b70fb",
   "metadata": {},
   "source": [
    "### Average Occupancy Distribution"
   ]
  },
  {
   "cell_type": "code",
   "execution_count": null,
   "id": "816c84b0",
   "metadata": {
    "tags": []
   },
   "outputs": [],
   "source": [
    "# Plot the histogram of 'AveOccup'\n",
    "ax = sns.boxplot(data=train_data, \n",
    "                  x='AveOccup')\n",
    "\n",
    "\n",
    "ax.set_title('Average Occupancy Distribution')\n",
    "\n",
    "plt.tight_layout()\n",
    "\n",
    "plt.show()"
   ]
  },
  {
   "cell_type": "code",
   "execution_count": null,
   "id": "1f3516c7",
   "metadata": {},
   "outputs": [],
   "source": [
    "# Drop the outlier\n",
    "train_data = train_data[train_data['AveOccup'] < 100].reset_index(drop=True)"
   ]
  },
  {
   "cell_type": "markdown",
   "id": "27fb7c70",
   "metadata": {},
   "source": [
    "- `HouseAge` has some strange peaks. Probably some rounding operations\n",
    "- `AveOccup` has a huge outlier. It has been dropped for EDA sake.\n",
    "- `MedHouseVal` has a strange peak at the end. Probably a cap"
   ]
  },
  {
   "cell_type": "markdown",
   "id": "6ed048ee",
   "metadata": {},
   "source": [
    "## Pearson Correlation"
   ]
  },
  {
   "cell_type": "code",
   "execution_count": null,
   "id": "547e3210",
   "metadata": {
    "tags": []
   },
   "outputs": [],
   "source": [
    "# Compute the correlation matrix\n",
    "correlation_matrix = train_data.iloc[:, 1:].corr()\n",
    "\n",
    "# Generate a mask for the upper triangle\n",
    "correlation_mask = np.triu(np.ones_like(correlation_matrix, dtype=bool))\n",
    "\n",
    "# Define figure and axis\n",
    "figure, ax = plt.subplots(figsize=(12, 8))\n",
    "\n",
    "# Plot the correlation matrix\n",
    "sns.heatmap(correlation_matrix, \n",
    "            mask=correlation_mask, \n",
    "            cmap='mako',\n",
    "            vmax=1.0, \n",
    "            vmin=-1.0, \n",
    "            center=0, \n",
    "            square=True, \n",
    "            linewidths=.5, \n",
    "            annot=True,\n",
    "            annot_kws={'fontsize': 8},\n",
    "            cbar_kws={\"shrink\":.8, 'orientation':'vertical'})\n",
    "\n",
    "# Set title\n",
    "ax.set_title('Pearson Correlation', \n",
    "             fontsize=20, \n",
    "             fontweight='bold')\n",
    "\n",
    "plt.tight_layout()\n",
    "\n",
    "plt.show()"
   ]
  },
  {
   "cell_type": "markdown",
   "id": "a8a61898",
   "metadata": {},
   "source": [
    "Positive correlation between:\n",
    "- `AveRooms` and `MedInc`"
   ]
  },
  {
   "cell_type": "markdown",
   "id": "3b11850e",
   "metadata": {},
   "source": [
    "## Train Data Geography"
   ]
  },
  {
   "cell_type": "code",
   "execution_count": null,
   "id": "8e557e32",
   "metadata": {
    "tags": []
   },
   "outputs": [],
   "source": [
    "# Define dots colors\n",
    "color_scale = [(0, 'orange'), (1,'red')]\n",
    "\n",
    "# Plot the data\n",
    "figure = px.scatter_mapbox(train_data,\n",
    "                           lat=\"Latitude\",\n",
    "                           lon=\"Longitude\",\n",
    "                           hover_name=\"MedHouseVal\",\n",
    "                           hover_data=[\"MedHouseVal\"],\n",
    "                           color=\"MedHouseVal\",\n",
    "                           color_continuous_scale=color_scale,\n",
    "                           size=\"MedHouseVal\",\n",
    "                           zoom=8,\n",
    "                           height=600,\n",
    "                           width=600)\n",
    "\n",
    "figure.update_layout(mapbox_style=\"open-street-map\")\n",
    "figure.update_layout(margin={\"r\":0,\"t\":0,\"l\":0,\"b\":0})\n",
    "figure.show()"
   ]
  },
  {
   "cell_type": "markdown",
   "id": "58940350",
   "metadata": {},
   "source": [
    "Define an `hot_area`flag for the houses sold in the following squares:\n",
    "- (-123 <= lon <= -121.45) and (36.6 <= lat <= 38.6)\n",
    "- (-119.90 <= lon <= -119.42) and (34.25 <= lat <= 34.5)\n",
    "- (-119.35 <= lon <= -117.55) and (33.36 <= lat <= 34.52)\n",
    "- (-117.29 <= lon <= -117.18) and (32.84 <= lat <= 33.01)"
   ]
  },
  {
   "cell_type": "markdown",
   "id": "a8c0d19c",
   "metadata": {},
   "source": [
    "## Train vs Test Feature & Label Distribution"
   ]
  },
  {
   "cell_type": "code",
   "execution_count": null,
   "id": "2696037d",
   "metadata": {
    "tags": []
   },
   "outputs": [],
   "source": [
    "# Plot the KDE of each feature\n",
    "figure, ax = plt.subplots(3, 3, figsize=(16, 12))\n",
    "ax = ax.flatten()\n",
    "\n",
    "# Fetch the data to plot (exclude the 'id' and 'quality' columns)\n",
    "for index, column_name in enumerate(train_data.columns[1:-1]):\n",
    "    \n",
    "    # Plot data\n",
    "    sns.kdeplot(data=train_data[column_name],\n",
    "                label='Train',\n",
    "                ax=ax[index])\n",
    "    \n",
    "    sns.kdeplot(data=test_data[column_name],\n",
    "                label='Test',\n",
    "                ax=ax[index])\n",
    "    \n",
    "    ax[index].set_title(column_name, fontsize=14)\n",
    "    \n",
    "    ax[index].tick_params(labelrotation=45)\n",
    "    \n",
    "    # Retrieve legend information\n",
    "    handles = ax[index].get_legend_handles_labels()[0]\n",
    "    labels = ax[index].get_legend_handles_labels()[1]\n",
    "    ax[index].legend().remove()\n",
    "    \n",
    "# Remove the empty subplot\n",
    "figure.delaxes(ax[-1])\n",
    "\n",
    "# Set the legend\n",
    "figure.legend(handles, \n",
    "              labels, \n",
    "              loc='upper center', \n",
    "              bbox_to_anchor=(0.5, 1.03), \n",
    "              fontsize=12,\n",
    "              ncol=2)\n",
    "\n",
    "plt.tight_layout()"
   ]
  },
  {
   "cell_type": "markdown",
   "id": "493df698",
   "metadata": {},
   "source": [
    "No difference in the train and test data distributions."
   ]
  },
  {
   "cell_type": "markdown",
   "id": "90021164",
   "metadata": {},
   "source": [
    "## Count Outliers with the Z-Score"
   ]
  },
  {
   "cell_type": "code",
   "execution_count": null,
   "id": "aee5ad8f",
   "metadata": {
    "tags": []
   },
   "outputs": [],
   "source": [
    "# Compute the Z-Score for the feature columns across 'quality' classes\n",
    "z_scores = train_data.iloc[:, 1:-1].apply(zscore)"
   ]
  },
  {
   "cell_type": "code",
   "execution_count": null,
   "id": "0e7f6067",
   "metadata": {
    "tags": []
   },
   "outputs": [],
   "source": [
    "# Consider as an 'outlier' every records with a Z-Score bigger than 2 SDs in absolute value terms\n",
    "outliers = z_scores.abs().ge(2).sum().to_frame('Count').sort_values(by='Count')"
   ]
  },
  {
   "cell_type": "code",
   "execution_count": null,
   "id": "5c442e72",
   "metadata": {
    "tags": []
   },
   "outputs": [],
   "source": [
    "# Plot the feature importance\n",
    "ax = sns.barplot(data=outliers, \n",
    "                 x=outliers.index.tolist(), \n",
    "                 y='Count')\n",
    "\n",
    "# Set title\n",
    "ax.set_title('Outlisers Count', \n",
    "             fontsize=20, \n",
    "             fontweight='bold')\n",
    "\n",
    "plt.xticks(fontsize=12, \n",
    "           rotation=45)\n",
    "\n",
    "plt.show()"
   ]
  },
  {
   "cell_type": "markdown",
   "id": "4909e1fb",
   "metadata": {},
   "source": [
    "The `HouseAge` has confirmed to have that strange spike at the end. It is necessary to create interval of classes for this feature."
   ]
  },
  {
   "cell_type": "markdown",
   "id": "81e2c9b1",
   "metadata": {},
   "source": [
    "## Train Features Pairplot"
   ]
  },
  {
   "cell_type": "code",
   "execution_count": null,
   "id": "83af2e63",
   "metadata": {
    "tags": []
   },
   "outputs": [],
   "source": [
    "# Plot the Pairplot between the features\n",
    "sns.pairplot(train_data.drop(columns=['id', 'MedHouseVal']),\n",
    "             kind=\"reg\",\n",
    "             diag_kind='kde',\n",
    "             plot_kws={'line_kws':{'color':'red'}},\n",
    "             corner=True)\n",
    "\n",
    "# Set title plot\n",
    "plt.suptitle('Train Feature Pairplot', \n",
    "             fontsize=20, \n",
    "             fontweight='bold')\n",
    "\n",
    "plt.tight_layout()\n",
    "\n",
    "plt.show()"
   ]
  },
  {
   "cell_type": "markdown",
   "id": "5ce86682",
   "metadata": {},
   "source": [
    "Positive correlations:\n",
    "- `AveRooms` and `MedInc`\n",
    "- `AveBedrms` and `AveRooms`"
   ]
  },
  {
   "cell_type": "markdown",
   "id": "5bdbb932",
   "metadata": {},
   "source": [
    "## Conclusions"
   ]
  },
  {
   "cell_type": "markdown",
   "id": "e1d73643",
   "metadata": {},
   "source": [
    "- Round the HouseAge to 3 classes\n",
    "- Create a feature `AveRooms per MedInc`\n",
    "- Create a feature `HotArea`\n",
    "- Create a feature `AveBedrms per AveRooms`"
   ]
  },
  {
   "cell_type": "markdown",
   "id": "0b67d826",
   "metadata": {},
   "source": [
    "# Data Preparation"
   ]
  },
  {
   "cell_type": "markdown",
   "id": "f41e2660",
   "metadata": {},
   "source": [
    "## Feature Engineering"
   ]
  },
  {
   "cell_type": "code",
   "execution_count": null,
   "id": "186724e3",
   "metadata": {},
   "outputs": [],
   "source": [
    "def compute_engineered_features(data: pd.DataFrame) -> pd.DataFrame:\n",
    "    \n",
    "    \"\"\"\n",
    "    Create a pre-defined set of engineered feature to the input DataFrame\n",
    "    \n",
    "    Args:\n",
    "        data Pandas.DataFrame input\n",
    "    \n",
    "    Returns:\n",
    "        data Pandas.DataFrame with additional engineered features\n",
    "    \"\"\"\n",
    "    \n",
    "    # Define the conditions for the `HouseAgeClass` categories\n",
    "    house_age_class_conditions = {\n",
    "        1: data['HouseAge'] <= 17,\n",
    "        2: (data['HouseAge'] > 17) &  (data['HouseAge'] < 52),\n",
    "        3: data['HouseAge'] == 52\n",
    "    }\n",
    "\n",
    "    # Define a categorical variable called `HouseAgeClass`\n",
    "    data['HouseAgeClass'] = np.select(house_age_class_conditions.values(),\n",
    "                                      house_age_class_conditions.keys())\n",
    "    \n",
    "    \n",
    "    # Create a feature `AveRooms per MedInc`\n",
    "    data['AveRooms per MedInc'] = data['AveRooms'] * data['MedInc']\n",
    "    \n",
    "    # Create a feature `HotArea`\n",
    "    # Define the rectangular areas of interest\n",
    "    hot_areas = [(-123, -121.45, 36.6, 38.6),\n",
    "                 (-119.90, -119.42, 34.25, 34.5),\n",
    "                 (-119.35, -117.55, 33.86, 34.52),\n",
    "                 (-117.29, -117.18, 32.84, 33.01)]\n",
    "\n",
    "    # Check if each point is inside any of the hot areas\n",
    "    is_in_hot_area = False\n",
    "    for area in hot_areas:\n",
    "        is_in_hot_area |= ((data['Longitude'] >= area[0]) &\n",
    "                           (data['Longitude'] <= area[1]) &\n",
    "                           (data['Latitude'] >= area[2]) &\n",
    "                           (data['Latitude'] <= area[3]))\n",
    "        \n",
    "    # Assign a binary value to indicate if a point is in a hot area or not\n",
    "    data['HotArea'] = np.where(is_in_hot_area, 1, 0)\n",
    "\n",
    "    \n",
    "    # Create a feature `AveBedrms per AveRooms`\n",
    "    data['AveBedrms per AveRooms'] = data['AveBedrms'] * data['AveRooms']\n"
   ]
  },
  {
   "cell_type": "code",
   "execution_count": null,
   "id": "7261849a",
   "metadata": {
    "tags": []
   },
   "outputs": [],
   "source": [
    "# Apply the feature engineering\n",
    "compute_engineered_features(train_data)\n",
    "compute_engineered_features(test_data)"
   ]
  },
  {
   "cell_type": "markdown",
   "id": "ed12d7f1",
   "metadata": {},
   "source": [
    "## Features and Labels Definition"
   ]
  },
  {
   "cell_type": "code",
   "execution_count": null,
   "id": "3efacb3d",
   "metadata": {
    "tags": []
   },
   "outputs": [],
   "source": [
    "# Define features and labels\n",
    "numerical_features = train_data.columns[1:9].tolist()\n",
    "\n",
    "numerical_engineered_featuers = ['AveRooms per MedInc', \n",
    "                                 'AveBedrms per AveRooms']\n",
    "\n",
    "categorical_features = []\n",
    "\n",
    "categorical_engineered_features = []\n",
    "                                   #'HouseAgeClass',\n",
    "                                   #'HotArea']\n",
    "\n",
    "features = numerical_features + numerical_engineered_featuers + categorical_features + categorical_engineered_features\n",
    "\n",
    "labels = ['MedHouseVal']"
   ]
  },
  {
   "cell_type": "markdown",
   "id": "c3521900",
   "metadata": {},
   "source": [
    "## Numerical Features Preprocessing Pipeline"
   ]
  },
  {
   "cell_type": "code",
   "execution_count": null,
   "id": "06a36abc",
   "metadata": {
    "tags": []
   },
   "outputs": [],
   "source": [
    "# Numerical features pipeline\n",
    "numerical_features_pipeline = Pipeline(steps=[\n",
    "    ('numerical_scaler', StandardScaler()) # TODO: Add filtering outliers\n",
    "])"
   ]
  },
  {
   "cell_type": "markdown",
   "id": "905e2d33",
   "metadata": {},
   "source": [
    "## Bundle Data Preprocessing Steps"
   ]
  },
  {
   "cell_type": "code",
   "execution_count": null,
   "id": "aa67a71f",
   "metadata": {
    "tags": []
   },
   "outputs": [],
   "source": [
    "# Bunlde data preprocessing steps\n",
    "data_preprocessor = ColumnTransformer(\n",
    "    transformers=[\n",
    "        ('numerical_preprocessing', \n",
    "         numerical_features_pipeline, \n",
    "         numerical_features + numerical_engineered_featuers),\n",
    "        ('categorical_preprocessing', \n",
    "         'passthrough', \n",
    "         categorical_engineered_features)\n",
    "    ])"
   ]
  },
  {
   "cell_type": "markdown",
   "id": "2e24bb14",
   "metadata": {},
   "source": [
    "# Train & Test Split"
   ]
  },
  {
   "cell_type": "code",
   "execution_count": null,
   "id": "ffd36816",
   "metadata": {
    "tags": []
   },
   "outputs": [],
   "source": [
    "# Define X and y for the training set\n",
    "X = train_data[numerical_features + numerical_engineered_featuers + categorical_engineered_features]\n",
    "y = train_data[labels]"
   ]
  },
  {
   "cell_type": "code",
   "execution_count": null,
   "id": "5a48dcf2",
   "metadata": {
    "tags": []
   },
   "outputs": [],
   "source": [
    "# Split training data into train and validation\n",
    "X_train, X_test, y_train, y_test = train_test_split(X, y, test_size=0.33, random_state=42)"
   ]
  },
  {
   "cell_type": "markdown",
   "id": "551264f7",
   "metadata": {},
   "source": [
    "# Model Training"
   ]
  },
  {
   "cell_type": "code",
   "execution_count": null,
   "id": "3540c4f5",
   "metadata": {
    "tags": []
   },
   "outputs": [],
   "source": [
    "# Set MLflow Experiment\n",
    "mlflow_experiment_name = 'California Housing Price'\n",
    "\n",
    "# Create experiment or retrieve already existing experiment\n",
    "try:\n",
    "    mlflow_experiment_id = mlflow.create_experiment(name=mlflow_experiment_name)\n",
    "except Exception as e:\n",
    "    mlflow_experiment_id = mlflow.get_experiment_by_name(mlflow_experiment_name).experiment_id"
   ]
  },
  {
   "cell_type": "code",
   "execution_count": null,
   "id": "158f362f",
   "metadata": {
    "tags": []
   },
   "outputs": [],
   "source": [
    "# Define the used metrics\n",
    "metrics = ['RMSE']"
   ]
  },
  {
   "cell_type": "code",
   "execution_count": null,
   "id": "57506968",
   "metadata": {
    "tags": []
   },
   "outputs": [],
   "source": [
    "# Initialize DataFrame of model performance\n",
    "performance = pd.DataFrame(columns=metrics)"
   ]
  },
  {
   "cell_type": "markdown",
   "id": "cd9e29dc",
   "metadata": {},
   "source": [
    "## Linear Regression"
   ]
  },
  {
   "cell_type": "code",
   "execution_count": null,
   "id": "0fe33ba6",
   "metadata": {
    "tags": []
   },
   "outputs": [],
   "source": [
    "%%time\n",
    "\n",
    "# Start MLflow Run\n",
    "with mlflow.start_run(experiment_id=mlflow_experiment_id, \n",
    "                      run_name='Linear Regression'):\n",
    "    # Define the model\n",
    "    model_lr = LinearRegression()\n",
    "\n",
    "    # Define the pipeline\n",
    "    pipe_lr = Pipeline([\n",
    "        ('data_preprocessing', data_preprocessor),\n",
    "        ('linear_regression', model_lr)\n",
    "    ])\n",
    "\n",
    "    # Train the pipeline\n",
    "    pipe_lr.fit(X_train, \n",
    "                y_train)\n",
    "\n",
    "    # Get predictions\n",
    "    predictions_lr = pipe_lr.predict(X_test)\n",
    "\n",
    "    # Compute metrics\n",
    "    rmse_lr = round(mean_squared_error(y_test,\n",
    "                                       predictions_lr), 2)\n",
    "\n",
    "    print('RMSE: {}'.format(rmse_lr))\n",
    "    print('\\n')\n",
    "    \n",
    "    # Log model's evaluation metrics\n",
    "    mlflow.log_metrics({'RMSE': rmse_lr})\n",
    "    \n",
    "    # Log model's features\n",
    "    mlflow.log_params({'Features': features})"
   ]
  },
  {
   "cell_type": "code",
   "execution_count": null,
   "id": "7db2188f",
   "metadata": {
    "tags": []
   },
   "outputs": [],
   "source": [
    "# Update 'performance' DataFrame\n",
    "performance.loc['Logistic Regression'] = [rmse_lr]"
   ]
  },
  {
   "cell_type": "markdown",
   "id": "c6c42c14",
   "metadata": {},
   "source": [
    "## Linear Regression - Cross-Validation"
   ]
  },
  {
   "cell_type": "code",
   "execution_count": null,
   "id": "f058107b",
   "metadata": {
    "tags": []
   },
   "outputs": [],
   "source": [
    "# Define the Cross-Validation Iterators\n",
    "kfold = KFold(n_splits=4)\n",
    "repeated_kfold = RepeatedKFold(n_splits=4, n_repeats=2, random_state=42)"
   ]
  },
  {
   "cell_type": "code",
   "execution_count": null,
   "id": "baccbdf2",
   "metadata": {
    "tags": []
   },
   "outputs": [],
   "source": [
    "def train_with_stratified_kfold(estimator, X, y, cv):\n",
    "    \"\"\"\n",
    "    Train an Estimator through a Stratified K-Fold Cross-Validation approach and return evaluation metrics\n",
    "    \n",
    "        Paramarameters:\n",
    "            estimator: sklearn.linear_model estimator to optimise\n",
    "            X: Pandas DataFrame of data\n",
    "            y: Pandas DataFrame of labels\n",
    "            cv: sklearn.model_selection splitter instance\n",
    "            \n",
    "        Returns:\n",
    "            rmse: Float RMSE\n",
    "    \"\"\"\n",
    "    \n",
    "    # Initialise empty lists for metrics\n",
    "    rmse_list = []\n",
    "    \n",
    "    # Fetch the folds\n",
    "    for fold, (train_index, validation_index) in enumerate(cv.split(X, y)):\n",
    "        \n",
    "        # Split the data\n",
    "        X_train = X.loc[train_index]\n",
    "        X_validation = X.loc[validation_index]\n",
    "        y_train = y.loc[train_index]\n",
    "        y_validation = y.loc[validation_index]\n",
    "        \n",
    "        # Fit the estimator\n",
    "        estimator.fit(X_train, y_train)\n",
    "        \n",
    "        # Get predictions\n",
    "        predictions = estimator.predict(X_validation)\n",
    "        \n",
    "        # Compute metrics\n",
    "        rmse_fold = round(mean_squared_error(y_validation, predictions), 2)\n",
    "        \n",
    "        print('---- Fold {} ----'.format(fold))\n",
    "        print('RMSE: {}'.format(rmse_fold))\n",
    "        print('\\n')\n",
    "        \n",
    "        # Append mentrics to the corresponding list\n",
    "        rmse_list.append(rmse_fold)\n",
    "        \n",
    "    # Compute metrics average\n",
    "    rmse = round(np.mean(rmse_list), 2)\n",
    "        \n",
    "    return rmse"
   ]
  },
  {
   "cell_type": "markdown",
   "id": "d7e3de73",
   "metadata": {},
   "source": [
    "### K-Fold"
   ]
  },
  {
   "cell_type": "code",
   "execution_count": null,
   "id": "093fb4eb",
   "metadata": {
    "tags": []
   },
   "outputs": [],
   "source": [
    "%%time\n",
    "\n",
    "# Start MLflow Run\n",
    "with mlflow.start_run(experiment_id=mlflow_experiment_id, \n",
    "                      run_name='Linear Regression K-Fold'):\n",
    "\n",
    "    # Define the model\n",
    "    model_lr_kfold = LinearRegression()\n",
    "\n",
    "    # Define the pipeline\n",
    "    pipe_lr_kfold = Pipeline([\n",
    "        ('data_preprocessing', data_preprocessor),\n",
    "        ('linear_regression', model_lr_kfold)\n",
    "    ])\n",
    "\n",
    "    # Train the pipeline with K-Fold\n",
    "    rmse_lr_kfold = train_with_stratified_kfold(pipe_lr_kfold, X, y, kfold)\n",
    "\n",
    "    print('RMSE: {}'.format(rmse_lr_kfold))\n",
    "    print('\\n')\n",
    "    \n",
    "    # Log model's evaluation metrics\n",
    "    mlflow.log_metrics({'RMSE': rmse_lr_kfold})\n",
    "    \n",
    "    # Log model's features\n",
    "    mlflow.log_params({'Features': features})\n",
    "\n",
    "    # Update 'performance' DataFrame\n",
    "    performance.loc['Logistic Regression - K-Fold'] = [rmse_lr_kfold]"
   ]
  },
  {
   "cell_type": "markdown",
   "id": "976e2104",
   "metadata": {},
   "source": [
    "### Repeated K-Fold"
   ]
  },
  {
   "cell_type": "code",
   "execution_count": null,
   "id": "7f49c44d",
   "metadata": {
    "tags": []
   },
   "outputs": [],
   "source": [
    "%%time\n",
    "\n",
    "# Start MLflow Run\n",
    "with mlflow.start_run(experiment_id=mlflow_experiment_id, \n",
    "                      run_name='Linear Regression Repeated K-Fold'):\n",
    "\n",
    "    # Define the model\n",
    "    model_lr_rkfold = LinearRegression()\n",
    "\n",
    "    # Define the pipeline\n",
    "    pipe_lr_rkfold = Pipeline([\n",
    "        ('data_preprocessing', data_preprocessor),\n",
    "        ('linear_regression', model_lr_rkfold)\n",
    "    ])\n",
    "\n",
    "    # Train the pipeline with K-Fold\n",
    "    rmse_lr_rkfold = train_with_stratified_kfold(pipe_lr_rkfold, X, y, repeated_kfold)\n",
    "\n",
    "    print('RMSE: {}'.format(rmse_lr_rkfold))\n",
    "    print('\\n')\n",
    "    \n",
    "    # Log model's evaluation metrics\n",
    "    mlflow.log_metrics({'RMSE': rmse_lr_rkfold})\n",
    "    \n",
    "    # Log model's features\n",
    "    mlflow.log_params({'Features': features})\n",
    "\n",
    "    # Update 'performance' DataFrame\n",
    "    performance.loc['Logistic Regression - Repeated K-Fold'] = [rmse_lr_rkfold]"
   ]
  },
  {
   "cell_type": "markdown",
   "id": "fb9aede2",
   "metadata": {},
   "source": [
    "## XGBoost"
   ]
  },
  {
   "cell_type": "code",
   "execution_count": null,
   "id": "9ca84abd",
   "metadata": {
    "tags": []
   },
   "outputs": [],
   "source": [
    "# XGBoost Hyperparameters\n",
    "hyperparameter_xgb = {\n",
    "    'n_estimators': 500,\n",
    "    'max_depth': 5,\n",
    "    'learning_rate': 0.01\n",
    "}"
   ]
  },
  {
   "cell_type": "code",
   "execution_count": null,
   "id": "2aa8b010",
   "metadata": {
    "tags": []
   },
   "outputs": [],
   "source": [
    "%%time\n",
    "\n",
    "# Start MLflow Run\n",
    "with mlflow.start_run(experiment_id=mlflow_experiment_id, \n",
    "                      run_name='XGBoost'):\n",
    "\n",
    "    # Define the model\n",
    "    model_xgb = XGBRegressor(**hyperparameter_xgb)\n",
    "\n",
    "    # Define the pipeline\n",
    "    pipe_xgb = Pipeline([\n",
    "        ('data_preprocessing', data_preprocessor),\n",
    "        ('xgboost', model_xgb)\n",
    "    ])\n",
    "\n",
    "    # Train the pipeline\n",
    "    pipe_xgb.fit(X_train,\n",
    "                 y_train,\n",
    "                 xgboost__verbose=False)\n",
    "\n",
    "    # Get predictions\n",
    "    predictions_xgb = pipe_xgb.predict(X_test)\n",
    "\n",
    "    # Compute metrics\n",
    "    rmse_xgb = round(mean_squared_error(y_test, predictions_xgb), 2)\n",
    "    \n",
    "    # Log model's evaluation metrics\n",
    "    mlflow.log_metrics({'RMSE': rmse_xgb})\n",
    "    \n",
    "    # Log model's features\n",
    "    mlflow.log_params({'Features': features, 'Hyperparameters': hyperparameter_xgb})\n",
    "\n",
    "    print('RMSE: {}'.format(rmse_xgb))\n",
    "    print('\\n')"
   ]
  },
  {
   "cell_type": "code",
   "execution_count": null,
   "id": "cc576b96",
   "metadata": {
    "tags": []
   },
   "outputs": [],
   "source": [
    "# Update 'performance' DataFrame\n",
    "performance.loc['XGBoost'] = [rmse_xgb]"
   ]
  },
  {
   "cell_type": "markdown",
   "id": "cc63e02b",
   "metadata": {},
   "source": [
    "## LightGBM"
   ]
  },
  {
   "cell_type": "code",
   "execution_count": null,
   "id": "1947ffc4",
   "metadata": {
    "tags": []
   },
   "outputs": [],
   "source": [
    "# LightGBM hyperparameters\n",
    "hyperparameters_lgb = {\n",
    "    'boosting_type': 'gbdt',\n",
    "    'objective': 'regression',\n",
    "    'metric': 'rmse',\n",
    "    'force_row_wise': True,\n",
    "    'n_estimators': 1000,\n",
    "    'verbose': 0\n",
    "}"
   ]
  },
  {
   "cell_type": "code",
   "execution_count": null,
   "id": "873f5c62",
   "metadata": {
    "tags": []
   },
   "outputs": [],
   "source": [
    "%%time\n",
    "\n",
    "# Start MLflow Run\n",
    "with mlflow.start_run(experiment_id=mlflow_experiment_id, \n",
    "                      run_name='LightGBM'):\n",
    "\n",
    "    # Define the model\n",
    "    model_lgb = lgb.LGBMRegressor(**hyperparameters_lgb)\n",
    "\n",
    "    # Define the pipeline\n",
    "    pipe_lgb = Pipeline([\n",
    "        ('data_preprocessing', data_preprocessor),\n",
    "        ('lightgbm', model_lgb)\n",
    "    ])\n",
    "\n",
    "    # Train the pipeline\n",
    "    pipe_lgb.fit(X_train, \n",
    "                 np.ravel(y_train))\n",
    "\n",
    "    # Get predictions\n",
    "    predictions_lgb = pipe_lgb.predict(X_test)\n",
    "\n",
    "    # Compute metrics\n",
    "    rmse_lgb = round(mean_squared_error(y_test, predictions_lgb), 2)\n",
    "    \n",
    "    # Log model's evaluation metrics\n",
    "    mlflow.log_metrics({'RMSE': rmse_lgb})\n",
    "    \n",
    "    # Log model's features\n",
    "    mlflow.log_params({'Features': features, 'Hyperparameters': hyperparameters_lgb})\n",
    "\n",
    "    print('RMSE: {}'.format(rmse_lgb))\n",
    "    print('\\n')"
   ]
  },
  {
   "cell_type": "code",
   "execution_count": null,
   "id": "c0e49ea7",
   "metadata": {
    "tags": []
   },
   "outputs": [],
   "source": [
    "# Update 'performance' DataFrame\n",
    "performance.loc['LightGBM'] = [rmse_lgb]"
   ]
  },
  {
   "cell_type": "markdown",
   "id": "527610b5",
   "metadata": {},
   "source": [
    "## LightGBM with GridSearch"
   ]
  },
  {
   "cell_type": "code",
   "execution_count": null,
   "id": "6838dee2",
   "metadata": {
    "tags": []
   },
   "outputs": [],
   "source": [
    "# LightGBM hyperparameters\n",
    "hyperparameters_lgb_gs = {\n",
    "    'boosting_type': 'gbdt',\n",
    "    'objective': 'regression',\n",
    "    'metric': 'rmse'\n",
    "}\n",
    "\n",
    "# LightGBM hyperparameters space\n",
    "hyperparameters_space_lgb_gs = {\n",
    "    'lightgbm__num_leaves': np.arange(10, 60, 10),\n",
    "    'lightgbm__learning_rate': np.linspace(0.001, 1, 5),\n",
    "    'lightgbm__n_estimators': np.arange(50, 1000, 100)\n",
    "}"
   ]
  },
  {
   "cell_type": "code",
   "execution_count": null,
   "id": "be75f71f",
   "metadata": {
    "tags": []
   },
   "outputs": [],
   "source": [
    "%%time\n",
    "\n",
    "# Start MLflow Run\n",
    "with mlflow.start_run(experiment_id=mlflow_experiment_id, \n",
    "                      run_name='LightGBM with GridSearch'):\n",
    "\n",
    "    # Define the model\n",
    "    model_lgb_gs = lgb.LGBMRegressor(**hyperparameters_lgb_gs)\n",
    "\n",
    "    # Define the pipeline\n",
    "    pipe_lgb_gs = Pipeline([\n",
    "        ('data_preprocessing', data_preprocessor),\n",
    "        ('lightgbm', model_lgb_gs)\n",
    "    ])\n",
    "    \n",
    "    # Define GridSearch\n",
    "    # NOTE: GridSearchCV tries to maximise its score, that's why we need the Negative RMSE\n",
    "    grid_search_lgb_gs = GridSearchCV(estimator=pipe_lgb_gs, \n",
    "                                      param_grid=hyperparameters_space_lgb_gs, \n",
    "                                      cv=3, \n",
    "                                      n_jobs=2, \n",
    "                                      scoring='neg_root_mean_squared_error', \n",
    "                                      verbose=3)\n",
    "\n",
    "    # Search the best hyperparameters\n",
    "    grid_search_lgb_gs.fit(X_train, \n",
    "                           np.ravel(y_train))\n",
    "\n",
    "    # Retrieve the best model\n",
    "    best_model_lgb_gs = grid_search_lgb_gs.best_estimator_\n",
    "    \n",
    "    # Retrieve best model's parameters\n",
    "    best_parameters_lgb_gs = best_model_lgb_gs['lightgbm'].get_params()\n",
    "    \n",
    "    print(\"Model's Best Hyperparameters:\")\n",
    "    pprint.pprint(best_parameters_lgb_gs)\n",
    "    print('\\n')\n",
    "    \n",
    "    # Get predictions\n",
    "    predictions_lgb_gs = best_model_lgb_gs.predict(X_test)\n",
    "\n",
    "    # Compute metrics\n",
    "    rmse_lgb_gs = round(mean_squared_error(y_test, predictions_lgb_gs), 2)\n",
    "    \n",
    "    # Log model's evaluation metrics\n",
    "    mlflow.log_metrics({'RMSE': rmse_lgb_gs})\n",
    "    \n",
    "    # Log model's features\n",
    "    mlflow.log_params({'Features': features, 'Hyperparameters': best_parameters_lgb_gs})\n",
    "\n",
    "    print('RMSE: {}'.format(rmse_lgb_gs))\n",
    "    print('\\n')"
   ]
  },
  {
   "cell_type": "markdown",
   "id": "e2d6b4bc",
   "metadata": {},
   "source": [
    "# Models Comparison"
   ]
  },
  {
   "cell_type": "code",
   "execution_count": null,
   "id": "253b52bb",
   "metadata": {
    "tags": []
   },
   "outputs": [],
   "source": [
    "# Sort dataframe by the metric\n",
    "performance.sort_values('RMSE', inplace=True)\n",
    "\n",
    "# Plot models' metrics\n",
    "ax = sns.barplot(data=performance, \n",
    "                 x=performance.index.tolist(), \n",
    "                 y='RMSE')\n",
    "\n",
    "# Set title\n",
    "ax.set_title('Models Comparison', \n",
    "             fontsize=20, \n",
    "             fontweight='bold')\n",
    "\n",
    "plt.xticks(rotation=45)\n",
    "\n",
    "plt.show()"
   ]
  },
  {
   "cell_type": "markdown",
   "id": "4d45845e",
   "metadata": {},
   "source": [
    "# Model Explanability"
   ]
  },
  {
   "cell_type": "code",
   "execution_count": null,
   "id": "dfec686a",
   "metadata": {
    "tags": []
   },
   "outputs": [],
   "source": [
    "# Compute the feature importance\n",
    "feature_importance = sorted(list(zip(pipe_lgb.feature_names_in_,\n",
    "                                     pipe_lgb['lightgbm'].feature_importances_)),\n",
    "                            key=lambda x: x[1], reverse=True)\n",
    "\n",
    "# Transform it into a DataFrame\n",
    "feature_importance_df = pd.DataFrame(feature_importance,\n",
    "                                     columns= ['Feature', 'Importance'])"
   ]
  },
  {
   "cell_type": "code",
   "execution_count": null,
   "id": "241e2a05",
   "metadata": {
    "tags": []
   },
   "outputs": [],
   "source": [
    "# Plot the feature importance\n",
    "ax = sns.barplot(data=feature_importance_df, \n",
    "                 x='Feature', \n",
    "                 y='Importance')\n",
    "\n",
    "# Set title\n",
    "ax.set_title('Feature Importance', \n",
    "             fontsize=20, \n",
    "             fontweight='bold')\n",
    "\n",
    "plt.xticks(fontsize=8, \n",
    "           rotation=45)\n",
    "\n",
    "plt.show()"
   ]
  }
 ],
 "metadata": {
  "kernelspec": {
   "display_name": "Python 3 (ipykernel)",
   "language": "python",
   "name": "python3"
  },
  "language_info": {
   "codemirror_mode": {
    "name": "ipython",
    "version": 3
   },
   "file_extension": ".py",
   "mimetype": "text/x-python",
   "name": "python",
   "nbconvert_exporter": "python",
   "pygments_lexer": "ipython3",
   "version": "3.10.5"
  }
 },
 "nbformat": 4,
 "nbformat_minor": 5
}
