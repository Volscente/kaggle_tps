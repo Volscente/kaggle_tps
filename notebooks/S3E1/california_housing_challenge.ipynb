{
 "cells": [
  {
   "cell_type": "markdown",
   "id": "4277ebc2-b19d-4c4a-8f94-6a10cb1900fa",
   "metadata": {},
   "source": [
    "# California Housing Challenge\n",
    "\n",
    "The notebook is intended to predict the average house value upon the provided house features."
   ]
  },
  {
   "cell_type": "code",
   "execution_count": null,
   "id": "95bf4b4b-42f8-41fb-be84-56991f436fae",
   "metadata": {},
   "outputs": [],
   "source": [
    "# Import Standard Libraries\n",
    "import pandas as pd\n",
    "import numpy as np\n",
    "\n",
    "from scipy.stats import zscore\n",
    "\n",
    "import matplotlib.pyplot as plt\n",
    "import seaborn as sns\n",
    "import plotly.express as px\n",
    "\n",
    "from sklearn.pipeline import Pipeline\n",
    "from sklearn.impute import SimpleImputer\n",
    "from sklearn.preprocessing import StandardScaler, OrdinalEncoder\n",
    "from sklearn.compose import ColumnTransformer\n",
    "from sklearn.model_selection import train_test_split\n",
    "from sklearn.linear_model import LinearRegression\n",
    "from sklearn.metrics import mean_squared_error\n",
    "\n",
    "from xgboost import XGBRegressor"
   ]
  },
  {
   "cell_type": "code",
   "execution_count": null,
   "id": "1dd5a675-e97f-445e-b5d4-64a2269c32a0",
   "metadata": {},
   "outputs": [],
   "source": [
    "# Define Seaborn theme parameters\n",
    "theme_parameters =  {\n",
    "    'axes.spines.right': False,\n",
    "    'axes.spines.top': False,\n",
    "    'grid.alpha':0.3,\n",
    "    'figure.figsize': (16, 6),\n",
    "    'font.family': 'Andale Mono',\n",
    "    'axes.titlesize': 24,\n",
    "    'figure.facecolor': '#E5E8E8',\n",
    "    'axes.facecolor': '#E5E8E8'\n",
    "}\n",
    "\n",
    "# Set the theme\n",
    "sns.set_theme(style='whitegrid',\n",
    "              palette=sns.color_palette('deep'), \n",
    "              rc=theme_parameters)"
   ]
  },
  {
   "cell_type": "markdown",
   "id": "d38cc464-c2a7-4605-b911-e404ef855a14",
   "metadata": {},
   "source": [
    "# Read Data"
   ]
  },
  {
   "cell_type": "code",
   "execution_count": null,
   "id": "587c0f38-45ad-4bdb-b23d-06c8092ab063",
   "metadata": {},
   "outputs": [],
   "source": [
    "# Read training data\n",
    "train_data = pd.read_csv('./../../data/S3E1/california_housing_train.csv')\n",
    "test_data = pd.read_csv('./../../data/S3E1/california_housing_test.csv')"
   ]
  },
  {
   "cell_type": "code",
   "execution_count": null,
   "id": "44aa2a7c-0909-4412-9557-8ce0724925bc",
   "metadata": {},
   "outputs": [],
   "source": [
    "train_data.head()"
   ]
  },
  {
   "cell_type": "code",
   "execution_count": null,
   "id": "6e889b85-fc20-445a-a13d-37f6aa92aca5",
   "metadata": {},
   "outputs": [],
   "source": [
    "train_data.info()"
   ]
  },
  {
   "cell_type": "markdown",
   "id": "9b56ce8d-49ee-448b-b59d-30bb59eeedce",
   "metadata": {},
   "source": [
    "# Exploratory Data Analysis (EDA)"
   ]
  },
  {
   "cell_type": "markdown",
   "id": "a3fab690-cb9a-43e8-ad36-ec21230c3ceb",
   "metadata": {
    "tags": []
   },
   "source": [
    "## Train Features & Label Distribution"
   ]
  },
  {
   "cell_type": "code",
   "execution_count": null,
   "id": "f9e85365-b29e-40f3-81a9-b15cdfd80700",
   "metadata": {
    "tags": []
   },
   "outputs": [],
   "source": [
    "# Plot the histograms of each feature\n",
    "figure, ax = plt.subplots(3, 3, figsize=(16, 9))\n",
    "ax = ax.flatten()\n",
    "\n",
    "# Fetch the data to plot (exclude the 'id' column)\n",
    "for index, column_name in enumerate(train_data.columns[1:]):\n",
    "    \n",
    "    # Plot data\n",
    "    sns.histplot(data=train_data[column_name], \n",
    "                 ax=ax[index])\n",
    "    \n",
    "    ax[index].set_title(column_name, \n",
    "                        fontsize=14, \n",
    "                        fontweight='bold')\n",
    "    \n",
    "    ax[index].tick_params(labelrotation=45)\n",
    "    \n",
    "plt.suptitle('Feature & Label Distrubtion', \n",
    "             fontweight='bold',\n",
    "             fontsize=30)\n",
    "    \n",
    "plt.tight_layout()"
   ]
  },
  {
   "cell_type": "markdown",
   "id": "4ea56971-c438-4133-987e-2d53734c539e",
   "metadata": {},
   "source": [
    "### Average Occupancy Distribution"
   ]
  },
  {
   "cell_type": "code",
   "execution_count": null,
   "id": "98429270-20ee-46dd-be62-4bd0f362fbbb",
   "metadata": {
    "tags": []
   },
   "outputs": [],
   "source": [
    "# Plot the histogram of 'AveOccup'\n",
    "ax = sns.boxplot(data=train_data, \n",
    "                  x='AveOccup')\n",
    "\n",
    "\n",
    "ax.set_title('Average Occupancy Distribution')\n",
    "\n",
    "plt.tight_layout()\n",
    "\n",
    "plt.show()"
   ]
  },
  {
   "cell_type": "code",
   "execution_count": null,
   "id": "85c10e51-3ca2-46a6-8293-700d7d7a9130",
   "metadata": {},
   "outputs": [],
   "source": [
    "# Drop the outlier\n",
    "train_data = train_data[train_data['AveOccup'] < 100]"
   ]
  },
  {
   "cell_type": "markdown",
   "id": "e2c43b74-ca7d-49eb-b4a2-22519b630ea0",
   "metadata": {},
   "source": [
    "- `HouseAge` has some strange peaks. Probably some rounding operations\n",
    "- `AveOccup` has a huge outlier. It has been dropped for EDA sake.\n",
    "- `MedHouseVal` has a strange peak at the end. Probably a cap"
   ]
  },
  {
   "cell_type": "markdown",
   "id": "a2cb257e-b6e7-40a2-b5de-51360eaff8d8",
   "metadata": {},
   "source": [
    "## Pearson Correlation"
   ]
  },
  {
   "cell_type": "code",
   "execution_count": null,
   "id": "e8ccdf5f-9ca2-48cb-b244-d7f26a3fc5d7",
   "metadata": {
    "tags": []
   },
   "outputs": [],
   "source": [
    "# Compute the correlation matrix\n",
    "correlation_matrix = train_data.iloc[:, 1:].corr()\n",
    "\n",
    "# Generate a mask for the upper triangle\n",
    "correlation_mask = np.triu(np.ones_like(correlation_matrix, dtype=bool))\n",
    "\n",
    "# Define figure and axis\n",
    "figure, ax = plt.subplots(figsize=(12, 8))\n",
    "\n",
    "# Plot the correlation matrix\n",
    "sns.heatmap(correlation_matrix, \n",
    "            mask=correlation_mask, \n",
    "            cmap='mako',\n",
    "            vmax=1.0, \n",
    "            vmin=-1.0, \n",
    "            center=0, \n",
    "            square=True, \n",
    "            linewidths=.5, \n",
    "            annot=True,\n",
    "            annot_kws={'fontsize': 8},\n",
    "            cbar_kws={\"shrink\":.8, 'orientation':'vertical'})\n",
    "\n",
    "# Set title\n",
    "ax.set_title('Pearson Correlation', \n",
    "             fontsize=20, \n",
    "             fontweight='bold')\n",
    "\n",
    "plt.tight_layout()\n",
    "\n",
    "plt.show()"
   ]
  },
  {
   "cell_type": "markdown",
   "id": "95041937-fe1b-46a3-8b1f-9462163d667f",
   "metadata": {},
   "source": [
    "Positive correlation between:\n",
    "- `AveRooms` and `MedInc`"
   ]
  },
  {
   "cell_type": "markdown",
   "id": "31f2e9a0-92de-419a-a64a-8456a63fe823",
   "metadata": {},
   "source": [
    "## Train Data Geography"
   ]
  },
  {
   "cell_type": "code",
   "execution_count": null,
   "id": "57ac4f64-ca6d-4869-8f1e-e67767f01190",
   "metadata": {
    "tags": []
   },
   "outputs": [],
   "source": [
    "# Define dots colors\n",
    "color_scale = [(0, 'orange'), (1,'red')]\n",
    "\n",
    "# Plot the data\n",
    "figure = px.scatter_mapbox(train_data,\n",
    "                           lat=\"Latitude\",\n",
    "                           lon=\"Longitude\",\n",
    "                           hover_name=\"MedHouseVal\",\n",
    "                           hover_data=[\"MedHouseVal\"],\n",
    "                           color=\"MedHouseVal\",\n",
    "                           color_continuous_scale=color_scale,\n",
    "                           size=\"MedHouseVal\",\n",
    "                           zoom=8,\n",
    "                           height=600,\n",
    "                           width=600)\n",
    "\n",
    "figure.update_layout(mapbox_style=\"open-street-map\")\n",
    "figure.update_layout(margin={\"r\":0,\"t\":0,\"l\":0,\"b\":0})\n",
    "figure.show()"
   ]
  },
  {
   "cell_type": "markdown",
   "id": "749ac1ff-630b-4433-ac6e-4925c7de42a1",
   "metadata": {},
   "source": [
    "Define an `hot_area`flag for the houses sold in the following squares:\n",
    "- (-123 <= lon <= -121.45) and (36.6 <= lat <= 38.6)\n",
    "- (-119.90 <= lon <= -119.42) and (34.25 <= lat <= 34.5)\n",
    "- (-119.35 <= lon <= -117.55) and (33.36 <= lat <= 34.52)\n",
    "- (-117.29 <= lon <= -117.18) and (32.84 <= lat <= 33.01)"
   ]
  },
  {
   "cell_type": "markdown",
   "id": "6b485a8e-4af2-4c20-9c28-6f0beb32c2c2",
   "metadata": {},
   "source": [
    "## Train vs Test Feature & Label Distribution"
   ]
  },
  {
   "cell_type": "code",
   "execution_count": null,
   "id": "c0bd5ac9-08d4-45f1-af96-17b18f0c8ba0",
   "metadata": {
    "tags": []
   },
   "outputs": [],
   "source": [
    "# Plot the KDE of each feature\n",
    "figure, ax = plt.subplots(3, 3, figsize=(16, 12))\n",
    "ax = ax.flatten()\n",
    "\n",
    "# Fetch the data to plot (exclude the 'id' and 'quality' columns)\n",
    "for index, column_name in enumerate(train_data.columns[1:-1]):\n",
    "    \n",
    "    # Plot data\n",
    "    sns.kdeplot(data=train_data[column_name],\n",
    "                label='Train',\n",
    "                ax=ax[index])\n",
    "    \n",
    "    sns.kdeplot(data=test_data[column_name],\n",
    "                label='Test',\n",
    "                ax=ax[index])\n",
    "    \n",
    "    ax[index].set_title(column_name, fontsize=14)\n",
    "    \n",
    "    ax[index].tick_params(labelrotation=45)\n",
    "    \n",
    "    # Retrieve legend information\n",
    "    handles = ax[index].get_legend_handles_labels()[0]\n",
    "    labels = ax[index].get_legend_handles_labels()[1]\n",
    "    ax[index].legend().remove()\n",
    "    \n",
    "# Remove the empty subplot\n",
    "figure.delaxes(ax[-1])\n",
    "\n",
    "# Set the legend\n",
    "figure.legend(handles, \n",
    "              labels, \n",
    "              loc='upper center', \n",
    "              bbox_to_anchor=(0.5, 1.03), \n",
    "              fontsize=12,\n",
    "              ncol=2)\n",
    "\n",
    "plt.tight_layout()"
   ]
  },
  {
   "cell_type": "markdown",
   "id": "8c4df45b-3b28-448a-9174-68a603b69631",
   "metadata": {},
   "source": [
    "No difference in the train and test data distributions."
   ]
  },
  {
   "cell_type": "markdown",
   "id": "b8b9e12d-13c1-4853-b230-d7cbabc00989",
   "metadata": {},
   "source": [
    "## Count Outliers with the Z-Score"
   ]
  },
  {
   "cell_type": "code",
   "execution_count": null,
   "id": "76f11793-5b5a-45f8-b6a3-086bb3f8b0c6",
   "metadata": {
    "tags": []
   },
   "outputs": [],
   "source": [
    "# Compute the Z-Score for the feature columns across 'quality' classes\n",
    "z_scores = train_data.iloc[:, 1:-1].apply(zscore)"
   ]
  },
  {
   "cell_type": "code",
   "execution_count": null,
   "id": "e3118307-6f20-4423-b445-aeb6677c9ad4",
   "metadata": {
    "tags": []
   },
   "outputs": [],
   "source": [
    "# Consider as an 'outlier' every records with a Z-Score bigger than 2 SDs in absolute value terms\n",
    "outliers = z_scores.abs().ge(2).sum().to_frame('Count').sort_values(by='Count')"
   ]
  },
  {
   "cell_type": "code",
   "execution_count": null,
   "id": "2a8e679e-1fac-4aed-b355-85eb01c3dfb2",
   "metadata": {
    "tags": []
   },
   "outputs": [],
   "source": [
    "# Plot the feature importance\n",
    "ax = sns.barplot(data=outliers, \n",
    "                 x=outliers.index.tolist(), \n",
    "                 y='Count')\n",
    "\n",
    "# Set title\n",
    "ax.set_title('Outlisers Count', \n",
    "             fontsize=20, \n",
    "             fontweight='bold')\n",
    "\n",
    "plt.xticks(fontsize=12, \n",
    "           rotation=45)\n",
    "\n",
    "plt.show()"
   ]
  },
  {
   "cell_type": "markdown",
   "id": "daac9162-4a01-4869-a611-5013a47d0588",
   "metadata": {},
   "source": [
    "The `HouseAge` has confirmed to have that strange spike at the end. It is necessary to create interval of classes for this feature."
   ]
  },
  {
   "cell_type": "markdown",
   "id": "9f8135a8-c20d-4eee-b9ae-9d577aeb49dd",
   "metadata": {},
   "source": [
    "## Train Features Pairplot"
   ]
  },
  {
   "cell_type": "code",
   "execution_count": null,
   "id": "85f88a5d-0407-4cfe-a78f-87ed55ec04df",
   "metadata": {
    "tags": []
   },
   "outputs": [],
   "source": [
    "# Plot the Pairplot between the features\n",
    "sns.pairplot(train_data.drop(columns=['id', 'MedHouseVal']),\n",
    "             kind=\"reg\",\n",
    "             diag_kind='kde',\n",
    "             plot_kws={'line_kws':{'color':'red'}},\n",
    "             corner=True)\n",
    "\n",
    "# Set title plot\n",
    "plt.suptitle('Train Feature Pairplot', \n",
    "             fontsize=20, \n",
    "             fontweight='bold')\n",
    "\n",
    "plt.tight_layout()\n",
    "\n",
    "plt.show()"
   ]
  },
  {
   "cell_type": "markdown",
   "id": "d1a8a3b9-759f-4b74-94e0-96e0b6f0ff33",
   "metadata": {},
   "source": [
    "Positive correlations:\n",
    "- `AveRooms` and `MedInc`\n",
    "- `AveBedrms` and `AveRooms`"
   ]
  },
  {
   "cell_type": "markdown",
   "id": "bac06d78-1a3a-4418-bbd6-9c9a226a406b",
   "metadata": {},
   "source": [
    "## Conclusions"
   ]
  },
  {
   "cell_type": "markdown",
   "id": "f19e71a2-7c19-4e6d-8ec7-27a3be1addfa",
   "metadata": {},
   "source": [
    "- Round the HouseAge to 3 classes\n",
    "- Create a feature `AveRooms per MedInc`\n",
    "- Create a feature `HotArea`\n",
    "- Create a feature `AveBedrms per AveRooms`"
   ]
  },
  {
   "cell_type": "markdown",
   "id": "22287f1d-a0e4-460e-b213-470187b6ef47",
   "metadata": {},
   "source": [
    "# Data Preparation"
   ]
  },
  {
   "cell_type": "markdown",
   "id": "48ed7b26-a62e-4c82-b1bd-1bdcb1233ebc",
   "metadata": {},
   "source": [
    "## Feature Engineering"
   ]
  },
  {
   "cell_type": "code",
   "execution_count": null,
   "id": "04a031c8-a5f6-4e8e-81cc-43a0867d1bcd",
   "metadata": {},
   "outputs": [],
   "source": [
    "def compute_engineered_features(data: pd.DataFrame) -> pd.DataFrame:\n",
    "    \n",
    "    \"\"\"\n",
    "    Create a pre-defined set of engineered feature to the input DataFrame\n",
    "    \n",
    "    Args:\n",
    "        data Pandas.DataFrame input\n",
    "    \n",
    "    Returns:\n",
    "        data Pandas.DataFrame with additional engineered features\n",
    "    \"\"\"\n",
    "    \n",
    "    # Define the conditions for the `HouseAgeClass` categories\n",
    "    house_age_class_conditions = {\n",
    "        1: data['HouseAge'] <= 17,\n",
    "        2: (data['HouseAge'] > 17) &  (data['HouseAge'] < 52),\n",
    "        3: data['HouseAge'] == 52\n",
    "    }\n",
    "\n",
    "    # Define a categorical variable called `HouseAgeClass`\n",
    "    data['HouseAgeClass'] = np.select(house_age_class_conditions.values(),\n",
    "                                      house_age_class_conditions.keys())\n",
    "    \n",
    "    \n",
    "    # Create a feature `AveRooms per MedInc`\n",
    "    data['AveRooms per MedInc'] = data['AveRooms'] * data['MedInc']\n",
    "    \n",
    "    # Create a feature `HotArea`\n",
    "    # Define the rectangular areas of interest\n",
    "    hot_areas = [(-123, -121.45, 36.6, 38.6),\n",
    "                 (-119.90, -119.42, 34.25, 34.5),\n",
    "                 (-119.35, -117.55, 33.86, 34.52),\n",
    "                 (-117.29, -117.18, 32.84, 33.01)]\n",
    "\n",
    "    # Check if each point is inside any of the hot areas\n",
    "    is_in_hot_area = False\n",
    "    for area in hot_areas:\n",
    "        is_in_hot_area |= ((data['Longitude'] >= area[0]) &\n",
    "                           (data['Longitude'] <= area[1]) &\n",
    "                           (data['Latitude'] >= area[2]) &\n",
    "                           (data['Latitude'] <= area[3]))\n",
    "        \n",
    "    # Assign a binary value to indicate if a point is in a hot area or not\n",
    "    data['HotArea'] = np.where(is_in_hot_area, 1, 0)\n",
    "\n",
    "    \n",
    "    # Create a feature `AveBedrms per AveRooms`\n",
    "    data['AveBedrms per AveRooms'] = data['AveBedrms'] * data['AveRooms']\n"
   ]
  },
  {
   "cell_type": "code",
   "execution_count": null,
   "id": "139e7fcc-243d-4c61-999f-3796a2219374",
   "metadata": {
    "tags": []
   },
   "outputs": [],
   "source": [
    "# Apply the feature engineering\n",
    "compute_engineered_features(train_data)\n",
    "compute_engineered_features(test_data)"
   ]
  },
  {
   "cell_type": "markdown",
   "id": "0725f20c-29fb-49a7-aafd-fb0fa206b512",
   "metadata": {},
   "source": [
    "## Features and Labels Definition"
   ]
  },
  {
   "cell_type": "code",
   "execution_count": null,
   "id": "27518946-618b-4a63-bda8-99c17fec82ca",
   "metadata": {
    "tags": []
   },
   "outputs": [],
   "source": [
    "# Define features and labels\n",
    "numerical_features = train_data.columns[1:9].tolist()\n",
    "\n",
    "numerical_engineered_featuers = train_data.columns[10:].tolist()\n",
    "\n",
    "labels = ['MedHouseVal']"
   ]
  },
  {
   "cell_type": "markdown",
   "id": "e8d5a0b6-b713-49c4-a2e0-267b99eda799",
   "metadata": {},
   "source": [
    "## Numerical Features Preprocessing Pipeline"
   ]
  },
  {
   "cell_type": "code",
   "execution_count": null,
   "id": "c74eae0c-3060-45e4-9fd4-82f7b0292753",
   "metadata": {
    "tags": []
   },
   "outputs": [],
   "source": [
    "# Numerical features pipeline\n",
    "numerical_features_pipeline = Pipeline(steps=[\n",
    "    ('numerical_scaler', StandardScaler())\n",
    "])"
   ]
  },
  {
   "cell_type": "markdown",
   "id": "755e9bf7-b4c3-4c8e-9f91-5c6a94a6b64d",
   "metadata": {},
   "source": [
    "## Bundle Data Preprocessing Steps"
   ]
  },
  {
   "cell_type": "code",
   "execution_count": null,
   "id": "8dbfcef8-9361-4bfa-a089-37ce0c43e182",
   "metadata": {
    "tags": []
   },
   "outputs": [],
   "source": [
    "# Bunlde data preprocessing steps\n",
    "data_preprocessor = ColumnTransformer(\n",
    "    transformers=[\n",
    "        ('numerical_preprocessing', \n",
    "         numerical_features_pipeline, \n",
    "         numerical_features + numerical_engineered_featuers),\n",
    "    ])"
   ]
  },
  {
   "cell_type": "code",
   "execution_count": null,
   "id": "b304ba55-dcb7-49f6-bd33-723b4059ad28",
   "metadata": {},
   "outputs": [],
   "source": [
    "Train & Test Split"
   ]
  }
 ],
 "metadata": {
  "kernelspec": {
   "display_name": "Python 3 (ipykernel)",
   "language": "python",
   "name": "python3"
  },
  "language_info": {
   "codemirror_mode": {
    "name": "ipython",
    "version": 3
   },
   "file_extension": ".py",
   "mimetype": "text/x-python",
   "name": "python",
   "nbconvert_exporter": "python",
   "pygments_lexer": "ipython3",
   "version": "3.10.5"
  }
 },
 "nbformat": 4,
 "nbformat_minor": 5
}
