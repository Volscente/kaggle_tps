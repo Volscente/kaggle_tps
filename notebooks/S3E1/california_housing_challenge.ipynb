{
 "cells": [
  {
   "cell_type": "markdown",
   "id": "4277ebc2-b19d-4c4a-8f94-6a10cb1900fa",
   "metadata": {},
   "source": [
    "# California Housing Challenge\n",
    "\n",
    "The notebook is intended to predict the average house value upon the provided house features."
   ]
  },
  {
   "cell_type": "code",
   "execution_count": null,
   "id": "95bf4b4b-42f8-41fb-be84-56991f436fae",
   "metadata": {},
   "outputs": [],
   "source": [
    "# Import Standard Libraries\n",
    "import pandas as pd\n",
    "import numpy as np\n",
    "\n",
    "from scipy.stats import zscore\n",
    "\n",
    "import matplotlib.pyplot as plt\n",
    "import seaborn as sns\n",
    "import plotly.express as px\n",
    "\n",
    "import mlflow\n",
    "\n",
    "from sklearn.pipeline import Pipeline\n",
    "from sklearn.impute import SimpleImputer\n",
    "from sklearn.preprocessing import StandardScaler, OrdinalEncoder\n",
    "from sklearn.compose import ColumnTransformer\n",
    "from sklearn.model_selection import train_test_split, KFold, RepeatedKFold\n",
    "from sklearn.linear_model import LinearRegression\n",
    "from sklearn.metrics import mean_squared_error\n",
    "\n",
    "from xgboost import XGBRegressor\n",
    "\n",
    "import lightgbm as lgb"
   ]
  },
  {
   "cell_type": "code",
   "execution_count": null,
   "id": "1dd5a675-e97f-445e-b5d4-64a2269c32a0",
   "metadata": {},
   "outputs": [],
   "source": [
    "# Define Seaborn theme parameters\n",
    "theme_parameters =  {\n",
    "    'axes.spines.right': False,\n",
    "    'axes.spines.top': False,\n",
    "    'grid.alpha':0.3,\n",
    "    'figure.figsize': (16, 6),\n",
    "    'font.family': 'Andale Mono',\n",
    "    'axes.titlesize': 24,\n",
    "    'figure.facecolor': '#E5E8E8',\n",
    "    'axes.facecolor': '#E5E8E8'\n",
    "}\n",
    "\n",
    "# Set the theme\n",
    "sns.set_theme(style='whitegrid',\n",
    "              palette=sns.color_palette('deep'), \n",
    "              rc=theme_parameters)"
   ]
  },
  {
   "cell_type": "markdown",
   "id": "d38cc464-c2a7-4605-b911-e404ef855a14",
   "metadata": {},
   "source": [
    "# Read Data"
   ]
  },
  {
   "cell_type": "code",
   "execution_count": null,
   "id": "587c0f38-45ad-4bdb-b23d-06c8092ab063",
   "metadata": {},
   "outputs": [],
   "source": [
    "# Read training data\n",
    "train_data = pd.read_csv('./../../data/S3E1/california_housing_train.csv')\n",
    "test_data = pd.read_csv('./../../data/S3E1/california_housing_test.csv')"
   ]
  },
  {
   "cell_type": "code",
   "execution_count": null,
   "id": "44aa2a7c-0909-4412-9557-8ce0724925bc",
   "metadata": {},
   "outputs": [],
   "source": [
    "train_data.head()"
   ]
  },
  {
   "cell_type": "code",
   "execution_count": null,
   "id": "6e889b85-fc20-445a-a13d-37f6aa92aca5",
   "metadata": {},
   "outputs": [],
   "source": [
    "train_data.info()"
   ]
  },
  {
   "cell_type": "markdown",
   "id": "9b56ce8d-49ee-448b-b59d-30bb59eeedce",
   "metadata": {},
   "source": [
    "# Exploratory Data Analysis (EDA)"
   ]
  },
  {
   "cell_type": "markdown",
   "id": "a3fab690-cb9a-43e8-ad36-ec21230c3ceb",
   "metadata": {
    "tags": []
   },
   "source": [
    "## Train Features & Label Distribution"
   ]
  },
  {
   "cell_type": "code",
   "execution_count": null,
   "id": "f9e85365-b29e-40f3-81a9-b15cdfd80700",
   "metadata": {
    "tags": []
   },
   "outputs": [],
   "source": [
    "# Plot the histograms of each feature\n",
    "figure, ax = plt.subplots(3, 3, figsize=(16, 9))\n",
    "ax = ax.flatten()\n",
    "\n",
    "# Fetch the data to plot (exclude the 'id' column)\n",
    "for index, column_name in enumerate(train_data.columns[1:]):\n",
    "    \n",
    "    # Plot data\n",
    "    sns.histplot(data=train_data[column_name], \n",
    "                 ax=ax[index])\n",
    "    \n",
    "    ax[index].set_title(column_name, \n",
    "                        fontsize=14, \n",
    "                        fontweight='bold')\n",
    "    \n",
    "    ax[index].tick_params(labelrotation=45)\n",
    "    \n",
    "plt.suptitle('Feature & Label Distrubtion', \n",
    "             fontweight='bold',\n",
    "             fontsize=30)\n",
    "    \n",
    "plt.tight_layout()"
   ]
  },
  {
   "cell_type": "markdown",
   "id": "4ea56971-c438-4133-987e-2d53734c539e",
   "metadata": {},
   "source": [
    "### Average Occupancy Distribution"
   ]
  },
  {
   "cell_type": "code",
   "execution_count": null,
   "id": "98429270-20ee-46dd-be62-4bd0f362fbbb",
   "metadata": {
    "tags": []
   },
   "outputs": [],
   "source": [
    "# Plot the histogram of 'AveOccup'\n",
    "ax = sns.boxplot(data=train_data, \n",
    "                  x='AveOccup')\n",
    "\n",
    "\n",
    "ax.set_title('Average Occupancy Distribution')\n",
    "\n",
    "plt.tight_layout()\n",
    "\n",
    "plt.show()"
   ]
  },
  {
   "cell_type": "code",
   "execution_count": null,
   "id": "85c10e51-3ca2-46a6-8293-700d7d7a9130",
   "metadata": {},
   "outputs": [],
   "source": [
    "# Drop the outlier\n",
    "train_data = train_data[train_data['AveOccup'] < 100].reset_index()"
   ]
  },
  {
   "cell_type": "markdown",
   "id": "e2c43b74-ca7d-49eb-b4a2-22519b630ea0",
   "metadata": {},
   "source": [
    "- `HouseAge` has some strange peaks. Probably some rounding operations\n",
    "- `AveOccup` has a huge outlier. It has been dropped for EDA sake.\n",
    "- `MedHouseVal` has a strange peak at the end. Probably a cap"
   ]
  },
  {
   "cell_type": "markdown",
   "id": "a2cb257e-b6e7-40a2-b5de-51360eaff8d8",
   "metadata": {},
   "source": [
    "## Pearson Correlation"
   ]
  },
  {
   "cell_type": "code",
   "execution_count": null,
   "id": "e8ccdf5f-9ca2-48cb-b244-d7f26a3fc5d7",
   "metadata": {
    "tags": []
   },
   "outputs": [],
   "source": [
    "# Compute the correlation matrix\n",
    "correlation_matrix = train_data.iloc[:, 1:].corr()\n",
    "\n",
    "# Generate a mask for the upper triangle\n",
    "correlation_mask = np.triu(np.ones_like(correlation_matrix, dtype=bool))\n",
    "\n",
    "# Define figure and axis\n",
    "figure, ax = plt.subplots(figsize=(12, 8))\n",
    "\n",
    "# Plot the correlation matrix\n",
    "sns.heatmap(correlation_matrix, \n",
    "            mask=correlation_mask, \n",
    "            cmap='mako',\n",
    "            vmax=1.0, \n",
    "            vmin=-1.0, \n",
    "            center=0, \n",
    "            square=True, \n",
    "            linewidths=.5, \n",
    "            annot=True,\n",
    "            annot_kws={'fontsize': 8},\n",
    "            cbar_kws={\"shrink\":.8, 'orientation':'vertical'})\n",
    "\n",
    "# Set title\n",
    "ax.set_title('Pearson Correlation', \n",
    "             fontsize=20, \n",
    "             fontweight='bold')\n",
    "\n",
    "plt.tight_layout()\n",
    "\n",
    "plt.show()"
   ]
  },
  {
   "cell_type": "markdown",
   "id": "95041937-fe1b-46a3-8b1f-9462163d667f",
   "metadata": {},
   "source": [
    "Positive correlation between:\n",
    "- `AveRooms` and `MedInc`"
   ]
  },
  {
   "cell_type": "markdown",
   "id": "31f2e9a0-92de-419a-a64a-8456a63fe823",
   "metadata": {},
   "source": [
    "## Train Data Geography"
   ]
  },
  {
   "cell_type": "code",
   "execution_count": null,
   "id": "57ac4f64-ca6d-4869-8f1e-e67767f01190",
   "metadata": {
    "tags": []
   },
   "outputs": [],
   "source": [
    "# Define dots colors\n",
    "color_scale = [(0, 'orange'), (1,'red')]\n",
    "\n",
    "# Plot the data\n",
    "figure = px.scatter_mapbox(train_data,\n",
    "                           lat=\"Latitude\",\n",
    "                           lon=\"Longitude\",\n",
    "                           hover_name=\"MedHouseVal\",\n",
    "                           hover_data=[\"MedHouseVal\"],\n",
    "                           color=\"MedHouseVal\",\n",
    "                           color_continuous_scale=color_scale,\n",
    "                           size=\"MedHouseVal\",\n",
    "                           zoom=8,\n",
    "                           height=600,\n",
    "                           width=600)\n",
    "\n",
    "figure.update_layout(mapbox_style=\"open-street-map\")\n",
    "figure.update_layout(margin={\"r\":0,\"t\":0,\"l\":0,\"b\":0})\n",
    "figure.show()"
   ]
  },
  {
   "cell_type": "markdown",
   "id": "749ac1ff-630b-4433-ac6e-4925c7de42a1",
   "metadata": {},
   "source": [
    "Define an `hot_area`flag for the houses sold in the following squares:\n",
    "- (-123 <= lon <= -121.45) and (36.6 <= lat <= 38.6)\n",
    "- (-119.90 <= lon <= -119.42) and (34.25 <= lat <= 34.5)\n",
    "- (-119.35 <= lon <= -117.55) and (33.36 <= lat <= 34.52)\n",
    "- (-117.29 <= lon <= -117.18) and (32.84 <= lat <= 33.01)"
   ]
  },
  {
   "cell_type": "markdown",
   "id": "6b485a8e-4af2-4c20-9c28-6f0beb32c2c2",
   "metadata": {},
   "source": [
    "## Train vs Test Feature & Label Distribution"
   ]
  },
  {
   "cell_type": "code",
   "execution_count": null,
   "id": "c0bd5ac9-08d4-45f1-af96-17b18f0c8ba0",
   "metadata": {
    "tags": []
   },
   "outputs": [],
   "source": [
    "# Plot the KDE of each feature\n",
    "figure, ax = plt.subplots(3, 3, figsize=(16, 12))\n",
    "ax = ax.flatten()\n",
    "\n",
    "# Fetch the data to plot (exclude the 'id' and 'quality' columns)\n",
    "for index, column_name in enumerate(train_data.columns[1:-1]):\n",
    "    \n",
    "    # Plot data\n",
    "    sns.kdeplot(data=train_data[column_name],\n",
    "                label='Train',\n",
    "                ax=ax[index])\n",
    "    \n",
    "    sns.kdeplot(data=test_data[column_name],\n",
    "                label='Test',\n",
    "                ax=ax[index])\n",
    "    \n",
    "    ax[index].set_title(column_name, fontsize=14)\n",
    "    \n",
    "    ax[index].tick_params(labelrotation=45)\n",
    "    \n",
    "    # Retrieve legend information\n",
    "    handles = ax[index].get_legend_handles_labels()[0]\n",
    "    labels = ax[index].get_legend_handles_labels()[1]\n",
    "    ax[index].legend().remove()\n",
    "    \n",
    "# Remove the empty subplot\n",
    "figure.delaxes(ax[-1])\n",
    "\n",
    "# Set the legend\n",
    "figure.legend(handles, \n",
    "              labels, \n",
    "              loc='upper center', \n",
    "              bbox_to_anchor=(0.5, 1.03), \n",
    "              fontsize=12,\n",
    "              ncol=2)\n",
    "\n",
    "plt.tight_layout()"
   ]
  },
  {
   "cell_type": "markdown",
   "id": "8c4df45b-3b28-448a-9174-68a603b69631",
   "metadata": {},
   "source": [
    "No difference in the train and test data distributions."
   ]
  },
  {
   "cell_type": "markdown",
   "id": "b8b9e12d-13c1-4853-b230-d7cbabc00989",
   "metadata": {},
   "source": [
    "## Count Outliers with the Z-Score"
   ]
  },
  {
   "cell_type": "code",
   "execution_count": null,
   "id": "76f11793-5b5a-45f8-b6a3-086bb3f8b0c6",
   "metadata": {
    "tags": []
   },
   "outputs": [],
   "source": [
    "# Compute the Z-Score for the feature columns across 'quality' classes\n",
    "z_scores = train_data.iloc[:, 1:-1].apply(zscore)"
   ]
  },
  {
   "cell_type": "code",
   "execution_count": null,
   "id": "e3118307-6f20-4423-b445-aeb6677c9ad4",
   "metadata": {
    "tags": []
   },
   "outputs": [],
   "source": [
    "# Consider as an 'outlier' every records with a Z-Score bigger than 2 SDs in absolute value terms\n",
    "outliers = z_scores.abs().ge(2).sum().to_frame('Count').sort_values(by='Count')"
   ]
  },
  {
   "cell_type": "code",
   "execution_count": null,
   "id": "2a8e679e-1fac-4aed-b355-85eb01c3dfb2",
   "metadata": {
    "tags": []
   },
   "outputs": [],
   "source": [
    "# Plot the feature importance\n",
    "ax = sns.barplot(data=outliers, \n",
    "                 x=outliers.index.tolist(), \n",
    "                 y='Count')\n",
    "\n",
    "# Set title\n",
    "ax.set_title('Outlisers Count', \n",
    "             fontsize=20, \n",
    "             fontweight='bold')\n",
    "\n",
    "plt.xticks(fontsize=12, \n",
    "           rotation=45)\n",
    "\n",
    "plt.show()"
   ]
  },
  {
   "cell_type": "markdown",
   "id": "daac9162-4a01-4869-a611-5013a47d0588",
   "metadata": {},
   "source": [
    "The `HouseAge` has confirmed to have that strange spike at the end. It is necessary to create interval of classes for this feature."
   ]
  },
  {
   "cell_type": "markdown",
   "id": "9f8135a8-c20d-4eee-b9ae-9d577aeb49dd",
   "metadata": {},
   "source": [
    "## Train Features Pairplot"
   ]
  },
  {
   "cell_type": "code",
   "execution_count": null,
   "id": "85f88a5d-0407-4cfe-a78f-87ed55ec04df",
   "metadata": {
    "tags": []
   },
   "outputs": [],
   "source": [
    "# Plot the Pairplot between the features\n",
    "sns.pairplot(train_data.drop(columns=['id', 'MedHouseVal']),\n",
    "             kind=\"reg\",\n",
    "             diag_kind='kde',\n",
    "             plot_kws={'line_kws':{'color':'red'}},\n",
    "             corner=True)\n",
    "\n",
    "# Set title plot\n",
    "plt.suptitle('Train Feature Pairplot', \n",
    "             fontsize=20, \n",
    "             fontweight='bold')\n",
    "\n",
    "plt.tight_layout()\n",
    "\n",
    "plt.show()"
   ]
  },
  {
   "cell_type": "markdown",
   "id": "d1a8a3b9-759f-4b74-94e0-96e0b6f0ff33",
   "metadata": {},
   "source": [
    "Positive correlations:\n",
    "- `AveRooms` and `MedInc`\n",
    "- `AveBedrms` and `AveRooms`"
   ]
  },
  {
   "cell_type": "markdown",
   "id": "bac06d78-1a3a-4418-bbd6-9c9a226a406b",
   "metadata": {},
   "source": [
    "## Conclusions"
   ]
  },
  {
   "cell_type": "markdown",
   "id": "f19e71a2-7c19-4e6d-8ec7-27a3be1addfa",
   "metadata": {},
   "source": [
    "- Round the HouseAge to 3 classes\n",
    "- Create a feature `AveRooms per MedInc`\n",
    "- Create a feature `HotArea`\n",
    "- Create a feature `AveBedrms per AveRooms`"
   ]
  },
  {
   "cell_type": "markdown",
   "id": "22287f1d-a0e4-460e-b213-470187b6ef47",
   "metadata": {},
   "source": [
    "# Data Preparation"
   ]
  },
  {
   "cell_type": "markdown",
   "id": "48ed7b26-a62e-4c82-b1bd-1bdcb1233ebc",
   "metadata": {},
   "source": [
    "## Feature Engineering"
   ]
  },
  {
   "cell_type": "code",
   "execution_count": null,
   "id": "04a031c8-a5f6-4e8e-81cc-43a0867d1bcd",
   "metadata": {},
   "outputs": [],
   "source": [
    "def compute_engineered_features(data: pd.DataFrame) -> pd.DataFrame:\n",
    "    \n",
    "    \"\"\"\n",
    "    Create a pre-defined set of engineered feature to the input DataFrame\n",
    "    \n",
    "    Args:\n",
    "        data Pandas.DataFrame input\n",
    "    \n",
    "    Returns:\n",
    "        data Pandas.DataFrame with additional engineered features\n",
    "    \"\"\"\n",
    "    \n",
    "    # Define the conditions for the `HouseAgeClass` categories\n",
    "    house_age_class_conditions = {\n",
    "        1: data['HouseAge'] <= 17,\n",
    "        2: (data['HouseAge'] > 17) &  (data['HouseAge'] < 52),\n",
    "        3: data['HouseAge'] == 52\n",
    "    }\n",
    "\n",
    "    # Define a categorical variable called `HouseAgeClass`\n",
    "    data['HouseAgeClass'] = np.select(house_age_class_conditions.values(),\n",
    "                                      house_age_class_conditions.keys())\n",
    "    \n",
    "    \n",
    "    # Create a feature `AveRooms per MedInc`\n",
    "    data['AveRooms per MedInc'] = data['AveRooms'] * data['MedInc']\n",
    "    \n",
    "    # Create a feature `HotArea`\n",
    "    # Define the rectangular areas of interest\n",
    "    hot_areas = [(-123, -121.45, 36.6, 38.6),\n",
    "                 (-119.90, -119.42, 34.25, 34.5),\n",
    "                 (-119.35, -117.55, 33.86, 34.52),\n",
    "                 (-117.29, -117.18, 32.84, 33.01)]\n",
    "\n",
    "    # Check if each point is inside any of the hot areas\n",
    "    is_in_hot_area = False\n",
    "    for area in hot_areas:\n",
    "        is_in_hot_area |= ((data['Longitude'] >= area[0]) &\n",
    "                           (data['Longitude'] <= area[1]) &\n",
    "                           (data['Latitude'] >= area[2]) &\n",
    "                           (data['Latitude'] <= area[3]))\n",
    "        \n",
    "    # Assign a binary value to indicate if a point is in a hot area or not\n",
    "    data['HotArea'] = np.where(is_in_hot_area, 1, 0)\n",
    "\n",
    "    \n",
    "    # Create a feature `AveBedrms per AveRooms`\n",
    "    data['AveBedrms per AveRooms'] = data['AveBedrms'] * data['AveRooms']\n"
   ]
  },
  {
   "cell_type": "code",
   "execution_count": null,
   "id": "139e7fcc-243d-4c61-999f-3796a2219374",
   "metadata": {
    "tags": []
   },
   "outputs": [],
   "source": [
    "# Apply the feature engineering\n",
    "compute_engineered_features(train_data)\n",
    "compute_engineered_features(test_data)"
   ]
  },
  {
   "cell_type": "markdown",
   "id": "0725f20c-29fb-49a7-aafd-fb0fa206b512",
   "metadata": {},
   "source": [
    "## Features and Labels Definition"
   ]
  },
  {
   "cell_type": "code",
   "execution_count": null,
   "id": "27518946-618b-4a63-bda8-99c17fec82ca",
   "metadata": {
    "tags": []
   },
   "outputs": [],
   "source": [
    "# Define features and labels\n",
    "numerical_features = train_data.columns[1:9].tolist()\n",
    "\n",
    "numerical_engineered_featuers = ['AveRooms per MedInc', \n",
    "                                 'AveBedrms per AveRooms']\n",
    "\n",
    "categorical_features = []\n",
    "\n",
    "categorical_engineered_features = ['HouseAgeClass', \n",
    "                                   'HotArea']\n",
    "\n",
    "features = numerical_features + numerical_engineered_featuers + categorical_features + categorical_engineered_features\n",
    "\n",
    "labels = ['MedHouseVal']"
   ]
  },
  {
   "cell_type": "markdown",
   "id": "e8d5a0b6-b713-49c4-a2e0-267b99eda799",
   "metadata": {},
   "source": [
    "## Numerical Features Preprocessing Pipeline"
   ]
  },
  {
   "cell_type": "code",
   "execution_count": null,
   "id": "c74eae0c-3060-45e4-9fd4-82f7b0292753",
   "metadata": {
    "tags": []
   },
   "outputs": [],
   "source": [
    "# Numerical features pipeline\n",
    "numerical_features_pipeline = Pipeline(steps=[\n",
    "    ('numerical_scaler', StandardScaler())\n",
    "])"
   ]
  },
  {
   "cell_type": "markdown",
   "id": "755e9bf7-b4c3-4c8e-9f91-5c6a94a6b64d",
   "metadata": {},
   "source": [
    "## Bundle Data Preprocessing Steps"
   ]
  },
  {
   "cell_type": "code",
   "execution_count": null,
   "id": "8dbfcef8-9361-4bfa-a089-37ce0c43e182",
   "metadata": {
    "tags": []
   },
   "outputs": [],
   "source": [
    "# Bunlde data preprocessing steps\n",
    "data_preprocessor = ColumnTransformer(\n",
    "    transformers=[\n",
    "        ('numerical_preprocessing', \n",
    "         numerical_features_pipeline, \n",
    "         numerical_features + numerical_engineered_featuers),\n",
    "        ('categorical_preprocessing', \n",
    "         'passthrough', \n",
    "         categorical_engineered_features)\n",
    "    ])"
   ]
  },
  {
   "cell_type": "markdown",
   "id": "783ab190-5fe3-4f7d-b146-507a96ec92d2",
   "metadata": {},
   "source": [
    "# Train & Test Split"
   ]
  },
  {
   "cell_type": "code",
   "execution_count": null,
   "id": "30c5c19f-caa9-4a08-9bba-491ec982dad4",
   "metadata": {
    "tags": []
   },
   "outputs": [],
   "source": [
    "# Define X and y for the training set\n",
    "X = train_data[numerical_features + numerical_engineered_featuers + categorical_engineered_features]\n",
    "y = train_data[labels]"
   ]
  },
  {
   "cell_type": "code",
   "execution_count": null,
   "id": "d46d4dab-56cc-4c5a-81f6-f4d26f810860",
   "metadata": {
    "tags": []
   },
   "outputs": [],
   "source": [
    "# Split training data into train and validation\n",
    "X_train, X_test, y_train, y_test = train_test_split(X, y, test_size=0.33, random_state=42)"
   ]
  },
  {
   "cell_type": "markdown",
   "id": "520c9925-98d5-43b6-ba44-00218e0ede7c",
   "metadata": {},
   "source": [
    "# Model Training"
   ]
  },
  {
   "cell_type": "code",
   "execution_count": null,
   "id": "697e4396-d74a-4cef-978e-ccc893aa73ad",
   "metadata": {
    "tags": []
   },
   "outputs": [],
   "source": [
    "# Set MLflow Experiment\n",
    "mlflow_experiment_name = 'California Housing Price'\n",
    "\n",
    "# Create experiment or retrieve already existing experiment\n",
    "try:\n",
    "    mlflow_experiment_id = mlflow.create_experiment(name=mlflow_experiment_name)\n",
    "except Exception as e:\n",
    "    mlflow_experiment_id = mlflow.get_experiment_by_name(mlflow_experiment_name).experiment_id"
   ]
  },
  {
   "cell_type": "code",
   "execution_count": null,
   "id": "781de82d-9815-4f38-9fcf-c679314eba10",
   "metadata": {
    "tags": []
   },
   "outputs": [],
   "source": [
    "# Define the used metrics\n",
    "metrics = ['RMSE']"
   ]
  },
  {
   "cell_type": "code",
   "execution_count": null,
   "id": "4d95b069-4521-4f05-8775-7115187102b5",
   "metadata": {
    "tags": []
   },
   "outputs": [],
   "source": [
    "# Initialize DataFrame of model performance\n",
    "performance = pd.DataFrame(columns=metrics)"
   ]
  },
  {
   "cell_type": "markdown",
   "id": "ec39b225-9254-483c-b29a-355e71704ecd",
   "metadata": {},
   "source": [
    "## Linear Regression"
   ]
  },
  {
   "cell_type": "code",
   "execution_count": null,
   "id": "5a083baf-e1b1-48f9-926d-796f5274225d",
   "metadata": {
    "tags": []
   },
   "outputs": [],
   "source": [
    "type(numerical_features + numerical_engineered_featuers + categorical_engineered_features)"
   ]
  },
  {
   "cell_type": "code",
   "execution_count": null,
   "id": "a0bb52a8-59e7-494d-839f-6ef21c791a91",
   "metadata": {
    "tags": []
   },
   "outputs": [],
   "source": [
    "%%time\n",
    "\n",
    "# Start MLflow Run\n",
    "with mlflow.start_run(experiment_id=mlflow_experiment_id, \n",
    "                      run_name='Linear Regression'):\n",
    "    # Define the model\n",
    "    model_lr = LinearRegression()\n",
    "\n",
    "    # Define the pipeline\n",
    "    pipe_lr = Pipeline([\n",
    "        ('data_preprocessing', data_preprocessor),\n",
    "        ('linear_regression', model_lr)\n",
    "    ])\n",
    "\n",
    "    # Train the pipeline\n",
    "    pipe_lr.fit(X_train, \n",
    "                y_train)\n",
    "\n",
    "    # Get predictions\n",
    "    predictions_lr = pipe_lr.predict(X_test)\n",
    "\n",
    "    # Compute metrics\n",
    "    rmse_lr = round(mean_squared_error(y_test,\n",
    "                                       predictions_lr), 2)\n",
    "\n",
    "    print('RMSE: {}'.format(rmse_lr))\n",
    "    print('\\n')\n",
    "    \n",
    "    # Log model's evaluation metrics\n",
    "    mlflow.log_metrics({'RMSE': rmse_lr})\n",
    "    \n",
    "    # Log model's features\n",
    "    mlflow.log_params({'Features': X_train.columns})"
   ]
  },
  {
   "cell_type": "code",
   "execution_count": null,
   "id": "5fe68b50-dafd-4aa7-ba5f-41e96d02545a",
   "metadata": {
    "tags": []
   },
   "outputs": [],
   "source": [
    "# Update 'performance' DataFrame\n",
    "performance.loc['Logistic Regression'] = [rmse_lr]"
   ]
  },
  {
   "cell_type": "markdown",
   "id": "fc47c3bd-eb0e-4c21-861b-6a41d5afd1ac",
   "metadata": {},
   "source": [
    "## Linear Regression - Cross-Validation"
   ]
  },
  {
   "cell_type": "code",
   "execution_count": null,
   "id": "b7dc1a19-a3e1-4d84-b35c-eedf83807037",
   "metadata": {
    "tags": []
   },
   "outputs": [],
   "source": [
    "# Define the Cross-Validation Iterators\n",
    "kfold = KFold(n_splits=4)\n",
    "repeated_kfold = RepeatedKFold(n_splits=4, n_repeats=2, random_state=42)"
   ]
  },
  {
   "cell_type": "code",
   "execution_count": null,
   "id": "844050a1-271e-4665-a0f1-9a191cb4af9a",
   "metadata": {
    "tags": []
   },
   "outputs": [],
   "source": [
    "def train_with_stratified_kfold(estimator, X, y, cv):\n",
    "    \"\"\"\n",
    "    Train an Estimator through a Stratified K-Fold Cross-Validation approach and return evaluation metrics\n",
    "    \n",
    "        Paramarameters:\n",
    "            estimator: sklearn.linear_model estimator to optimise\n",
    "            X: Pandas DataFrame of data\n",
    "            y: Pandas DataFrame of labels\n",
    "            cv: sklearn.model_selection splitter instance\n",
    "            \n",
    "        Returns:\n",
    "            rmse: Float RMSE\n",
    "    \"\"\"\n",
    "    \n",
    "    # Initialise empty lists for metrics\n",
    "    rmse_list = []\n",
    "    \n",
    "    # Fetch the folds\n",
    "    for fold, (train_index, validation_index) in enumerate(cv.split(X, y)):\n",
    "        \n",
    "        # Split the data\n",
    "        X_train = X.loc[train_index]\n",
    "        X_validation = X.loc[validation_index]\n",
    "        y_train = y.loc[train_index]\n",
    "        y_validation = y.loc[validation_index]\n",
    "        \n",
    "        # Fit the estimator\n",
    "        estimator.fit(X_train, y_train)\n",
    "        \n",
    "        # Get predictions\n",
    "        predictions = estimator.predict(X_validation)\n",
    "        \n",
    "        # Compute metrics\n",
    "        rmse_fold = round(mean_squared_error(y_validation, predictions), 2)\n",
    "        \n",
    "        print('---- Fold {} ----'.format(fold))\n",
    "        print('RMSE: {}'.format(rmse_fold))\n",
    "        print('\\n')\n",
    "        \n",
    "        # Append mentrics to the corresponding list\n",
    "        rmse_list.append(rmse_fold)\n",
    "        \n",
    "    # Compute metrics average\n",
    "    rmse = round(np.mean(rmse_list), 2)\n",
    "        \n",
    "    return rmse"
   ]
  },
  {
   "cell_type": "markdown",
   "id": "c7c68ac9-3bc7-4782-a389-362418937f0c",
   "metadata": {},
   "source": [
    "### K-Fold"
   ]
  },
  {
   "cell_type": "code",
   "execution_count": null,
   "id": "d90b0e8e-0cc8-4213-815c-4a577fd5d925",
   "metadata": {
    "tags": []
   },
   "outputs": [],
   "source": [
    "%%time\n",
    "\n",
    "# Start MLflow Run\n",
    "with mlflow.start_run(experiment_id=mlflow_experiment_id, \n",
    "                      run_name='Linear Regression K-Fold'):\n",
    "\n",
    "    # Define the model\n",
    "    model_lr_kfold = LinearRegression()\n",
    "\n",
    "    # Define the pipeline\n",
    "    pipe_lr_kfold = Pipeline([\n",
    "        ('data_preprocessing', data_preprocessor),\n",
    "        ('linear_regression', model_lr_kfold)\n",
    "    ])\n",
    "\n",
    "    # Train the pipeline with K-Fold\n",
    "    rmse_lr_kfold = train_with_stratified_kfold(pipe_lr_kfold, X, y, kfold)\n",
    "\n",
    "    print('RMSE: {}'.format(rmse_lr_kfold))\n",
    "    print('\\n')\n",
    "    \n",
    "    # Log model's evaluation metrics\n",
    "    mlflow.log_metrics({'RMSE': rmse_lr_kfold})\n",
    "\n",
    "    # Update 'performance' DataFrame\n",
    "    performance.loc['Logistic Regression - K-Fold'] = [rmse_lr_kfold]"
   ]
  },
  {
   "cell_type": "markdown",
   "id": "040e785f-39ed-4998-8609-cde564c4388c",
   "metadata": {},
   "source": [
    "### Repeated K-Fold"
   ]
  },
  {
   "cell_type": "code",
   "execution_count": null,
   "id": "c9596676-9d3f-4c10-ba44-ff9e98e91c5a",
   "metadata": {
    "tags": []
   },
   "outputs": [],
   "source": [
    "%%time\n",
    "\n",
    "# Start MLflow Run\n",
    "with mlflow.start_run(experiment_id=mlflow_experiment_id, \n",
    "                      run_name='Linear Regression Repeated K-Fold'):\n",
    "\n",
    "    # Define the model\n",
    "    model_lr_rkfold = LinearRegression()\n",
    "\n",
    "    # Define the pipeline\n",
    "    pipe_lr_rkfold = Pipeline([\n",
    "        ('data_preprocessing', data_preprocessor),\n",
    "        ('linear_regression', model_lr_rkfold)\n",
    "    ])\n",
    "\n",
    "    # Train the pipeline with K-Fold\n",
    "    rmse_lr_rkfold = train_with_stratified_kfold(pipe_lr_rkfold, X, y, repeated_kfold)\n",
    "\n",
    "    print('RMSE: {}'.format(rmse_lr_rkfold))\n",
    "    print('\\n')\n",
    "    \n",
    "    # Log model's evaluation metrics\n",
    "    mlflow.log_metrics({'RMSE': rmse_lr_rkfold})\n",
    "\n",
    "    # Update 'performance' DataFrame\n",
    "    performance.loc['Logistic Regression - Repeated K-Fold'] = [rmse_lr_rkfold]"
   ]
  },
  {
   "cell_type": "markdown",
   "id": "25b90e7b-7df7-4ad3-8800-11919b644fef",
   "metadata": {},
   "source": [
    "## XGBoost"
   ]
  },
  {
   "cell_type": "code",
   "execution_count": null,
   "id": "c3b91dc0-e5b4-467b-bb02-76eec8414acb",
   "metadata": {
    "tags": []
   },
   "outputs": [],
   "source": [
    "# XGBoost Hyperparameters\n",
    "hyperparameter_xgb = {\n",
    "    'n_estimators': 500,\n",
    "    'max_depth': 5,\n",
    "    'learning_rate': 0.01\n",
    "}"
   ]
  },
  {
   "cell_type": "code",
   "execution_count": null,
   "id": "e09f9c0a-1fcd-4587-8f1b-ac0a75798f32",
   "metadata": {
    "tags": []
   },
   "outputs": [],
   "source": [
    "%%time\n",
    "\n",
    "# Start MLflow Run\n",
    "with mlflow.start_run(experiment_id=mlflow_experiment_id, \n",
    "                      run_name='XGBoost'):\n",
    "\n",
    "    # Define the model\n",
    "    model_xgb = XGBRegressor(**hyperparameter_xgb)\n",
    "\n",
    "    # Define the pipeline\n",
    "    pipe_xgb = Pipeline([\n",
    "        ('data_preprocessing', data_preprocessor),\n",
    "        ('xgboost', model_xgb)\n",
    "    ])\n",
    "\n",
    "    # Train the pipeline\n",
    "    pipe_xgb.fit(X_train,\n",
    "                 y_train,\n",
    "                 xgboost__verbose=False)\n",
    "\n",
    "    # Get predictions\n",
    "    predictions_xgb = pipe_xgb.predict(X_test)\n",
    "\n",
    "    # Compute metrics\n",
    "    rmse_xgb = round(mean_squared_error(y_test, predictions_xgb), 2)\n",
    "    \n",
    "    # Log model's evaluation metrics\n",
    "    mlflow.log_metrics({'RMSE': rmse_xgb})\n",
    "\n",
    "    print('RMSE: {}'.format(rmse_xgb))\n",
    "    print('\\n')"
   ]
  },
  {
   "cell_type": "code",
   "execution_count": null,
   "id": "15a4f496-cbdd-4d4f-bd6e-a4b5b0b91cc7",
   "metadata": {
    "tags": []
   },
   "outputs": [],
   "source": [
    "# Update 'performance' DataFrame\n",
    "performance.loc['XGBoost'] = [rmse_xgb]"
   ]
  },
  {
   "cell_type": "markdown",
   "id": "40919601-a143-4f86-9a15-6ff1e13d2338",
   "metadata": {},
   "source": [
    "## LightGBM"
   ]
  },
  {
   "cell_type": "code",
   "execution_count": null,
   "id": "461af2d2-6fd8-42ed-b9b4-8b30e52a0af5",
   "metadata": {
    "tags": []
   },
   "outputs": [],
   "source": [
    "# LightGBM hyperparameters\n",
    "hyperparameters_lgb = {\n",
    "    'boosting_type': 'gbdt',\n",
    "    'objective': 'regression',\n",
    "    'metric': 'rmse',\n",
    "    'force_row_wise': True,\n",
    "    'n_estimators': 1000,\n",
    "    'verbose': 0\n",
    "}"
   ]
  },
  {
   "cell_type": "code",
   "execution_count": null,
   "id": "f5f310cb-5682-4b6e-a45a-9934e3a688e2",
   "metadata": {
    "tags": []
   },
   "outputs": [],
   "source": [
    "%%time\n",
    "\n",
    "# Start MLflow Run\n",
    "with mlflow.start_run(experiment_id=mlflow_experiment_id, \n",
    "                      run_name='LightGBM'):\n",
    "\n",
    "    # Define the model\n",
    "    model_lgb = lgb.LGBMRegressor(**hyperparameters_lgb)\n",
    "\n",
    "    # Define the pipeline\n",
    "    pipe_lgb = Pipeline([\n",
    "        ('data_preprocessing', data_preprocessor),\n",
    "        ('lightgbm', model_lgb)\n",
    "    ])\n",
    "\n",
    "    # Train the pipeline\n",
    "    pipe_lgb.fit(X_train, \n",
    "                 np.ravel(y_train))\n",
    "\n",
    "    # Get predictions\n",
    "    predictions_lgb = pipe_lgb.predict(X_test)\n",
    "\n",
    "    # Compute metrics\n",
    "    rmse_lgb = round(mean_squared_error(y_test, predictions_lgb), 2)\n",
    "    \n",
    "    # Log model's evaluation metrics\n",
    "    mlflow.log_metrics({'RMSE': rmse_lgb})\n",
    "\n",
    "    print('RMSE: {}'.format(rmse_lgb))\n",
    "    print('\\n')"
   ]
  },
  {
   "cell_type": "code",
   "execution_count": null,
   "id": "19cb66f1-e2ab-4c7e-9362-6af23b5a64e9",
   "metadata": {
    "tags": []
   },
   "outputs": [],
   "source": [
    "# Update 'performance' DataFrame\n",
    "performance.loc['LightGBM'] = [rmse_lgb]"
   ]
  },
  {
   "cell_type": "markdown",
   "id": "7052dc9e-68ec-486b-93e8-81314b6249bf",
   "metadata": {},
   "source": [
    "# Models Comparison"
   ]
  },
  {
   "cell_type": "code",
   "execution_count": null,
   "id": "85a8ce06-2e3e-4a08-b32a-01bf92f17ab2",
   "metadata": {
    "tags": []
   },
   "outputs": [],
   "source": [
    "# Sort dataframe by the metric\n",
    "performance.sort_values('RMSE', inplace=True)\n",
    "\n",
    "# Plot models' metrics\n",
    "ax = sns.barplot(data=performance, \n",
    "                 x=performance.index.tolist(), \n",
    "                 y='RMSE')\n",
    "\n",
    "# Set title\n",
    "ax.set_title('Models Comparison', \n",
    "             fontsize=20, \n",
    "             fontweight='bold')\n",
    "\n",
    "plt.xticks(rotation=45)\n",
    "\n",
    "plt.show()"
   ]
  },
  {
   "cell_type": "markdown",
   "id": "545e4b91-ad4d-42ab-8505-f1a2109a4e59",
   "metadata": {},
   "source": [
    "# Model Explanability"
   ]
  },
  {
   "cell_type": "code",
   "execution_count": null,
   "id": "408edf44-3f10-41ac-85d8-6b1d5cfde3d0",
   "metadata": {
    "tags": []
   },
   "outputs": [],
   "source": [
    "# Compute the feature importance\n",
    "feature_importance = sorted(list(zip(pipe_lgb.feature_names_in_,\n",
    "                                     pipe_lgb['lightgbm'].feature_importances_)),\n",
    "                            key=lambda x: x[1], reverse=True)\n",
    "\n",
    "# Transform it into a DataFrame\n",
    "feature_importance_df = pd.DataFrame(feature_importance,\n",
    "                                     columns= ['Feature', 'Importance'])"
   ]
  },
  {
   "cell_type": "code",
   "execution_count": null,
   "id": "5683170b-ab81-4b0f-94aa-3600e22666a6",
   "metadata": {
    "tags": []
   },
   "outputs": [],
   "source": [
    "# Plot the feature importance\n",
    "ax = sns.barplot(data=feature_importance_df, \n",
    "                 x='Feature', \n",
    "                 y='Importance')\n",
    "\n",
    "# Set title\n",
    "ax.set_title('Feature Importance', \n",
    "             fontsize=20, \n",
    "             fontweight='bold')\n",
    "\n",
    "plt.xticks(fontsize=8, \n",
    "           rotation=45)\n",
    "\n",
    "plt.show()"
   ]
  }
 ],
 "metadata": {
  "kernelspec": {
   "display_name": "Python 3 (ipykernel)",
   "language": "python",
   "name": "python3"
  },
  "language_info": {
   "codemirror_mode": {
    "name": "ipython",
    "version": 3
   },
   "file_extension": ".py",
   "mimetype": "text/x-python",
   "name": "python",
   "nbconvert_exporter": "python",
   "pygments_lexer": "ipython3",
   "version": "3.10.5"
  }
 },
 "nbformat": 4,
 "nbformat_minor": 5
}
