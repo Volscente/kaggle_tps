{
 "cells": [
  {
   "cell_type": "markdown",
   "id": "2e88ae02",
   "metadata": {
    "papermill": {
     "duration": 0.017876,
     "end_time": "2023-04-13T15:21:33.285038",
     "exception": false,
     "start_time": "2023-04-13T15:21:33.267162",
     "status": "completed"
    },
    "tags": []
   },
   "source": [
    "# California Housing Challenge\n",
    "\n",
    "The notebook is intended to predict the average house value upon the provided house features."
   ]
  },
  {
   "cell_type": "code",
   "execution_count": null,
   "id": "10dd7791",
   "metadata": {
    "papermill": {
     "duration": 16.883056,
     "end_time": "2023-04-13T15:21:50.184440",
     "exception": false,
     "start_time": "2023-04-13T15:21:33.301384",
     "status": "completed"
    },
    "tags": []
   },
   "outputs": [],
   "source": [
    "!pip install mlflow"
   ]
  },
  {
   "cell_type": "code",
   "execution_count": null,
   "id": "2fc69c05",
   "metadata": {
    "papermill": {
     "duration": 4.304806,
     "end_time": "2023-04-13T15:21:54.509648",
     "exception": false,
     "start_time": "2023-04-13T15:21:50.204842",
     "status": "completed"
    },
    "tags": []
   },
   "outputs": [],
   "source": [
    "# Import Standard Libraries\n",
    "import pandas as pd\n",
    "import numpy as np\n",
    "import pprint\n",
    "\n",
    "from scipy.stats import zscore\n",
    "\n",
    "import matplotlib.pyplot as plt\n",
    "import seaborn as sns\n",
    "import plotly.express as px\n",
    "\n",
    "import mlflow\n",
    "\n",
    "from sklearn.pipeline import Pipeline\n",
    "from sklearn.impute import SimpleImputer\n",
    "from sklearn.preprocessing import StandardScaler, OrdinalEncoder\n",
    "from sklearn.compose import ColumnTransformer\n",
    "from sklearn.model_selection import train_test_split, KFold, RepeatedKFold, GridSearchCV\n",
    "from sklearn.linear_model import LinearRegression\n",
    "from sklearn.metrics import mean_squared_error\n",
    "\n",
    "from xgboost import XGBRegressor\n",
    "\n",
    "import lightgbm as lgb"
   ]
  },
  {
   "cell_type": "code",
   "execution_count": null,
   "id": "c37f1b05",
   "metadata": {
    "papermill": {
     "duration": 0.030487,
     "end_time": "2023-04-13T15:21:54.558909",
     "exception": false,
     "start_time": "2023-04-13T15:21:54.528422",
     "status": "completed"
    },
    "tags": []
   },
   "outputs": [],
   "source": [
    "# Define Seaborn theme parameters\n",
    "theme_parameters =  {\n",
    "    'axes.spines.right': False,\n",
    "    'axes.spines.top': False,\n",
    "    'grid.alpha':0.3,\n",
    "    'figure.figsize': (16, 6),\n",
    "    'font.family': 'Andale Mono',\n",
    "    'axes.titlesize': 24,\n",
    "    'figure.facecolor': '#E5E8E8',\n",
    "    'axes.facecolor': '#E5E8E8'\n",
    "}\n",
    "\n",
    "# Set the theme\n",
    "sns.set_theme(style='whitegrid',\n",
    "              palette=sns.color_palette('deep'), \n",
    "              rc=theme_parameters)"
   ]
  },
  {
   "cell_type": "markdown",
   "id": "b9ceacdd",
   "metadata": {
    "papermill": {
     "duration": 0.018262,
     "end_time": "2023-04-13T15:21:54.596091",
     "exception": false,
     "start_time": "2023-04-13T15:21:54.577829",
     "status": "completed"
    },
    "tags": []
   },
   "source": [
    "# Read Data"
   ]
  },
  {
   "cell_type": "code",
   "execution_count": null,
   "id": "6480b6e1",
   "metadata": {
    "papermill": {
     "duration": 0.027405,
     "end_time": "2023-04-13T15:21:54.641997",
     "exception": false,
     "start_time": "2023-04-13T15:21:54.614592",
     "status": "completed"
    },
    "tags": []
   },
   "outputs": [],
   "source": [
    "# Switch flag for Kaggle Cloud\n",
    "kaggle = True"
   ]
  },
  {
   "cell_type": "code",
   "execution_count": null,
   "id": "cbfc1cab",
   "metadata": {
    "papermill": {
     "duration": 0.247258,
     "end_time": "2023-04-13T15:21:54.907815",
     "exception": false,
     "start_time": "2023-04-13T15:21:54.660557",
     "status": "completed"
    },
    "tags": []
   },
   "outputs": [],
   "source": [
    "# Read training data\n",
    "if kaggle:\n",
    "    train_data = pd.read_csv('/kaggle/input/playground-series-s3e1/train.csv')\n",
    "    test_data = pd.read_csv('/kaggle/input/playground-series-s3e1/test.csv')\n",
    "else:\n",
    "    train_data = pd.read_csv('./../../data/S3E1/california_housing_train.csv')\n",
    "    test_data = pd.read_csv('./../../data/S3E1/california_housing_test.csv')"
   ]
  },
  {
   "cell_type": "code",
   "execution_count": null,
   "id": "8c81df86",
   "metadata": {
    "papermill": {
     "duration": 0.058519,
     "end_time": "2023-04-13T15:21:54.988475",
     "exception": false,
     "start_time": "2023-04-13T15:21:54.929956",
     "status": "completed"
    },
    "tags": []
   },
   "outputs": [],
   "source": [
    "train_data.head()"
   ]
  },
  {
   "cell_type": "code",
   "execution_count": null,
   "id": "27cf8313",
   "metadata": {
    "papermill": {
     "duration": 0.048882,
     "end_time": "2023-04-13T15:21:55.056185",
     "exception": false,
     "start_time": "2023-04-13T15:21:55.007303",
     "status": "completed"
    },
    "tags": []
   },
   "outputs": [],
   "source": [
    "train_data.info()"
   ]
  },
  {
   "cell_type": "markdown",
   "id": "2677c007",
   "metadata": {
    "papermill": {
     "duration": 0.018624,
     "end_time": "2023-04-13T15:21:55.093918",
     "exception": false,
     "start_time": "2023-04-13T15:21:55.075294",
     "status": "completed"
    },
    "tags": []
   },
   "source": [
    "# Exploratory Data Analysis (EDA)"
   ]
  },
  {
   "cell_type": "markdown",
   "id": "f32d71a9",
   "metadata": {
    "papermill": {
     "duration": 0.019365,
     "end_time": "2023-04-13T15:21:55.132670",
     "exception": false,
     "start_time": "2023-04-13T15:21:55.113305",
     "status": "completed"
    },
    "tags": []
   },
   "source": [
    "## Train Features & Label Distribution"
   ]
  },
  {
   "cell_type": "code",
   "execution_count": null,
   "id": "0735bf8f",
   "metadata": {
    "papermill": {
     "duration": 30.814718,
     "end_time": "2023-04-13T15:22:25.966850",
     "exception": false,
     "start_time": "2023-04-13T15:21:55.152132",
     "status": "completed"
    },
    "tags": []
   },
   "outputs": [],
   "source": [
    "# Plot the histograms of each feature\n",
    "figure, ax = plt.subplots(3, 3, figsize=(16, 9))\n",
    "ax = ax.flatten()\n",
    "\n",
    "# Fetch the data to plot (exclude the 'id' column)\n",
    "for index, column_name in enumerate(train_data.columns[1:]):\n",
    "\n",
    "    # Plot data\n",
    "    sns.histplot(data=train_data[column_name], \n",
    "                 ax=ax[index])\n",
    "\n",
    "    ax[index].set_title(column_name, \n",
    "                        fontsize=14, \n",
    "                        fontweight='bold')\n",
    "\n",
    "    ax[index].tick_params(labelrotation=45)\n",
    "\n",
    "plt.suptitle('Feature & Label Distrubtion', \n",
    "             fontweight='bold',\n",
    "             fontsize=30)\n",
    "\n",
    "plt.tight_layout()"
   ]
  },
  {
   "cell_type": "markdown",
   "id": "1b1556c0",
   "metadata": {
    "papermill": {
     "duration": 0.021202,
     "end_time": "2023-04-13T15:22:26.009699",
     "exception": false,
     "start_time": "2023-04-13T15:22:25.988497",
     "status": "completed"
    },
    "tags": []
   },
   "source": [
    "### Average Occupancy Distribution"
   ]
  },
  {
   "cell_type": "code",
   "execution_count": null,
   "id": "a0ed4246",
   "metadata": {
    "papermill": {
     "duration": 0.336862,
     "end_time": "2023-04-13T15:22:26.368000",
     "exception": false,
     "start_time": "2023-04-13T15:22:26.031138",
     "status": "completed"
    },
    "tags": []
   },
   "outputs": [],
   "source": [
    "# Plot the histogram of 'AveOccup'\n",
    "ax = sns.boxplot(data=train_data, \n",
    "                  x='AveOccup')\n",
    "\n",
    "\n",
    "ax.set_title('Average Occupancy Distribution')\n",
    "\n",
    "plt.tight_layout()\n",
    "\n",
    "plt.show()"
   ]
  },
  {
   "cell_type": "code",
   "execution_count": null,
   "id": "9ae6ca95",
   "metadata": {
    "papermill": {
     "duration": 0.035861,
     "end_time": "2023-04-13T15:22:26.427703",
     "exception": false,
     "start_time": "2023-04-13T15:22:26.391842",
     "status": "completed"
    },
    "tags": []
   },
   "outputs": [],
   "source": [
    "# Drop the outlier\n",
    "train_data = train_data[train_data['AveOccup'] < 100].reset_index(drop=True)"
   ]
  },
  {
   "cell_type": "markdown",
   "id": "1930195a",
   "metadata": {
    "papermill": {
     "duration": 0.022017,
     "end_time": "2023-04-13T15:22:26.471719",
     "exception": false,
     "start_time": "2023-04-13T15:22:26.449702",
     "status": "completed"
    },
    "tags": []
   },
   "source": [
    "- `HouseAge` has some strange peaks. Probably some rounding operations\n",
    "- `AveOccup` has a huge outlier. It has been dropped for EDA sake.\n",
    "- `MedHouseVal` has a strange peak at the end. Probably a cap"
   ]
  },
  {
   "cell_type": "markdown",
   "id": "c9dfaea2",
   "metadata": {
    "papermill": {
     "duration": 0.021471,
     "end_time": "2023-04-13T15:22:26.515080",
     "exception": false,
     "start_time": "2023-04-13T15:22:26.493609",
     "status": "completed"
    },
    "tags": []
   },
   "source": [
    "## Pearson Correlation"
   ]
  },
  {
   "cell_type": "code",
   "execution_count": null,
   "id": "2b85d00a",
   "metadata": {
    "papermill": {
     "duration": 0.626457,
     "end_time": "2023-04-13T15:22:27.163864",
     "exception": false,
     "start_time": "2023-04-13T15:22:26.537407",
     "status": "completed"
    },
    "tags": []
   },
   "outputs": [],
   "source": [
    "# Compute the correlation matrix\n",
    "correlation_matrix = train_data.iloc[:, 1:].corr()\n",
    "\n",
    "# Generate a mask for the upper triangle\n",
    "correlation_mask = np.triu(np.ones_like(correlation_matrix, dtype=bool))\n",
    "\n",
    "# Define figure and axis\n",
    "figure, ax = plt.subplots(figsize=(12, 8))\n",
    "\n",
    "# Plot the correlation matrix\n",
    "sns.heatmap(correlation_matrix, \n",
    "            mask=correlation_mask, \n",
    "            cmap='mako',\n",
    "            vmax=1.0, \n",
    "            vmin=-1.0, \n",
    "            center=0, \n",
    "            square=True, \n",
    "            linewidths=.5, \n",
    "            annot=True,\n",
    "            annot_kws={'fontsize': 8},\n",
    "            cbar_kws={\"shrink\":.8, 'orientation':'vertical'})\n",
    "\n",
    "# Set title\n",
    "ax.set_title('Pearson Correlation', \n",
    "             fontsize=20, \n",
    "             fontweight='bold')\n",
    "\n",
    "plt.tight_layout()\n",
    "\n",
    "plt.show()"
   ]
  },
  {
   "cell_type": "markdown",
   "id": "42ec745d",
   "metadata": {
    "papermill": {
     "duration": 0.025138,
     "end_time": "2023-04-13T15:22:27.213591",
     "exception": false,
     "start_time": "2023-04-13T15:22:27.188453",
     "status": "completed"
    },
    "tags": []
   },
   "source": [
    "Positive correlation between:\n",
    "- `AveRooms` and `MedInc`"
   ]
  },
  {
   "cell_type": "markdown",
   "id": "80d9da79",
   "metadata": {
    "papermill": {
     "duration": 0.023772,
     "end_time": "2023-04-13T15:22:27.262394",
     "exception": false,
     "start_time": "2023-04-13T15:22:27.238622",
     "status": "completed"
    },
    "tags": []
   },
   "source": [
    "## Train Data Geography"
   ]
  },
  {
   "cell_type": "code",
   "execution_count": null,
   "id": "d22ee951",
   "metadata": {
    "papermill": {
     "duration": 1.723437,
     "end_time": "2023-04-13T15:22:29.009846",
     "exception": false,
     "start_time": "2023-04-13T15:22:27.286409",
     "status": "completed"
    },
    "tags": []
   },
   "outputs": [],
   "source": [
    "# Define dots colors\n",
    "color_scale = [(0, 'orange'), (1,'red')]\n",
    "\n",
    "# Plot the data\n",
    "figure = px.scatter_mapbox(train_data,\n",
    "                           lat=\"Latitude\",\n",
    "                           lon=\"Longitude\",\n",
    "                           hover_name=\"MedHouseVal\",\n",
    "                           hover_data=[\"MedHouseVal\"],\n",
    "                           color=\"MedHouseVal\",\n",
    "                           color_continuous_scale=color_scale,\n",
    "                           size=\"MedHouseVal\",\n",
    "                           zoom=8,\n",
    "                           height=600,\n",
    "                           width=600)\n",
    "\n",
    "figure.update_layout(mapbox_style=\"open-street-map\")\n",
    "figure.update_layout(margin={\"r\":0,\"t\":0,\"l\":0,\"b\":0})\n",
    "figure.show()"
   ]
  },
  {
   "cell_type": "markdown",
   "id": "9219dcf1",
   "metadata": {
    "papermill": {
     "duration": 0.044048,
     "end_time": "2023-04-13T15:22:29.101278",
     "exception": false,
     "start_time": "2023-04-13T15:22:29.057230",
     "status": "completed"
    },
    "tags": []
   },
   "source": [
    "Define an `hot_area`flag for the houses sold in the following squares:\n",
    "- (-123 <= lon <= -121.45) and (36.6 <= lat <= 38.6)\n",
    "- (-119.90 <= lon <= -119.42) and (34.25 <= lat <= 34.5)\n",
    "- (-119.35 <= lon <= -117.55) and (33.36 <= lat <= 34.52)\n",
    "- (-117.29 <= lon <= -117.18) and (32.84 <= lat <= 33.01)"
   ]
  },
  {
   "cell_type": "markdown",
   "id": "92aae48f",
   "metadata": {
    "papermill": {
     "duration": 0.041397,
     "end_time": "2023-04-13T15:22:29.184539",
     "exception": false,
     "start_time": "2023-04-13T15:22:29.143142",
     "status": "completed"
    },
    "tags": []
   },
   "source": [
    "## Train vs Test Feature & Label Distribution"
   ]
  },
  {
   "cell_type": "code",
   "execution_count": null,
   "id": "7a545fb5",
   "metadata": {
    "papermill": {
     "duration": 6.419587,
     "end_time": "2023-04-13T15:22:35.646178",
     "exception": false,
     "start_time": "2023-04-13T15:22:29.226591",
     "status": "completed"
    },
    "tags": []
   },
   "outputs": [],
   "source": [
    "# Plot the KDE of each feature\n",
    "figure, ax = plt.subplots(3, 3, figsize=(16, 12))\n",
    "ax = ax.flatten()\n",
    "\n",
    "# Fetch the data to plot (exclude the 'id' and 'quality' columns)\n",
    "for index, column_name in enumerate(train_data.columns[1:-1]):\n",
    "    \n",
    "    # Plot data\n",
    "    sns.kdeplot(data=train_data[column_name],\n",
    "                label='Train',\n",
    "                ax=ax[index])\n",
    "    \n",
    "    sns.kdeplot(data=test_data[column_name],\n",
    "                label='Test',\n",
    "                ax=ax[index])\n",
    "    \n",
    "    ax[index].set_title(column_name, fontsize=14)\n",
    "    \n",
    "    ax[index].tick_params(labelrotation=45)\n",
    "    \n",
    "    # Retrieve legend information\n",
    "    handles = ax[index].get_legend_handles_labels()[0]\n",
    "    labels = ax[index].get_legend_handles_labels()[1]\n",
    "    ax[index].legend().remove()\n",
    "    \n",
    "# Remove the empty subplot\n",
    "figure.delaxes(ax[-1])\n",
    "\n",
    "# Set the legend\n",
    "figure.legend(handles, \n",
    "              labels, \n",
    "              loc='upper center', \n",
    "              bbox_to_anchor=(0.5, 1.03), \n",
    "              fontsize=12,\n",
    "              ncol=2)\n",
    "\n",
    "plt.tight_layout()"
   ]
  },
  {
   "cell_type": "markdown",
   "id": "e407b636",
   "metadata": {
    "papermill": {
     "duration": 0.045526,
     "end_time": "2023-04-13T15:22:35.740738",
     "exception": false,
     "start_time": "2023-04-13T15:22:35.695212",
     "status": "completed"
    },
    "tags": []
   },
   "source": [
    "No difference in the train and test data distributions."
   ]
  },
  {
   "cell_type": "markdown",
   "id": "3ba0726c",
   "metadata": {
    "papermill": {
     "duration": 0.045177,
     "end_time": "2023-04-13T15:22:35.831385",
     "exception": false,
     "start_time": "2023-04-13T15:22:35.786208",
     "status": "completed"
    },
    "tags": []
   },
   "source": [
    "## Count Outliers with the Z-Score"
   ]
  },
  {
   "cell_type": "code",
   "execution_count": null,
   "id": "cdbc0156",
   "metadata": {
    "papermill": {
     "duration": 0.07233,
     "end_time": "2023-04-13T15:22:35.949114",
     "exception": false,
     "start_time": "2023-04-13T15:22:35.876784",
     "status": "completed"
    },
    "tags": []
   },
   "outputs": [],
   "source": [
    "# Compute the Z-Score for the feature columns across 'quality' classes\n",
    "z_scores = train_data.iloc[:, 1:-1].apply(zscore)"
   ]
  },
  {
   "cell_type": "code",
   "execution_count": null,
   "id": "cc520a10",
   "metadata": {
    "papermill": {
     "duration": 0.059557,
     "end_time": "2023-04-13T15:22:36.054658",
     "exception": false,
     "start_time": "2023-04-13T15:22:35.995101",
     "status": "completed"
    },
    "tags": []
   },
   "outputs": [],
   "source": [
    "# Consider as an 'outlier' every records with a Z-Score bigger than 2 SDs in absolute value terms\n",
    "outliers = z_scores.abs().ge(2).sum().to_frame('Count').sort_values(by='Count')"
   ]
  },
  {
   "cell_type": "code",
   "execution_count": null,
   "id": "2e1f3f08",
   "metadata": {
    "papermill": {
     "duration": 0.389532,
     "end_time": "2023-04-13T15:22:36.489674",
     "exception": false,
     "start_time": "2023-04-13T15:22:36.100142",
     "status": "completed"
    },
    "tags": []
   },
   "outputs": [],
   "source": [
    "# Plot the feature importance\n",
    "ax = sns.barplot(data=outliers, \n",
    "                 x=outliers.index.tolist(), \n",
    "                 y='Count')\n",
    "\n",
    "# Set title\n",
    "ax.set_title('Outlisers Count', \n",
    "             fontsize=20, \n",
    "             fontweight='bold')\n",
    "\n",
    "plt.xticks(fontsize=12, \n",
    "           rotation=45)\n",
    "\n",
    "plt.show()"
   ]
  },
  {
   "cell_type": "markdown",
   "id": "480e6f07",
   "metadata": {
    "papermill": {
     "duration": 0.046027,
     "end_time": "2023-04-13T15:22:36.582313",
     "exception": false,
     "start_time": "2023-04-13T15:22:36.536286",
     "status": "completed"
    },
    "tags": []
   },
   "source": [
    "The `HouseAge` has confirmed to have that strange spike at the end. It is necessary to create interval of classes for this feature."
   ]
  },
  {
   "cell_type": "markdown",
   "id": "0a33ffed",
   "metadata": {
    "papermill": {
     "duration": 0.045889,
     "end_time": "2023-04-13T15:22:36.674565",
     "exception": false,
     "start_time": "2023-04-13T15:22:36.628676",
     "status": "completed"
    },
    "tags": []
   },
   "source": [
    "## Train Features Pairplot"
   ]
  },
  {
   "cell_type": "code",
   "execution_count": null,
   "id": "c6362a32",
   "metadata": {
    "papermill": {
     "duration": 71.026117,
     "end_time": "2023-04-13T15:23:47.746984",
     "exception": false,
     "start_time": "2023-04-13T15:22:36.720867",
     "status": "completed"
    },
    "tags": []
   },
   "outputs": [],
   "source": [
    "# Plot the Pairplot between the features\n",
    "sns.pairplot(train_data.drop(columns=['id', 'MedHouseVal']),\n",
    "             kind=\"reg\",\n",
    "             diag_kind='kde',\n",
    "             plot_kws={'line_kws':{'color':'red'}},\n",
    "             corner=True)\n",
    "\n",
    "# Set title plot\n",
    "plt.suptitle('Train Feature Pairplot', \n",
    "             fontsize=20, \n",
    "             fontweight='bold')\n",
    "\n",
    "plt.tight_layout()\n",
    "\n",
    "plt.show()"
   ]
  },
  {
   "cell_type": "markdown",
   "id": "2f5934a6",
   "metadata": {
    "papermill": {
     "duration": 0.053213,
     "end_time": "2023-04-13T15:23:47.856132",
     "exception": false,
     "start_time": "2023-04-13T15:23:47.802919",
     "status": "completed"
    },
    "tags": []
   },
   "source": [
    "Positive correlations:\n",
    "- `AveRooms` and `MedInc`\n",
    "- `AveBedrms` and `AveRooms`"
   ]
  },
  {
   "cell_type": "markdown",
   "id": "e5aecde2",
   "metadata": {
    "papermill": {
     "duration": 0.053044,
     "end_time": "2023-04-13T15:23:47.962683",
     "exception": false,
     "start_time": "2023-04-13T15:23:47.909639",
     "status": "completed"
    },
    "tags": []
   },
   "source": [
    "## Conclusions"
   ]
  },
  {
   "cell_type": "markdown",
   "id": "1fe1da14",
   "metadata": {
    "papermill": {
     "duration": 0.05316,
     "end_time": "2023-04-13T15:23:48.069279",
     "exception": false,
     "start_time": "2023-04-13T15:23:48.016119",
     "status": "completed"
    },
    "tags": []
   },
   "source": [
    "- Round the HouseAge to 3 classes\n",
    "- Create a feature `AveRooms per MedInc`\n",
    "- Create a feature `HotArea`\n",
    "- Create a feature `AveBedrms per AveRooms`"
   ]
  },
  {
   "cell_type": "markdown",
   "id": "b892f79e",
   "metadata": {
    "papermill": {
     "duration": 0.053214,
     "end_time": "2023-04-13T15:23:48.176045",
     "exception": false,
     "start_time": "2023-04-13T15:23:48.122831",
     "status": "completed"
    },
    "tags": []
   },
   "source": [
    "# Data Preparation"
   ]
  },
  {
   "cell_type": "markdown",
   "id": "dd6f6537",
   "metadata": {
    "papermill": {
     "duration": 0.052981,
     "end_time": "2023-04-13T15:23:48.282555",
     "exception": false,
     "start_time": "2023-04-13T15:23:48.229574",
     "status": "completed"
    },
    "tags": []
   },
   "source": [
    "## Feature Engineering"
   ]
  },
  {
   "cell_type": "code",
   "execution_count": null,
   "id": "a49eb55f",
   "metadata": {
    "papermill": {
     "duration": 0.069087,
     "end_time": "2023-04-13T15:23:48.405421",
     "exception": false,
     "start_time": "2023-04-13T15:23:48.336334",
     "status": "completed"
    },
    "tags": []
   },
   "outputs": [],
   "source": [
    "def compute_engineered_features(data: pd.DataFrame) -> pd.DataFrame:\n",
    "    \n",
    "    \"\"\"\n",
    "    Create a pre-defined set of engineered feature to the input DataFrame\n",
    "    \n",
    "    Args:\n",
    "        data Pandas.DataFrame input\n",
    "    \n",
    "    Returns:\n",
    "        data Pandas.DataFrame with additional engineered features\n",
    "    \"\"\"\n",
    "    \n",
    "    # Define the conditions for the `HouseAgeClass` categories\n",
    "    house_age_class_conditions = {\n",
    "        1: data['HouseAge'] <= 17,\n",
    "        2: (data['HouseAge'] > 17) &  (data['HouseAge'] < 52),\n",
    "        3: data['HouseAge'] == 52\n",
    "    }\n",
    "\n",
    "    # Define a categorical variable called `HouseAgeClass`\n",
    "    data['HouseAgeClass'] = np.select(house_age_class_conditions.values(),\n",
    "                                      house_age_class_conditions.keys())\n",
    "    \n",
    "    \n",
    "    # Create a feature `AveRooms per MedInc`\n",
    "    data['AveRooms per MedInc'] = data['AveRooms'] * data['MedInc']\n",
    "    \n",
    "    # Create a feature `HotArea`\n",
    "    # Define the rectangular areas of interest\n",
    "    hot_areas = [(-123, -121.45, 36.6, 38.6),\n",
    "                 (-119.90, -119.42, 34.25, 34.5),\n",
    "                 (-119.35, -117.55, 33.86, 34.52),\n",
    "                 (-117.29, -117.18, 32.84, 33.01)]\n",
    "\n",
    "    # Check if each point is inside any of the hot areas\n",
    "    is_in_hot_area = False\n",
    "    for area in hot_areas:\n",
    "        is_in_hot_area |= ((data['Longitude'] >= area[0]) &\n",
    "                           (data['Longitude'] <= area[1]) &\n",
    "                           (data['Latitude'] >= area[2]) &\n",
    "                           (data['Latitude'] <= area[3]))\n",
    "        \n",
    "    # Assign a binary value to indicate if a point is in a hot area or not\n",
    "    data['HotArea'] = np.where(is_in_hot_area, 1, 0)\n",
    "\n",
    "    \n",
    "    # Create a feature `AveBedrms per AveRooms`\n",
    "    data['AveBedrms per AveRooms'] = data['AveBedrms'] * data['AveRooms']\n"
   ]
  },
  {
   "cell_type": "code",
   "execution_count": null,
   "id": "17f90116",
   "metadata": {
    "papermill": {
     "duration": 0.080781,
     "end_time": "2023-04-13T15:23:48.540665",
     "exception": false,
     "start_time": "2023-04-13T15:23:48.459884",
     "status": "completed"
    },
    "tags": []
   },
   "outputs": [],
   "source": [
    "# Apply the feature engineering\n",
    "compute_engineered_features(train_data)\n",
    "compute_engineered_features(test_data)"
   ]
  },
  {
   "cell_type": "markdown",
   "id": "66e5ab54",
   "metadata": {
    "papermill": {
     "duration": 0.054927,
     "end_time": "2023-04-13T15:23:48.650949",
     "exception": false,
     "start_time": "2023-04-13T15:23:48.596022",
     "status": "completed"
    },
    "tags": []
   },
   "source": [
    "## Features and Labels Definition"
   ]
  },
  {
   "cell_type": "code",
   "execution_count": null,
   "id": "0ba9e121",
   "metadata": {
    "papermill": {
     "duration": 0.065101,
     "end_time": "2023-04-13T15:23:48.771564",
     "exception": false,
     "start_time": "2023-04-13T15:23:48.706463",
     "status": "completed"
    },
    "tags": []
   },
   "outputs": [],
   "source": [
    "# Define features and labels\n",
    "numerical_features = train_data.columns[1:9].tolist()\n",
    "\n",
    "numerical_engineered_featuers = ['AveRooms per MedInc', \n",
    "                                 'AveBedrms per AveRooms']\n",
    "\n",
    "categorical_features = []\n",
    "\n",
    "categorical_engineered_features = []\n",
    "                                   #'HouseAgeClass',\n",
    "                                   #'HotArea']\n",
    "\n",
    "features = numerical_features + numerical_engineered_featuers + categorical_features + categorical_engineered_features\n",
    "\n",
    "labels = ['MedHouseVal']"
   ]
  },
  {
   "cell_type": "markdown",
   "id": "724003a0",
   "metadata": {
    "papermill": {
     "duration": 0.054874,
     "end_time": "2023-04-13T15:23:48.881112",
     "exception": false,
     "start_time": "2023-04-13T15:23:48.826238",
     "status": "completed"
    },
    "tags": []
   },
   "source": [
    "## Numerical Features Preprocessing Pipeline"
   ]
  },
  {
   "cell_type": "code",
   "execution_count": null,
   "id": "fb74f547",
   "metadata": {
    "papermill": {
     "duration": 0.064672,
     "end_time": "2023-04-13T15:23:49.000666",
     "exception": false,
     "start_time": "2023-04-13T15:23:48.935994",
     "status": "completed"
    },
    "tags": []
   },
   "outputs": [],
   "source": [
    "# Numerical features pipeline\n",
    "numerical_features_pipeline = Pipeline(steps=[\n",
    "    ('numerical_scaler', StandardScaler()) # TODO: Add filtering outliers\n",
    "])"
   ]
  },
  {
   "cell_type": "markdown",
   "id": "05c2f54c",
   "metadata": {
    "papermill": {
     "duration": 0.055266,
     "end_time": "2023-04-13T15:23:49.111341",
     "exception": false,
     "start_time": "2023-04-13T15:23:49.056075",
     "status": "completed"
    },
    "tags": []
   },
   "source": [
    "## Bundle Data Preprocessing Steps"
   ]
  },
  {
   "cell_type": "code",
   "execution_count": null,
   "id": "2e4d188a",
   "metadata": {
    "papermill": {
     "duration": 0.065401,
     "end_time": "2023-04-13T15:23:49.232385",
     "exception": false,
     "start_time": "2023-04-13T15:23:49.166984",
     "status": "completed"
    },
    "tags": []
   },
   "outputs": [],
   "source": [
    "# Bunlde data preprocessing steps\n",
    "data_preprocessor = ColumnTransformer(\n",
    "    transformers=[\n",
    "        ('numerical_preprocessing', \n",
    "         numerical_features_pipeline, \n",
    "         numerical_features + numerical_engineered_featuers),\n",
    "        ('categorical_preprocessing', \n",
    "         'passthrough', \n",
    "         categorical_engineered_features)\n",
    "    ])"
   ]
  },
  {
   "cell_type": "markdown",
   "id": "f8bd85f4",
   "metadata": {
    "papermill": {
     "duration": 0.054039,
     "end_time": "2023-04-13T15:23:49.340914",
     "exception": false,
     "start_time": "2023-04-13T15:23:49.286875",
     "status": "completed"
    },
    "tags": []
   },
   "source": [
    "# Train & Test Split"
   ]
  },
  {
   "cell_type": "code",
   "execution_count": null,
   "id": "1aaa4d6c",
   "metadata": {
    "papermill": {
     "duration": 0.070621,
     "end_time": "2023-04-13T15:23:49.465562",
     "exception": false,
     "start_time": "2023-04-13T15:23:49.394941",
     "status": "completed"
    },
    "tags": []
   },
   "outputs": [],
   "source": [
    "# Define X and y for the training set\n",
    "X = train_data[numerical_features + numerical_engineered_featuers + categorical_engineered_features]\n",
    "y = train_data[labels]"
   ]
  },
  {
   "cell_type": "code",
   "execution_count": null,
   "id": "2a46fd61",
   "metadata": {
    "papermill": {
     "duration": 0.073211,
     "end_time": "2023-04-13T15:23:49.592713",
     "exception": false,
     "start_time": "2023-04-13T15:23:49.519502",
     "status": "completed"
    },
    "tags": []
   },
   "outputs": [],
   "source": [
    "# Split training data into train and validation\n",
    "X_train, X_test, y_train, y_test = train_test_split(X, y, test_size=0.33, random_state=42)"
   ]
  },
  {
   "cell_type": "markdown",
   "id": "f308209e",
   "metadata": {
    "papermill": {
     "duration": 0.053655,
     "end_time": "2023-04-13T15:23:49.700221",
     "exception": false,
     "start_time": "2023-04-13T15:23:49.646566",
     "status": "completed"
    },
    "tags": []
   },
   "source": [
    "# Model Training"
   ]
  },
  {
   "cell_type": "code",
   "execution_count": null,
   "id": "9a77efa5",
   "metadata": {
    "papermill": {
     "duration": 0.06784,
     "end_time": "2023-04-13T15:23:49.821932",
     "exception": false,
     "start_time": "2023-04-13T15:23:49.754092",
     "status": "completed"
    },
    "tags": []
   },
   "outputs": [],
   "source": [
    "# Set MLflow Experiment\n",
    "mlflow_experiment_name = 'California Housing Price'\n",
    "\n",
    "# Create experiment or retrieve already existing experiment\n",
    "try:\n",
    "    mlflow_experiment_id = mlflow.create_experiment(name=mlflow_experiment_name)\n",
    "except Exception as e:\n",
    "    mlflow_experiment_id = mlflow.get_experiment_by_name(mlflow_experiment_name).experiment_id"
   ]
  },
  {
   "cell_type": "code",
   "execution_count": null,
   "id": "1a7cf3ff",
   "metadata": {
    "papermill": {
     "duration": 0.062651,
     "end_time": "2023-04-13T15:23:49.939091",
     "exception": false,
     "start_time": "2023-04-13T15:23:49.876440",
     "status": "completed"
    },
    "tags": []
   },
   "outputs": [],
   "source": [
    "# Define the used metrics\n",
    "metrics = ['RMSE']"
   ]
  },
  {
   "cell_type": "code",
   "execution_count": null,
   "id": "7ea7d06e",
   "metadata": {
    "papermill": {
     "duration": 0.064254,
     "end_time": "2023-04-13T15:23:50.056687",
     "exception": false,
     "start_time": "2023-04-13T15:23:49.992433",
     "status": "completed"
    },
    "tags": []
   },
   "outputs": [],
   "source": [
    "# Initialize DataFrame of model performance\n",
    "performance = pd.DataFrame(columns=metrics)"
   ]
  },
  {
   "cell_type": "markdown",
   "id": "a624985b",
   "metadata": {
    "papermill": {
     "duration": 0.055078,
     "end_time": "2023-04-13T15:23:50.165504",
     "exception": false,
     "start_time": "2023-04-13T15:23:50.110426",
     "status": "completed"
    },
    "tags": []
   },
   "source": [
    "## Linear Regression"
   ]
  },
  {
   "cell_type": "code",
   "execution_count": null,
   "id": "a208b0fe",
   "metadata": {
    "papermill": {
     "duration": 0.357839,
     "end_time": "2023-04-13T15:23:50.578728",
     "exception": false,
     "start_time": "2023-04-13T15:23:50.220889",
     "status": "completed"
    },
    "tags": []
   },
   "outputs": [],
   "source": [
    "%%time\n",
    "\n",
    "# Start MLflow Run\n",
    "with mlflow.start_run(experiment_id=mlflow_experiment_id, \n",
    "                      run_name='Linear Regression'):\n",
    "    # Define the model\n",
    "    model_lr = LinearRegression()\n",
    "\n",
    "    # Define the pipeline\n",
    "    pipe_lr = Pipeline([\n",
    "        ('data_preprocessing', data_preprocessor),\n",
    "        ('linear_regression', model_lr)\n",
    "    ])\n",
    "\n",
    "    # Train the pipeline\n",
    "    pipe_lr.fit(X_train, \n",
    "                y_train)\n",
    "\n",
    "    # Get predictions\n",
    "    predictions_lr = pipe_lr.predict(X_test)\n",
    "\n",
    "    # Compute metrics\n",
    "    rmse_lr = round(mean_squared_error(y_test,\n",
    "                                       predictions_lr), 2)\n",
    "\n",
    "    print('RMSE: {}'.format(rmse_lr))\n",
    "    print('\\n')\n",
    "    \n",
    "    # Log model's evaluation metrics\n",
    "    mlflow.log_metrics({'RMSE': rmse_lr})\n",
    "    \n",
    "    # Log model's features\n",
    "    mlflow.log_params({'Features': features})"
   ]
  },
  {
   "cell_type": "code",
   "execution_count": null,
   "id": "051c960d",
   "metadata": {
    "papermill": {
     "duration": 0.068474,
     "end_time": "2023-04-13T15:23:50.760313",
     "exception": false,
     "start_time": "2023-04-13T15:23:50.691839",
     "status": "completed"
    },
    "tags": []
   },
   "outputs": [],
   "source": [
    "# Update 'performance' DataFrame\n",
    "performance.loc['Logistic Regression'] = [rmse_lr]"
   ]
  },
  {
   "cell_type": "markdown",
   "id": "5450951c",
   "metadata": {
    "papermill": {
     "duration": 0.053262,
     "end_time": "2023-04-13T15:23:50.867179",
     "exception": false,
     "start_time": "2023-04-13T15:23:50.813917",
     "status": "completed"
    },
    "tags": []
   },
   "source": [
    "## Linear Regression - Cross-Validation"
   ]
  },
  {
   "cell_type": "code",
   "execution_count": null,
   "id": "8f378d64",
   "metadata": {
    "papermill": {
     "duration": 0.063518,
     "end_time": "2023-04-13T15:23:50.984220",
     "exception": false,
     "start_time": "2023-04-13T15:23:50.920702",
     "status": "completed"
    },
    "tags": []
   },
   "outputs": [],
   "source": [
    "# Define the Cross-Validation Iterators\n",
    "kfold = KFold(n_splits=4)\n",
    "repeated_kfold = RepeatedKFold(n_splits=4, n_repeats=2, random_state=42)"
   ]
  },
  {
   "cell_type": "code",
   "execution_count": null,
   "id": "431af05e",
   "metadata": {
    "papermill": {
     "duration": 0.067469,
     "end_time": "2023-04-13T15:23:51.105925",
     "exception": false,
     "start_time": "2023-04-13T15:23:51.038456",
     "status": "completed"
    },
    "tags": []
   },
   "outputs": [],
   "source": [
    "def train_with_stratified_kfold(estimator, X, y, cv):\n",
    "    \"\"\"\n",
    "    Train an Estimator through a Stratified K-Fold Cross-Validation approach and return evaluation metrics\n",
    "    \n",
    "        Paramarameters:\n",
    "            estimator: sklearn.linear_model estimator to optimise\n",
    "            X: Pandas DataFrame of data\n",
    "            y: Pandas DataFrame of labels\n",
    "            cv: sklearn.model_selection splitter instance\n",
    "            \n",
    "        Returns:\n",
    "            rmse: Float RMSE\n",
    "    \"\"\"\n",
    "    \n",
    "    # Initialise empty lists for metrics\n",
    "    rmse_list = []\n",
    "    \n",
    "    # Fetch the folds\n",
    "    for fold, (train_index, validation_index) in enumerate(cv.split(X, y)):\n",
    "        \n",
    "        # Split the data\n",
    "        X_train = X.loc[train_index]\n",
    "        X_validation = X.loc[validation_index]\n",
    "        y_train = y.loc[train_index]\n",
    "        y_validation = y.loc[validation_index]\n",
    "        \n",
    "        # Fit the estimator\n",
    "        estimator.fit(X_train, y_train)\n",
    "        \n",
    "        # Get predictions\n",
    "        predictions = estimator.predict(X_validation)\n",
    "        \n",
    "        # Compute metrics\n",
    "        rmse_fold = round(mean_squared_error(y_validation, predictions), 2)\n",
    "        \n",
    "        print('---- Fold {} ----'.format(fold))\n",
    "        print('RMSE: {}'.format(rmse_fold))\n",
    "        print('\\n')\n",
    "        \n",
    "        # Append mentrics to the corresponding list\n",
    "        rmse_list.append(rmse_fold)\n",
    "        \n",
    "    # Compute metrics average\n",
    "    rmse = round(np.mean(rmse_list), 2)\n",
    "        \n",
    "    return rmse"
   ]
  },
  {
   "cell_type": "markdown",
   "id": "0174a26e",
   "metadata": {
    "papermill": {
     "duration": 0.055281,
     "end_time": "2023-04-13T15:23:51.217065",
     "exception": false,
     "start_time": "2023-04-13T15:23:51.161784",
     "status": "completed"
    },
    "tags": []
   },
   "source": [
    "### K-Fold"
   ]
  },
  {
   "cell_type": "code",
   "execution_count": null,
   "id": "2b32ba84",
   "metadata": {
    "papermill": {
     "duration": 0.293299,
     "end_time": "2023-04-13T15:23:51.565964",
     "exception": false,
     "start_time": "2023-04-13T15:23:51.272665",
     "status": "completed"
    },
    "tags": []
   },
   "outputs": [],
   "source": [
    "%%time\n",
    "\n",
    "# Start MLflow Run\n",
    "with mlflow.start_run(experiment_id=mlflow_experiment_id, \n",
    "                      run_name='Linear Regression K-Fold'):\n",
    "\n",
    "    # Define the model\n",
    "    model_lr_kfold = LinearRegression()\n",
    "\n",
    "    # Define the pipeline\n",
    "    pipe_lr_kfold = Pipeline([\n",
    "        ('data_preprocessing', data_preprocessor),\n",
    "        ('linear_regression', model_lr_kfold)\n",
    "    ])\n",
    "\n",
    "    # Train the pipeline with K-Fold\n",
    "    rmse_lr_kfold = train_with_stratified_kfold(pipe_lr_kfold, X, y, kfold)\n",
    "\n",
    "    print('RMSE: {}'.format(rmse_lr_kfold))\n",
    "    print('\\n')\n",
    "    \n",
    "    # Log model's evaluation metrics\n",
    "    mlflow.log_metrics({'RMSE': rmse_lr_kfold})\n",
    "    \n",
    "    # Log model's features\n",
    "    mlflow.log_params({'Features': features})\n",
    "\n",
    "    # Update 'performance' DataFrame\n",
    "    performance.loc['Logistic Regression - K-Fold'] = [rmse_lr_kfold]"
   ]
  },
  {
   "cell_type": "markdown",
   "id": "42f90dad",
   "metadata": {
    "papermill": {
     "duration": 0.055544,
     "end_time": "2023-04-13T15:23:51.731572",
     "exception": false,
     "start_time": "2023-04-13T15:23:51.676028",
     "status": "completed"
    },
    "tags": []
   },
   "source": [
    "### Repeated K-Fold"
   ]
  },
  {
   "cell_type": "code",
   "execution_count": null,
   "id": "c58bb00c",
   "metadata": {
    "papermill": {
     "duration": 0.507114,
     "end_time": "2023-04-13T15:23:52.294131",
     "exception": false,
     "start_time": "2023-04-13T15:23:51.787017",
     "status": "completed"
    },
    "tags": []
   },
   "outputs": [],
   "source": [
    "%%time\n",
    "\n",
    "# Start MLflow Run\n",
    "with mlflow.start_run(experiment_id=mlflow_experiment_id, \n",
    "                      run_name='Linear Regression Repeated K-Fold'):\n",
    "\n",
    "    # Define the model\n",
    "    model_lr_rkfold = LinearRegression()\n",
    "\n",
    "    # Define the pipeline\n",
    "    pipe_lr_rkfold = Pipeline([\n",
    "        ('data_preprocessing', data_preprocessor),\n",
    "        ('linear_regression', model_lr_rkfold)\n",
    "    ])\n",
    "\n",
    "    # Train the pipeline with K-Fold\n",
    "    rmse_lr_rkfold = train_with_stratified_kfold(pipe_lr_rkfold, X, y, repeated_kfold)\n",
    "\n",
    "    print('RMSE: {}'.format(rmse_lr_rkfold))\n",
    "    print('\\n')\n",
    "    \n",
    "    # Log model's evaluation metrics\n",
    "    mlflow.log_metrics({'RMSE': rmse_lr_rkfold})\n",
    "    \n",
    "    # Log model's features\n",
    "    mlflow.log_params({'Features': features})\n",
    "\n",
    "    # Update 'performance' DataFrame\n",
    "    performance.loc['Logistic Regression - Repeated K-Fold'] = [rmse_lr_rkfold]"
   ]
  },
  {
   "cell_type": "markdown",
   "id": "250059da",
   "metadata": {
    "papermill": {
     "duration": 0.055345,
     "end_time": "2023-04-13T15:23:52.461448",
     "exception": false,
     "start_time": "2023-04-13T15:23:52.406103",
     "status": "completed"
    },
    "tags": []
   },
   "source": [
    "## XGBoost"
   ]
  },
  {
   "cell_type": "code",
   "execution_count": null,
   "id": "6a7b4863",
   "metadata": {
    "papermill": {
     "duration": 0.065203,
     "end_time": "2023-04-13T15:23:52.581018",
     "exception": false,
     "start_time": "2023-04-13T15:23:52.515815",
     "status": "completed"
    },
    "tags": []
   },
   "outputs": [],
   "source": [
    "# XGBoost Hyperparameters\n",
    "hyperparameter_xgb = {\n",
    "    'n_estimators': 500,\n",
    "    'max_depth': 5,\n",
    "    'learning_rate': 0.01\n",
    "}"
   ]
  },
  {
   "cell_type": "code",
   "execution_count": null,
   "id": "4287209b",
   "metadata": {
    "papermill": {
     "duration": 11.990049,
     "end_time": "2023-04-13T15:24:04.625115",
     "exception": false,
     "start_time": "2023-04-13T15:23:52.635066",
     "status": "completed"
    },
    "tags": []
   },
   "outputs": [],
   "source": [
    "%%time\n",
    "\n",
    "# Start MLflow Run\n",
    "with mlflow.start_run(experiment_id=mlflow_experiment_id, \n",
    "                      run_name='XGBoost'):\n",
    "\n",
    "    # Define the model\n",
    "    model_xgb = XGBRegressor(**hyperparameter_xgb)\n",
    "\n",
    "    # Define the pipeline\n",
    "    pipe_xgb = Pipeline([\n",
    "        ('data_preprocessing', data_preprocessor),\n",
    "        ('xgboost', model_xgb)\n",
    "    ])\n",
    "\n",
    "    # Train the pipeline\n",
    "    pipe_xgb.fit(X_train,\n",
    "                 y_train,\n",
    "                 xgboost__verbose=False)\n",
    "\n",
    "    # Get predictions\n",
    "    predictions_xgb = pipe_xgb.predict(X_test)\n",
    "\n",
    "    # Compute metrics\n",
    "    rmse_xgb = round(mean_squared_error(y_test, predictions_xgb), 2)\n",
    "    \n",
    "    # Log model's evaluation metrics\n",
    "    mlflow.log_metrics({'RMSE': rmse_xgb})\n",
    "    \n",
    "    # Log model's features\n",
    "    mlflow.log_params({'Features': features, 'Hyperparameters': hyperparameter_xgb})\n",
    "\n",
    "    print('RMSE: {}'.format(rmse_xgb))\n",
    "    print('\\n')"
   ]
  },
  {
   "cell_type": "code",
   "execution_count": null,
   "id": "fe5236be",
   "metadata": {
    "papermill": {
     "duration": 0.066669,
     "end_time": "2023-04-13T15:24:04.746130",
     "exception": false,
     "start_time": "2023-04-13T15:24:04.679461",
     "status": "completed"
    },
    "tags": []
   },
   "outputs": [],
   "source": [
    "# Update 'performance' DataFrame\n",
    "performance.loc['XGBoost'] = [rmse_xgb]"
   ]
  },
  {
   "cell_type": "markdown",
   "id": "44cea65d",
   "metadata": {
    "papermill": {
     "duration": 0.055492,
     "end_time": "2023-04-13T15:24:04.855975",
     "exception": false,
     "start_time": "2023-04-13T15:24:04.800483",
     "status": "completed"
    },
    "tags": []
   },
   "source": [
    "## LightGBM"
   ]
  },
  {
   "cell_type": "code",
   "execution_count": null,
   "id": "d407f396",
   "metadata": {
    "papermill": {
     "duration": 0.065604,
     "end_time": "2023-04-13T15:24:04.977225",
     "exception": false,
     "start_time": "2023-04-13T15:24:04.911621",
     "status": "completed"
    },
    "tags": []
   },
   "outputs": [],
   "source": [
    "# LightGBM hyperparameters\n",
    "hyperparameters_lgb = {\n",
    "    'boosting_type': 'gbdt',\n",
    "    'objective': 'regression',\n",
    "    'metric': 'rmse',\n",
    "    'force_row_wise': True,\n",
    "    'n_estimators': 1000,\n",
    "    'verbose': 0\n",
    "}"
   ]
  },
  {
   "cell_type": "code",
   "execution_count": null,
   "id": "5235de28",
   "metadata": {
    "papermill": {
     "duration": 7.44687,
     "end_time": "2023-04-13T15:24:12.479775",
     "exception": false,
     "start_time": "2023-04-13T15:24:05.032905",
     "status": "completed"
    },
    "tags": []
   },
   "outputs": [],
   "source": [
    "%%time\n",
    "\n",
    "# Start MLflow Run\n",
    "with mlflow.start_run(experiment_id=mlflow_experiment_id, \n",
    "                      run_name='LightGBM'):\n",
    "\n",
    "    # Define the model\n",
    "    model_lgb = lgb.LGBMRegressor(**hyperparameters_lgb)\n",
    "\n",
    "    # Define the pipeline\n",
    "    pipe_lgb = Pipeline([\n",
    "        ('data_preprocessing', data_preprocessor),\n",
    "        ('lightgbm', model_lgb)\n",
    "    ])\n",
    "\n",
    "    # Train the pipeline\n",
    "    pipe_lgb.fit(X_train, \n",
    "                 np.ravel(y_train))\n",
    "\n",
    "    # Get predictions\n",
    "    predictions_lgb = pipe_lgb.predict(X_test)\n",
    "\n",
    "    # Compute metrics\n",
    "    rmse_lgb = round(mean_squared_error(y_test, predictions_lgb), 2)\n",
    "    \n",
    "    # Log model's evaluation metrics\n",
    "    mlflow.log_metrics({'RMSE': rmse_lgb})\n",
    "    \n",
    "    # Log model's features\n",
    "    mlflow.log_params({'Features': features, 'Hyperparameters': hyperparameters_lgb})\n",
    "\n",
    "    print('RMSE: {}'.format(rmse_lgb))\n",
    "    print('\\n')"
   ]
  },
  {
   "cell_type": "code",
   "execution_count": null,
   "id": "accb6343",
   "metadata": {
    "papermill": {
     "duration": 0.066103,
     "end_time": "2023-04-13T15:24:12.600816",
     "exception": false,
     "start_time": "2023-04-13T15:24:12.534713",
     "status": "completed"
    },
    "tags": []
   },
   "outputs": [],
   "source": [
    "# Update 'performance' DataFrame\n",
    "performance.loc['LightGBM'] = [rmse_lgb]"
   ]
  },
  {
   "cell_type": "markdown",
   "id": "58f5b189",
   "metadata": {
    "papermill": {
     "duration": 0.055725,
     "end_time": "2023-04-13T15:24:12.711062",
     "exception": false,
     "start_time": "2023-04-13T15:24:12.655337",
     "status": "completed"
    },
    "tags": []
   },
   "source": [
    "## LightGBM with GridSearch"
   ]
  },
  {
   "cell_type": "code",
   "execution_count": null,
   "id": "b28f488f",
   "metadata": {
    "papermill": {
     "duration": 0.066261,
     "end_time": "2023-04-13T15:24:12.833040",
     "exception": false,
     "start_time": "2023-04-13T15:24:12.766779",
     "status": "completed"
    },
    "tags": []
   },
   "outputs": [],
   "source": [
    "# LightGBM hyperparameters\n",
    "hyperparameters_lgb_gs = {\n",
    "    'boosting_type': 'gbdt',\n",
    "    'objective': 'regression',\n",
    "    'metric': 'rmse'\n",
    "}\n",
    "\n",
    "# LightGBM hyperparameters space\n",
    "hyperparameters_space_lgb_gs = {\n",
    "    'lightgbm__num_leaves': np.arange(10, 60, 10),\n",
    "    'lightgbm__learning_rate': np.linspace(0.001, 1, 5),\n",
    "    'lightgbm__n_estimators': np.arange(50, 1000, 100)\n",
    "}"
   ]
  },
  {
   "cell_type": "code",
   "execution_count": null,
   "id": "58affdfe",
   "metadata": {
    "papermill": {
     "duration": 1411.742852,
     "end_time": "2023-04-13T15:47:44.630950",
     "exception": false,
     "start_time": "2023-04-13T15:24:12.888098",
     "status": "completed"
    },
    "tags": []
   },
   "outputs": [],
   "source": [
    "%%time\n",
    "\n",
    "# Start MLflow Run\n",
    "with mlflow.start_run(experiment_id=mlflow_experiment_id, \n",
    "                      run_name='LightGBM with GridSearch'):\n",
    "\n",
    "    # Define the model\n",
    "    model_lgb_gs = lgb.LGBMRegressor(**hyperparameters_lgb_gs)\n",
    "\n",
    "    # Define the pipeline\n",
    "    pipe_lgb_gs = Pipeline([\n",
    "        ('data_preprocessing', data_preprocessor),\n",
    "        ('lightgbm', model_lgb_gs)\n",
    "    ])\n",
    "    \n",
    "    # Define GridSearch\n",
    "    # NOTE: GridSearchCV tries to maximise its score, that's why we need the Negative RMSE\n",
    "    grid_search_lgb_gs = GridSearchCV(estimator=pipe_lgb_gs, \n",
    "                                      param_grid=hyperparameters_space_lgb_gs, \n",
    "                                      cv=3, \n",
    "                                      n_jobs=2, \n",
    "                                      scoring='neg_root_mean_squared_error', \n",
    "                                      verbose=3)\n",
    "\n",
    "    # Search the best hyperparameters\n",
    "    grid_search_lgb_gs.fit(X_train, \n",
    "                           np.ravel(y_train))\n",
    "\n",
    "    # Retrieve the best model\n",
    "    best_model_lgb_gs = grid_search_lgb_gs.best_estimator_\n",
    "    \n",
    "    # Retrieve best model's parameters\n",
    "    best_parameters_lgb_gs = best_model_lgb_gs['lightgbm'].get_params()\n",
    "    \n",
    "    print(\"Model's Best Hyperparameters:\")\n",
    "    pprint.pprint(best_parameters_lgb_gs)\n",
    "    print('\\n')\n",
    "    \n",
    "    # Get predictions\n",
    "    predictions_lgb_gs = best_model_lgb_gs.predict(X_test)\n",
    "\n",
    "    # Compute metrics\n",
    "    rmse_lgb_gs = round(mean_squared_error(y_test, predictions_lgb_gs), 2)\n",
    "    \n",
    "    # Log model's evaluation metrics\n",
    "    mlflow.log_metrics({'RMSE': rmse_lgb_gs})\n",
    "    \n",
    "    # Log model's features\n",
    "    mlflow.log_params({'Features': features, 'Hyperparameters': best_parameters_lgb_gs})\n",
    "\n",
    "    print('RMSE: {}'.format(rmse_lgb_gs))\n",
    "    print('\\n')"
   ]
  },
  {
   "cell_type": "code",
   "execution_count": null,
   "id": "b9248f17",
   "metadata": {
    "papermill": {
     "duration": 0.072391,
     "end_time": "2023-04-13T15:47:44.760198",
     "exception": false,
     "start_time": "2023-04-13T15:47:44.687807",
     "status": "completed"
    },
    "tags": []
   },
   "outputs": [],
   "source": [
    "# Update 'performance' DataFrame\n",
    "performance.loc['LightGBM GirdSearch'] = [rmse_lgb_gs]"
   ]
  },
  {
   "cell_type": "markdown",
   "id": "ffd1b69e",
   "metadata": {
    "papermill": {
     "duration": 0.057042,
     "end_time": "2023-04-13T15:47:44.875919",
     "exception": false,
     "start_time": "2023-04-13T15:47:44.818877",
     "status": "completed"
    },
    "tags": []
   },
   "source": [
    "# Models Comparison"
   ]
  },
  {
   "cell_type": "code",
   "execution_count": null,
   "id": "3d6fd3ca",
   "metadata": {
    "papermill": {
     "duration": 0.447974,
     "end_time": "2023-04-13T15:47:45.380708",
     "exception": false,
     "start_time": "2023-04-13T15:47:44.932734",
     "status": "completed"
    },
    "tags": []
   },
   "outputs": [],
   "source": [
    "# Sort dataframe by the metric\n",
    "performance.sort_values('RMSE', inplace=True)\n",
    "\n",
    "# Plot models' metrics\n",
    "ax = sns.barplot(data=performance, \n",
    "                 x=performance.index.tolist(), \n",
    "                 y='RMSE')\n",
    "\n",
    "# Set title\n",
    "ax.set_title('Models Comparison', \n",
    "             fontsize=20, \n",
    "             fontweight='bold')\n",
    "\n",
    "plt.xticks(rotation=45)\n",
    "\n",
    "plt.show()"
   ]
  },
  {
   "cell_type": "markdown",
   "id": "e375d11d",
   "metadata": {
    "papermill": {
     "duration": 0.057863,
     "end_time": "2023-04-13T15:47:45.500100",
     "exception": false,
     "start_time": "2023-04-13T15:47:45.442237",
     "status": "completed"
    },
    "tags": []
   },
   "source": [
    "# Model Explanability"
   ]
  },
  {
   "cell_type": "code",
   "execution_count": null,
   "id": "c43d8811",
   "metadata": {
    "papermill": {
     "duration": 0.070655,
     "end_time": "2023-04-13T15:47:45.629134",
     "exception": false,
     "start_time": "2023-04-13T15:47:45.558479",
     "status": "completed"
    },
    "tags": []
   },
   "outputs": [],
   "source": [
    "# Compute the feature importance\n",
    "feature_importance = sorted(list(zip(pipe_lgb.feature_names_in_,\n",
    "                                     pipe_lgb['lightgbm'].feature_importances_)),\n",
    "                            key=lambda x: x[1], reverse=True)\n",
    "\n",
    "# Transform it into a DataFrame\n",
    "feature_importance_df = pd.DataFrame(feature_importance,\n",
    "                                     columns= ['Feature', 'Importance'])"
   ]
  },
  {
   "cell_type": "code",
   "execution_count": null,
   "id": "63208b10",
   "metadata": {
    "papermill": {
     "duration": 0.448547,
     "end_time": "2023-04-13T15:47:46.135469",
     "exception": false,
     "start_time": "2023-04-13T15:47:45.686922",
     "status": "completed"
    },
    "tags": []
   },
   "outputs": [],
   "source": [
    "# Plot the feature importance\n",
    "ax = sns.barplot(data=feature_importance_df, \n",
    "                 x='Feature', \n",
    "                 y='Importance')\n",
    "\n",
    "# Set title\n",
    "ax.set_title('Feature Importance', \n",
    "             fontsize=20, \n",
    "             fontweight='bold')\n",
    "\n",
    "plt.xticks(fontsize=8, \n",
    "           rotation=45)\n",
    "\n",
    "plt.show()"
   ]
  },
  {
   "cell_type": "markdown",
   "id": "db1535c3",
   "metadata": {
    "papermill": {
     "duration": 0.059231,
     "end_time": "2023-04-13T15:47:46.253415",
     "exception": false,
     "start_time": "2023-04-13T15:47:46.194184",
     "status": "completed"
    },
    "tags": []
   },
   "source": [
    "# Submission"
   ]
  },
  {
   "cell_type": "code",
   "execution_count": null,
   "id": "9955495f",
   "metadata": {
    "papermill": {
     "duration": 0.68728,
     "end_time": "2023-04-13T15:47:47.003324",
     "exception": false,
     "start_time": "2023-04-13T15:47:46.316044",
     "status": "completed"
    },
    "tags": []
   },
   "outputs": [],
   "source": [
    "# Generate predictions\n",
    "submission_predictions = pipe_lgb.predict(test_data)"
   ]
  },
  {
   "cell_type": "code",
   "execution_count": null,
   "id": "a5729064",
   "metadata": {
    "papermill": {
     "duration": 0.068534,
     "end_time": "2023-04-13T15:47:47.130228",
     "exception": false,
     "start_time": "2023-04-13T15:47:47.061694",
     "status": "completed"
    },
    "tags": []
   },
   "outputs": [],
   "source": [
    "# Create submission DataFrame\n",
    "submission = pd.DataFrame({'id': test_data.id, 'MedHouseVal': submission_predictions})"
   ]
  },
  {
   "cell_type": "code",
   "execution_count": null,
   "id": "7f0bbe05",
   "metadata": {
    "papermill": {
     "duration": 0.135509,
     "end_time": "2023-04-13T15:47:47.324214",
     "exception": false,
     "start_time": "2023-04-13T15:47:47.188705",
     "status": "completed"
    },
    "tags": []
   },
   "outputs": [],
   "source": [
    "# Write CSV File\n",
    "submission.to_csv('./submission.csv', index=False)"
   ]
  }
 ],
 "metadata": {
  "kernelspec": {
   "display_name": "Python 3",
   "language": "python",
   "name": "python3"
  },
  "language_info": {
   "codemirror_mode": {
    "name": "ipython",
    "version": 3
   },
   "file_extension": ".py",
   "mimetype": "text/x-python",
   "name": "python",
   "nbconvert_exporter": "python",
   "pygments_lexer": "ipython3",
   "version": "3.7.12"
  },
  "papermill": {
   "default_parameters": {},
   "duration": 1587.521948,
   "end_time": "2023-04-13T15:47:50.009425",
   "environment_variables": {},
   "exception": null,
   "input_path": "__notebook__.ipynb",
   "output_path": "__notebook__.ipynb",
   "parameters": {},
   "start_time": "2023-04-13T15:21:22.487477",
   "version": "2.4.0"
  }
 },
 "nbformat": 4,
 "nbformat_minor": 5
}
