{
 "cells": [
  {
   "cell_type": "markdown",
   "id": "0dd1fa9a-0f25-467f-a930-7dcd9ec93c11",
   "metadata": {},
   "source": [
    "# Vector Borne Disease Classification\n",
    "\n",
    "The notebook is intended to predict the Vector Borne Disease given a set of symptoms and prognosis.\n",
    "The list of disease classes is:\n",
    "- Chikungunya\n",
    "- Dengue\n",
    "- Zika\n",
    "- Yellow Fever\n",
    "- Raft Valley Fever\n",
    "- West Nile Fever\n",
    "- Malaria\n",
    "- Tungiasis\n",
    "- Japanese Encephalitis\n",
    "- Plague\n",
    "- Lyme Disease\n",
    "\n",
    "[Vectors](https://www.who.int/news-room/fact-sheets/detail/vector-borne-diseases#:~:text=and%20community%20mobilisation.-,Vectors,-Vectors%20are%20living) are living organisms that can transmit infectious pathogens between humans, or from animals to humans. Many of these vectors are bloodsucking insects, which ingest disease-producing microorganisms during a blood meal from an infected host (human or animal) and later transmit it into a new host, after the pathogen has replicated. Often, once a vector becomes infectious, they are capable of transmitting the pathogen for the rest of their life during each subsequent bite/blood meal.\n",
    "\n",
    "[Vector-borne diseases](https://www.who.int/news-room/fact-sheets/detail/vector-borne-diseases#:~:text=bite/blood%20meal.-,Vector%2Dborne%20diseases,-Vector%2Dborne%20diseases) are human illnesses caused by parasites, viruses and bacteria that are transmitted by vectors. Every year there are more than 700,000 deaths from diseases such as malaria, dengue, schistosomiasis, human African trypanosomiasis, leishmaniasis, Chagas disease, yellow fever, Japanese encephalitis and onchocerciasis.\n",
    "\n",
    "## Resoruces\n",
    "- [Reference Kaggle Challenge](https://www.kaggle.com/competitions/playground-series-s3e13)\n",
    "- [EDA Inspirational Notebook](https://www.kaggle.com/code/sergiosaharovskiy/ps-s3e13-2023-eda-and-submission)"
   ]
  },
  {
   "cell_type": "code",
   "execution_count": null,
   "id": "595c58d6-b483-4982-a79d-7471ee4abbf9",
   "metadata": {
    "tags": []
   },
   "outputs": [],
   "source": [
    "# Import Standard Libraries\n",
    "import os\n",
    "\n",
    "import mlflow\n",
    "\n",
    "import pandas as pd\n",
    "import matplotlib.pyplot as plt\n",
    "import seaborn as sns\n",
    "\n",
    "from pathlib import Path\n",
    "from colorama import Style, Fore\n",
    "\n",
    "from sklearn.model_selection import train_test_split\n",
    "from sklearn.linear_model import LogisticRegression\n",
    "from sklearn.metrics import log_loss\n",
    "\n",
    "# Set Pandas Options\n",
    "pd.set_option('display.max_columns', 500)"
   ]
  },
  {
   "cell_type": "code",
   "execution_count": null,
   "id": "05b5e9db-5721-409d-9d6c-e8afcee3476f",
   "metadata": {},
   "outputs": [],
   "source": [
    "# Define Seaborn theme parameters\n",
    "theme_parameters =  {\n",
    "    'axes.spines.right': False,\n",
    "    'axes.spines.top': False,\n",
    "    'grid.alpha':0.3,\n",
    "    'figure.figsize': (16, 6),\n",
    "    'font.family': 'Andale Mono',\n",
    "    'axes.titlesize': 24,\n",
    "    'figure.facecolor': '#E5E8E8',\n",
    "    'axes.facecolor': '#E5E8E8'\n",
    "}\n",
    "\n",
    "# Set the theme\n",
    "sns.set_theme(style='whitegrid',\n",
    "              palette=sns.color_palette('deep'), \n",
    "              rc=theme_parameters)"
   ]
  },
  {
   "cell_type": "code",
   "execution_count": null,
   "id": "c90653c2-40c5-4782-b75e-35a360ef5e2a",
   "metadata": {
    "tags": []
   },
   "outputs": [],
   "source": [
    "# Define Colors\n",
    "black = Style.BRIGHT + Fore.BLACK\n",
    "magenta = Style.BRIGHT + Fore.MAGENTA\n",
    "red = Style.BRIGHT + Fore.RED\n",
    "blue = Style.BRIGHT + Fore.BLUE\n",
    "reset_colors = Style.RESET_ALL"
   ]
  },
  {
   "cell_type": "markdown",
   "id": "c10b619b-2325-4413-a242-5ca152eb91be",
   "metadata": {},
   "source": [
    "# Read Data"
   ]
  },
  {
   "cell_type": "code",
   "execution_count": null,
   "id": "e22c458b-b1d3-430e-89fc-875dca2a6466",
   "metadata": {
    "tags": []
   },
   "outputs": [],
   "source": [
    "# Switch flag for Kaggle Cloud\n",
    "kaggle = False"
   ]
  },
  {
   "cell_type": "code",
   "execution_count": null,
   "id": "f69d471f-d86d-4a9d-a7f0-774525d0389b",
   "metadata": {
    "tags": []
   },
   "outputs": [],
   "source": [
    "# Read training data\n",
    "if kaggle:\n",
    "    \n",
    "    # Read data from Kaggle FS\n",
    "    train_data = pd.read_csv('/kaggle/input/playground-series-s3e1/train.csv')\n",
    "    test_data = pd.read_csv('/kaggle/input/playground-series-s3e1/test.csv')\n",
    "    \n",
    "else:\n",
    "    \n",
    "    # Define local data file paths\n",
    "    train_data_file_path = Path(os.path.abspath('')).parents[1] / 'data' / 'S3E13' / 'vector_borne_disease_train.csv'\n",
    "    test_data_file_path = Path(os.path.abspath('')).parents[1] / 'data' / 'S3E13' / 'vector_borne_disease_test.csv'\n",
    "    train_data_original_file_path = Path(os.path.abspath('')).parents[1] / 'data' / 'S3E13' / 'vector_borne_disease_original_train.csv'\n",
    "    test_data_original_file_path = Path(os.path.abspath('')).parents[1] / 'data' / 'S3E13' / 'vector_borne_disease_original_test.csv'\n",
    "    \n",
    "    train_data = pd.read_csv(train_data_file_path)\n",
    "    test_data = pd.read_csv(test_data_file_path)\n",
    "    train_original_data = pd.read_csv(train_data_file_path)\n",
    "    test_original_data = pd.read_csv(test_data_file_path)"
   ]
  },
  {
   "cell_type": "code",
   "execution_count": null,
   "id": "4966a98a-e9a1-432e-a990-f856a7be71be",
   "metadata": {
    "tags": []
   },
   "outputs": [],
   "source": [
    "train_data.head()"
   ]
  },
  {
   "cell_type": "code",
   "execution_count": null,
   "id": "26f9c9c9-a20d-486e-b9da-0dff3f9aab2f",
   "metadata": {
    "tags": []
   },
   "outputs": [],
   "source": [
    "train_data.info()"
   ]
  },
  {
   "cell_type": "markdown",
   "id": "0dbd5b8c-99c0-45b7-af0c-12936ae1ec62",
   "metadata": {},
   "source": [
    "# Exploratory Data Analysis (EDA)"
   ]
  },
  {
   "cell_type": "markdown",
   "id": "f02218c3-9cbd-4030-822d-095830651e1c",
   "metadata": {},
   "source": [
    "## Shape Information"
   ]
  },
  {
   "cell_type": "code",
   "execution_count": null,
   "id": "e40be3ec-5f31-4001-8370-f4b7d2c64840",
   "metadata": {
    "tags": []
   },
   "outputs": [],
   "source": [
    "# Print shapes information\n",
    "print(f'{blue}Data Shapes:'\n",
    "      f'{blue}\\n- Train Data           -> {red}{train_data.shape}'\n",
    "      f'{blue}\\n- Test Data            -> {red}{test_data.shape}'\n",
    "      f'{blue}\\n- Train Original Data  -> {red}{train_original_data.shape}'\n",
    "      f'{blue}\\n- Test Original Data   -> {red}{test_original_data.shape}\\n')"
   ]
  },
  {
   "cell_type": "markdown",
   "id": "ac9c4e68-88f1-41c8-9482-070c7a15159f",
   "metadata": {},
   "source": [
    "## Null Values Information"
   ]
  },
  {
   "cell_type": "code",
   "execution_count": null,
   "id": "5df28131-5d60-449f-b7bb-e9eb1cd929e3",
   "metadata": {
    "tags": []
   },
   "outputs": [],
   "source": [
    "# Print null values information\n",
    "print(f'{blue}Data Null Values:'\n",
    "      f'{blue}\\n- Train Data           -> {red}{train_data.isnull().any().sum()}'\n",
    "      f'{blue}\\n- Test Data            -> {red}{test_data.isnull().any().sum()}'\n",
    "      f'{blue}\\n- Train Original Data  -> {red}{train_original_data.isnull().any().sum()}'\n",
    "      f'{blue}\\n- Test Original Data   -> {red}{test_original_data.isnull().any().sum()}\\n')"
   ]
  },
  {
   "cell_type": "markdown",
   "id": "5bfbd6c0-83bc-427f-8760-6413b5f2d056",
   "metadata": {},
   "source": [
    "## Features Distributions"
   ]
  },
  {
   "cell_type": "code",
   "execution_count": null,
   "id": "1a7ff41a-d4ae-4818-961f-aff6990e78e9",
   "metadata": {
    "tags": []
   },
   "outputs": [],
   "source": [
    "# Plot the KDE of each feature\n",
    "figure, ax = plt.subplots(13, 5, figsize=(16, 40))\n",
    "ax = ax.flatten()\n",
    "\n",
    "# Fetch the data to plot (exclude the 'id' and 'label' columns)\n",
    "for index, column_name in enumerate(train_data.columns[1:-1]):\n",
    "    \n",
    "    # Plot data\n",
    "    sns.kdeplot(data=train_data[column_name],\n",
    "                label='Train',\n",
    "                ax=ax[index])\n",
    "    \n",
    "    sns.kdeplot(data=test_data[column_name],\n",
    "                label='Test',\n",
    "                ax=ax[index])\n",
    "    \n",
    "    sns.kdeplot(data=train_original_data[column_name], \n",
    "                label='Original Train', \n",
    "                ax=ax[index])\n",
    "    \n",
    "    ax[index].set_title(column_name, fontsize=14)\n",
    "    \n",
    "    ax[index].tick_params(labelrotation=45)\n",
    "    \n",
    "    # Retrieve legend information\n",
    "    handles = ax[index].get_legend_handles_labels()[0]\n",
    "    labels = ax[index].get_legend_handles_labels()[1]\n",
    "    ax[index].legend().remove()\n",
    "    \n",
    "# Remove the empty subplot\n",
    "figure.delaxes(ax[-1])\n",
    "\n",
    "# Set the legend\n",
    "figure.legend(handles, \n",
    "              labels, \n",
    "              loc='upper center', \n",
    "              bbox_to_anchor=(0.5, 1.03), \n",
    "              fontsize=12,\n",
    "              ncol=3)\n",
    "\n",
    "plt.tight_layout()"
   ]
  },
  {
   "cell_type": "markdown",
   "id": "717e1a02-cad3-45f5-9b75-63f464f682b5",
   "metadata": {},
   "source": [
    "- Distributions among Train and Test sets (both competition and original) are the same\n",
    "- Skewed distributions in few features"
   ]
  },
  {
   "cell_type": "markdown",
   "id": "d29debaa-f3f8-412d-a2d4-2ae559f1f1b3",
   "metadata": {},
   "source": [
    "## Label Classes Distribution"
   ]
  },
  {
   "cell_type": "code",
   "execution_count": null,
   "id": "dde39ab5-9704-48ad-bc99-b054df811363",
   "metadata": {
    "tags": []
   },
   "outputs": [],
   "source": [
    "# Plot the KDE of each feature\n",
    "figure, ax = plt.subplots(1, 2, figsize=(16, 12))\n",
    "ax = ax.flatten()\n",
    "\n",
    "# Plot 'prognosis' Pie Chart for competition data\n",
    "sns.countplot(data=train_data, \n",
    "              y='prognosis', \n",
    "              orient='v',\n",
    "              order=train_data['prognosis'].value_counts().index,\n",
    "              ax=ax[0])\n",
    "\n",
    "# Plot 'prognosis' Pie Chart for original data\n",
    "sns.countplot(data=train_original_data, \n",
    "              y='prognosis', \n",
    "              orient='v', \n",
    "              order=train_original_data['prognosis'].value_counts().index,\n",
    "              ax=ax[1])\n",
    "\n",
    "# Set plot titles\n",
    "ax[0].set_title('Train Data', fontsize=14)\n",
    "ax[1].set_title('Original Train Data', fontsize=14)\n",
    "    \n",
    "plt.tight_layout()"
   ]
  },
  {
   "cell_type": "markdown",
   "id": "b3ab384d-c005-4124-8e40-d19199dcf30a",
   "metadata": {},
   "source": [
    "- Identical label classes distribution among competition and original data"
   ]
  },
  {
   "cell_type": "markdown",
   "id": "0c577dc4-f1aa-4a34-beb4-5c08e87fb638",
   "metadata": {},
   "source": [
    "## Symptoms per Prognosis Distributions"
   ]
  },
  {
   "cell_type": "code",
   "execution_count": null,
   "id": "821fbd6b-051e-49e2-bbc6-35c2d254ba53",
   "metadata": {
    "tags": []
   },
   "outputs": [],
   "source": [
    "# Plot the KDE of each feature\n",
    "figure, ax = plt.subplots(3, 4, figsize=(16, 12))\n",
    "ax = ax.flatten()\n",
    "\n",
    "# Fetch prognosis\n",
    "for index, prognosis in enumerate(train_data['prognosis'].unique()):\n",
    "    \n",
    "    # Plot symptoms' values per prognosis\n",
    "    ax[index].imshow(train_data[train_data['prognosis'] == prognosis].iloc[:, 1:-1].values.T, cmap='Spectral')\n",
    "    \n",
    "    # Set y label\n",
    "    # TODO: Fix Warning\n",
    "    ax[index].set_yticklabels(train_data[train_data['prognosis'] == prognosis].iloc[:, 1:-1].columns.tolist(), \n",
    "                              fontdict={'fontsize': 10})\n",
    "    \n",
    "    # Set titles\n",
    "    ax[index].set_title(prognosis, fontsize=14)\n",
    "    \n",
    "# Remove the empty subplot\n",
    "figure.delaxes(ax[-1])\n",
    "    \n",
    "plt.tight_layout()"
   ]
  },
  {
   "cell_type": "markdown",
   "id": "66587a0b-f40d-449f-97cd-e2da6e050d8b",
   "metadata": {},
   "source": [
    "# Data Preparation"
   ]
  },
  {
   "cell_type": "markdown",
   "id": "f0d35b15-041c-4678-9c8e-d1ee699062bd",
   "metadata": {},
   "source": [
    "## Train & Test Split"
   ]
  },
  {
   "cell_type": "code",
   "execution_count": null,
   "id": "4631bced-92f9-469b-9313-d8c00d22b09a",
   "metadata": {
    "tags": []
   },
   "outputs": [],
   "source": [
    "# Define X and y for the training set\n",
    "X = train_data.iloc[:, 1:-1]\n",
    "y = train_data.iloc[:, -1]"
   ]
  },
  {
   "cell_type": "code",
   "execution_count": null,
   "id": "6c2b24f2-7c38-4fdd-8fe5-1ca14abe0b67",
   "metadata": {
    "tags": []
   },
   "outputs": [],
   "source": [
    "# Split training data into train and validation\n",
    "X_train, X_test, y_train, y_test = train_test_split(X, y, test_size=0.33, random_state=42)"
   ]
  },
  {
   "cell_type": "markdown",
   "id": "92fc4b55-57af-4a22-9835-11c2653a5121",
   "metadata": {},
   "source": [
    "# Model Training"
   ]
  },
  {
   "cell_type": "code",
   "execution_count": null,
   "id": "9bc3d680-0b70-46d7-965d-192db54e16e7",
   "metadata": {
    "tags": []
   },
   "outputs": [],
   "source": [
    "# Set MLflow Experiment\n",
    "mlflow_experiment_name = 'Vector Borne Disease'\n",
    "\n",
    "# Create experiment or retrieve already existing experiment\n",
    "try:\n",
    "    mlflow_experiment_id = mlflow.create_experiment(name=mlflow_experiment_name)\n",
    "except Exception as e:\n",
    "    mlflow_experiment_id = mlflow.get_experiment_by_name(mlflow_experiment_name).experiment_id"
   ]
  },
  {
   "cell_type": "code",
   "execution_count": null,
   "id": "a1685673-f325-45c6-ac39-4c6b9ca3ea37",
   "metadata": {
    "tags": []
   },
   "outputs": [],
   "source": [
    "# Define the used metrics\n",
    "metrics = ['Log Loss']"
   ]
  },
  {
   "cell_type": "code",
   "execution_count": null,
   "id": "49111375-070b-4bbf-899b-0310adb82ea1",
   "metadata": {
    "tags": []
   },
   "outputs": [],
   "source": [
    "# Initialize DataFrame of model performance\n",
    "performance = pd.DataFrame(columns=metrics)"
   ]
  },
  {
   "cell_type": "markdown",
   "id": "7c1adf69-80aa-409c-aebd-020d7224089e",
   "metadata": {},
   "source": [
    "## Logistic Regression"
   ]
  },
  {
   "cell_type": "code",
   "execution_count": null,
   "id": "a34d7a56-22b1-4d71-8c58-934cbffb1b8c",
   "metadata": {
    "tags": []
   },
   "outputs": [],
   "source": [
    "%%time\n",
    "\n",
    "# Start MLflow Run\n",
    "with mlflow.start_run(experiment_id=mlflow_experiment_id, \n",
    "                      run_name='Logistic Regression'):\n",
    "    \n",
    "    # Define the model\n",
    "    model_lr = LogisticRegression(multi_class='ovr', \n",
    "                                  solver='lbfgs')\n",
    "    \n",
    "    # Train the model\n",
    "    model_lr.fit(X_train, \n",
    "                 y_train)\n",
    "    \n",
    "    # Get predictions\n",
    "    predictions_lr = model_lr.predict(X_test)\n",
    "    \n",
    "    # Compute metrics\n",
    "    log_loss_lr = round(log_loss(y_test,\n",
    "                                 predictions_lr), 2)\n",
    "\n",
    "    print('Log Loss: {}'.format(log_loss_lr))\n",
    "    print('\\n')\n",
    "    \n",
    "    # Log model's evaluation metrics\n",
    "    mlflow.log_metrics({'Log Loss': log_loss_lr})"
   ]
  },
  {
   "cell_type": "code",
   "execution_count": null,
   "id": "cd15844b-31f5-4b2f-83db-483c912e6e67",
   "metadata": {},
   "outputs": [],
   "source": []
  }
 ],
 "metadata": {
  "kernelspec": {
   "display_name": "Python 3 (ipykernel)",
   "language": "python",
   "name": "python3"
  },
  "language_info": {
   "codemirror_mode": {
    "name": "ipython",
    "version": 3
   },
   "file_extension": ".py",
   "mimetype": "text/x-python",
   "name": "python",
   "nbconvert_exporter": "python",
   "pygments_lexer": "ipython3",
   "version": "3.10.5"
  },
  "toc-showcode": false
 },
 "nbformat": 4,
 "nbformat_minor": 5
}
