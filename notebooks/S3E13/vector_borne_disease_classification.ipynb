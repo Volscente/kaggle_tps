{
 "cells": [
  {
   "cell_type": "markdown",
   "id": "0dd1fa9a-0f25-467f-a930-7dcd9ec93c11",
   "metadata": {},
   "source": [
    "# Vector Borne Disease Classification\n",
    "\n",
    "The notebook is intended to predict the Vector Borne Disease given a set of symptoms and prognosis.\n",
    "The list of disease classes is:\n",
    "- Chikungunya\n",
    "- Dengue\n",
    "- Zika\n",
    "- Yellow Fever\n",
    "- Raft Valley Fever\n",
    "- West Nile Fever\n",
    "- Malaria\n",
    "- Tungiasis\n",
    "- Japanese Encephalitis\n",
    "- Plague\n",
    "- Lyme Disease"
   ]
  },
  {
   "cell_type": "code",
   "execution_count": null,
   "id": "595c58d6-b483-4982-a79d-7471ee4abbf9",
   "metadata": {
    "tags": []
   },
   "outputs": [],
   "source": [
    "# Import Standard Libraries\n",
    "import os\n",
    "\n",
    "import pandas as pd\n",
    "import matplotlib.pyplot as plt\n",
    "import seaborn as sns\n",
    "\n",
    "from pathlib import Path\n",
    "\n",
    "# Set Pandas Options\n"
   ]
  },
  {
   "cell_type": "code",
   "execution_count": null,
   "id": "05b5e9db-5721-409d-9d6c-e8afcee3476f",
   "metadata": {},
   "outputs": [],
   "source": [
    "# Define Seaborn theme parameters\n",
    "theme_parameters =  {\n",
    "    'axes.spines.right': False,\n",
    "    'axes.spines.top': False,\n",
    "    'grid.alpha':0.3,\n",
    "    'figure.figsize': (16, 6),\n",
    "    'font.family': 'Andale Mono',\n",
    "    'axes.titlesize': 24,\n",
    "    'figure.facecolor': '#E5E8E8',\n",
    "    'axes.facecolor': '#E5E8E8'\n",
    "}\n",
    "\n",
    "# Set the theme\n",
    "sns.set_theme(style='whitegrid',\n",
    "              palette=sns.color_palette('deep'), \n",
    "              rc=theme_parameters)"
   ]
  },
  {
   "cell_type": "markdown",
   "id": "c10b619b-2325-4413-a242-5ca152eb91be",
   "metadata": {},
   "source": [
    "# Read Data"
   ]
  },
  {
   "cell_type": "code",
   "execution_count": null,
   "id": "e22c458b-b1d3-430e-89fc-875dca2a6466",
   "metadata": {
    "tags": []
   },
   "outputs": [],
   "source": [
    "# Switch flag for Kaggle Cloud\n",
    "kaggle = False"
   ]
  },
  {
   "cell_type": "code",
   "execution_count": null,
   "id": "f69d471f-d86d-4a9d-a7f0-774525d0389b",
   "metadata": {
    "tags": []
   },
   "outputs": [],
   "source": [
    "# Read training data\n",
    "if kaggle:\n",
    "    \n",
    "    # Read data from Kaggle FS\n",
    "    train_data = pd.read_csv('/kaggle/input/playground-series-s3e1/train.csv')\n",
    "    test_data = pd.read_csv('/kaggle/input/playground-series-s3e1/test.csv')\n",
    "    \n",
    "else:\n",
    "    \n",
    "    # Define local data file paths\n",
    "    train_data_file_path = Path(os.path.abspath('')).parents[1] / 'data' / 'S3E13' / 'vector_borne_disease_train.csv'\n",
    "    test_data_file_path = Path(os.path.abspath('')).parents[1] / 'data' / 'S3E13' / 'vector_borne_disease_test.csv'\n",
    "    \n",
    "    train_data = pd.read_csv(train_data_file_path)\n",
    "    test_data = pd.read_csv(test_data_file_path)"
   ]
  },
  {
   "cell_type": "code",
   "execution_count": null,
   "id": "4966a98a-e9a1-432e-a990-f856a7be71be",
   "metadata": {
    "tags": []
   },
   "outputs": [],
   "source": [
    "train_data.head()"
   ]
  },
  {
   "cell_type": "code",
   "execution_count": null,
   "id": "26f9c9c9-a20d-486e-b9da-0dff3f9aab2f",
   "metadata": {},
   "outputs": [],
   "source": []
  }
 ],
 "metadata": {
  "kernelspec": {
   "display_name": "Python 3 (ipykernel)",
   "language": "python",
   "name": "python3"
  },
  "language_info": {
   "codemirror_mode": {
    "name": "ipython",
    "version": 3
   },
   "file_extension": ".py",
   "mimetype": "text/x-python",
   "name": "python",
   "nbconvert_exporter": "python",
   "pygments_lexer": "ipython3",
   "version": "3.10.5"
  },
  "toc-showcode": false
 },
 "nbformat": 4,
 "nbformat_minor": 5
}
