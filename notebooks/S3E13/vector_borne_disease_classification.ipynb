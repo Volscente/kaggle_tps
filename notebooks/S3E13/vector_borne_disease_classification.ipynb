{
 "cells": [
  {
   "cell_type": "markdown",
   "id": "0dd1fa9a-0f25-467f-a930-7dcd9ec93c11",
   "metadata": {},
   "source": [
    "# Vector Borne Disease Classification\n",
    "\n",
    "The notebook is intended to predict the Vector Borne Disease given a set of symptoms and prognosis.\n",
    "The list of disease classes is:\n",
    "- Chikungunya\n",
    "- Dengue\n",
    "- Zika\n",
    "- Yellow Fever\n",
    "- Raft Valley Fever\n",
    "- West Nile Fever\n",
    "- Malaria\n",
    "- Tungiasis\n",
    "- Japanese Encephalitis\n",
    "- Plague\n",
    "- Lyme Disease"
   ]
  },
  {
   "cell_type": "code",
   "execution_count": null,
   "id": "595c58d6-b483-4982-a79d-7471ee4abbf9",
   "metadata": {},
   "outputs": [],
   "source": []
  }
 ],
 "metadata": {
  "kernelspec": {
   "display_name": "Python 3 (ipykernel)",
   "language": "python",
   "name": "python3"
  },
  "language_info": {
   "codemirror_mode": {
    "name": "ipython",
    "version": 3
   },
   "file_extension": ".py",
   "mimetype": "text/x-python",
   "name": "python",
   "nbconvert_exporter": "python",
   "pygments_lexer": "ipython3",
   "version": "3.10.5"
  }
 },
 "nbformat": 4,
 "nbformat_minor": 5
}
