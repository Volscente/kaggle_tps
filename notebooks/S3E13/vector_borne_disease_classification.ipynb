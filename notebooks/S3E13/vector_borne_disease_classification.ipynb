{
 "cells": [
  {
   "cell_type": "markdown",
   "id": "0dd1fa9a-0f25-467f-a930-7dcd9ec93c11",
   "metadata": {},
   "source": [
    "# Vector Borne Disease Classification\n",
    "\n",
    "The notebook is intended to predict the Vector Borne Disease given a set of symptoms and prognosis.\n",
    "The list of disease classes is:\n",
    "- Chikungunya\n",
    "- Dengue\n",
    "- Zika\n",
    "- Yellow Fever\n",
    "- Raft Valley Fever\n",
    "- West Nile Fever\n",
    "- Malaria\n",
    "- Tungiasis\n",
    "- Japanese Encephalitis\n",
    "- Plague\n",
    "- Lyme Disease\n",
    "\n",
    "[Vectors](https://www.who.int/news-room/fact-sheets/detail/vector-borne-diseases#:~:text=and%20community%20mobilisation.-,Vectors,-Vectors%20are%20living) are living organisms that can transmit infectious pathogens between humans, or from animals to humans. Many of these vectors are bloodsucking insects, which ingest disease-producing microorganisms during a blood meal from an infected host (human or animal) and later transmit it into a new host, after the pathogen has replicated. Often, once a vector becomes infectious, they are capable of transmitting the pathogen for the rest of their life during each subsequent bite/blood meal.\n",
    "\n",
    "[Vector-borne diseases](https://www.who.int/news-room/fact-sheets/detail/vector-borne-diseases#:~:text=bite/blood%20meal.-,Vector%2Dborne%20diseases,-Vector%2Dborne%20diseases) are human illnesses caused by parasites, viruses and bacteria that are transmitted by vectors. Every year there are more than 700,000 deaths from diseases such as malaria, dengue, schistosomiasis, human African trypanosomiasis, leishmaniasis, Chagas disease, yellow fever, Japanese encephalitis and onchocerciasis.\n",
    "\n",
    "## Resoruces\n",
    "- [EDA Inspirational Notebook](https://www.kaggle.com/code/sergiosaharovskiy/ps-s3e13-2023-eda-and-submission)"
   ]
  },
  {
   "cell_type": "code",
   "execution_count": null,
   "id": "595c58d6-b483-4982-a79d-7471ee4abbf9",
   "metadata": {
    "tags": []
   },
   "outputs": [],
   "source": [
    "# Import Standard Libraries\n",
    "import os\n",
    "\n",
    "import pandas as pd\n",
    "import matplotlib.pyplot as plt\n",
    "import seaborn as sns\n",
    "\n",
    "from pathlib import Path\n",
    "from colorama import Style, Fore\n",
    "\n",
    "# Set Pandas Options\n",
    "pd.set_option('display.max_columns', 500)"
   ]
  },
  {
   "cell_type": "code",
   "execution_count": null,
   "id": "05b5e9db-5721-409d-9d6c-e8afcee3476f",
   "metadata": {},
   "outputs": [],
   "source": [
    "# Define Seaborn theme parameters\n",
    "theme_parameters =  {\n",
    "    'axes.spines.right': False,\n",
    "    'axes.spines.top': False,\n",
    "    'grid.alpha':0.3,\n",
    "    'figure.figsize': (16, 6),\n",
    "    'font.family': 'Andale Mono',\n",
    "    'axes.titlesize': 24,\n",
    "    'figure.facecolor': '#E5E8E8',\n",
    "    'axes.facecolor': '#E5E8E8'\n",
    "}\n",
    "\n",
    "# Set the theme\n",
    "sns.set_theme(style='whitegrid',\n",
    "              palette=sns.color_palette('deep'), \n",
    "              rc=theme_parameters)"
   ]
  },
  {
   "cell_type": "code",
   "execution_count": null,
   "id": "c90653c2-40c5-4782-b75e-35a360ef5e2a",
   "metadata": {
    "tags": []
   },
   "outputs": [],
   "source": [
    "# Define Colors\n",
    "black = Style.BRIGHT + Fore.BLACK\n",
    "magenta = Style.BRIGHT + Fore.MAGENTA\n",
    "red = Style.BRIGHT + Fore.RED\n",
    "blue = Style.BRIGHT + Fore.BLUE\n",
    "reset_colors = Style.RESET_ALL"
   ]
  },
  {
   "cell_type": "markdown",
   "id": "c10b619b-2325-4413-a242-5ca152eb91be",
   "metadata": {},
   "source": [
    "# Read Data"
   ]
  },
  {
   "cell_type": "code",
   "execution_count": null,
   "id": "e22c458b-b1d3-430e-89fc-875dca2a6466",
   "metadata": {
    "tags": []
   },
   "outputs": [],
   "source": [
    "# Switch flag for Kaggle Cloud\n",
    "kaggle = False"
   ]
  },
  {
   "cell_type": "code",
   "execution_count": null,
   "id": "f69d471f-d86d-4a9d-a7f0-774525d0389b",
   "metadata": {
    "tags": []
   },
   "outputs": [],
   "source": [
    "# Read training data\n",
    "if kaggle:\n",
    "    \n",
    "    # Read data from Kaggle FS\n",
    "    train_data = pd.read_csv('/kaggle/input/playground-series-s3e1/train.csv')\n",
    "    test_data = pd.read_csv('/kaggle/input/playground-series-s3e1/test.csv')\n",
    "    \n",
    "else:\n",
    "    \n",
    "    # Define local data file paths\n",
    "    train_data_file_path = Path(os.path.abspath('')).parents[1] / 'data' / 'S3E13' / 'vector_borne_disease_train.csv'\n",
    "    test_data_file_path = Path(os.path.abspath('')).parents[1] / 'data' / 'S3E13' / 'vector_borne_disease_test.csv'\n",
    "    train_data_original_file_path = Path(os.path.abspath('')).parents[1] / 'data' / 'S3E13' / 'vector_borne_disease_original_train.csv'\n",
    "    test_data_original_file_path = Path(os.path.abspath('')).parents[1] / 'data' / 'S3E13' / 'vector_borne_disease_original_test.csv'\n",
    "    \n",
    "    train_data = pd.read_csv(train_data_file_path)\n",
    "    test_data = pd.read_csv(test_data_file_path)\n",
    "    train_original_data = pd.read_csv(train_data_file_path)\n",
    "    test_original_data = pd.read_csv(test_data_file_path)"
   ]
  },
  {
   "cell_type": "code",
   "execution_count": null,
   "id": "4966a98a-e9a1-432e-a990-f856a7be71be",
   "metadata": {
    "tags": []
   },
   "outputs": [],
   "source": [
    "train_data.head()"
   ]
  },
  {
   "cell_type": "code",
   "execution_count": null,
   "id": "26f9c9c9-a20d-486e-b9da-0dff3f9aab2f",
   "metadata": {
    "tags": []
   },
   "outputs": [],
   "source": [
    "train_data.info()"
   ]
  },
  {
   "cell_type": "markdown",
   "id": "0dbd5b8c-99c0-45b7-af0c-12936ae1ec62",
   "metadata": {},
   "source": [
    "# Exploratory Data Analysis (EDA)"
   ]
  },
  {
   "cell_type": "markdown",
   "id": "f02218c3-9cbd-4030-822d-095830651e1c",
   "metadata": {},
   "source": [
    "## Shape Information"
   ]
  },
  {
   "cell_type": "code",
   "execution_count": null,
   "id": "e40be3ec-5f31-4001-8370-f4b7d2c64840",
   "metadata": {
    "tags": []
   },
   "outputs": [],
   "source": [
    "# Print shapes information\n",
    "print(f'{blue} Data Shapes:'\n",
    "      f'{blue}\\n- Train Data           -> {red}{train_data.shape}'\n",
    "      f'{blue}\\n- Test Data            -> {red}{test_data.shape}'\n",
    "      f'{blue}\\n- Train Original Data  -> {red}{train_original_data.shape}'\n",
    "      f'{blue}\\n- Test Original Data   -> {red}{test_original_data.shape}\\n')"
   ]
  },
  {
   "cell_type": "markdown",
   "id": "5bfbd6c0-83bc-427f-8760-6413b5f2d056",
   "metadata": {},
   "source": [
    "## Features Distributions"
   ]
  },
  {
   "cell_type": "code",
   "execution_count": null,
   "id": "1a7ff41a-d4ae-4818-961f-aff6990e78e9",
   "metadata": {
    "tags": []
   },
   "outputs": [],
   "source": [
    "# Plot the KDE of each feature\n",
    "figure, ax = plt.subplots(13, 5, figsize=(16, 40))\n",
    "ax = ax.flatten()\n",
    "\n",
    "# Fetch the data to plot (exclude the 'id' and 'label' columns)\n",
    "for index, column_name in enumerate(train_data.columns[1:-1]):\n",
    "    \n",
    "    # Plot data\n",
    "    sns.kdeplot(data=train_data[column_name],\n",
    "                label='Train',\n",
    "                ax=ax[index])\n",
    "    \n",
    "    sns.kdeplot(data=test_data[column_name],\n",
    "                label='Test',\n",
    "                ax=ax[index])\n",
    "    \n",
    "    sns.kdeplot(data=train_original_data[column_name], \n",
    "                label='Original Train', \n",
    "                ax=ax[index])\n",
    "    \n",
    "    ax[index].set_title(column_name, fontsize=14)\n",
    "    \n",
    "    ax[index].tick_params(labelrotation=45)\n",
    "    \n",
    "    # Retrieve legend information\n",
    "    handles = ax[index].get_legend_handles_labels()[0]\n",
    "    labels = ax[index].get_legend_handles_labels()[1]\n",
    "    ax[index].legend().remove()\n",
    "    \n",
    "# Remove the empty subplot\n",
    "figure.delaxes(ax[-1])\n",
    "\n",
    "# Set the legend\n",
    "figure.legend(handles, \n",
    "              labels, \n",
    "              loc='upper center', \n",
    "              bbox_to_anchor=(0.5, 1.03), \n",
    "              fontsize=12,\n",
    "              ncol=3)\n",
    "\n",
    "plt.tight_layout()"
   ]
  }
 ],
 "metadata": {
  "kernelspec": {
   "display_name": "Python 3 (ipykernel)",
   "language": "python",
   "name": "python3"
  },
  "language_info": {
   "codemirror_mode": {
    "name": "ipython",
    "version": 3
   },
   "file_extension": ".py",
   "mimetype": "text/x-python",
   "name": "python",
   "nbconvert_exporter": "python",
   "pygments_lexer": "ipython3",
   "version": "3.10.5"
  },
  "toc-showcode": false
 },
 "nbformat": 4,
 "nbformat_minor": 5
}
