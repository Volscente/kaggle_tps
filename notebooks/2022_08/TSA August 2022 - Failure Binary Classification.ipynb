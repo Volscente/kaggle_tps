{
 "cells": [
  {
   "cell_type": "markdown",
   "id": "c76de346-7fae-4e49-901d-795e830b586c",
   "metadata": {},
   "source": [
    "# Introduction\n",
    "\n",
    "The notebook is intended to predict the chance failure of a specific product code given its attributes and measurements.\n",
    "\n",
    "This is the [dataset used](https://www.kaggle.com/competitions/tabular-playground-series-aug-2022)."
   ]
  },
  {
   "cell_type": "code",
   "execution_count": null,
   "id": "02578483-9706-4a6e-b017-51e49f879b6c",
   "metadata": {},
   "outputs": [],
   "source": [
    "# Import Standard Libraries\n",
    "import pandas as pd\n",
    "import numpy as np\n",
    "\n",
    "import plotly.express as px\n",
    "from plotly.io import read_json\n",
    "\n",
    "from sklearn.compose import ColumnTransformer\n",
    "from sklearn.pipeline import Pipeline\n",
    "from sklearn.impute import SimpleImputer\n",
    "from sklearn.preprocessing import OneHotEncoder\n",
    "from sklearn.model_selection import train_test_split, StratifiedShuffleSplit, cross_val_score\n",
    "from sklearn.metrics import precision_score, accuracy_score, recall_score, f1_score, roc_auc_score\n",
    "from sklearn.linear_model import LogisticRegression"
   ]
  },
  {
   "cell_type": "markdown",
   "id": "f028290b-4ac7-48fe-8e64-23f6ae9fe4fe",
   "metadata": {},
   "source": [
    "# Read Data"
   ]
  },
  {
   "cell_type": "code",
   "execution_count": null,
   "id": "65f682c9-5cea-4d1a-af62-34bbb78cb257",
   "metadata": {
    "jupyter": {
     "source_hidden": true
    },
    "tags": []
   },
   "outputs": [],
   "source": [
    "# Read train & test data\n",
    "train_data = pd.read_csv('./../../data/2022_08/train.csv')\n",
    "test_data = pd.read_csv('./../../data/2022_08/test.csv')"
   ]
  },
  {
   "cell_type": "code",
   "execution_count": null,
   "id": "a014b273-0bd6-472e-a13a-811f2f9c5f33",
   "metadata": {
    "jupyter": {
     "source_hidden": true
    },
    "tags": []
   },
   "outputs": [],
   "source": [
    "train_data.info()"
   ]
  },
  {
   "cell_type": "code",
   "execution_count": null,
   "id": "17f50895-e258-4318-8842-4f25de928907",
   "metadata": {
    "jupyter": {
     "source_hidden": true
    },
    "tags": []
   },
   "outputs": [],
   "source": [
    "train_data.head()"
   ]
  },
  {
   "cell_type": "markdown",
   "id": "6b19cadc-69a7-4abd-85b2-a8f56eac61be",
   "metadata": {},
   "source": [
    "# Exploratory Data Analysis"
   ]
  },
  {
   "cell_type": "markdown",
   "id": "3bf2ffba-4968-43ef-b0ba-72fc420608a7",
   "metadata": {},
   "source": [
    "## id"
   ]
  },
  {
   "cell_type": "code",
   "execution_count": null,
   "id": "f0dd8b32-e3b3-4bd8-bf99-b701401c3942",
   "metadata": {
    "jupyter": {
     "source_hidden": true
    },
    "tags": []
   },
   "outputs": [],
   "source": [
    "# Check for duplicates\n",
    "print('ID duplicates: {}'.format(len(train_data[train_data['id'].duplicated()])))"
   ]
  },
  {
   "cell_type": "markdown",
   "id": "593f6797-5c76-4f7c-bbf0-fa53cd726032",
   "metadata": {},
   "source": [
    "## Product Code"
   ]
  },
  {
   "cell_type": "code",
   "execution_count": null,
   "id": "ecec4493-67f5-4941-8f6f-6fd58486806c",
   "metadata": {
    "jupyter": {
     "source_hidden": true
    },
    "tags": []
   },
   "outputs": [],
   "source": [
    "# Check for NaN values\n",
    "print('Product Code NaN values: {}'.format(len(train_data[train_data['product_code'].isna()])))"
   ]
  },
  {
   "cell_type": "code",
   "execution_count": null,
   "id": "987a461f-405d-484b-8a09-a7bab8d31913",
   "metadata": {
    "jupyter": {
     "source_hidden": true
    },
    "tags": []
   },
   "outputs": [],
   "source": [
    "# Plot the Histogram of 'product_code' Distribution\n",
    "figure = px.histogram(train_data, \n",
    "                      x='product_code', \n",
    "                      title='Product Code Distribution', \n",
    "                      labels={'product_code':'Product Code',\n",
    "                              'count': 'Share'},\n",
    "                      color_discrete_sequence=['darkgreen'],\n",
    "                      height=500,\n",
    "                      histnorm='',\n",
    "                      template='plotly_dark')\n",
    "\n",
    "figure.update_layout(yaxis_title='Share', \n",
    "                     font=dict(family=\"PT Sans\", \n",
    "                               size=14), \n",
    "                     title_font=dict(family=\"PT Sans\",\n",
    "                                     size=30), \n",
    "                     title_x=0.5)\n",
    "\n",
    "# Save figure\n",
    "figure.write_json(\"./plots/product_code_distribution.json\")\n",
    "\n",
    "# Read & plot figure\n",
    "read_json('./plots/product_code_distribution.json').show()"
   ]
  },
  {
   "cell_type": "markdown",
   "id": "3e265707-5a73-47a3-9c9e-821e323e5cb3",
   "metadata": {},
   "source": [
    "## loading"
   ]
  },
  {
   "cell_type": "code",
   "execution_count": null,
   "id": "0e60ef61-9446-4870-87c9-4a6445ba0e0c",
   "metadata": {
    "jupyter": {
     "source_hidden": true
    },
    "tags": []
   },
   "outputs": [],
   "source": [
    "# Check for NaN values\n",
    "print('Loading NaN values: {}'.format(len(train_data[train_data['loading'].isna()])))"
   ]
  },
  {
   "cell_type": "code",
   "execution_count": null,
   "id": "2ed6349e-9879-4ca8-a330-58fd58824e10",
   "metadata": {
    "jupyter": {
     "source_hidden": true
    },
    "tags": []
   },
   "outputs": [],
   "source": [
    "# Plot boxplot of 'loading'\n",
    "figure = px.box(train_data, \n",
    "                x='loading', \n",
    "                title='Loading Distribution',\n",
    "                color_discrete_sequence=['darkgreen'],\n",
    "                template='plotly_dark')\n",
    "\n",
    "figure.update_layout(font=dict(family=\"PT Sans\", \n",
    "                               size=14), \n",
    "                     title_font=dict(family=\"PT Sans\",\n",
    "                                     size=30), \n",
    "                     title_x=0.5)\n",
    "\n",
    "# Save figure\n",
    "figure.write_json(\"./plots/loading_distribution.json\")\n",
    "\n",
    "# Read & plot figure\n",
    "read_json('./plots/loading_distribution.json').show()"
   ]
  },
  {
   "cell_type": "markdown",
   "id": "0362b702-f8a1-4762-bc01-1dcfea3c1bfe",
   "metadata": {},
   "source": [
    "Fill NaN values and clean outliers."
   ]
  },
  {
   "cell_type": "code",
   "execution_count": null,
   "id": "d1c1a741-1989-4be4-a623-20b5ee4220a9",
   "metadata": {
    "jupyter": {
     "source_hidden": true
    },
    "tags": []
   },
   "outputs": [],
   "source": [
    "# Plot the 'loading' distribution with respect to the 'product_code'\n",
    "figure = px.box(train_data, \n",
    "                x='product_code', \n",
    "                y='loading',\n",
    "                points='all',\n",
    "                color='product_code',\n",
    "                title='Loading Distribution per Product Code',\n",
    "                color_discrete_sequence=px.colors.qualitative.Set3,\n",
    "                height=500,\n",
    "                template='plotly_dark')\n",
    "\n",
    "figure.update_layout(font=dict(family=\"PT Sans\", \n",
    "                               size=14), \n",
    "                     title_font=dict(family=\"PT Sans\",\n",
    "                                     size=30), \n",
    "                     title_x=0.5)\n",
    "\n",
    "# Save figure\n",
    "figure.write_json(\"./plots/loading_product_code_distribution.json\")\n",
    "\n",
    "# Read & plot figure\n",
    "read_json('./plots/loading_product_code_distribution.json').show()"
   ]
  },
  {
   "cell_type": "markdown",
   "id": "7b5b137e-7929-441e-8159-793046d2f51c",
   "metadata": {},
   "source": [
    "## Attributes"
   ]
  },
  {
   "cell_type": "code",
   "execution_count": null,
   "id": "c121d60f-39da-4539-9138-09f728e0b686",
   "metadata": {
    "jupyter": {
     "source_hidden": true
    },
    "tags": []
   },
   "outputs": [],
   "source": [
    "# Check for Nan Values\n",
    "for i in range(4):\n",
    "\n",
    "    print('Attribute {} NaN value count: {}'.format(i, len(train_data[train_data['attribute_' + str(i)].isna()])))"
   ]
  },
  {
   "cell_type": "markdown",
   "id": "7610b3c6-c4a1-4e9e-b37d-bef787d0e93c",
   "metadata": {},
   "source": [
    "## Failure"
   ]
  },
  {
   "cell_type": "code",
   "execution_count": null,
   "id": "2111ddeb-5160-45bd-be58-cfb3121c4f6a",
   "metadata": {
    "jupyter": {
     "source_hidden": true
    },
    "tags": []
   },
   "outputs": [],
   "source": [
    "# Check 'failure' NaN values\n",
    "print('Failure NaN values: {}'.format(len(train_data[train_data['failure'].isna()])))"
   ]
  },
  {
   "cell_type": "code",
   "execution_count": null,
   "id": "74e19cfc-34d3-4aa2-b8d8-085f9dbf04e3",
   "metadata": {
    "jupyter": {
     "source_hidden": true
    },
    "tags": []
   },
   "outputs": [],
   "source": [
    "# Plot the Histogram of 'failure' Distribution\n",
    "figure = px.histogram(train_data, \n",
    "                      x='failure', \n",
    "                      color_discrete_sequence=['darkgreen'],\n",
    "                      title='Failure Distribution', \n",
    "                      labels={'failure':'Failure'},\n",
    "                      height=500,\n",
    "                      histnorm='percent',\n",
    "                      template='plotly_dark')\n",
    "\n",
    "figure.update_layout(yaxis_title='Share', \n",
    "                     font=dict(family=\"PT Sans\", \n",
    "                               size=14), \n",
    "                     title_font=dict(family=\"PT Sans\",\n",
    "                                     size=30), \n",
    "                     title_x=0.5)\n",
    "\n",
    "figure.show()"
   ]
  },
  {
   "cell_type": "markdown",
   "id": "9858d942-1f94-4612-8505-1aca28ffd707",
   "metadata": {},
   "source": [
    "Imbalanced classes, classic!"
   ]
  },
  {
   "cell_type": "markdown",
   "id": "993639a6-241c-4267-9eb9-ecdf7a30f41a",
   "metadata": {},
   "source": [
    "# Data Preparation"
   ]
  },
  {
   "cell_type": "markdown",
   "id": "8b9caadc-10e8-422e-9937-7e372d3a812d",
   "metadata": {},
   "source": [
    "## Features and Labels Definition"
   ]
  },
  {
   "cell_type": "code",
   "execution_count": null,
   "id": "6fe3900c-4248-435a-ad3d-7fe0df07e616",
   "metadata": {
    "jupyter": {
     "source_hidden": true
    },
    "tags": []
   },
   "outputs": [],
   "source": [
    "# Define features and labels\n",
    "categorical_features = ['product_code', \n",
    "                        'attribute_0', \n",
    "                        'attribute_1']\n",
    "\n",
    "numerical_integer_features = ['attribute_2', \n",
    "                              'attribute_3', \n",
    "                              'measurement_0', \n",
    "                              'measurement_1', \n",
    "                              'measurement_2']\n",
    "\n",
    "numerical_float_featues = ['loading', \n",
    "                           'measurement_3', \n",
    "                           'measurement_4', \n",
    "                           'measurement_5', \n",
    "                           'measurement_6', \n",
    "                           'measurement_7', \n",
    "                           'measurement_8', \n",
    "                           'measurement_9', \n",
    "                           'measurement_10', \n",
    "                           'measurement_11', \n",
    "                           'measurement_12', \n",
    "                           'measurement_13', \n",
    "                           'measurement_14', \n",
    "                           'measurement_15',\n",
    "                           'measurement_16', \n",
    "                           'measurement_17']\n",
    "\n",
    "label = ['failure']"
   ]
  },
  {
   "cell_type": "markdown",
   "id": "f6238180-98b7-4ecb-8fc9-755b9ca5486c",
   "metadata": {},
   "source": [
    "## Fill NaN Values"
   ]
  },
  {
   "cell_type": "code",
   "execution_count": null,
   "id": "b6e3336b-363a-40bc-a744-179ab0b1cacc",
   "metadata": {
    "tags": []
   },
   "outputs": [],
   "source": [
    "# Preprocessing for numerical data\n",
    "numerical_transformer = SimpleImputer(strategy='constant')\n",
    "\n",
    "# Preprocessing for categorical data\n",
    "categorical_transformer = Pipeline(steps=[\n",
    "    ('Imputer', SimpleImputer(strategy='most_frequent')),\n",
    "    ('One-Hot Encoder', OneHotEncoder(handle_unknown='ignore'))\n",
    "])\n",
    "\n",
    "# Bundle preprocessing for numerical and categorical data\n",
    "preprocessor = ColumnTransformer(\n",
    "    transformers=[\n",
    "        ('Numerical Preprocessing', numerical_transformer, numerical_integer_features + numerical_float_featues),\n",
    "        ('Categorical Preprocessing', categorical_transformer, categorical_features)\n",
    "    ])"
   ]
  },
  {
   "cell_type": "markdown",
   "id": "085558a4-2f3b-448b-9ecd-621e1acb590d",
   "metadata": {},
   "source": [
    "# Train & Test Split"
   ]
  },
  {
   "cell_type": "code",
   "execution_count": null,
   "id": "322a84f1-b66d-49f3-8f96-09d1308d2aa8",
   "metadata": {},
   "outputs": [],
   "source": [
    "# Define X and y for the training set\n",
    "X = train_data.drop(['failure'], axis=1)\n",
    "y = train_data['failure']"
   ]
  },
  {
   "cell_type": "code",
   "execution_count": null,
   "id": "095a2350-d168-4772-af45-5144509ae7c5",
   "metadata": {},
   "outputs": [],
   "source": [
    "# Split training data into train and validation\n",
    "X_train, X_test, y_train, y_test = train_test_split(X, y, test_size=0.33, random_state=42)"
   ]
  },
  {
   "cell_type": "code",
   "execution_count": null,
   "id": "e3e71e59-c2f1-4843-b28a-37dc88fa262e",
   "metadata": {},
   "outputs": [],
   "source": [
    "# Define the a Stratified K-fold Shuffle Splitter\n",
    "stratified_kfold = StratifiedShuffleSplit(n_splits=10,\n",
    "                                          test_size=.3, \n",
    "                                          random_state=0)"
   ]
  },
  {
   "cell_type": "markdown",
   "id": "947557df-1848-421a-a002-6fb92d69efbe",
   "metadata": {},
   "source": [
    "# Model Definition"
   ]
  },
  {
   "cell_type": "code",
   "execution_count": null,
   "id": "0aecc2cc-9367-4701-96d1-ae521bd62cb8",
   "metadata": {},
   "outputs": [],
   "source": [
    "# Define the used metrics\n",
    "metrics = ['accuracy', 'precision', 'recall', 'f1', 'roc_auc', 'cv_score']"
   ]
  },
  {
   "cell_type": "code",
   "execution_count": null,
   "id": "b24bc519-d14e-4ec2-b9bd-355452d23902",
   "metadata": {},
   "outputs": [],
   "source": [
    "# Initialize DataFrame of model performance\n",
    "performance = pd.DataFrame(columns=metrics)"
   ]
  },
  {
   "cell_type": "markdown",
   "id": "28d1db33-ee09-45c1-b304-65f2dc0a1f03",
   "metadata": {},
   "source": [
    "## Logistic Regression"
   ]
  },
  {
   "cell_type": "code",
   "execution_count": null,
   "id": "c58b3612-dc18-4b61-acc5-82d29a81f9d8",
   "metadata": {},
   "outputs": [],
   "source": [
    "# Model's Hyperparameters\n",
    "max_iter_lr = 1000"
   ]
  },
  {
   "cell_type": "code",
   "execution_count": null,
   "id": "01d63da5-a9fc-4563-9bbb-1d25119c5361",
   "metadata": {},
   "outputs": [],
   "source": [
    "# Define the model\n",
    "model_lr = LogisticRegression(max_iter=max_iter_lr)\n",
    "\n",
    "# Define the pipeline\n",
    "lr_pipe = Pipeline([\n",
    "    ('data_preprocessing', preprocessor),\n",
    "    ('logistic_regression', model_lr)\n",
    "])\n",
    "\n",
    "# Train the pipeline\n",
    "lr_pipe.fit(X_train, y_train)\n",
    "\n",
    "# Predictions\n",
    "predictions_lr_pipe = lr_pipe.predict(X_test)\n",
    "\n",
    "# Model evaluation\n",
    "accuracy_lr_pipe = round(accuracy_score(y_test, predictions_lr_pipe) * 100, 2)\n",
    "precision_lr_pipe = round(precision_score(y_test, predictions_lr_pipe) * 100, 2)\n",
    "recall_lr_pipe = round(recall_score(y_test, predictions_lr_pipe) * 100, 2)\n",
    "f1_lr_pipe = round(f1_score(y_test, predictions_lr_pipe) * 100, 2)\n",
    "roc_auc_lr_pipe = round(roc_auc_score(y_test, predictions_lr_pipe) * 100, 2)\n",
    "cv_score_lr_pipe = round(cross_val_score(lr_pipe, X, y, cv=stratified_kfold).mean() * 100, 2)\n",
    "\n",
    "print('Model accuracy: {}%'.format(accuracy_lr_pipe))\n",
    "print('Model precision: {}%'.format(precision_lr_pipe))\n",
    "print('Model recall: {}%'.format(recall_lr_pipe))\n",
    "print('Model f1 score: {}%'.format(f1_lr_pipe))\n",
    "print('Model ROC AUC: {}%'.format(roc_auc_lr_pipe))\n",
    "print('Model Cross Validation score: {}%'.format(cv_score_lr_pipe))"
   ]
  },
  {
   "cell_type": "code",
   "execution_count": null,
   "id": "1673023d-a5a5-4eac-a1d9-d86e1534976b",
   "metadata": {},
   "outputs": [],
   "source": [
    "# Update 'performance' DataFrame\n",
    "performance.loc['logistic_regression'] = [accuracy_lr_pipe, \n",
    "                                          precision_lr_pipe, \n",
    "                                          recall_lr_pipe, \n",
    "                                          f1_lr_pipe, \n",
    "                                          roc_auc_lr_pipe, \n",
    "                                          cv_score_lr_pipe]"
   ]
  }
 ],
 "metadata": {
  "kernelspec": {
   "display_name": "Python 3 (ipykernel)",
   "language": "python",
   "name": "python3"
  },
  "language_info": {
   "codemirror_mode": {
    "name": "ipython",
    "version": 3
   },
   "file_extension": ".py",
   "mimetype": "text/x-python",
   "name": "python",
   "nbconvert_exporter": "python",
   "pygments_lexer": "ipython3",
   "version": "3.10.5"
  }
 },
 "nbformat": 4,
 "nbformat_minor": 5
}
