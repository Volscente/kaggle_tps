{
 "cells": [
  {
   "cell_type": "markdown",
   "id": "c76de346-7fae-4e49-901d-795e830b586c",
   "metadata": {},
   "source": [
    "# Introduction\n",
    "\n",
    "The notebook is intended to predict the chance failure of a specific product code given its attributes and measurements.\n",
    "\n",
    "This is the [dataset used](https://www.kaggle.com/competitions/tabular-playground-series-aug-2022)."
   ]
  },
  {
   "cell_type": "code",
   "execution_count": null,
   "id": "02578483-9706-4a6e-b017-51e49f879b6c",
   "metadata": {},
   "outputs": [],
   "source": [
    "# Import Standard Libraries\n",
    "import pandas as pd\n",
    "import numpy as np\n",
    "\n",
    "import plotly.express as px\n",
    "from plotly.io import read_json\n",
    "\n",
    "from sklearn.compose import ColumnTransformer\n",
    "from sklearn.pipeline import Pipeline\n",
    "from sklearn.impute import SimpleImputer\n",
    "from sklearn.preprocessing import OneHotEncoder, StandardScaler\n",
    "from sklearn.experimental import enable_halving_search_cv\n",
    "from sklearn.model_selection import train_test_split, StratifiedShuffleSplit, cross_val_score, HalvingGridSearchCV, RandomizedSearchCV\n",
    "from sklearn.metrics import precision_score, accuracy_score, recall_score, f1_score, roc_auc_score\n",
    "from sklearn.linear_model import LogisticRegression, LogisticRegressionCV"
   ]
  },
  {
   "cell_type": "markdown",
   "id": "f028290b-4ac7-48fe-8e64-23f6ae9fe4fe",
   "metadata": {},
   "source": [
    "# Read Data"
   ]
  },
  {
   "cell_type": "code",
   "execution_count": null,
   "id": "65f682c9-5cea-4d1a-af62-34bbb78cb257",
   "metadata": {
    "jupyter": {
     "source_hidden": true
    },
    "tags": []
   },
   "outputs": [],
   "source": [
    "# Read train & test data\n",
    "train_data = pd.read_csv('./../../data/2022_08/train.csv')\n",
    "test_data = pd.read_csv('./../../data/2022_08/test.csv')"
   ]
  },
  {
   "cell_type": "code",
   "execution_count": null,
   "id": "a014b273-0bd6-472e-a13a-811f2f9c5f33",
   "metadata": {
    "jupyter": {
     "source_hidden": true
    },
    "tags": []
   },
   "outputs": [],
   "source": [
    "train_data.info()"
   ]
  },
  {
   "cell_type": "code",
   "execution_count": null,
   "id": "17f50895-e258-4318-8842-4f25de928907",
   "metadata": {
    "jupyter": {
     "source_hidden": true
    },
    "tags": []
   },
   "outputs": [],
   "source": [
    "train_data.head()"
   ]
  },
  {
   "cell_type": "markdown",
   "id": "6b19cadc-69a7-4abd-85b2-a8f56eac61be",
   "metadata": {},
   "source": [
    "# Exploratory Data Analysis"
   ]
  },
  {
   "cell_type": "markdown",
   "id": "3bf2ffba-4968-43ef-b0ba-72fc420608a7",
   "metadata": {},
   "source": [
    "## id"
   ]
  },
  {
   "cell_type": "code",
   "execution_count": null,
   "id": "f0dd8b32-e3b3-4bd8-bf99-b701401c3942",
   "metadata": {
    "jupyter": {
     "source_hidden": true
    },
    "tags": []
   },
   "outputs": [],
   "source": [
    "# Check for duplicates\n",
    "print('ID duplicates: {}'.format(len(train_data[train_data['id'].duplicated()])))"
   ]
  },
  {
   "cell_type": "markdown",
   "id": "593f6797-5c76-4f7c-bbf0-fa53cd726032",
   "metadata": {},
   "source": [
    "## Product Code"
   ]
  },
  {
   "cell_type": "code",
   "execution_count": null,
   "id": "ecec4493-67f5-4941-8f6f-6fd58486806c",
   "metadata": {
    "jupyter": {
     "source_hidden": true
    },
    "tags": []
   },
   "outputs": [],
   "source": [
    "# Check for NaN values\n",
    "print('Product Code NaN values: {}'.format(len(train_data[train_data['product_code'].isna()])))"
   ]
  },
  {
   "cell_type": "code",
   "execution_count": null,
   "id": "987a461f-405d-484b-8a09-a7bab8d31913",
   "metadata": {
    "jupyter": {
     "source_hidden": true
    },
    "tags": []
   },
   "outputs": [],
   "source": [
    "# Plot the Histogram of 'product_code' Distribution\n",
    "figure = px.histogram(train_data, \n",
    "                      x='product_code', \n",
    "                      title='Product Code Distribution', \n",
    "                      labels={'product_code':'Product Code',\n",
    "                              'count': 'Share'},\n",
    "                      color_discrete_sequence=['darkgreen'],\n",
    "                      height=500,\n",
    "                      histnorm='',\n",
    "                      template='plotly_dark')\n",
    "\n",
    "figure.update_layout(yaxis_title='Share', \n",
    "                     font=dict(family=\"PT Sans\", \n",
    "                               size=14), \n",
    "                     title_font=dict(family=\"PT Sans\",\n",
    "                                     size=30), \n",
    "                     title_x=0.5)\n",
    "\n",
    "# Plot\n",
    "figure.show()"
   ]
  },
  {
   "cell_type": "markdown",
   "id": "3e265707-5a73-47a3-9c9e-821e323e5cb3",
   "metadata": {},
   "source": [
    "## loading"
   ]
  },
  {
   "cell_type": "code",
   "execution_count": null,
   "id": "0e60ef61-9446-4870-87c9-4a6445ba0e0c",
   "metadata": {
    "jupyter": {
     "source_hidden": true
    },
    "tags": []
   },
   "outputs": [],
   "source": [
    "# Check for NaN values\n",
    "print('Loading NaN values: {}'.format(len(train_data[train_data['loading'].isna()])))"
   ]
  },
  {
   "cell_type": "code",
   "execution_count": null,
   "id": "2ed6349e-9879-4ca8-a330-58fd58824e10",
   "metadata": {
    "jupyter": {
     "source_hidden": true
    },
    "tags": []
   },
   "outputs": [],
   "source": [
    "# Plot boxplot of 'loading'\n",
    "figure = px.box(train_data, \n",
    "                x='loading', \n",
    "                title='Loading Distribution',\n",
    "                color_discrete_sequence=['darkgreen'],\n",
    "                template='plotly_dark')\n",
    "\n",
    "figure.update_layout(font=dict(family=\"PT Sans\", \n",
    "                               size=14), \n",
    "                     title_font=dict(family=\"PT Sans\",\n",
    "                                     size=30), \n",
    "                     title_x=0.5)\n",
    "\n",
    "# Plot\n",
    "figure.show()"
   ]
  },
  {
   "cell_type": "markdown",
   "id": "0362b702-f8a1-4762-bc01-1dcfea3c1bfe",
   "metadata": {},
   "source": [
    "Fill NaN values and clean outliers."
   ]
  },
  {
   "cell_type": "code",
   "execution_count": null,
   "id": "d1c1a741-1989-4be4-a623-20b5ee4220a9",
   "metadata": {
    "jupyter": {
     "source_hidden": true
    },
    "tags": []
   },
   "outputs": [],
   "source": [
    "# Plot the 'loading' distribution with respect to the 'product_code'\n",
    "figure = px.box(train_data, \n",
    "                x='product_code', \n",
    "                y='loading',\n",
    "                points='all',\n",
    "                color='product_code',\n",
    "                title='Loading Distribution per Product Code',\n",
    "                color_discrete_sequence=px.colors.qualitative.Set3,\n",
    "                height=500,\n",
    "                template='plotly_dark')\n",
    "\n",
    "figure.update_layout(font=dict(family=\"PT Sans\", \n",
    "                               size=14), \n",
    "                     title_font=dict(family=\"PT Sans\",\n",
    "                                     size=30), \n",
    "                     title_x=0.5)\n",
    "\n",
    "# Plot\n",
    "figure.show()"
   ]
  },
  {
   "cell_type": "markdown",
   "id": "7b5b137e-7929-441e-8159-793046d2f51c",
   "metadata": {},
   "source": [
    "## Attributes"
   ]
  },
  {
   "cell_type": "code",
   "execution_count": null,
   "id": "c121d60f-39da-4539-9138-09f728e0b686",
   "metadata": {
    "jupyter": {
     "source_hidden": true
    },
    "tags": []
   },
   "outputs": [],
   "source": [
    "# Check for Nan Values\n",
    "for i in range(4):\n",
    "\n",
    "    print('Attribute {} NaN value count: {}'.format(i, len(train_data[train_data['attribute_' + str(i)].isna()])))"
   ]
  },
  {
   "cell_type": "markdown",
   "id": "7610b3c6-c4a1-4e9e-b37d-bef787d0e93c",
   "metadata": {},
   "source": [
    "## Failure"
   ]
  },
  {
   "cell_type": "code",
   "execution_count": null,
   "id": "2111ddeb-5160-45bd-be58-cfb3121c4f6a",
   "metadata": {
    "jupyter": {
     "source_hidden": true
    },
    "tags": []
   },
   "outputs": [],
   "source": [
    "# Check 'failure' NaN values\n",
    "print('Failure NaN values: {}'.format(len(train_data[train_data['failure'].isna()])))"
   ]
  },
  {
   "cell_type": "code",
   "execution_count": null,
   "id": "74e19cfc-34d3-4aa2-b8d8-085f9dbf04e3",
   "metadata": {
    "jupyter": {
     "source_hidden": true
    },
    "tags": []
   },
   "outputs": [],
   "source": [
    "# Plot the Histogram of 'failure' Distribution\n",
    "figure = px.histogram(train_data, \n",
    "                      x='failure', \n",
    "                      color_discrete_sequence=['darkgreen'],\n",
    "                      title='Failure Distribution', \n",
    "                      labels={'failure':'Failure'},\n",
    "                      height=500,\n",
    "                      histnorm='percent',\n",
    "                      template='plotly_dark')\n",
    "\n",
    "figure.update_layout(yaxis_title='Share', \n",
    "                     font=dict(family=\"PT Sans\", \n",
    "                               size=14), \n",
    "                     title_font=dict(family=\"PT Sans\",\n",
    "                                     size=30), \n",
    "                     title_x=0.5)\n",
    "\n",
    "figure.show()"
   ]
  },
  {
   "cell_type": "markdown",
   "id": "9858d942-1f94-4612-8505-1aca28ffd707",
   "metadata": {},
   "source": [
    "Imbalanced classes, classic!"
   ]
  },
  {
   "cell_type": "markdown",
   "id": "993639a6-241c-4267-9eb9-ecdf7a30f41a",
   "metadata": {},
   "source": [
    "# Data Preparation"
   ]
  },
  {
   "cell_type": "markdown",
   "id": "8b9caadc-10e8-422e-9937-7e372d3a812d",
   "metadata": {},
   "source": [
    "## Features and Labels Definition"
   ]
  },
  {
   "cell_type": "code",
   "execution_count": null,
   "id": "6fe3900c-4248-435a-ad3d-7fe0df07e616",
   "metadata": {
    "tags": []
   },
   "outputs": [],
   "source": [
    "# Define features and labels\n",
    "categorical_features = ['product_code', \n",
    "                        'attribute_0', \n",
    "                        'attribute_1']\n",
    "\n",
    "numerical_integer_features = ['attribute_2', \n",
    "                              'attribute_3', \n",
    "                              'measurement_0', \n",
    "                              'measurement_1', \n",
    "                              'measurement_2']\n",
    "\n",
    "numerical_float_featues = ['loading', \n",
    "                           'measurement_3', \n",
    "                           'measurement_4', \n",
    "                           'measurement_5', \n",
    "                           'measurement_6', \n",
    "                           'measurement_7', \n",
    "                           'measurement_8', \n",
    "                           'measurement_9', \n",
    "                           'measurement_10', \n",
    "                           'measurement_11', \n",
    "                           'measurement_12', \n",
    "                           'measurement_13', \n",
    "                           'measurement_14', \n",
    "                           'measurement_15',\n",
    "                           'measurement_16', \n",
    "                           'measurement_17']\n",
    "\n",
    "label = ['failure']"
   ]
  },
  {
   "cell_type": "markdown",
   "id": "6d5649c6-a909-4b78-8ad8-fbf59c62f4c2",
   "metadata": {},
   "source": [
    "## Numerical Features"
   ]
  },
  {
   "cell_type": "code",
   "execution_count": null,
   "id": "8fc5bbdf-1f6d-42d4-9b82-03634eef94d7",
   "metadata": {},
   "outputs": [],
   "source": [
    "# Numerical features pipeline\n",
    "numerical_features_pipeline = Pipeline(steps=[\n",
    "    ('numerical_imputer', SimpleImputer(strategy='constant')),\n",
    "    ('numerical_scaler', StandardScaler())\n",
    "])"
   ]
  },
  {
   "cell_type": "markdown",
   "id": "3fad0fd6-f3bf-4a84-aa17-f58ec79aba93",
   "metadata": {},
   "source": [
    "## Categorical Features"
   ]
  },
  {
   "cell_type": "code",
   "execution_count": null,
   "id": "a09d5f49-1973-41bf-a265-bc5b13211df6",
   "metadata": {},
   "outputs": [],
   "source": [
    "# Categorical features pipeline\n",
    "categorical_features_pipeline = Pipeline(steps=[\n",
    "    ('categorical_imputer', SimpleImputer(strategy='most_frequent')),\n",
    "    ('categorical_one_hot_encoder', OneHotEncoder(handle_unknown='ignore'))\n",
    "])"
   ]
  },
  {
   "cell_type": "markdown",
   "id": "6a5af967-a9d0-46f5-8309-3ab321dd79e1",
   "metadata": {},
   "source": [
    "## Bundel Data Preprocessing Steps"
   ]
  },
  {
   "cell_type": "code",
   "execution_count": null,
   "id": "ed9cbd75-78cd-449f-a48b-b09c3ba321f0",
   "metadata": {},
   "outputs": [],
   "source": [
    "# Bunlde data preprocessing steps\n",
    "data_preprocessor = ColumnTransformer(\n",
    "    transformers=[\n",
    "        ('numerical_preprocessing', numerical_features_pipeline, numerical_integer_features + numerical_float_featues),\n",
    "        ('categorical_preprocessing', categorical_features_pipeline, categorical_features)\n",
    "    ])"
   ]
  },
  {
   "cell_type": "markdown",
   "id": "085558a4-2f3b-448b-9ecd-621e1acb590d",
   "metadata": {},
   "source": [
    "# Train & Test Split"
   ]
  },
  {
   "cell_type": "code",
   "execution_count": null,
   "id": "322a84f1-b66d-49f3-8f96-09d1308d2aa8",
   "metadata": {},
   "outputs": [],
   "source": [
    "# Define X and y for the training set\n",
    "X = train_data.drop(['failure'], axis=1)\n",
    "y = train_data['failure']"
   ]
  },
  {
   "cell_type": "code",
   "execution_count": null,
   "id": "095a2350-d168-4772-af45-5144509ae7c5",
   "metadata": {},
   "outputs": [],
   "source": [
    "# Split training data into train and validation\n",
    "X_train, X_test, y_train, y_test = train_test_split(X, y, test_size=0.33, random_state=42)"
   ]
  },
  {
   "cell_type": "code",
   "execution_count": null,
   "id": "e3e71e59-c2f1-4843-b28a-37dc88fa262e",
   "metadata": {},
   "outputs": [],
   "source": [
    "# Define the a Stratified K-fold Shuffle Splitter\n",
    "stratified_kfold = StratifiedShuffleSplit(n_splits=8,\n",
    "                                          test_size=.3, \n",
    "                                          random_state=0)"
   ]
  },
  {
   "cell_type": "markdown",
   "id": "947557df-1848-421a-a002-6fb92d69efbe",
   "metadata": {},
   "source": [
    "# Model Definition"
   ]
  },
  {
   "cell_type": "code",
   "execution_count": null,
   "id": "0aecc2cc-9367-4701-96d1-ae521bd62cb8",
   "metadata": {},
   "outputs": [],
   "source": [
    "# Define the used metrics\n",
    "metrics = ['accuracy', 'precision', 'recall', 'f1', 'roc_auc', 'cv_score']"
   ]
  },
  {
   "cell_type": "code",
   "execution_count": null,
   "id": "b24bc519-d14e-4ec2-b9bd-355452d23902",
   "metadata": {},
   "outputs": [],
   "source": [
    "# Initialize DataFrame of model performance\n",
    "performance = pd.DataFrame(columns=metrics)"
   ]
  },
  {
   "cell_type": "markdown",
   "id": "28d1db33-ee09-45c1-b304-65f2dc0a1f03",
   "metadata": {},
   "source": [
    "## Logistic Regression"
   ]
  },
  {
   "cell_type": "code",
   "execution_count": null,
   "id": "c58b3612-dc18-4b61-acc5-82d29a81f9d8",
   "metadata": {},
   "outputs": [],
   "source": [
    "# Model's Hyperparameters\n",
    "max_iter_lr = 1000\n",
    "solver_lr = 'lbfgs'\n",
    "c_lr = 10"
   ]
  },
  {
   "cell_type": "code",
   "execution_count": null,
   "id": "01d63da5-a9fc-4563-9bbb-1d25119c5361",
   "metadata": {},
   "outputs": [],
   "source": [
    "# Define the model\n",
    "model_lr = LogisticRegression(C=c_lr,\n",
    "                              max_iter=max_iter_lr, \n",
    "                              solver=solver_lr)\n",
    "\n",
    "# Define the pipeline\n",
    "pipe_lr = Pipeline([\n",
    "    ('data_preprocessing', data_preprocessor),\n",
    "    ('logistic_regression', model_lr)\n",
    "])\n",
    "\n",
    "# Train the pipeline\n",
    "pipe_lr.fit(X_train, \n",
    "            y_train)\n",
    "\n",
    "# Predictions\n",
    "predictions_pipe_lr = pipe_lr.predict(X_test)\n",
    "\n",
    "# Model evaluation\n",
    "accuracy_pipe_lr = round(accuracy_score(y_test, predictions_pipe_lr) * 100, 2)\n",
    "precision_pipe_lr = round(precision_score(y_test, predictions_pipe_lr) * 100, 2)\n",
    "recall_pipe_lr = round(recall_score(y_test, predictions_pipe_lr) * 100, 2)\n",
    "f1_pipe_lr = round(f1_score(y_test, predictions_pipe_lr) * 100, 2)\n",
    "roc_auc_pipe_lr = round(roc_auc_score(y_test, predictions_pipe_lr) * 100, 2)\n",
    "cv_score_pipe_lr = round(cross_val_score(pipe_lr, X, y, cv=stratified_kfold).mean() * 100, 2)\n",
    "\n",
    "print('Model accuracy: {}%'.format(accuracy_pipe_lr))\n",
    "print('Model precision: {}%'.format(precision_pipe_lr))\n",
    "print('Model recall: {}%'.format(recall_pipe_lr))\n",
    "print('Model f1 score: {}%'.format(f1_pipe_lr))\n",
    "print('Model ROC AUC: {}%'.format(roc_auc_pipe_lr))\n",
    "print('Model Cross Validation score: {}%'.format(cv_score_pipe_lr))"
   ]
  },
  {
   "cell_type": "code",
   "execution_count": null,
   "id": "1673023d-a5a5-4eac-a1d9-d86e1534976b",
   "metadata": {},
   "outputs": [],
   "source": [
    "# Update 'performance' DataFrame\n",
    "performance.loc['logistic_regression'] = [accuracy_pipe_lr, \n",
    "                                          precision_pipe_lr, \n",
    "                                          recall_pipe_lr, \n",
    "                                          f1_pipe_lr, \n",
    "                                          roc_auc_pipe_lr, \n",
    "                                          cv_score_pipe_lr]"
   ]
  },
  {
   "cell_type": "markdown",
   "id": "031cfe97-89cd-4c99-be1a-f126c40d3a80",
   "metadata": {},
   "source": [
    "## Logistic Regression - Cross Validation\n",
    "\n",
    "Using the Scikit-Library with built-in Cross Validation ([referece](https://scikit-learn.org/stable/modules/generated/sklearn.linear_model.LogisticRegressionCV.html#sklearn.linear_model.LogisticRegressionCV))."
   ]
  },
  {
   "cell_type": "code",
   "execution_count": null,
   "id": "f120a036-45c6-4bbd-9578-3ae7178a36fe",
   "metadata": {},
   "outputs": [],
   "source": [
    "# Model's Hyperparameters\n",
    "max_iter_lr_cv = 1000\n",
    "solver_lr_cv = 'lbfgs'\n",
    "scoring_lr_cv = 'roc_auc'\n",
    "c_lr_cv = 1"
   ]
  },
  {
   "cell_type": "code",
   "execution_count": null,
   "id": "4bc2ef4e-7705-41c2-9e8e-94c621c68b83",
   "metadata": {},
   "outputs": [],
   "source": [
    "# Define the model\n",
    "model_lr_cv = LogisticRegressionCV(Cs=c_lr_cv,\n",
    "                                   max_iter=max_iter_lr_cv,\n",
    "                                   cv=stratified_kfold,\n",
    "                                   scoring=scoring_lr_cv,\n",
    "                                   solver=solver_lr_cv)\n",
    "\n",
    "# Define the pipeline\n",
    "pipe_lr_cv = Pipeline([\n",
    "    ('data_preprocessing', data_preprocessor),\n",
    "    ('logistic_regression', model_lr_cv)\n",
    "])\n",
    "\n",
    "# Train the pipeline\n",
    "pipe_lr_cv.fit(X_train, \n",
    "               y_train)\n",
    "\n",
    "# Predictions\n",
    "predictions_pipe_lr_cv = pipe_lr_cv.predict(X_test)\n",
    "\n",
    "# Model evaluation\n",
    "accuracy_pipe_lr_cv = round(accuracy_score(y_test, predictions_pipe_lr_cv) * 100, 2)\n",
    "precision_pipe_lr_cv = round(precision_score(y_test, predictions_pipe_lr_cv) * 100, 2)\n",
    "recall_pipe_lr_cv = round(recall_score(y_test, predictions_pipe_lr_cv) * 100, 2)\n",
    "f1_pipe_lr_cv = round(f1_score(y_test, predictions_pipe_lr_cv) * 100, 2)\n",
    "roc_auc_pipe_lr_cv = round(roc_auc_score(y_test, predictions_pipe_lr_cv) * 100, 2)\n",
    "cv_score_pipe_lr_cv = round(cross_val_score(pipe_lr_cv, X, y, cv=stratified_kfold).mean() * 100, 2)\n",
    "\n",
    "print('Model accuracy: {}%'.format(accuracy_pipe_lr_cv))\n",
    "print('Model precision: {}%'.format(precision_pipe_lr_cv))\n",
    "print('Model recall: {}%'.format(recall_pipe_lr_cv))\n",
    "print('Model f1 score: {}%'.format(f1_pipe_lr_cv))\n",
    "print('Model ROC AUC: {}%'.format(roc_auc_pipe_lr_cv))\n",
    "print('Model Cross Validation score: {}%'.format(cv_score_pipe_lr_cv))"
   ]
  },
  {
   "cell_type": "code",
   "execution_count": null,
   "id": "f6eea1d5-b230-4b7e-aba7-a01ec8a9acfc",
   "metadata": {},
   "outputs": [],
   "source": [
    "# Update 'performance' DataFrame\n",
    "performance.loc['logistic_regression_cv'] = [accuracy_pipe_lr_cv,\n",
    "                                             precision_pipe_lr_cv,\n",
    "                                             recall_pipe_lr_cv,\n",
    "                                             f1_pipe_lr_cv, \n",
    "                                             roc_auc_pipe_lr_cv, \n",
    "                                             cv_score_pipe_lr_cv]"
   ]
  },
  {
   "cell_type": "markdown",
   "id": "67dddadf-255a-4771-86b4-5861a6b5b9c4",
   "metadata": {},
   "source": [
    "## Logistic Regression - Randomized Grid Search\n",
    "\n",
    "[Reference Documentation](https://scikit-learn.org/stable/modules/generated/sklearn.model_selection.RandomizedSearchCV.html#sklearn.model_selection.RandomizedSearchCV)"
   ]
  },
  {
   "cell_type": "code",
   "execution_count": null,
   "id": "81f531f5-d031-440c-9dff-6c26bf3f483c",
   "metadata": {},
   "outputs": [],
   "source": [
    "# Hyperparameters' space\n",
    "hyperparameters_space_lr_cv_rgs = {\n",
    "    'logistic_regression__Cs': [0.001, 0.01, 0.1, 1, 10, 100, 1000],\n",
    "    'logistic_regression__penalty': ['l2', 'l1'],\n",
    "    'logistic_regression__solver': ['newton-cg', 'lbfgs', 'liblinear', 'sag', 'saga'],\n",
    "    'logistic_regression__max_iter': [1000, 3000, 5000],\n",
    "    'logistic_regression__class_weight': [None, 'balanced']\n",
    "}\n",
    "\n",
    "# Model's Hyperparameters\n",
    "scoring_lr_cv_rgs = 'roc_auc'"
   ]
  },
  {
   "cell_type": "code",
   "execution_count": null,
   "id": "17a1eef4-4eec-457c-818e-5015a4866026",
   "metadata": {},
   "outputs": [],
   "source": [
    "# Define RandomizedSearchCV function\n",
    "def randomized_grid_search(estimator,\n",
    "                           hyperparameters_space,\n",
    "                           cross_validation,\n",
    "                           n_jobs=2):\n",
    "    \"\"\"\n",
    "    Function to perform the Randomized Grid Search and return the best parameters computed\n",
    "    :param estimator: sklearn.linear_model estimator to optimise\n",
    "    :param hyperparameters_space: Dictionary of hyperparameters space to explore\n",
    "    :param cross_validation: Integer or sklearn.model_selection cross-validation generator\n",
    "    :return Dictionary of best hyperparameters\n",
    "    \"\"\"\n",
    "    \n",
    "    # Perform an Halving Grid Search for hyperparameters tuning\n",
    "    randomized_grid_search = RandomizedSearchCV(estimator=estimator,\n",
    "                                                param_distributions=hyperparameters_space,\n",
    "                                                n_jobs=n_jobs,\n",
    "                                                cv=cross_validation,\n",
    "                                                verbose=2)\n",
    "    \n",
    "    # Perform the search\n",
    "    randomized_grid_search.fit(X_train,\n",
    "                               y_train)\n",
    "    \n",
    "    print(f\"Randomized Grid Search best score: {randomized_grid_search.best_score_ * 100}\")\n",
    "    print(f\"Randomized  Search best parameters: {randomized_grid_search.best_params_}\")\n",
    "\n",
    "    return randomized_grid_search.best_params_"
   ]
  },
  {
   "cell_type": "code",
   "execution_count": null,
   "id": "5e1f2fb9-71cb-4d0e-91e7-f78e213e7906",
   "metadata": {},
   "outputs": [],
   "source": [
    "# Define the model\n",
    "model_lr_cv_rgs = LogisticRegressionCV(cv=stratified_kfold,\n",
    "                                       scoring=scoring_lr_cv_rgs)\n",
    "\n",
    "# Define the pipeline\n",
    "pipe_lr_cv_rgs = Pipeline([\n",
    "    ('data_preprocessing', preprocessor),\n",
    "    ('logistic_regression', model_lr_cv_rgs)\n",
    "])\n",
    "\n",
    "# Perform the Hyperparameters' Tuning\n",
    "best_params_lr_cv_rgs = randomized_grid_search(pipe_lr_cv_rgs,\n",
    "                                               hyperparameters_space_lr_cv_rgs,\n",
    "                                               stratified_kfold)"
   ]
  },
  {
   "cell_type": "markdown",
   "id": "7094f3c8-4ec6-4229-b2b1-e816cdfcc13c",
   "metadata": {},
   "source": [
    "## Logistic Regression - Halving Grid Search\n",
    "\n",
    "[Reference Documentation](https://scikit-learn.org/stable/modules/generated/sklearn.model_selection.HalvingGridSearchCV.html)"
   ]
  },
  {
   "cell_type": "code",
   "execution_count": null,
   "id": "b867e12b-c396-4f47-b511-69e05f6bfaf1",
   "metadata": {},
   "outputs": [],
   "source": [
    "# Hyperparameters' space\n",
    "hyperparameters_space_lr_cv_hgs = {\n",
    "    'logistic_regression__Cs': [0.001, 0.01, 0.1, 1, 10, 100, 1000],\n",
    "    'logistic_regression__penalty': ['l2', 'l1'],\n",
    "    'logistic_regression__solver': ['newton-cg', 'lbfgs', 'liblinear', 'sag', 'saga'],\n",
    "    'logistic_regression__max_iter': [3000, 4000, 5000],\n",
    "    'logistic_regression__class_weight': [None, 'balanced']\n",
    "}\n",
    "\n",
    "# Model's Hyperparameters\n",
    "scoring_lr_cv_hgs = 'roc_auc'"
   ]
  },
  {
   "cell_type": "code",
   "execution_count": null,
   "id": "fccd0eba-2648-4c4b-b0d1-f0c4b64cac19",
   "metadata": {},
   "outputs": [],
   "source": [
    "# Define HalvingGridSearchCV function\n",
    "def halving_grid_search(estimator, \n",
    "                        hyperparameters_space, \n",
    "                        cross_validation, \n",
    "                        n_jobs=2):\n",
    "    \"\"\"\n",
    "    Function to perform the Halving Grid Search and return the best parameters computed\n",
    "    :param estimator: sklearn.linear_model estimator to optimise\n",
    "    :param hyperparameters_space: Dictionary of hyperparameters space to explore\n",
    "    :param cross_validation: Integer or sklearn.model_selection cross-validation generator\n",
    "    :return Dictionary of best hyperparameters\n",
    "    \"\"\"\n",
    "    \n",
    "    # Perform an Halving Grid Search for hyperparameters tuning\n",
    "    halving_grid_search = HalvingGridSearchCV(estimator=estimator, \n",
    "                                              param_grid=hyperparameters_space, \n",
    "                                              n_jobs=n_jobs, \n",
    "                                              cv=cross_validation, \n",
    "                                              verbose=0)\n",
    "    \n",
    "    # Perform the search\n",
    "    halving_grid_search.fit(X_train, \n",
    "                            y_train)\n",
    "    \n",
    "    print(f\"Halving Grid Search best score: {halving_grid_search.best_score_ * 100}\")\n",
    "    print(f\"Halving  Search best parameters: {halving_grid_search.best_params_}\")\n",
    "\n",
    "    return halving_grid_search.best_params_"
   ]
  },
  {
   "cell_type": "code",
   "execution_count": null,
   "id": "13e0cc95-ddaa-49c1-80eb-df7acb021101",
   "metadata": {},
   "outputs": [],
   "source": [
    "# Define the model\n",
    "model_lr_cv_hgs = LogisticRegressionCV(cv=stratified_kfold,\n",
    "                                       scoring=scoring_lr_cv_hgs)\n",
    "\n",
    "# Define the pipeline\n",
    "pipe_lr_cv_hgs = Pipeline([\n",
    "    ('data_preprocessing', preprocessor),\n",
    "    ('logistic_regression', model_lr_cv_hgs)\n",
    "])\n",
    "\n",
    "# Perform the Hyperparameters' Tuning\n",
    "best_params_lr_cv_hgs = halving_grid_search(pipe_lr_cv_hgs, \n",
    "                                            hyperparameters_space_lr_cv_hgs, \n",
    "                                            stratified_kfold)"
   ]
  },
  {
   "cell_type": "code",
   "execution_count": null,
   "id": "c64e554e-2735-4abe-99ec-97946a6b0f95",
   "metadata": {},
   "outputs": [],
   "source": [
    "# Train the pipeline\n",
    "pipe_lr_cv_hgs.fit(X_train,\n",
    "                   y_train)\n",
    "\n",
    "# Predictions\n",
    "predictions_pipe_lr_cv = pipe_lr_cv.predict(X_test)\n",
    "\n",
    "# Model evaluation\n",
    "accuracy_pipe_lr_cv = round(accuracy_score(y_test, predictions_pipe_lr_cv) * 100, 2)\n",
    "precision_pipe_lr_cv = round(precision_score(y_test, predictions_pipe_lr_cv) * 100, 2)\n",
    "recall_pipe_lr_cv = round(recall_score(y_test, predictions_pipe_lr_cv) * 100, 2)\n",
    "f1_pipe_lr_cv = round(f1_score(y_test, predictions_pipe_lr_cv) * 100, 2)\n",
    "roc_auc_pipe_lr_cv = round(roc_auc_score(y_test, predictions_pipe_lr_cv) * 100, 2)\n",
    "cv_score_pipe_lr_cv = round(cross_val_score(pipe_lr_cv, X, y, cv=stratified_kfold).mean() * 100, 2)\n",
    "\n",
    "print('Model accuracy: {}%'.format(accuracy_pipe_lr_cv))\n",
    "print('Model precision: {}%'.format(precision_pipe_lr_cv))\n",
    "print('Model recall: {}%'.format(recall_pipe_lr_cv))\n",
    "print('Model f1 score: {}%'.format(f1_pipe_lr_cv))\n",
    "print('Model ROC AUC: {}%'.format(roc_auc_pipe_lr_cv))\n",
    "print('Model Cross Validation score: {}%'.format(cv_score_pipe_lr_cv))"
   ]
  },
  {
   "cell_type": "markdown",
   "id": "9a449494-4109-499c-bddc-4cc95997d85a",
   "metadata": {},
   "source": [
    "# Model Comparison"
   ]
  },
  {
   "cell_type": "code",
   "execution_count": null,
   "id": "02fccb81-3cc9-4f18-8be8-0831181cabc1",
   "metadata": {},
   "outputs": [],
   "source": [
    "# Plot the models' performance\n",
    "figure = px.bar(performance,\n",
    "                x=performance.index,\n",
    "                y=performance.columns.values,\n",
    "                labels={'index': 'Model', 'value': 'Performance'},\n",
    "                barmode='group',\n",
    "                title='Models Comparison',\n",
    "                color_discrete_sequence=px.colors.qualitative.Set3,\n",
    "                height=500,\n",
    "                template='plotly_dark')\n",
    "\n",
    "figure.update_layout(font=dict(family=\"PT Sans\", \n",
    "                               size=14), \n",
    "                     title_font=dict(family=\"PT Sans\",\n",
    "                                     size=30), \n",
    "                     title_x=0.5)\n",
    "\n",
    "# Save figure\n",
    "figure.write_json(\"./plots/loading_product_code_distribution.json\")\n",
    "\n",
    "# Read & plot figure\n",
    "read_json('./plots/loading_product_code_distribution.json').show()"
   ]
  }
 ],
 "metadata": {
  "kernelspec": {
   "display_name": "Python 3 (ipykernel)",
   "language": "python",
   "name": "python3"
  },
  "language_info": {
   "codemirror_mode": {
    "name": "ipython",
    "version": 3
   },
   "file_extension": ".py",
   "mimetype": "text/x-python",
   "name": "python",
   "nbconvert_exporter": "python",
   "pygments_lexer": "ipython3",
   "version": "3.10.5"
  }
 },
 "nbformat": 4,
 "nbformat_minor": 5
}
