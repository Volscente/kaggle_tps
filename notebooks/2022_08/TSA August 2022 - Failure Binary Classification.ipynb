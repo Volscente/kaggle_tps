{
 "cells": [
  {
   "cell_type": "markdown",
   "id": "c76de346-7fae-4e49-901d-795e830b586c",
   "metadata": {},
   "source": [
    "# Introduction\n",
    "\n",
    "The notebook is intended to predict the chance failure of a specific product code given its attributes and measurements.\n",
    "\n",
    "This is the [dataset used](https://www.kaggle.com/competitions/tabular-playground-series-aug-2022)."
   ]
  },
  {
   "cell_type": "code",
   "execution_count": null,
   "id": "02578483-9706-4a6e-b017-51e49f879b6c",
   "metadata": {},
   "outputs": [],
   "source": [
    "# Import Standard Libraries\n",
    "import pandas as pd\n",
    "import numpy as np\n",
    "\n",
    "import plotly.express as ex\n",
    "from plotly.io import read_json"
   ]
  },
  {
   "cell_type": "markdown",
   "id": "f028290b-4ac7-48fe-8e64-23f6ae9fe4fe",
   "metadata": {},
   "source": [
    "# Read Data"
   ]
  },
  {
   "cell_type": "code",
   "execution_count": null,
   "id": "65f682c9-5cea-4d1a-af62-34bbb78cb257",
   "metadata": {},
   "outputs": [],
   "source": [
    "# Read train & test data\n",
    "train_data = pd.read_csv('./../../data/2022_08/train.csv')\n",
    "test_data = pd.read_csv('./../../data/2022_08/test.csv')"
   ]
  },
  {
   "cell_type": "code",
   "execution_count": null,
   "id": "a014b273-0bd6-472e-a13a-811f2f9c5f33",
   "metadata": {},
   "outputs": [],
   "source": [
    "train_data.info()"
   ]
  },
  {
   "cell_type": "code",
   "execution_count": null,
   "id": "17f50895-e258-4318-8842-4f25de928907",
   "metadata": {},
   "outputs": [],
   "source": [
    "train_data.head()"
   ]
  },
  {
   "cell_type": "markdown",
   "id": "6b19cadc-69a7-4abd-85b2-a8f56eac61be",
   "metadata": {},
   "source": [
    "# Exploratory Data Analysis"
   ]
  },
  {
   "cell_type": "markdown",
   "id": "3bf2ffba-4968-43ef-b0ba-72fc420608a7",
   "metadata": {},
   "source": [
    "## id"
   ]
  },
  {
   "cell_type": "code",
   "execution_count": null,
   "id": "f0dd8b32-e3b3-4bd8-bf99-b701401c3942",
   "metadata": {},
   "outputs": [],
   "source": [
    "# Check for duplicates\n",
    "print('ID duplicates: {}'.format(len(train_data[train_data['id'].duplicated()])))"
   ]
  },
  {
   "cell_type": "markdown",
   "id": "593f6797-5c76-4f7c-bbf0-fa53cd726032",
   "metadata": {},
   "source": [
    "## Product Code"
   ]
  },
  {
   "cell_type": "code",
   "execution_count": null,
   "id": "ecec4493-67f5-4941-8f6f-6fd58486806c",
   "metadata": {},
   "outputs": [],
   "source": [
    "# Check for NaN values\n",
    "print('Product Code NaN values: {}'.format(len(train_data[train_data['product_code'].isna()])))"
   ]
  },
  {
   "cell_type": "code",
   "execution_count": null,
   "id": "987a461f-405d-484b-8a09-a7bab8d31913",
   "metadata": {},
   "outputs": [],
   "source": [
    "# Plot the Histogram of 'product_code' Distribution\n",
    "figure = ex.histogram(train_data, \n",
    "                      x='product_code', \n",
    "                      title='Product Code Distribution', \n",
    "                      labels={'product_code':'Product Code',\n",
    "                              'count': 'Share'},\n",
    "                      color_discrete_sequence=['darkgreen'],\n",
    "                      height=500,\n",
    "                      histnorm='',\n",
    "                      template='plotly_dark')\n",
    "\n",
    "figure.update_layout(yaxis_title='Share', \n",
    "                     font=dict(family=\"PT Sans\", \n",
    "                               size=14), \n",
    "                     title_font=dict(family=\"PT Sans\",\n",
    "                                     size=30), \n",
    "                     title_x=0.7)\n",
    "\n",
    "# Save figure\n",
    "figure.write_json(\"./plots/product_code_distribution.json\")\n",
    "\n",
    "# Read & plot figure\n",
    "read_json('./plots/product_code_distribution.json').show()"
   ]
  },
  {
   "cell_type": "markdown",
   "id": "3e265707-5a73-47a3-9c9e-821e323e5cb3",
   "metadata": {},
   "source": [
    "## loading"
   ]
  },
  {
   "cell_type": "code",
   "execution_count": null,
   "id": "2ed6349e-9879-4ca8-a330-58fd58824e10",
   "metadata": {},
   "outputs": [],
   "source": [
    "# Plot boxplot of 'loading'\n",
    "figure = ex.box(train_data, \n",
    "                x='loading', \n",
    "                color_discrete_sequence=['darkgreen']\n",
    "                template='plotly_dark')\n",
    "\n",
    "\n",
    "\n",
    "# Save figure\n",
    "figure.write_json(\"./plots/product_code_distribution.json\")\n",
    "\n",
    "# Read & plot figure\n",
    "read_json('./plots/product_code_distribution.json').show()"
   ]
  }
 ],
 "metadata": {
  "kernelspec": {
   "display_name": "Python 3 (ipykernel)",
   "language": "python",
   "name": "python3"
  },
  "language_info": {
   "codemirror_mode": {
    "name": "ipython",
    "version": 3
   },
   "file_extension": ".py",
   "mimetype": "text/x-python",
   "name": "python",
   "nbconvert_exporter": "python",
   "pygments_lexer": "ipython3",
   "version": "3.10.5"
  }
 },
 "nbformat": 4,
 "nbformat_minor": 5
}
