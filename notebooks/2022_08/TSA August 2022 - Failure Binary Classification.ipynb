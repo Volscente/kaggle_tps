{
 "cells": [
  {
   "cell_type": "markdown",
   "id": "c76de346-7fae-4e49-901d-795e830b586c",
   "metadata": {},
   "source": [
    "# Introduction\n",
    "\n",
    "The notebook is intended to predict the chance failure of a specific product code given its attributes and measurements.\n",
    "\n",
    "This is the [dataset used](https://www.kaggle.com/competitions/tabular-playground-series-aug-2022)."
   ]
  },
  {
   "cell_type": "code",
   "execution_count": null,
   "id": "02578483-9706-4a6e-b017-51e49f879b6c",
   "metadata": {},
   "outputs": [],
   "source": [
    "# Import Standard Libraries\n",
    "import pandas as pd\n",
    "import numpy as np\n",
    "\n",
    "import plotly.express as px\n",
    "from plotly.io import read_json\n",
    "\n",
    "from sklearn.compose import ColumnTransformer\n",
    "from sklearn.pipeline import Pipeline\n",
    "from sklearn.impute import SimpleImputer\n",
    "from sklearn.preprocessing import OneHotEncoder, StandardScaler\n",
    "from sklearn.experimental import enable_halving_search_cv\n",
    "from sklearn.model_selection import train_test_split, StratifiedShuffleSplit, cross_val_score, HalvingGridSearchCV, RandomizedSearchCV\n",
    "from sklearn.metrics import precision_score, accuracy_score, recall_score, f1_score, roc_auc_score\n",
    "from sklearn.linear_model import LogisticRegression, LogisticRegressionCV"
   ]
  },
  {
   "cell_type": "markdown",
   "id": "f028290b-4ac7-48fe-8e64-23f6ae9fe4fe",
   "metadata": {},
   "source": [
    "# Read Data"
   ]
  },
  {
   "cell_type": "code",
   "execution_count": null,
   "id": "65f682c9-5cea-4d1a-af62-34bbb78cb257",
   "metadata": {
    "tags": []
   },
   "outputs": [],
   "source": [
    "# Read train & test data\n",
    "train_data = pd.read_csv('./../../data/2022_08/train.csv')\n",
    "test_data = pd.read_csv('./../../data/2022_08/test.csv')"
   ]
  },
  {
   "cell_type": "code",
   "execution_count": null,
   "id": "a014b273-0bd6-472e-a13a-811f2f9c5f33",
   "metadata": {
    "tags": []
   },
   "outputs": [],
   "source": [
    "train_data.info()"
   ]
  },
  {
   "cell_type": "code",
   "execution_count": null,
   "id": "17f50895-e258-4318-8842-4f25de928907",
   "metadata": {
    "tags": []
   },
   "outputs": [],
   "source": [
    "train_data.head()"
   ]
  },
  {
   "cell_type": "markdown",
   "id": "6b19cadc-69a7-4abd-85b2-a8f56eac61be",
   "metadata": {},
   "source": [
    "# Exploratory Data Analysis"
   ]
  },
  {
   "cell_type": "markdown",
   "id": "3bf2ffba-4968-43ef-b0ba-72fc420608a7",
   "metadata": {},
   "source": [
    "## id"
   ]
  },
  {
   "cell_type": "code",
   "execution_count": null,
   "id": "f0dd8b32-e3b3-4bd8-bf99-b701401c3942",
   "metadata": {
    "tags": []
   },
   "outputs": [],
   "source": [
    "# Check for duplicates\n",
    "print('ID duplicates: {}'.format(len(train_data[train_data['id'].duplicated()])))"
   ]
  },
  {
   "cell_type": "markdown",
   "id": "593f6797-5c76-4f7c-bbf0-fa53cd726032",
   "metadata": {},
   "source": [
    "## Product Code"
   ]
  },
  {
   "cell_type": "code",
   "execution_count": null,
   "id": "ecec4493-67f5-4941-8f6f-6fd58486806c",
   "metadata": {
    "tags": []
   },
   "outputs": [],
   "source": [
    "# Check for NaN values\n",
    "print('Product Code NaN values: {}'.format(len(train_data[train_data['product_code'].isna()])))"
   ]
  },
  {
   "cell_type": "code",
   "execution_count": null,
   "id": "987a461f-405d-484b-8a09-a7bab8d31913",
   "metadata": {
    "tags": []
   },
   "outputs": [],
   "source": [
    "# Plot the Histogram of 'product_code' Distribution\n",
    "figure = px.histogram(train_data, \n",
    "                      x='product_code', \n",
    "                      title='Product Code Distribution', \n",
    "                      labels={'product_code':'Product Code',\n",
    "                              'count': 'Share'},\n",
    "                      color_discrete_sequence=['darkgreen'],\n",
    "                      height=500,\n",
    "                      histnorm='',\n",
    "                      template='plotly_dark')\n",
    "\n",
    "figure.update_layout(yaxis_title='Share', \n",
    "                     font=dict(family=\"PT Sans\", \n",
    "                               size=14), \n",
    "                     title_font=dict(family=\"PT Sans\",\n",
    "                                     size=30), \n",
    "                     title_x=0.5)\n",
    "\n",
    "# Plot\n",
    "figure.show()"
   ]
  },
  {
   "cell_type": "markdown",
   "id": "3e265707-5a73-47a3-9c9e-821e323e5cb3",
   "metadata": {},
   "source": [
    "## loading"
   ]
  },
  {
   "cell_type": "code",
   "execution_count": null,
   "id": "0e60ef61-9446-4870-87c9-4a6445ba0e0c",
   "metadata": {
    "tags": []
   },
   "outputs": [],
   "source": [
    "# Check for NaN values\n",
    "print('Loading NaN values: {}'.format(len(train_data[train_data['loading'].isna()])))"
   ]
  },
  {
   "cell_type": "code",
   "execution_count": null,
   "id": "2ed6349e-9879-4ca8-a330-58fd58824e10",
   "metadata": {
    "tags": []
   },
   "outputs": [],
   "source": [
    "# Plot boxplot of 'loading'\n",
    "figure = px.box(train_data, \n",
    "                x='loading', \n",
    "                title='Loading Distribution',\n",
    "                color_discrete_sequence=['darkgreen'],\n",
    "                template='plotly_dark')\n",
    "\n",
    "figure.update_layout(font=dict(family=\"PT Sans\", \n",
    "                               size=14), \n",
    "                     title_font=dict(family=\"PT Sans\",\n",
    "                                     size=30), \n",
    "                     title_x=0.5)\n",
    "\n",
    "# Plot\n",
    "figure.show()"
   ]
  },
  {
   "cell_type": "markdown",
   "id": "0362b702-f8a1-4762-bc01-1dcfea3c1bfe",
   "metadata": {},
   "source": [
    "Fill NaN values and clean outliers."
   ]
  },
  {
   "cell_type": "code",
   "execution_count": null,
   "id": "d1c1a741-1989-4be4-a623-20b5ee4220a9",
   "metadata": {
    "tags": []
   },
   "outputs": [],
   "source": [
    "# Plot the 'loading' distribution with respect to the 'product_code'\n",
    "figure = px.box(train_data, \n",
    "                x='product_code', \n",
    "                y='loading',\n",
    "                points='all',\n",
    "                color='product_code',\n",
    "                title='Loading Distribution per Product Code',\n",
    "                color_discrete_sequence=px.colors.qualitative.Set3,\n",
    "                height=500,\n",
    "                template='plotly_dark')\n",
    "\n",
    "figure.update_layout(font=dict(family=\"PT Sans\", \n",
    "                               size=14), \n",
    "                     title_font=dict(family=\"PT Sans\",\n",
    "                                     size=30), \n",
    "                     title_x=0.5)\n",
    "\n",
    "# Plot\n",
    "figure.show()"
   ]
  },
  {
   "cell_type": "markdown",
   "id": "7b5b137e-7929-441e-8159-793046d2f51c",
   "metadata": {},
   "source": [
    "## Attributes"
   ]
  },
  {
   "cell_type": "code",
   "execution_count": null,
   "id": "c121d60f-39da-4539-9138-09f728e0b686",
   "metadata": {
    "tags": []
   },
   "outputs": [],
   "source": [
    "# Check for Nan Values\n",
    "for i in range(4):\n",
    "\n",
    "    print('Attribute {} NaN value count: {}'.format(i, len(train_data[train_data['attribute_' + str(i)].isna()])))"
   ]
  },
  {
   "cell_type": "markdown",
   "id": "7610b3c6-c4a1-4e9e-b37d-bef787d0e93c",
   "metadata": {},
   "source": [
    "## Failure"
   ]
  },
  {
   "cell_type": "code",
   "execution_count": null,
   "id": "2111ddeb-5160-45bd-be58-cfb3121c4f6a",
   "metadata": {
    "tags": []
   },
   "outputs": [],
   "source": [
    "# Check 'failure' NaN values\n",
    "print('Failure NaN values: {}'.format(len(train_data[train_data['failure'].isna()])))"
   ]
  },
  {
   "cell_type": "code",
   "execution_count": null,
   "id": "74e19cfc-34d3-4aa2-b8d8-085f9dbf04e3",
   "metadata": {
    "tags": []
   },
   "outputs": [],
   "source": [
    "# Plot the Histogram of 'failure' Distribution\n",
    "figure = px.histogram(train_data, \n",
    "                      x='failure', \n",
    "                      color_discrete_sequence=['darkgreen'],\n",
    "                      title='Failure Distribution', \n",
    "                      labels={'failure':'Failure'},\n",
    "                      height=500,\n",
    "                      histnorm='percent',\n",
    "                      template='plotly_dark')\n",
    "\n",
    "figure.update_layout(yaxis_title='Share', \n",
    "                     font=dict(family=\"PT Sans\", \n",
    "                               size=14), \n",
    "                     title_font=dict(family=\"PT Sans\",\n",
    "                                     size=30), \n",
    "                     title_x=0.5)\n",
    "\n",
    "figure.show()"
   ]
  },
  {
   "cell_type": "markdown",
   "id": "9858d942-1f94-4612-8505-1aca28ffd707",
   "metadata": {},
   "source": [
    "Imbalanced classes, classic!"
   ]
  },
  {
   "cell_type": "markdown",
   "id": "993639a6-241c-4267-9eb9-ecdf7a30f41a",
   "metadata": {},
   "source": [
    "# Data Preparation"
   ]
  },
  {
   "cell_type": "markdown",
   "id": "8b9caadc-10e8-422e-9937-7e372d3a812d",
   "metadata": {},
   "source": [
    "## Features and Labels Definition"
   ]
  },
  {
   "cell_type": "code",
   "execution_count": null,
   "id": "6fe3900c-4248-435a-ad3d-7fe0df07e616",
   "metadata": {
    "tags": []
   },
   "outputs": [],
   "source": [
    "# Define features and labels\n",
    "categorical_features = ['product_code', \n",
    "                        'attribute_0', \n",
    "                        'attribute_1']\n",
    "\n",
    "numerical_integer_features = ['attribute_2', \n",
    "                              'attribute_3', \n",
    "                              'measurement_0', \n",
    "                              'measurement_1', \n",
    "                              'measurement_2']\n",
    "\n",
    "numerical_float_featues = ['loading', \n",
    "                           'measurement_3', \n",
    "                           'measurement_4', \n",
    "                           'measurement_5', \n",
    "                           'measurement_6', \n",
    "                           'measurement_7', \n",
    "                           'measurement_8', \n",
    "                           'measurement_9', \n",
    "                           'measurement_10', \n",
    "                           'measurement_11', \n",
    "                           'measurement_12', \n",
    "                           'measurement_13', \n",
    "                           'measurement_14', \n",
    "                           'measurement_15',\n",
    "                           'measurement_16', \n",
    "                           'measurement_17']\n",
    "\n",
    "label = ['failure']"
   ]
  },
  {
   "cell_type": "markdown",
   "id": "6d5649c6-a909-4b78-8ad8-fbf59c62f4c2",
   "metadata": {},
   "source": [
    "## Numerical Features"
   ]
  },
  {
   "cell_type": "code",
   "execution_count": null,
   "id": "8fc5bbdf-1f6d-42d4-9b82-03634eef94d7",
   "metadata": {
    "tags": []
   },
   "outputs": [],
   "source": [
    "# Numerical features pipeline\n",
    "numerical_features_pipeline = Pipeline(steps=[\n",
    "    ('numerical_imputer', SimpleImputer(strategy='constant')),\n",
    "    ('numerical_scaler', StandardScaler())\n",
    "])"
   ]
  },
  {
   "cell_type": "markdown",
   "id": "3fad0fd6-f3bf-4a84-aa17-f58ec79aba93",
   "metadata": {},
   "source": [
    "## Categorical Features"
   ]
  },
  {
   "cell_type": "code",
   "execution_count": null,
   "id": "a09d5f49-1973-41bf-a265-bc5b13211df6",
   "metadata": {
    "tags": []
   },
   "outputs": [],
   "source": [
    "# Categorical features pipeline\n",
    "categorical_features_pipeline = Pipeline(steps=[\n",
    "    ('categorical_imputer', SimpleImputer(strategy='most_frequent')),\n",
    "    ('categorical_one_hot_encoder', OneHotEncoder(handle_unknown='ignore'))\n",
    "])"
   ]
  },
  {
   "cell_type": "markdown",
   "id": "6a5af967-a9d0-46f5-8309-3ab321dd79e1",
   "metadata": {},
   "source": [
    "## Bundel Data Preprocessing Steps"
   ]
  },
  {
   "cell_type": "code",
   "execution_count": null,
   "id": "ed9cbd75-78cd-449f-a48b-b09c3ba321f0",
   "metadata": {
    "tags": []
   },
   "outputs": [],
   "source": [
    "# Bunlde data preprocessing steps\n",
    "data_preprocessor = ColumnTransformer(\n",
    "    transformers=[\n",
    "        ('numerical_preprocessing', numerical_features_pipeline, numerical_integer_features + numerical_float_featues),\n",
    "        ('categorical_preprocessing', categorical_features_pipeline, categorical_features)\n",
    "    ])"
   ]
  },
  {
   "cell_type": "markdown",
   "id": "085558a4-2f3b-448b-9ecd-621e1acb590d",
   "metadata": {},
   "source": [
    "# Train & Test Split"
   ]
  },
  {
   "cell_type": "code",
   "execution_count": null,
   "id": "322a84f1-b66d-49f3-8f96-09d1308d2aa8",
   "metadata": {
    "tags": []
   },
   "outputs": [],
   "source": [
    "# Define X and y for the training set\n",
    "X = train_data.drop(['failure'], axis=1)\n",
    "y = train_data['failure']"
   ]
  },
  {
   "cell_type": "code",
   "execution_count": null,
   "id": "095a2350-d168-4772-af45-5144509ae7c5",
   "metadata": {
    "tags": []
   },
   "outputs": [],
   "source": [
    "# Split training data into train and validation\n",
    "X_train, X_test, y_train, y_test = train_test_split(X, y, test_size=0.33, random_state=42)"
   ]
  },
  {
   "cell_type": "code",
   "execution_count": null,
   "id": "e3e71e59-c2f1-4843-b28a-37dc88fa262e",
   "metadata": {
    "tags": []
   },
   "outputs": [],
   "source": [
    "# Define the a Stratified K-fold Shuffle Splitter\n",
    "stratified_kfold = StratifiedShuffleSplit(n_splits=5,\n",
    "                                          test_size=.3, \n",
    "                                          random_state=0)"
   ]
  },
  {
   "cell_type": "markdown",
   "id": "947557df-1848-421a-a002-6fb92d69efbe",
   "metadata": {},
   "source": [
    "# Model Definition"
   ]
  },
  {
   "cell_type": "code",
   "execution_count": null,
   "id": "0aecc2cc-9367-4701-96d1-ae521bd62cb8",
   "metadata": {
    "tags": []
   },
   "outputs": [],
   "source": [
    "# Define the used metrics\n",
    "metrics = ['accuracy', 'precision', 'recall', 'f1', 'roc_auc', 'cross_validation']"
   ]
  },
  {
   "cell_type": "code",
   "execution_count": null,
   "id": "b24bc519-d14e-4ec2-b9bd-355452d23902",
   "metadata": {
    "tags": []
   },
   "outputs": [],
   "source": [
    "# Initialize DataFrame of model performance\n",
    "performance = pd.DataFrame(columns=metrics)"
   ]
  },
  {
   "cell_type": "markdown",
   "id": "28d1db33-ee09-45c1-b304-65f2dc0a1f03",
   "metadata": {},
   "source": [
    "## Logistic Regression"
   ]
  },
  {
   "cell_type": "code",
   "execution_count": null,
   "id": "c58b3612-dc18-4b61-acc5-82d29a81f9d8",
   "metadata": {},
   "outputs": [],
   "source": [
    "# Model's Hyperparameters\n",
    "max_iter_lr = 300\n",
    "solver_lr = 'lbfgs'\n",
    "cross_validation_scoring_lr = 'roc_auc'\n",
    "c_lr = 1.3"
   ]
  },
  {
   "cell_type": "code",
   "execution_count": null,
   "id": "01d63da5-a9fc-4563-9bbb-1d25119c5361",
   "metadata": {},
   "outputs": [],
   "source": [
    "%%time\n",
    "\n",
    "# Define the model\n",
    "model_lr = LogisticRegression(C=c_lr,\n",
    "                              max_iter=max_iter_lr, \n",
    "                              solver=solver_lr)\n",
    "\n",
    "# Define the pipeline\n",
    "pipe_lr = Pipeline([\n",
    "    ('data_preprocessing', data_preprocessor),\n",
    "    ('logistic_regression', model_lr)\n",
    "])\n",
    "\n",
    "# Train the pipeline\n",
    "pipe_lr.fit(X_train, \n",
    "            y_train)\n",
    "\n",
    "# Predictions\n",
    "predictions_lr = pipe_lr.predict(X_test)\n",
    "\n",
    "# Model evaluation\n",
    "accuracy_lr = round(accuracy_score(y_test, predictions_lr) * 100, 2)\n",
    "precision_lr = round(precision_score(y_test, predictions_lr) * 100, 2)\n",
    "recall_lr = round(recall_score(y_test, predictions_lr) * 100, 2)\n",
    "f1_lr = round(f1_score(y_test, predictions_lr) * 100, 2)\n",
    "roc_auc_lr = round(roc_auc_score(y_test, predictions_lr) * 100, 2)\n",
    "cross_validation_score_lr = round(cross_val_score(pipe_lr, X_test, y_test, scoring=cross_validation_scoring_lr, cv=stratified_kfold).mean() * 100, 2)\n",
    "\n",
    "print('Accuracy: {}%'.format(accuracy_lr))\n",
    "print('Precision: {}%'.format(precision_lr))\n",
    "print('Recall: {}%'.format(recall_lr))\n",
    "print('F1 score: {}%'.format(f1_lr))\n",
    "print('ROC AUC: {}%'.format(roc_auc_lr))\n",
    "print('Cross-Validation ROC AUC: {}%'.format(cross_validation_score_lr))\n",
    "print('\\n')"
   ]
  },
  {
   "cell_type": "code",
   "execution_count": null,
   "id": "f6eea1d5-b230-4b7e-aba7-a01ec8a9acfc",
   "metadata": {},
   "outputs": [],
   "source": [
    "# Update 'performance' DataFrame\n",
    "performance.loc['logistic_regression'] = [accuracy_lr,\n",
    "                                          precision_lr,\n",
    "                                          recall_lr,\n",
    "                                          f1_lr, \n",
    "                                          roc_auc_lr, \n",
    "                                          cross_validation_score_lr]"
   ]
  },
  {
   "cell_type": "markdown",
   "id": "69801372-e13d-4407-bb63-1470d8a38e12",
   "metadata": {},
   "source": [
    "## Logistic Regression - Cross-Validation"
   ]
  },
  {
   "cell_type": "code",
   "execution_count": null,
   "id": "571ea8fd-24ab-4043-a11c-1aaa508e56bd",
   "metadata": {},
   "outputs": [],
   "source": [
    "def train_with_stratified_kfold(estimator, X, y, cv):\n",
    "    \"\"\"\n",
    "    Train an Estimator through a Stratified K-Fold Cross-Validation approach and return evaluation metrics\n",
    "    \n",
    "        Paramarameters:\n",
    "            estimator: sklearn.linear_model estimator to optimise\n",
    "            X: Pandas DataFrame of data\n",
    "            y: Pandas DataFrame of labels\n",
    "            cv: sklearn.model_selection splitter instance\n",
    "            \n",
    "        Returns:\n",
    "            accuracy: Float accuracy score\n",
    "            precision: Float precision score\n",
    "            recall: Float recall score\n",
    "            f1: Float F1 score\n",
    "            roc_auc: Float ROC AUC score\n",
    "            cross_validation_score: Float Cross-Validation ROC AUC score\n",
    "    \"\"\"\n",
    "    \n",
    "    # Initialise empty lists for metrics\n",
    "    accuracy_list = []\n",
    "    precision_list = []\n",
    "    recall_list = []\n",
    "    f1_list = []\n",
    "    roc_auc_list = []\n",
    "    \n",
    "    # Fetch the folds\n",
    "    for fold, (train_index, validation_index) in enumerate(cv.split(X, y)):\n",
    "        \n",
    "        # Split the data\n",
    "        X_train = X.loc[train_index]\n",
    "        X_validation = X.loc[validation_index]\n",
    "        y_train = y.loc[train_index]\n",
    "        y_validation = y.loc[validation_index]\n",
    "        \n",
    "        # Fit the estimator\n",
    "        estimator.fit(X_train, y_train)\n",
    "        \n",
    "        # Predictions\n",
    "        predictions = estimator.predict(X_validation)\n",
    "        \n",
    "        # Compute metrics\n",
    "        accuracy_fold = round(accuracy_score(y_validation, predictions) * 100, 2)\n",
    "        precision_fold = round(precision_score(y_validation, predictions) * 100, 2)\n",
    "        recall_fold = round(recall_score(y_validation, predictions) * 100, 2)\n",
    "        f1_fold = round(f1_score(y_validation, predictions) * 100, 2)\n",
    "        roc_auc_fold = round(roc_auc_score(y_validation, predictions) * 100, 2)\n",
    "        \n",
    "        print('---- Fold {} ----'.format(fold))\n",
    "        print('Accuracy: {}%'.format(accuracy_fold))\n",
    "        print('Precision: {}%'.format(precision_fold))\n",
    "        print('Recall: {}%'.format(recall_fold))\n",
    "        print('F1 score: {}%'.format(f1_fold))\n",
    "        print('ROC AUC: {}%'.format(roc_auc_fold))\n",
    "        print('\\n')\n",
    "        \n",
    "        # Append mentrics to the corresponding list\n",
    "        accuracy_list.append(accuracy_fold)\n",
    "        precision_list.append(precision_fold)\n",
    "        recall_list.append(recall_fold)\n",
    "        f1_list.append(f1_fold)\n",
    "        roc_auc_list.append(roc_auc_fold)\n",
    "        \n",
    "    \n",
    "        \n",
    "    return np.mean(accuracy_list), precision_list.mean(), recall_list.mean(), f1_list.mean(), roc_auc_list.mean()\n",
    "        "
   ]
  },
  {
   "cell_type": "code",
   "execution_count": null,
   "id": "3c883c41-0384-4546-9100-ac0f43fe38cb",
   "metadata": {},
   "outputs": [],
   "source": [
    "# Model's Hyperparameters\n",
    "max_iter_lr_cv = 300\n",
    "solver_lr_cv = 'lbfgs'\n",
    "cross_validation_scoring_lr_cv = 'roc_auc'\n",
    "c_lr_cv = 1.3"
   ]
  },
  {
   "cell_type": "code",
   "execution_count": null,
   "id": "ff2ba2b3-7cec-4549-ae26-6571488a8385",
   "metadata": {},
   "outputs": [],
   "source": [
    "%%time\n",
    "\n",
    "# Define the model\n",
    "model_lr_cv = LogisticRegression(C=c_lr_cv,\n",
    "                                 max_iter=max_iter_lr_cv,\n",
    "                                 solver=solver_lr_cv)\n",
    "\n",
    "# Define the pipeline\n",
    "pipe_lr_cv = Pipeline([\n",
    "    ('data_preprocessing', data_preprocessor),\n",
    "    ('logistic_regression', model_lr_cv)\n",
    "])\n",
    "\n",
    "# Train the pipeline\n",
    "train_with_stratified_kfold(pipe_lr_cv, X, y, stratified_kfold)"
   ]
  },
  {
   "cell_type": "markdown",
   "id": "9a449494-4109-499c-bddc-4cc95997d85a",
   "metadata": {},
   "source": [
    "# Model Comparison"
   ]
  },
  {
   "cell_type": "code",
   "execution_count": null,
   "id": "02fccb81-3cc9-4f18-8be8-0831181cabc1",
   "metadata": {},
   "outputs": [],
   "source": [
    "# Plot the models' performance\n",
    "figure = px.bar(performance,\n",
    "                x=performance.index,\n",
    "                y=performance.columns.values,\n",
    "                labels={'index': 'Model', 'value': 'Performance'},\n",
    "                barmode='group',\n",
    "                title='Models Comparison',\n",
    "                color_discrete_sequence=px.colors.qualitative.Set3,\n",
    "                height=500,\n",
    "                template='plotly_dark')\n",
    "\n",
    "figure.update_layout(font=dict(family=\"PT Sans\", \n",
    "                               size=14), \n",
    "                     title_font=dict(family=\"PT Sans\",\n",
    "                                     size=30), \n",
    "                     title_x=0.5)\n",
    "\n",
    "# Plot figure\n",
    "figure.show()"
   ]
  }
 ],
 "metadata": {
  "kernelspec": {
   "display_name": "Python 3 (ipykernel)",
   "language": "python",
   "name": "python3"
  },
  "language_info": {
   "codemirror_mode": {
    "name": "ipython",
    "version": 3
   },
   "file_extension": ".py",
   "mimetype": "text/x-python",
   "name": "python",
   "nbconvert_exporter": "python",
   "pygments_lexer": "ipython3",
   "version": "3.10.5"
  }
 },
 "nbformat": 4,
 "nbformat_minor": 5
}
