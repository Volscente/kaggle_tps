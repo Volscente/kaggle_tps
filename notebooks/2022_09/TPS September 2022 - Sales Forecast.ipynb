{
 "cells": [
  {
   "cell_type": "markdown",
   "id": "dda5c47b-1105-408d-842f-ef6b54c7421d",
   "metadata": {},
   "source": [
    "# Introduction\n",
    "\n",
    "The notebook is intended to perform a Sales Forecast over the data of the [Tabular Playground Series - September 2022](https://www.kaggle.com/competitions/tabular-playground-series-sep-2022)"
   ]
  },
  {
   "cell_type": "code",
   "execution_count": null,
   "id": "d6e63dab-8e9e-4bcc-85b1-764ede281976",
   "metadata": {},
   "outputs": [],
   "source": [
    "# Import Standard Libraries\n",
    "import pandas as pd\n",
    "import numpy as np\n",
    "\n",
    "from sklearn.pipeline import Pipeline\n",
    "from sklearn.preprocessing import OneHotEncoder, StandardScaler\n",
    "from sklearn.compose import ColumnTransformer\n",
    "from sklearn.linear_model import LinearRegression\n",
    "from sklearn.metrics import mean_squared_error\n",
    "from sklearn.model_selection import StratifiedShuffleSplit\n",
    "\n",
    "import seaborn as sns\n",
    "\n",
    "import matplotlib.pyplot as plt\n",
    "from matplotlib.gridspec import GridSpec\n",
    "import matplotlib.ticker as ticker"
   ]
  },
  {
   "cell_type": "code",
   "execution_count": null,
   "id": "d5cffd1b-65a6-48d2-a525-7c073b37564c",
   "metadata": {},
   "outputs": [],
   "source": [
    "# Define Seaborn theme parameters\n",
    "theme_parameters =  {\n",
    "    'axes.spines.right': False,\n",
    "    'axes.spines.top': False,\n",
    "    'grid.alpha':0.3,\n",
    "    'figure.figsize': (16, 6),\n",
    "    'font.family': 'Andale Mono',\n",
    "    'axes.titlesize': 24,\n",
    "    'figure.facecolor': '#E5E8E8',\n",
    "    'axes.facecolor': '#E5E8E8'\n",
    "}\n",
    "\n",
    "# Set the theme\n",
    "sns.set_theme(style='whitegrid',\n",
    "              palette=sns.color_palette('deep'), \n",
    "              rc=theme_parameters)"
   ]
  },
  {
   "cell_type": "markdown",
   "id": "8e83f60b-7ed4-47ad-885c-f1fcdecebd92",
   "metadata": {},
   "source": [
    "# Read Data"
   ]
  },
  {
   "cell_type": "code",
   "execution_count": null,
   "id": "5e4910c2-7e26-44d3-b081-71f9baea2377",
   "metadata": {
    "tags": []
   },
   "outputs": [],
   "source": [
    "# Read train and test data\n",
    "train_data = pd.read_csv('./../../data/2022_09/train.csv',\n",
    "                         parse_dates=['date'],\n",
    "                         index_col=0)\n",
    "test_data = pd.read_csv('./../../data/2022_09/test.csv',\n",
    "                        parse_dates=['date'],\n",
    "                        index_col=0)"
   ]
  },
  {
   "cell_type": "code",
   "execution_count": null,
   "id": "5eb6690e-f103-4e19-b850-b747b24e0bd1",
   "metadata": {},
   "outputs": [],
   "source": [
    "train_data.info()"
   ]
  },
  {
   "cell_type": "code",
   "execution_count": null,
   "id": "a7bf0e36-b661-4a46-8f2a-955c1244cdc4",
   "metadata": {},
   "outputs": [],
   "source": [
    "test_data.info()"
   ]
  },
  {
   "cell_type": "markdown",
   "id": "7952a0ab-fe91-4710-b5d1-f9ad39c4320a",
   "metadata": {},
   "source": [
    "# Exploratory Data Analysis"
   ]
  },
  {
   "cell_type": "markdown",
   "id": "82a47a3a-977b-4702-a789-d574290bdb0d",
   "metadata": {},
   "source": [
    "## Null Values"
   ]
  },
  {
   "cell_type": "code",
   "execution_count": null,
   "id": "ba527f40-509c-4492-ab48-5044fc127b8a",
   "metadata": {},
   "outputs": [],
   "source": [
    "# Define data to display\n",
    "data_to_display = {\n",
    "    'Train Data': train_data,\n",
    "    'Test Data': test_data\n",
    "}\n",
    "\n",
    "# Create figure\n",
    "figure = plt.figure(tight_layout=True, figsize=(16, 6))\n",
    "\n",
    "\n",
    "\n",
    "# Define figure's subplots\n",
    "grid_spec = GridSpec(len(data_to_display), 1)\n",
    "\n",
    "# Fetch data to plot\n",
    "for row, (name, data) in enumerate(data_to_display.items()):\n",
    "    \n",
    "    # Create subplot\n",
    "    ax = figure.add_subplot(grid_spec[row, 0])\n",
    "    \n",
    "    sns.histplot(data=data.isna().melt(var_name='Feature', value_name='Missing'), \n",
    "                 y='Feature', \n",
    "                 hue='Missing', \n",
    "                 multiple='fill',\n",
    "                 ax=ax)\n",
    "    \n",
    "    # Refactor x label as missing percentage\n",
    "    ax.xaxis.set_major_locator(ticker.LinearLocator(21))\n",
    "    ax.xaxis.set_major_formatter('{:.0%}'.format)\n",
    "    \n",
    "    # Set title and label\n",
    "    ax.set_title(name, fontsize=15)\n",
    "    ax.set_xlabel('Null Percentage', fontweight='bold')"
   ]
  },
  {
   "cell_type": "markdown",
   "id": "33cc3488-4e54-46f4-9e13-d40112475a2b",
   "metadata": {},
   "source": [
    "## Product"
   ]
  },
  {
   "cell_type": "code",
   "execution_count": null,
   "id": "283dea0f-53d0-4747-ad68-efe02c5bfb71",
   "metadata": {},
   "outputs": [],
   "source": [
    "# Plot the number of sold products per country with respect to product\n",
    "ax = sns.barplot(data=train_data, \n",
    "                 x='product', \n",
    "                 y='num_sold', \n",
    "                 hue='country')\n",
    "\n",
    "ax.set_title('Product Sold per Country')\n",
    "\n",
    "plt.show()"
   ]
  },
  {
   "cell_type": "code",
   "execution_count": null,
   "id": "9fe5a3e0-6ec7-48ca-849e-7ba389a43897",
   "metadata": {},
   "outputs": [],
   "source": [
    "# Plot the number of sold products per country with respect to time\n",
    "ax = sns.lineplot(\n",
    "    data=train_data.groupby([\n",
    "        train_data.date.dt.strftime('%Y-%m-%d'), train_data.country \n",
    "    ])['num_sold'].sum().reset_index(), \n",
    "    x='date', \n",
    "    y='num_sold', \n",
    "    hue='country'\n",
    ")\n",
    "\n",
    "ax.set_title('Number of Sold Products per Country')\n",
    "\n",
    "plt.xticks(rotation=45)\n",
    "\n",
    "plt.show()"
   ]
  },
  {
   "cell_type": "markdown",
   "id": "4ee45181-c084-4fa1-a9cd-0bdb5c93bbf2",
   "metadata": {},
   "source": [
    "# Data Preparation"
   ]
  },
  {
   "cell_type": "markdown",
   "id": "351aaa50-75b1-4865-987a-46d16cb81657",
   "metadata": {},
   "source": [
    "## Product Normalization"
   ]
  },
  {
   "cell_type": "code",
   "execution_count": null,
   "id": "81c58f05-5785-4864-a05d-5239048af59c",
   "metadata": {},
   "outputs": [],
   "source": [
    "# Replace spaces and special characters\n",
    "train_data['product'] = train_data['product'].str.replace(' ', '_')\n",
    "train_data['product'] = train_data['product'].str.replace(':', '_')\n",
    "test_data['product'] = test_data['product'].str.replace(' ', '_')\n",
    "test_data['product'] = test_data['product'].str.replace(':', '_')"
   ]
  },
  {
   "cell_type": "markdown",
   "id": "ea938fa3-d06b-4156-b962-67495106c44d",
   "metadata": {},
   "source": [
    "## Features and Labels Definition"
   ]
  },
  {
   "cell_type": "code",
   "execution_count": null,
   "id": "0872dbe5-5829-4414-b972-70ffaf1379a3",
   "metadata": {},
   "outputs": [],
   "source": [
    "# Define features and labels\n",
    "numerical_features = ['date_day', \n",
    "                      'date_month', \n",
    "                      'date_year', \n",
    "                      'date_dayofweek']\n",
    "\n",
    "categorical_features = ['country', \n",
    "                        'store', \n",
    "                        'product']\n",
    "\n",
    "labels = ['num_sold']"
   ]
  },
  {
   "cell_type": "markdown",
   "id": "a5ff167e-2c20-4c3e-b418-682965249620",
   "metadata": {},
   "source": [
    "## Numerical Features\n",
    "\n",
    "Since there are no NaN values in the data, it is possible to skip the Fill NaN values step."
   ]
  },
  {
   "cell_type": "code",
   "execution_count": null,
   "id": "6053b35f-820b-44c2-a0b0-238a581d8c09",
   "metadata": {},
   "outputs": [],
   "source": [
    "# Numerical features pipeline\n",
    "numerical_features_pipeline = Pipeline(steps=[\n",
    "    ('numerical_scaler', StandardScaler())\n",
    "])"
   ]
  },
  {
   "cell_type": "markdown",
   "id": "77f2a203-5154-40fb-819e-b050a4b18255",
   "metadata": {},
   "source": [
    "## Categorical Features\n",
    "\n",
    "Since there are no NaN values in the data, it is possible to skip the Fill NaN values step."
   ]
  },
  {
   "cell_type": "code",
   "execution_count": null,
   "id": "1e9da5c9-0187-4d71-a43d-868cc747b30e",
   "metadata": {},
   "outputs": [],
   "source": [
    "# Categorical features pipeline\n",
    "categorical_features_pipeline = Pipeline(steps=[\n",
    "    ('categorical_one_hot_encoder', OneHotEncoder(handle_unknown='ignore'))\n",
    "])"
   ]
  },
  {
   "cell_type": "markdown",
   "id": "4a0e592d-aa89-4c24-9f79-f7780b48b7d6",
   "metadata": {},
   "source": [
    "## Bundle Data Preprocessing Steps"
   ]
  },
  {
   "cell_type": "code",
   "execution_count": null,
   "id": "6df74a6a-8630-4e64-a12f-850ad2d99164",
   "metadata": {},
   "outputs": [],
   "source": [
    "# Bunlde data preprocessing steps\n",
    "data_preprocessor = ColumnTransformer(\n",
    "    transformers=[\n",
    "        ('numerical_preprocessing', numerical_features_pipeline, numerical_features),\n",
    "        ('categorical_preprocessing', categorical_features_pipeline, categorical_features)\n",
    "    ])"
   ]
  },
  {
   "cell_type": "markdown",
   "id": "57522001-aaf5-4c38-b083-567f876ee4ae",
   "metadata": {},
   "source": [
    "# Train & Test Split\n",
    "\n",
    "Use the data from 2020 as validation set."
   ]
  },
  {
   "cell_type": "code",
   "execution_count": null,
   "id": "ec21446b-d6a4-463b-b506-b127675b73e7",
   "metadata": {},
   "outputs": [],
   "source": [
    "# Define X and y for the training set\n",
    "X = train_data[numerical_features + categorical_features]\n",
    "y = train_data[labels]"
   ]
  },
  {
   "cell_type": "code",
   "execution_count": null,
   "id": "f700248a-c2cd-4867-b392-f2ff1e4b6ea3",
   "metadata": {},
   "outputs": [],
   "source": [
    "# Split training data into train and validation\n",
    "X_train = X[X['date_year'] != 2020]\n",
    "y_train = y.iloc[X_train.index]\n",
    "X_test = X[X['date_year'] == 2020]\n",
    "y_test = y.iloc[X_test.index]"
   ]
  },
  {
   "cell_type": "code",
   "execution_count": null,
   "id": "fba79522-79dd-4f9f-b9ea-cd371f10d8e0",
   "metadata": {},
   "outputs": [],
   "source": [
    "# Define the a Stratified K-fold Shuffle Splitter\n",
    "stratified_kfold = StratifiedShuffleSplit(n_splits=5,\n",
    "                                          test_size=.3, \n",
    "                                          random_state=0)"
   ]
  },
  {
   "cell_type": "markdown",
   "id": "d32f0fc7-ec81-4a84-ba6b-5b028e916547",
   "metadata": {},
   "source": [
    "# Model"
   ]
  },
  {
   "cell_type": "code",
   "execution_count": null,
   "id": "e6dd5d68-5523-4682-a4ba-4464ef8c804f",
   "metadata": {},
   "outputs": [],
   "source": [
    "# Define function to compute the SMAPE (source: https://www.kaggle.com/code/jcaliz/tps-sep22-eda-baseline-you-were-looking-for)\n",
    "def smape(y_true, y_pred):\n",
    "    denominator = (np.abs(y_true) + np.abs(y_pred)) / 200.0\n",
    "    diff = np.abs(y_true - y_pred) / denominator\n",
    "    diff[denominator == 0] = 0.0\n",
    "    return np.nanmean(diff)"
   ]
  },
  {
   "cell_type": "code",
   "execution_count": null,
   "id": "dc67f56a-d45d-40fc-b5cd-e2664e8663f3",
   "metadata": {},
   "outputs": [],
   "source": [
    "# Define the used metrics\n",
    "metrics = ['smape', 'mse']"
   ]
  },
  {
   "cell_type": "code",
   "execution_count": null,
   "id": "e6b59977-79a9-469d-9d8f-ccac96447945",
   "metadata": {},
   "outputs": [],
   "source": [
    "# Initialize DataFrame of model performance\n",
    "performance = pd.DataFrame(columns=metrics)"
   ]
  },
  {
   "cell_type": "markdown",
   "id": "f70049f5-d972-4869-a043-aadb78fc904a",
   "metadata": {},
   "source": [
    "## Linear Regression"
   ]
  },
  {
   "cell_type": "code",
   "execution_count": null,
   "id": "67834173-7ca2-4f14-99f7-1ebe98635598",
   "metadata": {},
   "outputs": [],
   "source": [
    "%%time\n",
    "\n",
    "# Define the model\n",
    "model_lr = LinearRegression()\n",
    "\n",
    "# Define the pipeline\n",
    "pipe_lr = Pipeline([\n",
    "    ('data_preprocessing', data_preprocessor),\n",
    "    ('linear_regression', model_lr)\n",
    "])\n",
    "\n",
    "# Train the pipeline\n",
    "pipe_lr.fit(X_train, \n",
    "            y_train)\n",
    "\n",
    "# Get number of sold predictions\n",
    "predictions_lr = pipe_lr.predict(X_test)\n",
    "\n",
    "# Model evaluation\n",
    "smape_lr = round(smape(y_test, predictions_lr), 2)\n",
    "mse_lr = round(mean_squared_error(y_test, predictions_lr), 2)\n",
    "\n",
    "print('SMAPE: {}%'.format(smape_lr))\n",
    "print('MSE: {}'.format(mse_lr))\n",
    "print('\\n')"
   ]
  },
  {
   "cell_type": "code",
   "execution_count": null,
   "id": "5914fb00-9792-4d86-bbf7-e5565288d61a",
   "metadata": {},
   "outputs": [],
   "source": [
    "# Update 'performance' DataFrame\n",
    "performance.loc['linear_regression'] = [smape_lr, mse_lr]"
   ]
  },
  {
   "cell_type": "markdown",
   "id": "022f60d5-b9fd-446a-99ee-c239e6ec4995",
   "metadata": {},
   "source": [
    "## Linear Regression - Cross-Validation"
   ]
  },
  {
   "cell_type": "markdown",
   "id": "2a1e6810-46ac-40d4-9131-f19e539f446d",
   "metadata": {},
   "source": [
    "# Model Comparison"
   ]
  }
 ],
 "metadata": {
  "kernelspec": {
   "display_name": "Python 3 (ipykernel)",
   "language": "python",
   "name": "python3"
  },
  "language_info": {
   "codemirror_mode": {
    "name": "ipython",
    "version": 3
   },
   "file_extension": ".py",
   "mimetype": "text/x-python",
   "name": "python",
   "nbconvert_exporter": "python",
   "pygments_lexer": "ipython3",
   "version": "3.10.5"
  }
 },
 "nbformat": 4,
 "nbformat_minor": 5
}
