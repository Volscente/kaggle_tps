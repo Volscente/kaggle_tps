{
 "cells": [
  {
   "cell_type": "markdown",
   "id": "dda5c47b-1105-408d-842f-ef6b54c7421d",
   "metadata": {},
   "source": [
    "# Introduction\n",
    "\n",
    "The notebook is intended to perform a Sales Forecast over the data of the [Tabular Playground Series - September 2022](https://www.kaggle.com/competitions/tabular-playground-series-sep-2022).\n",
    "\n",
    "Thanks to [this notebook](https://www.kaggle.com/code/jcaliz/tps-sep22-eda-baseline-you-were-looking-for) for the EDA ideas."
   ]
  },
  {
   "cell_type": "code",
   "execution_count": null,
   "id": "d6e63dab-8e9e-4bcc-85b1-764ede281976",
   "metadata": {},
   "outputs": [],
   "source": [
    "# Import Standard Libraries\n",
    "import pandas as pd\n",
    "import numpy as np\n",
    "from itertools import product as cartesian_product\n",
    "import warnings\n",
    "\n",
    "from sklearn.pipeline import Pipeline\n",
    "from sklearn.preprocessing import OneHotEncoder, StandardScaler\n",
    "from sklearn.compose import ColumnTransformer\n",
    "from sklearn.linear_model import LinearRegression\n",
    "from sklearn.model_selection import StratifiedShuffleSplit, train_test_split\n",
    "\n",
    "import seaborn as sns\n",
    "\n",
    "import matplotlib.pyplot as plt\n",
    "from matplotlib.gridspec import GridSpec\n",
    "import matplotlib.ticker as ticker\n",
    "\n",
    "# Suppress FutureWarning from Seaborn\n",
    "warnings.simplefilter(action='ignore', category=FutureWarning)"
   ]
  },
  {
   "cell_type": "code",
   "execution_count": null,
   "id": "d5cffd1b-65a6-48d2-a525-7c073b37564c",
   "metadata": {},
   "outputs": [],
   "source": [
    "# Define Seaborn theme parameters\n",
    "theme_parameters =  {\n",
    "    'axes.spines.right': False,\n",
    "    'axes.spines.top': False,\n",
    "    'grid.alpha':0.3,\n",
    "    'figure.figsize': (16, 6),\n",
    "    'font.family': 'Andale Mono',\n",
    "    'axes.titlesize': 24,\n",
    "    'figure.facecolor': '#E5E8E8',\n",
    "    'axes.facecolor': '#E5E8E8'\n",
    "}\n",
    "\n",
    "# Set the theme\n",
    "sns.set_theme(style='whitegrid',\n",
    "              palette=sns.color_palette('deep'), \n",
    "              rc=theme_parameters)"
   ]
  },
  {
   "cell_type": "markdown",
   "id": "8e83f60b-7ed4-47ad-885c-f1fcdecebd92",
   "metadata": {},
   "source": [
    "# Read Data"
   ]
  },
  {
   "cell_type": "code",
   "execution_count": null,
   "id": "5e4910c2-7e26-44d3-b081-71f9baea2377",
   "metadata": {
    "tags": []
   },
   "outputs": [],
   "source": [
    "# Read train and test data\n",
    "train_data = pd.read_csv('./../../data/2022_09/train.csv',\n",
    "                         parse_dates=['date'],\n",
    "                         index_col=0)\n",
    "test_data = pd.read_csv('./../../data/2022_09/test.csv',\n",
    "                        parse_dates=['date'],\n",
    "                        index_col=0)"
   ]
  },
  {
   "cell_type": "code",
   "execution_count": null,
   "id": "5eb6690e-f103-4e19-b850-b747b24e0bd1",
   "metadata": {},
   "outputs": [],
   "source": [
    "train_data.info()"
   ]
  },
  {
   "cell_type": "code",
   "execution_count": null,
   "id": "a7bf0e36-b661-4a46-8f2a-955c1244cdc4",
   "metadata": {},
   "outputs": [],
   "source": [
    "test_data.info()"
   ]
  },
  {
   "cell_type": "markdown",
   "id": "7952a0ab-fe91-4710-b5d1-f9ad39c4320a",
   "metadata": {},
   "source": [
    "# Exploratory Data Analysis"
   ]
  },
  {
   "cell_type": "markdown",
   "id": "82a47a3a-977b-4702-a789-d574290bdb0d",
   "metadata": {},
   "source": [
    "## Null Values"
   ]
  },
  {
   "cell_type": "code",
   "execution_count": null,
   "id": "ba527f40-509c-4492-ab48-5044fc127b8a",
   "metadata": {},
   "outputs": [],
   "source": [
    "# Define data to display\n",
    "data_to_display = {\n",
    "    'Train Data': train_data,\n",
    "    'Test Data': test_data\n",
    "}\n",
    "\n",
    "# Create figure\n",
    "figure = plt.figure(tight_layout=True, figsize=(16, 6))\n",
    "\n",
    "\n",
    "# Define figure's subplots\n",
    "grid_spec = GridSpec(len(data_to_display), 1)\n",
    "\n",
    "# Fetch data to plot\n",
    "for row, (name, data) in enumerate(data_to_display.items()):\n",
    "    \n",
    "    # Create subplot\n",
    "    ax = figure.add_subplot(grid_spec[row, 0])\n",
    "    \n",
    "    sns.histplot(data=data.isna().melt(var_name='Feature', value_name='Missing'), \n",
    "                 y='Feature', \n",
    "                 hue='Missing', \n",
    "                 multiple='fill',\n",
    "                 ax=ax)\n",
    "    \n",
    "    # Refactor x label as missing percentage\n",
    "    ax.xaxis.set_major_locator(ticker.LinearLocator(21))\n",
    "    ax.xaxis.set_major_formatter('{:.0%}'.format)\n",
    "    \n",
    "    # Set title and label\n",
    "    ax.set_title(name, fontsize=15)\n",
    "    ax.set_xlabel('Null Percentage', fontweight='bold')"
   ]
  },
  {
   "cell_type": "markdown",
   "id": "64774401-a05c-4939-a908-d46bac67e8d4",
   "metadata": {},
   "source": [
    "There are no null values, so there is not need to impute the data while training or testing the model."
   ]
  },
  {
   "cell_type": "markdown",
   "id": "c0870e79-ac1e-4b11-b56f-ddb0870d992c",
   "metadata": {},
   "source": [
    "## Distribution of Sold Product per Country, Store and Product"
   ]
  },
  {
   "cell_type": "code",
   "execution_count": null,
   "id": "a0429e9c-92c2-4975-bfcd-8bbdcc6e170c",
   "metadata": {},
   "outputs": [],
   "source": [
    "# Define the subplot\n",
    "figure, ax = plt.subplots(12, 4, figsize=(25, 50))\n",
    "ax = ax.flatten()\n",
    "\n",
    "# Fetch the data to plot\n",
    "for index, (combination, data_plot) in enumerate(train_data.groupby(['country', 'store', 'product'])):\n",
    "    \n",
    "    sns.histplot(data=data_plot.num_sold, \n",
    "                 ax=ax[index])\n",
    "    \n",
    "    ax[index].set_title(' | '.join(combination), fontsize=14)\n",
    "\n",
    "plt.tight_layout()"
   ]
  },
  {
   "cell_type": "markdown",
   "id": "e441bcb5-36cb-45ea-bb83-abc52cd59533",
   "metadata": {},
   "source": [
    "Most of the countries have a skewed distribution, except Poland. "
   ]
  },
  {
   "cell_type": "markdown",
   "id": "33cc3488-4e54-46f4-9e13-d40112475a2b",
   "metadata": {},
   "source": [
    "## Sold Product per Country"
   ]
  },
  {
   "cell_type": "code",
   "execution_count": null,
   "id": "283dea0f-53d0-4747-ad68-efe02c5bfb71",
   "metadata": {},
   "outputs": [],
   "source": [
    "# Plot the number of sold products per country with respect to product\n",
    "ax = sns.barplot(data=train_data, \n",
    "                 x='product', \n",
    "                 y='num_sold', \n",
    "                 hue='country')\n",
    "\n",
    "ax.set_title('Product Sold per Country')\n",
    "\n",
    "plt.show()"
   ]
  },
  {
   "cell_type": "markdown",
   "id": "5b1ccfc3-bbdf-49cf-abeb-99cdc7e0e44a",
   "metadata": {},
   "source": [
    "- Every product is sold by every country\n",
    "- Kaggle for Kids looks like the most sold\n",
    "- Use both Product and Country as features"
   ]
  },
  {
   "cell_type": "markdown",
   "id": "a8a914ba-8c46-41c7-b3ca-979d0f15fa58",
   "metadata": {},
   "source": [
    "## Sold Product per Country over Time"
   ]
  },
  {
   "cell_type": "code",
   "execution_count": null,
   "id": "9fe5a3e0-6ec7-48ca-849e-7ba389a43897",
   "metadata": {},
   "outputs": [],
   "source": [
    "# Plot the number of sold products per country with respect to time\n",
    "ax = sns.lineplot(\n",
    "    data=train_data.groupby([\n",
    "        train_data.date.dt.strftime('%Y-%m'), train_data.country \n",
    "    ])['num_sold'].sum().reset_index(), \n",
    "    x='date', \n",
    "    y='num_sold', \n",
    "    hue='country'\n",
    ")\n",
    "\n",
    "ax.set_title('Number of Sold Products per Country')\n",
    "\n",
    "plt.xticks(rotation=45)\n",
    "\n",
    "ax.xaxis.set_major_locator(ticker.MaxNLocator(nbins=train_data.date.dt.strftime('%Y-%m').nunique()/2))\n",
    "\n",
    "plt.show()"
   ]
  },
  {
   "cell_type": "markdown",
   "id": "5c841003-6253-45cb-8f27-c3f06bd16539",
   "metadata": {},
   "source": [
    "- There is a non-stationary point around early 2020\n",
    "- Year can be used as a feature"
   ]
  },
  {
   "cell_type": "markdown",
   "id": "5fda2217-dfa9-4e03-a199-d58148404f30",
   "metadata": {},
   "source": [
    "## Date Range in Train & Test Data"
   ]
  },
  {
   "cell_type": "code",
   "execution_count": null,
   "id": "24a7d017-a124-49ec-9d41-a24ed9f0decd",
   "metadata": {},
   "outputs": [],
   "source": [
    "# Compute the min and max time range for train & test data\n",
    "train_range = train_data.date.agg(['min', 'max'])\n",
    "test_range = test_data.date.agg(['min', 'max'])\n",
    "\n",
    "# Define the subplot\n",
    "figure, ax = plt.subplots()\n",
    "\n",
    "# Plot the train_range time range\n",
    "ax.plot(train_range, \n",
    "        [0.2, 0.2], \n",
    "        linewidth=5, \n",
    "        marker='.', \n",
    "        markersize=30, \n",
    "        label='Train')\n",
    "\n",
    "# Plot test_rage time rage\n",
    "ax.plot(test_range, \n",
    "        [0.3, 0.3], \n",
    "        linewidth=5, \n",
    "        marker='.', \n",
    "        markersize=30, \n",
    "        label='Test')\n",
    "\n",
    "# Refine plot height\n",
    "ax.set_ylim(0.1, 0.4)\n",
    "ax.legend()\n",
    "\n",
    "# Remove the y-ticks since it's not need\n",
    "ax.set_yticks(ticks=[]);\n",
    "\n",
    "plt.xticks(fontsize=14)\n",
    "ax.legend(borderpad=1.5, fontsize=13)\n",
    "\n",
    "print('Train Data Time Range', train_range, '\\n', sep='\\n')\n",
    "print('Test Data Time Range', test_range, sep='\\n')\n",
    "print('\\n')"
   ]
  },
  {
   "cell_type": "markdown",
   "id": "eb355809-6e89-4ff8-9bed-0d76ca51f8c9",
   "metadata": {},
   "source": [
    "- Since the years between train & test data do not overlap the `year` can not be taken into account as a feature"
   ]
  },
  {
   "cell_type": "markdown",
   "id": "0ee955af-ea99-4e1f-9575-9bfdf8963b97",
   "metadata": {},
   "source": [
    "## Sold Product per Product over Time"
   ]
  },
  {
   "cell_type": "code",
   "execution_count": null,
   "id": "f1a251a6-9dfe-4eb4-90fd-ca0caccfacc1",
   "metadata": {},
   "outputs": [],
   "source": [
    "# Define the subplot\n",
    "figure, ax = plt.subplots(2, 2, figsize=(16, 9))\n",
    "ax = ax.flatten()\n",
    "hue_order = train_data['country'].unique()\n",
    "\n",
    "# Fetch the products\n",
    "for index, product in enumerate(train_data['product'].unique()):\n",
    "    \n",
    "    # Retrieve data\n",
    "    data_plot = train_data[train_data['product'] == product]\n",
    "        \n",
    "    # Plot\n",
    "    sns.lineplot(data=data_plot.groupby([\n",
    "                        data_plot.date.dt.strftime('%Y-%m'), \n",
    "                        data_plot.country\n",
    "                        ])['num_sold'].sum().reset_index(), \n",
    "                 x='date', \n",
    "                 y='num_sold', \n",
    "                 hue='country',\n",
    "                 hue_order=hue_order,\n",
    "                 ax=ax[index])\n",
    "    \n",
    "    # Retrieve legends information\n",
    "    handles = ax[index].get_legend_handles_labels()[0]\n",
    "    labels = ax[index].get_legend_handles_labels()[1]\n",
    "    ax[index].legend().remove()\n",
    "    \n",
    "    # Set the title\n",
    "    ax[index].set_title(product, fontsize=14)\n",
    "    ax[index].xaxis.set_major_locator(ticker.MaxNLocator(nbins=data_plot.date.dt.strftime('%Y-%m').nunique()/5))\n",
    "    \n",
    "# Set the legend\n",
    "figure.legend(handles, \n",
    "              labels, \n",
    "              loc='upper center', \n",
    "              bbox_to_anchor=(0.5, 1.03), \n",
    "              fontsize=12,\n",
    "              ncol=train_data['country'].nunique())\n",
    "    \n",
    "plt.tight_layout()"
   ]
  },
  {
   "cell_type": "markdown",
   "id": "9ff36780-2989-4767-9817-abac190fac0b",
   "metadata": {},
   "source": [
    "- As per the previous plot, there is a strange behavior in 2020\n",
    "- `Kaggle Advanced Techniques` and `Kaggle Getting Started` have a month seasonality. It could be useful to use the month as a feature."
   ]
  },
  {
   "cell_type": "markdown",
   "id": "bd3cdd39-ba56-4cb8-aa71-6f03a4b2ae1c",
   "metadata": {},
   "source": [
    "## Sold Product per Product & Store over Time"
   ]
  },
  {
   "cell_type": "code",
   "execution_count": null,
   "id": "e1fd17d0-7ba6-4b71-a8a9-507ad9e31499",
   "metadata": {},
   "outputs": [],
   "source": [
    "# Define the subplot\n",
    "figure, ax = plt.subplots(4, 2, figsize=(16, 12), sharey=True)\n",
    "ax = ax.flatten()\n",
    "hue_order = train_data['country'].unique()\n",
    "\n",
    "# Compute every possible combination between 'product' and 'store'\n",
    "products = train_data['product'].unique()\n",
    "stores = train_data['store'].unique()\n",
    "iterator = cartesian_product(products, stores)\n",
    "\n",
    "# Fetch the data to plot\n",
    "for index, (product, store) in enumerate(iterator):\n",
    "    \n",
    "    # Retrieve the data to plot\n",
    "    data_plot = train_data[\n",
    "        (train_data['store'] == store) &\n",
    "        (train_data['product'] == product)]\n",
    "    \n",
    "    # Plot the data\n",
    "    sns.lineplot(\n",
    "        data=data_plot.groupby([\n",
    "            data_plot.date.dt.strftime('%Y-%m'), \n",
    "            data_plot.country\n",
    "        ])['num_sold'].sum().reset_index(),\n",
    "        x='date',\n",
    "        y='num_sold',\n",
    "        hue='country',\n",
    "        hue_order=hue_order,\n",
    "        ax=ax[index])\n",
    "    \n",
    "    # Set title\n",
    "    ax[index].set_title(f'{store} | {product}', \n",
    "                        fontsize=10)\n",
    "    \n",
    "    # Set bins\n",
    "    ax[index].xaxis.set_major_locator(ticker.MaxNLocator(nbins=data_plot.date.dt.strftime('%Y-%m').nunique()/5))\n",
    "    \n",
    "    # Retrieve legend information\n",
    "    handles = ax[index].get_legend_handles_labels()[0]\n",
    "    labels = ax[index].get_legend_handles_labels()[1]\n",
    "    ax[index].legend().remove()\n",
    "    \n",
    "\n",
    "# Set the legend\n",
    "figure.legend(handles, \n",
    "              labels, \n",
    "              loc='upper center', \n",
    "              bbox_to_anchor=(0.5, 1.03), \n",
    "              fontsize=12,\n",
    "              ncol=train_data['country'].nunique())\n",
    "    \n",
    "plt.tight_layout()                 "
   ]
  },
  {
   "cell_type": "markdown",
   "id": "6a7f4d06-257b-43c7-bb2c-6767f279f1a1",
   "metadata": {},
   "source": [
    "- `KaggleRama` clarly sells less than `KaggleMart`. The store has to be a feature.\n",
    "- Non-stationary point in 2020\n",
    "- Monthly seasonality for `Kaggle Advanced Techniques` and `Kaggle Getting Started`"
   ]
  },
  {
   "cell_type": "markdown",
   "id": "1eb65603-6b3e-48e6-ad8b-2eb01589a164",
   "metadata": {},
   "source": [
    "## Seasonality"
   ]
  },
  {
   "cell_type": "code",
   "execution_count": null,
   "id": "ff07a624-a771-4d7d-9888-19644502293b",
   "metadata": {},
   "outputs": [],
   "source": [
    "def plot_seasonality(seasonality_column, ci=95, alpha=1):\n",
    "    \"\"\"\n",
    "    Utility function for plot the specified seasonality in 'seasonality_column' with respect to the 'product' and 'store' grouping\n",
    "    \n",
    "    Parameters:\n",
    "        seasonality_column:\n",
    "        ci: Integer confidence interval value\n",
    "        alpha\n",
    "    \"\"\"\n",
    "    \n",
    "    # Define the subplots\n",
    "    figure, ax = plt.subplots(4, 2, figsize=(18, 20))\n",
    "    ax = ax.flatten()\n",
    "    hue_order = train_data['country'].unique()\n",
    "    \n",
    "    \n",
    "    # Compute every possible combination between 'product' and 'store'\n",
    "    products = train_data['product'].unique()\n",
    "    stores = train_data['store'].unique()\n",
    "    iterator = cartesian_product(products, stores)\n",
    "    \n",
    "    # Fetch the data to plot\n",
    "    for index, (product, store) in enumerate(iterator):\n",
    "        \n",
    "        # Retrieve the data to plot\n",
    "        data_plot = train_data[\n",
    "            (train_data['store'] == store) &\n",
    "            (train_data['product'] == product)]\n",
    "    \n",
    "        # Plot the data\n",
    "        sns.lineplot(\n",
    "            data=pd.melt(\n",
    "                data_plot, \n",
    "                id_vars=['country', seasonality_column],\n",
    "                value_vars=['num_sold'],\n",
    "                value_name='num_solds'\n",
    "            ),\n",
    "            x=seasonality_column,\n",
    "            y='num_solds',\n",
    "            hue='country',\n",
    "            ax=ax[index],\n",
    "            errorbar=('ci', ci),\n",
    "            alpha=alpha,\n",
    "            hue_order=hue_order\n",
    "        )\n",
    "        \n",
    "        # Set Title\n",
    "        ax[index].set_title(f'{store} | {product}', \n",
    "                             fontsize=12)\n",
    "        \n",
    "        # Retrieve legend information\n",
    "        handles = ax[index].get_legend_handles_labels()[0]\n",
    "        labels = ax[index].get_legend_handles_labels()[1]\n",
    "        ax[index].legend().remove()\n",
    "\n",
    "    # Set the legend\n",
    "    figure.legend(handles, \n",
    "                  labels, \n",
    "                  loc='upper center', \n",
    "                  bbox_to_anchor=(0.5, 1.03), \n",
    "                  fontsize=12,\n",
    "                  ncol=train_data['country'].nunique())\n",
    "    \n",
    "    # Set the figure title\n",
    "    plt.suptitle(f'Seasonality by {seasonality_column}',\n",
    "                 fontsize=16)\n",
    "    \n",
    "    plt.tight_layout()\n",
    "    \n",
    "    plt.show()"
   ]
  },
  {
   "cell_type": "markdown",
   "id": "194a08ba-fda6-42ec-a767-ed80d5fc4b13",
   "metadata": {},
   "source": [
    "### Engineering Date"
   ]
  },
  {
   "cell_type": "code",
   "execution_count": null,
   "id": "307b8d36-7685-40ca-8bb8-6c91edf974ce",
   "metadata": {},
   "outputs": [],
   "source": [
    "def engineer_date(data: pd.DataFrame):\n",
    "    \"\"\"\n",
    "    Engineer the 'date' column to retrieve meaningful information such as the day, month, year, day of week, quarter, day of year and week of year\n",
    "    \n",
    "    Parameters:\n",
    "        data: Pandas DataFrame with the 'date' column\n",
    "    \n",
    "    Return:\n",
    "        data: Pandas DataFrame with the engineered date columns\n",
    "    \"\"\"\n",
    "    \n",
    "    # Day\n",
    "    data['day'] = data['date'].dt.day\n",
    "    \n",
    "    # Month\n",
    "    data['month'] = data['date'].dt.month\n",
    "    \n",
    "    # Year\n",
    "    data['year'] = data['date'].dt.year\n",
    "    \n",
    "    # Day of the week\n",
    "    data['dayofweek'] = data['date'].dt.dayofweek\n",
    "    \n",
    "    # Quarter\n",
    "    data['quarter'] = data['date'].dt.quarter\n",
    "    \n",
    "    # Day of the year\n",
    "    data['dayofyear'] = data['date'].dt.dayofyear\n",
    "    \n",
    "    # Week of the year\n",
    "    data['weekofyear'] = data['date'].dt.isocalendar().week\n",
    "    data.loc[data['weekofyear'] > 52, 'weekofyear'] = 52 # Not every year has 53 weeks, so let's cap to 52\n",
    "    data['weekofyear'] = data['weekofyear'].astype('int64') # Convert back the column to integer"
   ]
  },
  {
   "cell_type": "code",
   "execution_count": null,
   "id": "a823b247-8c57-41dd-9ea6-d56e55a9aa24",
   "metadata": {},
   "outputs": [],
   "source": [
    "# apply the 'engineer_date' function over the training and test sets\n",
    "engineer_date(train_data)\n",
    "engineer_date(test_data)"
   ]
  },
  {
   "cell_type": "markdown",
   "id": "8f7a91a1-e5af-48b8-a024-897377299a18",
   "metadata": {},
   "source": [
    "### Day"
   ]
  },
  {
   "cell_type": "code",
   "execution_count": null,
   "id": "21ddf5f8-c944-45d1-ad0b-fab849074f1f",
   "metadata": {},
   "outputs": [],
   "source": [
    "plot_seasonality('day')"
   ]
  },
  {
   "cell_type": "markdown",
   "id": "2bd80776-1c98-4399-8968-6977be8875e1",
   "metadata": {},
   "source": [
    "- There is a slightly increase toward the end of the month. Create a boolean variable for the last 27-30 days."
   ]
  },
  {
   "cell_type": "markdown",
   "id": "0fa030ee-558b-4c52-8a76-b07c48c956c6",
   "metadata": {},
   "source": [
    "### Month"
   ]
  },
  {
   "cell_type": "code",
   "execution_count": null,
   "id": "83184b3f-eb8f-485a-85cc-3030285d8476",
   "metadata": {},
   "outputs": [],
   "source": [
    "plot_seasonality('month')"
   ]
  },
  {
   "cell_type": "markdown",
   "id": "9f23036a-fea2-487c-9f2d-6eec7ce45ea7",
   "metadata": {},
   "source": [
    "- There is an increasing trend towards the end of the year\n",
    "- `Kaggle Advanced Techniques` is more popular at the start of the year, while `Kaggle Getting Started`is more popular at the end"
   ]
  },
  {
   "cell_type": "markdown",
   "id": "1337d5d6-d577-4696-8881-71fb961fb175",
   "metadata": {},
   "source": [
    "### Year"
   ]
  },
  {
   "cell_type": "code",
   "execution_count": null,
   "id": "8dabb553-e7b3-4db5-b97f-da7a86413f40",
   "metadata": {},
   "outputs": [],
   "source": [
    "plot_seasonality('year')"
   ]
  },
  {
   "cell_type": "markdown",
   "id": "0bc6293d-1ee1-4a4c-b7a2-56b917fcd145",
   "metadata": {},
   "source": [
    "- Quite a strange behavior in 2020, like a convergence point"
   ]
  },
  {
   "cell_type": "markdown",
   "id": "dfb5f9b3-cb8f-42df-9af6-3a2b458284db",
   "metadata": {},
   "source": [
    "### Day of Week"
   ]
  },
  {
   "cell_type": "code",
   "execution_count": null,
   "id": "2564f4ae-1780-46b2-94ba-a1a6a26f7c17",
   "metadata": {},
   "outputs": [],
   "source": [
    "plot_seasonality('dayofweek')"
   ]
  },
  {
   "cell_type": "markdown",
   "id": "f70bb18a-28bf-45d2-a689-9b975ff331c9",
   "metadata": {},
   "source": [
    "- Increasing trend over the Weekend. It could be usefull to encode it as a feature."
   ]
  },
  {
   "cell_type": "markdown",
   "id": "0119c564-3985-446c-95f2-b9dc9f42f5c4",
   "metadata": {},
   "source": [
    "### Quarter"
   ]
  },
  {
   "cell_type": "code",
   "execution_count": null,
   "id": "dacc5769-e613-4cd8-844d-5e174027f81d",
   "metadata": {},
   "outputs": [],
   "source": [
    "plot_seasonality('quarter')"
   ]
  },
  {
   "cell_type": "markdown",
   "id": "f5d46ef4-2c55-4041-a238-1964f873b9fe",
   "metadata": {},
   "source": [
    "- Same seasonality as Month"
   ]
  },
  {
   "cell_type": "markdown",
   "id": "8baca358-7804-40a8-a08b-c26658e81a92",
   "metadata": {},
   "source": [
    "### Day of Year"
   ]
  },
  {
   "cell_type": "code",
   "execution_count": null,
   "id": "e88b5dfd-b539-4432-bd32-bf8a7e37001b",
   "metadata": {},
   "outputs": [],
   "source": [
    "plot_seasonality('dayofyear')"
   ]
  },
  {
   "cell_type": "markdown",
   "id": "fba0ba85-8c09-40e7-ab3f-314304021069",
   "metadata": {},
   "source": [
    "- There is a spike in the final day of the year, probably due to the XMas holiday. Encode a feature for the 24/12 to 01/01."
   ]
  },
  {
   "cell_type": "markdown",
   "id": "5939895e-7eb0-4d39-9691-e5c1e3b05463",
   "metadata": {},
   "source": [
    "### Week of the Year"
   ]
  },
  {
   "cell_type": "code",
   "execution_count": null,
   "id": "a7081a34-fc98-44f2-98f1-092bb04ae081",
   "metadata": {},
   "outputs": [],
   "source": [
    "plot_seasonality('weekofyear')"
   ]
  },
  {
   "cell_type": "markdown",
   "id": "c0fc523b-8e22-4af5-b475-9b0d6509d484",
   "metadata": {},
   "source": [
    "- Seasonality for the same product is the same across the two different stores\n",
    "- `Kaggle Advanced Techniques` is more popular at the start of the year, while `Kaggle Getting Started`is more popular at the end\n",
    "- Spike at the end of the year across all products and all stores"
   ]
  },
  {
   "cell_type": "markdown",
   "id": "36d6b4e6-4bd6-40ea-a647-b7aea68ac795",
   "metadata": {},
   "source": [
    "## Conclusions"
   ]
  },
  {
   "cell_type": "markdown",
   "id": "d4179600-b558-45c3-9431-6c903bea0b28",
   "metadata": {},
   "source": [
    "- Include `product`, `store` and `country` as feature (one-hot encoded)\n",
    "- Include the `month` as a feature\n",
    "- Create a boolean variable indicating the end of the month (27 onwards)\n",
    "- Create a boolean variable indicating the weekend (from Friday onwards)\n",
    "- Create a boolean variable indicating the XMas holidays (from 24/12 to 01/01)"
   ]
  },
  {
   "cell_type": "markdown",
   "id": "4ee45181-c084-4fa1-a9cd-0bdb5c93bbf2",
   "metadata": {},
   "source": [
    "# Data Preparation"
   ]
  },
  {
   "cell_type": "markdown",
   "id": "351aaa50-75b1-4865-987a-46d16cb81657",
   "metadata": {},
   "source": [
    "## Product Normalization"
   ]
  },
  {
   "cell_type": "code",
   "execution_count": null,
   "id": "81c58f05-5785-4864-a05d-5239048af59c",
   "metadata": {},
   "outputs": [],
   "source": [
    "# Replace spaces and special characters\n",
    "train_data['product'] = train_data['product'].str.replace(' ', '_')\n",
    "train_data['product'] = train_data['product'].str.replace(':', '_')\n",
    "\n",
    "test_data['product'] = test_data['product'].str.replace(' ', '_')\n",
    "test_data['product'] = test_data['product'].str.replace(':', '_')"
   ]
  },
  {
   "cell_type": "markdown",
   "id": "e52e946d-a4c7-4ff3-bede-450c6284395a",
   "metadata": {},
   "source": [
    "## Feature Engineering"
   ]
  },
  {
   "cell_type": "markdown",
   "id": "16a5cc04-13a2-4712-a08c-1a862f1e1d71",
   "metadata": {},
   "source": [
    "### End of Month"
   ]
  },
  {
   "cell_type": "code",
   "execution_count": null,
   "id": "e1995559-eec0-4fd9-aa21-d301fb475945",
   "metadata": {},
   "outputs": [],
   "source": [
    "# Set the columns 'endofmonth' equals to 1 if the 'day' is between [27, 31]\n",
    "train_data['endofmonth'] = np.where((train_data['day'] >= 27) & (train_data['day'] <= 31), 1, 0)\n",
    "\n",
    "test_data['endofmonth'] = np.where((test_data['day'] >= 27) & (test_data['day'] <= 31), 1, 0)"
   ]
  },
  {
   "cell_type": "markdown",
   "id": "0bc5ad70-41c7-4cbc-b0c0-f031462e0000",
   "metadata": {},
   "source": [
    "### Weekend"
   ]
  },
  {
   "cell_type": "code",
   "execution_count": null,
   "id": "cd21af64-aaa9-4139-b6b5-ae0fc84c88e5",
   "metadata": {},
   "outputs": [],
   "source": [
    "# Compute 'friday', 'saturday' and 'sunday' columns depending on the column 'dayofweek'\n",
    "train_data['friday'] = np.where(train_data['dayofweek'] == 4, 1, 0)\n",
    "train_data['saturday'] = np.where(train_data['dayofweek'] == 5, 1, 0)\n",
    "train_data['sunday'] = np.where(train_data['dayofweek'] == 6, 1, 0)\n",
    "\n",
    "test_data['friday'] = np.where(test_data['dayofweek'] == 4, 1, 0)\n",
    "test_data['saturday'] = np.where(test_data['dayofweek'] == 5, 1, 0)\n",
    "test_data['sunday'] = np.where(test_data['dayofweek'] == 6, 1, 0)"
   ]
  },
  {
   "cell_type": "markdown",
   "id": "fdfcbb22-6dfb-4018-8250-a0f19c732eae",
   "metadata": {},
   "source": [
    "### XMas"
   ]
  },
  {
   "cell_type": "code",
   "execution_count": null,
   "id": "186ab457-cd9a-4650-9017-19592a8afbfa",
   "metadata": {},
   "outputs": [],
   "source": [
    "# Set 'xmas' equals to one if the date is between 24/12 and 01/01\n",
    "train_data['xmas'] = np.where(\n",
    "    ((train_data['day'] >= 24) & (train_data['day'] <= 31) & (train_data['month'] == 12)) \n",
    "    | ((train_data['day'] == 1) &(train_data['month'] == 1)), 1, 0)\n",
    "\n",
    "test_data['xmas'] = np.where(\n",
    "    ((test_data['day'] >= 24) & (test_data['day'] <= 31) & (test_data['month'] == 12)) \n",
    "    | ((test_data['day'] == 1) &(test_data['month'] == 1)), 1, 0)"
   ]
  },
  {
   "cell_type": "markdown",
   "id": "ea938fa3-d06b-4156-b962-67495106c44d",
   "metadata": {},
   "source": [
    "## Features and Labels Definition"
   ]
  },
  {
   "cell_type": "code",
   "execution_count": null,
   "id": "0872dbe5-5829-4414-b972-70ffaf1379a3",
   "metadata": {},
   "outputs": [],
   "source": [
    "# Define features and labels\n",
    "numerical_features = ['day', \n",
    "                      'month', \n",
    "                      'dayofweek', \n",
    "                      'quarter', \n",
    "                      'dayofyear', \n",
    "                      'weekofyear', \n",
    "                      'endofmonth', \n",
    "                      'friday', \n",
    "                      'saturday', \n",
    "                      'sunday', \n",
    "                      'xmas']\n",
    "\n",
    "categorical_features = ['product', \n",
    "                        'store', \n",
    "                        'country']\n",
    "\n",
    "labels = ['num_sold']"
   ]
  },
  {
   "cell_type": "markdown",
   "id": "a5ff167e-2c20-4c3e-b418-682965249620",
   "metadata": {},
   "source": [
    "## Numerical Features\n",
    "\n",
    "Since there are no NaN values in the data, it is possible to skip the Fill NaN values step."
   ]
  },
  {
   "cell_type": "code",
   "execution_count": null,
   "id": "6053b35f-820b-44c2-a0b0-238a581d8c09",
   "metadata": {},
   "outputs": [],
   "source": [
    "# Numerical features pipeline\n",
    "numerical_features_pipeline = Pipeline(steps=[\n",
    "    ('numerical_scaler', StandardScaler())\n",
    "])"
   ]
  },
  {
   "cell_type": "markdown",
   "id": "77f2a203-5154-40fb-819e-b050a4b18255",
   "metadata": {},
   "source": [
    "## Categorical Features\n",
    "\n",
    "Since there are no NaN values in the data, it is possible to skip the Fill NaN values step."
   ]
  },
  {
   "cell_type": "code",
   "execution_count": null,
   "id": "1e9da5c9-0187-4d71-a43d-868cc747b30e",
   "metadata": {},
   "outputs": [],
   "source": [
    "# Categorical features pipeline\n",
    "categorical_features_pipeline = Pipeline(steps=[\n",
    "    ('categorical_one_hot_encoder', OneHotEncoder(handle_unknown='ignore'))\n",
    "])"
   ]
  },
  {
   "cell_type": "markdown",
   "id": "4a0e592d-aa89-4c24-9f79-f7780b48b7d6",
   "metadata": {},
   "source": [
    "## Bundle Data Preprocessing Steps"
   ]
  },
  {
   "cell_type": "code",
   "execution_count": null,
   "id": "6df74a6a-8630-4e64-a12f-850ad2d99164",
   "metadata": {},
   "outputs": [],
   "source": [
    "# Bunlde data preprocessing steps\n",
    "data_preprocessor = ColumnTransformer(\n",
    "    transformers=[\n",
    "        ('numerical_preprocessing', numerical_features_pipeline, numerical_features),\n",
    "        ('categorical_preprocessing', categorical_features_pipeline, categorical_features)\n",
    "    ])"
   ]
  },
  {
   "cell_type": "markdown",
   "id": "57522001-aaf5-4c38-b083-567f876ee4ae",
   "metadata": {},
   "source": [
    "# Train & Test Split"
   ]
  },
  {
   "cell_type": "code",
   "execution_count": null,
   "id": "ec21446b-d6a4-463b-b506-b127675b73e7",
   "metadata": {},
   "outputs": [],
   "source": [
    "# Define X and y for the training set\n",
    "X = train_data[numerical_features + categorical_features]\n",
    "y = train_data[labels]"
   ]
  },
  {
   "cell_type": "code",
   "execution_count": null,
   "id": "f700248a-c2cd-4867-b392-f2ff1e4b6ea3",
   "metadata": {},
   "outputs": [],
   "source": [
    "# Split training data into train and validation\n",
    "X_train, X_test, y_train, y_test = train_test_split(X, y, test_size=0.33, random_state=42)"
   ]
  },
  {
   "cell_type": "markdown",
   "id": "d32f0fc7-ec81-4a84-ba6b-5b028e916547",
   "metadata": {},
   "source": [
    "# Model"
   ]
  },
  {
   "cell_type": "code",
   "execution_count": null,
   "id": "e6dd5d68-5523-4682-a4ba-4464ef8c804f",
   "metadata": {},
   "outputs": [],
   "source": [
    "# Define function to compute the SMAPE\n",
    "def smape(y_true, y_pred):\n",
    "    denominator = (np.abs(y_true) + np.abs(y_pred)) / 200.0\n",
    "    diff = np.abs(y_true - y_pred) / denominator\n",
    "    diff[denominator == 0] = 0.0\n",
    "    return np.nanmean(diff)"
   ]
  },
  {
   "cell_type": "code",
   "execution_count": null,
   "id": "dc67f56a-d45d-40fc-b5cd-e2664e8663f3",
   "metadata": {},
   "outputs": [],
   "source": [
    "# Define the used metrics\n",
    "metrics = ['smape']"
   ]
  },
  {
   "cell_type": "code",
   "execution_count": null,
   "id": "e6b59977-79a9-469d-9d8f-ccac96447945",
   "metadata": {},
   "outputs": [],
   "source": [
    "# Initialize DataFrame of model performance\n",
    "performance = pd.DataFrame(columns=metrics)"
   ]
  },
  {
   "cell_type": "markdown",
   "id": "f70049f5-d972-4869-a043-aadb78fc904a",
   "metadata": {},
   "source": [
    "## Linear Regression"
   ]
  },
  {
   "cell_type": "code",
   "execution_count": null,
   "id": "67834173-7ca2-4f14-99f7-1ebe98635598",
   "metadata": {},
   "outputs": [],
   "source": [
    "%%time\n",
    "\n",
    "# Define the model\n",
    "model_lr = LinearRegression()\n",
    "\n",
    "# Define the pipeline\n",
    "pipe_lr = Pipeline([\n",
    "    ('data_preprocessing', data_preprocessor),\n",
    "    ('linear_regression', model_lr)\n",
    "])\n",
    "\n",
    "# Train the pipeline\n",
    "pipe_lr.fit(X_train, \n",
    "            y_train)\n",
    "\n",
    "# Get number of sold predictions\n",
    "predictions_lr = pipe_lr.predict(X_test)\n",
    "\n",
    "# Model evaluation\n",
    "smape_lr = round(smape(y_test, predictions_lr), 2)\n",
    "\n",
    "print('SMAPE: {}%'.format(smape_lr))\n",
    "print('\\n')"
   ]
  },
  {
   "cell_type": "code",
   "execution_count": null,
   "id": "5914fb00-9792-4d86-bbf7-e5565288d61a",
   "metadata": {},
   "outputs": [],
   "source": [
    "# Update 'performance' DataFrame\n",
    "performance.loc['linear_regression'] = [smape_lr]"
   ]
  },
  {
   "cell_type": "markdown",
   "id": "2a1e6810-46ac-40d4-9131-f19e539f446d",
   "metadata": {},
   "source": [
    "# Model Comparison"
   ]
  },
  {
   "cell_type": "code",
   "execution_count": null,
   "id": "69a2555c-4411-4566-baab-7424ed5cd669",
   "metadata": {},
   "outputs": [],
   "source": [
    "# Plot the models' evaluation metric\n",
    "ax = sns.barplot(data=performance, \n",
    "                 x=performance.index, \n",
    "                 y=performance['smape'].values)\n",
    "\n",
    "ax.set_title('Model Evaluation')\n",
    "\n",
    "plt.show()"
   ]
  }
 ],
 "metadata": {
  "kernelspec": {
   "display_name": "Python 3 (ipykernel)",
   "language": "python",
   "name": "python3"
  },
  "language_info": {
   "codemirror_mode": {
    "name": "ipython",
    "version": 3
   },
   "file_extension": ".py",
   "mimetype": "text/x-python",
   "name": "python",
   "nbconvert_exporter": "python",
   "pygments_lexer": "ipython3",
   "version": "3.10.5"
  }
 },
 "nbformat": 4,
 "nbformat_minor": 5
}
