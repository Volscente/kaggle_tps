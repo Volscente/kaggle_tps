{
 "cells": [
  {
   "cell_type": "markdown",
   "id": "dda5c47b-1105-408d-842f-ef6b54c7421d",
   "metadata": {},
   "source": [
    "# Introduction\n",
    "\n",
    "The notebook is intended to perform a Sales Forecast over the data of the [Tabular Playground Series - September 2022](https://www.kaggle.com/competitions/tabular-playground-series-sep-2022)"
   ]
  },
  {
   "cell_type": "code",
   "execution_count": null,
   "id": "d6e63dab-8e9e-4bcc-85b1-764ede281976",
   "metadata": {},
   "outputs": [],
   "source": [
    "# Import Standard Libraries\n",
    "import pandas as pd\n",
    "\n",
    "import plotly.express as ex\n",
    "from plotly.subplots import make_subplots\n",
    "import plotly.graph_objects as go\n",
    "\n",
    "from sklearn.pipeline import Pipeline\n",
    "from sklearn.preprocessing import OneHotEncoder, StandardScaler\n",
    "from sklearn.compose import ColumnTransformer"
   ]
  },
  {
   "cell_type": "markdown",
   "id": "8e83f60b-7ed4-47ad-885c-f1fcdecebd92",
   "metadata": {},
   "source": [
    "# Read Data"
   ]
  },
  {
   "cell_type": "code",
   "execution_count": null,
   "id": "5e4910c2-7e26-44d3-b081-71f9baea2377",
   "metadata": {
    "tags": []
   },
   "outputs": [],
   "source": [
    "# Read train and test data\n",
    "train_data = pd.read_csv('./../../data/2022_09/train.csv')\n",
    "test_data = pd.read_csv('./../../data/2022_09/test.csv')"
   ]
  },
  {
   "cell_type": "code",
   "execution_count": null,
   "id": "16efe212-e81a-4454-802c-02e01f04c574",
   "metadata": {
    "tags": []
   },
   "outputs": [],
   "source": [
    "train_data.info()"
   ]
  },
  {
   "cell_type": "code",
   "execution_count": null,
   "id": "a1be7387-2a86-49d8-a4da-6f13662084ad",
   "metadata": {
    "tags": []
   },
   "outputs": [],
   "source": [
    "test_data.info()"
   ]
  },
  {
   "cell_type": "code",
   "execution_count": null,
   "id": "26bbc284-30fd-4447-bb92-42e19ec02981",
   "metadata": {
    "tags": []
   },
   "outputs": [],
   "source": [
    "train_data.head(5)"
   ]
  },
  {
   "cell_type": "code",
   "execution_count": null,
   "id": "79165c47-7ab9-4031-bb3d-2f9607823177",
   "metadata": {
    "tags": []
   },
   "outputs": [],
   "source": [
    "test_data.head(5)"
   ]
  },
  {
   "cell_type": "markdown",
   "id": "7952a0ab-fe91-4710-b5d1-f9ad39c4320a",
   "metadata": {},
   "source": [
    "# Exploratory Data Analysis"
   ]
  },
  {
   "cell_type": "markdown",
   "id": "c6858f02-70e7-4c1d-befc-e7e4bece9faf",
   "metadata": {},
   "source": [
    "## Row ID\n",
    "\n",
    "Check if the row id has NaN or duplicated values."
   ]
  },
  {
   "cell_type": "code",
   "execution_count": null,
   "id": "74ce9d51-c791-4d02-8153-982f28005d86",
   "metadata": {
    "tags": []
   },
   "outputs": [],
   "source": [
    "# Check NaN values\n",
    "print(\"Row ID NaN values count: {}\".format(len(train_data[train_data['row_id'].isna()])))"
   ]
  },
  {
   "cell_type": "code",
   "execution_count": null,
   "id": "3071f4da-04ad-4ea3-af4a-04af35dcc6db",
   "metadata": {
    "tags": []
   },
   "outputs": [],
   "source": [
    "# Check duplicated values\n",
    "print(\"Row ID duplicated values count: {}\".format(len(test_data[test_data['row_id'].duplicated()])))"
   ]
  },
  {
   "cell_type": "markdown",
   "id": "2eef0ea6-e2f0-4cc0-9814-1dc8ed3921b7",
   "metadata": {},
   "source": [
    "## Date"
   ]
  },
  {
   "cell_type": "code",
   "execution_count": null,
   "id": "8907407a-88ce-4312-8963-d9f649b301cd",
   "metadata": {},
   "outputs": [],
   "source": [
    "# Check NaN values\n",
    "print(\"Date NaN values count in training data: {}\".format(len(train_data[train_data['date'].isna()])))\n",
    "print(\"Date NaN values count in test data: {}\".format(len(test_data[test_data['date'].isna()])))"
   ]
  },
  {
   "cell_type": "code",
   "execution_count": null,
   "id": "8abd7c1c-6419-45ab-8c91-1e50844552a7",
   "metadata": {
    "tags": []
   },
   "outputs": [],
   "source": [
    "# Convert the 'date' into a datetime\n",
    "train_data['date_datetime'] = pd.to_datetime(train_data['date'], format='%Y-%m-%d')\n",
    "test_data['date_datetime'] = pd.to_datetime(test_data['date'], format='%Y-%m-%d')"
   ]
  },
  {
   "cell_type": "code",
   "execution_count": null,
   "id": "07ac03d4-a9cf-47fc-98a9-62af5e6329b8",
   "metadata": {
    "tags": []
   },
   "outputs": [],
   "source": [
    "# Extract day, month, year, day of the week and year_month information from 'date'\n",
    "train_data['date_day'] = train_data['date_datetime'].dt.day\n",
    "train_data['date_month'] = train_data['date_datetime'].dt.month\n",
    "train_data['date_year'] = train_data['date_datetime'].dt.year\n",
    "train_data['date_dayofweek'] = train_data['date_datetime'].dt.dayofweek\n",
    "train_data['date_year_month'] = pd.to_datetime(train_data['date_datetime']).dt.to_period('M')\n",
    "\n",
    "test_data['date_day'] = test_data['date_datetime'].dt.day\n",
    "test_data['date_month'] = test_data['date_datetime'].dt.month\n",
    "test_data['date_year'] = test_data['date_datetime'].dt.year\n",
    "test_data['date_dayofweek'] = test_data['date_datetime'].dt.dayofweek\n",
    "test_data['date_year_month'] = pd.to_datetime(test_data['date_datetime']).dt.to_period('M')"
   ]
  },
  {
   "cell_type": "code",
   "execution_count": null,
   "id": "4aa1c151-2ac6-48bb-8cf4-6959f0fd52b5",
   "metadata": {
    "tags": []
   },
   "outputs": [],
   "source": [
    "# Define subplots\n",
    "figure = make_subplots(rows=2, \n",
    "                       cols=2, \n",
    "                       subplot_titles=('Date over Years', \n",
    "                                       'Date over Months', \n",
    "                                       'Date over Days', \n",
    "                                       'Date over Weekdays'))\n",
    "\n",
    "\n",
    "figure.add_trace(go.Scatter(x=train_data.groupby(['date_year']).size().sort_index().index.to_list(),\n",
    "                            y=train_data.groupby(['date_year']).size().sort_index().to_list(), \n",
    "                            mode='lines', \n",
    "                            name='Yearly'),\n",
    "                 row=1, \n",
    "                 col=1)\n",
    "\n",
    "figure.add_trace(go.Scatter(x=train_data.groupby(['date_month']).size().sort_index().index.to_list(),\n",
    "                            y=train_data.groupby(['date_month']).size().sort_index().to_list(), \n",
    "                            mode='lines', \n",
    "                            name='Monthly'), \n",
    "                 row=1, \n",
    "                 col=2)\n",
    "\n",
    "figure.add_trace(go.Scatter(x=train_data.groupby(['date_day']).size().sort_index().index.to_list(),\n",
    "                            y=train_data.groupby(['date_day']).size().sort_index().to_list(), \n",
    "                            mode='lines',  \n",
    "                            name='Daily'), \n",
    "                 row=2, \n",
    "                 col=1)\n",
    "\n",
    "figure.add_trace(go.Scatter(x=train_data.groupby(['date_dayofweek']).size().sort_index().index.to_list(),\n",
    "                            y=train_data.groupby(['date_dayofweek']).size().sort_index().to_list(), \n",
    "                            mode='lines', \n",
    "                            name='Days of Week'), \n",
    "                 row=2, \n",
    "                 col=2)\n",
    "\n",
    "figure.update_layout(yaxis_title='Sales', \n",
    "                     xaxis=dict(tickvals=train_data.groupby(['date_year']).size().sort_index().index.to_list()),\n",
    "                     font=dict(family=\"PT Sans\", \n",
    "                               size=14), \n",
    "                     title_font=dict(family=\"PT Sans\",\n",
    "                                     size=30), \n",
    "                     title_x=0.45, \n",
    "                     title_text='Train Data Date',\n",
    "                     height=1000, \n",
    "                     template='plotly_dark')\n",
    "\n",
    "figure.show()"
   ]
  },
  {
   "cell_type": "code",
   "execution_count": null,
   "id": "469f5aca-4135-4874-b645-236025c78807",
   "metadata": {
    "tags": []
   },
   "outputs": [],
   "source": [
    "# Define subplots\n",
    "figure = make_subplots(rows=2, \n",
    "                       cols=2, \n",
    "                       subplot_titles=('Date over Years', \n",
    "                                       'Date over Months', \n",
    "                                       'Date over Days', \n",
    "                                       'Date over Weekdays'))\n",
    "\n",
    "\n",
    "figure.add_trace(go.Scatter(x=test_data.groupby(['date_year']).size().sort_index().index.to_list(),\n",
    "                            y=test_data.groupby(['date_year']).size().sort_index().to_list(), \n",
    "                            mode='lines', \n",
    "                            name='Yearly'),\n",
    "                 row=1, \n",
    "                 col=1)\n",
    "\n",
    "figure.add_trace(go.Scatter(x=test_data.groupby(['date_month']).size().sort_index().index.to_list(),\n",
    "                            y=test_data.groupby(['date_month']).size().sort_index().to_list(), \n",
    "                            mode='lines', \n",
    "                            name='Monthly'), \n",
    "                 row=1, \n",
    "                 col=2)\n",
    "\n",
    "figure.add_trace(go.Scatter(x=test_data.groupby(['date_day']).size().sort_index().index.to_list(),\n",
    "                            y=test_data.groupby(['date_day']).size().sort_index().to_list(), \n",
    "                            mode='lines',  \n",
    "                            name='Daily'), \n",
    "                 row=2, \n",
    "                 col=1)\n",
    "\n",
    "figure.add_trace(go.Scatter(x=test_data.groupby(['date_dayofweek']).size().sort_index().index.to_list(),\n",
    "                            y=test_data.groupby(['date_dayofweek']).size().sort_index().to_list(), \n",
    "                            mode='lines', \n",
    "                            name='Days of Week'), \n",
    "                 row=2, \n",
    "                 col=2)\n",
    "\n",
    "figure.update_layout(yaxis_title='Sales', \n",
    "                     xaxis=dict(tickvals=test_data.groupby(['date_year']).size().sort_index().index.to_list()),\n",
    "                     font=dict(family=\"PT Sans\", \n",
    "                               size=14), \n",
    "                     title_font=dict(family=\"PT Sans\",\n",
    "                                     size=30), \n",
    "                     title_x=0.45, \n",
    "                     title_text='Test Data Date',\n",
    "                     height=1000, \n",
    "                     template='plotly_dark')\n",
    "\n",
    "figure.show()"
   ]
  },
  {
   "cell_type": "markdown",
   "id": "520d3e87-869e-40a8-88b4-2261512c25d1",
   "metadata": {},
   "source": [
    "Conclusions:\n",
    "- **Years:** The sales are growing from 2019 and this trend is continuing in the test data which interests the 2021\n",
    "- **Months:** The sales have a similar seasonality between train and test data (a hole in February)\n",
    "- **Days:** Similar trend between train and test data. A drop during the last days of the month\n",
    "- **Days of the Week:** <span style=\"color:red\"><b>An inverse seasonality between train and test data.</b></span>"
   ]
  },
  {
   "cell_type": "markdown",
   "id": "21a37a1c-3bde-4a41-9502-00d9a844a7e0",
   "metadata": {},
   "source": [
    "## Country"
   ]
  },
  {
   "cell_type": "code",
   "execution_count": null,
   "id": "932ccbd9-14fa-44e5-86d3-642a449dd80e",
   "metadata": {
    "tags": []
   },
   "outputs": [],
   "source": [
    "# Check NaN values\n",
    "print(\"Country NaN values count in training data: {}\".format(len(train_data[train_data['country'].isna()])))\n",
    "print(\"Country NaN values count in training data: {}\".format(len(test_data[test_data['country'].isna()])))"
   ]
  },
  {
   "cell_type": "code",
   "execution_count": null,
   "id": "07cc5b57-9b01-49b7-ad27-791c6616b1d4",
   "metadata": {
    "tags": []
   },
   "outputs": [],
   "source": [
    "# Plot the Histogram of 'country' Distribution with respect to the Year\n",
    "figure = ex.histogram(train_data, \n",
    "                      x='country', \n",
    "                      color='date_year',\n",
    "                      title='Country per Year Distribution', \n",
    "                      labels={'country':'Country',\n",
    "                              'date_year': 'Year'},\n",
    "                      barmode='group',\n",
    "                      height=500,\n",
    "                      histnorm='',\n",
    "                      category_orders={'date_year': [2017, 2018, 2019, 2020]},\n",
    "                      color_discrete_sequence=ex.colors.qualitative.Set3,\n",
    "                      template='plotly_dark')\n",
    "\n",
    "figure.update_layout(yaxis_title='Sales', \n",
    "                     font=dict(family=\"PT Sans\", \n",
    "                               size=14), \n",
    "                     title_font=dict(family=\"PT Sans\",\n",
    "                                     size=30), \n",
    "                     title_x=0.45)\n",
    "\n",
    "# Adjust the x-axis label rotation\n",
    "figure.update_xaxes(tickangle=45)\n",
    "\n",
    "figure.show()"
   ]
  },
  {
   "cell_type": "markdown",
   "id": "3cbfdbea-60ea-47dd-9f52-420f1620d8fc",
   "metadata": {},
   "source": [
    "Uniform distribution."
   ]
  },
  {
   "cell_type": "markdown",
   "id": "007f7ff1-d782-455a-9534-eba82883c580",
   "metadata": {},
   "source": [
    "## Product"
   ]
  },
  {
   "cell_type": "code",
   "execution_count": null,
   "id": "496c7860-1efa-4317-ba2e-0d53c3ff0ae9",
   "metadata": {
    "tags": []
   },
   "outputs": [],
   "source": [
    "# Check NaN values\n",
    "print(\"Product NaN values count in training data: {}\".format(len(train_data[train_data['product'].isna()])))\n",
    "print(\"Product NaN values count in test data: {}\".format(len(test_data[test_data['product'].isna()])))"
   ]
  },
  {
   "cell_type": "code",
   "execution_count": null,
   "id": "967adec8-33a9-4179-8202-34cf5499769f",
   "metadata": {
    "tags": []
   },
   "outputs": [],
   "source": [
    "figure = ex.pie(train_data, \n",
    "                names='product', \n",
    "                title='Product', \n",
    "                template='plotly_dark',\n",
    "                color_discrete_sequence=ex.colors.qualitative.Set3,)\n",
    "\n",
    "figure.update_layout(font=dict(family=\"PT Sans\", \n",
    "                               size=14), \n",
    "                     title_font=dict(family=\"PT Sans\",\n",
    "                                     size=30), \n",
    "                     title_x=0.40)\n",
    "\n",
    "figure.show()"
   ]
  },
  {
   "cell_type": "code",
   "execution_count": null,
   "id": "ace5814e-673d-4160-bb8f-e4193e7c7db7",
   "metadata": {},
   "outputs": [],
   "source": [
    "# Plot the Histogram of 'product' Distribution with respect to the Country\n",
    "figure = ex.histogram(train_data, \n",
    "                      x='product', \n",
    "                      color='country',\n",
    "                      title='Product per Country Distribution', \n",
    "                      labels={'product':'Product',\n",
    "                              'country': 'Country'},\n",
    "                      barmode='group',\n",
    "                      height=500,\n",
    "                      histnorm='',\n",
    "                      color_discrete_sequence=ex.colors.qualitative.Set3,\n",
    "                      template='plotly_dark')\n",
    "\n",
    "figure.update_layout(yaxis_title='Sales', \n",
    "                     font=dict(family=\"PT Sans\", \n",
    "                               size=14), \n",
    "                     title_font=dict(family=\"PT Sans\",\n",
    "                                     size=30), \n",
    "                     title_x=0.45)\n",
    "\n",
    "# Adjust the x-axis label rotation\n",
    "figure.update_xaxes(tickangle=45)\n",
    "\n",
    "figure.show()"
   ]
  },
  {
   "cell_type": "markdown",
   "id": "aa7cc005-9f41-4cd0-815c-6522bf09d22c",
   "metadata": {},
   "source": [
    "## Number Sold"
   ]
  },
  {
   "cell_type": "code",
   "execution_count": null,
   "id": "6a040174-ee8a-46a6-a605-0724abe920f0",
   "metadata": {},
   "outputs": [],
   "source": [
    "# Check NaN values\n",
    "print(\"Number Sold NaN values count: {}\".format(len(train_data[train_data['num_sold'].isna()])))"
   ]
  },
  {
   "cell_type": "code",
   "execution_count": null,
   "id": "a3b83670-6dcd-486c-aacf-bb84de584025",
   "metadata": {},
   "outputs": [],
   "source": [
    "# Plot the Histogram of 'num_sold' Distribution with respect to the Product and the Country\n",
    "figure = ex.histogram(train_data, \n",
    "                      x='country', \n",
    "                      y='num_sold',\n",
    "                      color='product',\n",
    "                      title='Number of Sold Products per Country Distribution', \n",
    "                      labels={'num_sold':'Sales',\n",
    "                              'product':'Product',\n",
    "                              'country': 'Country'},\n",
    "                      barmode='group',\n",
    "                      height=500,\n",
    "                      histnorm='',\n",
    "                      color_discrete_sequence=ex.colors.qualitative.Set3,\n",
    "                      template='plotly_dark')\n",
    "\n",
    "figure.update_layout(yaxis_title='Sales', \n",
    "                     font=dict(family=\"PT Sans\", \n",
    "                               size=14), \n",
    "                     title_font=dict(family=\"PT Sans\",\n",
    "                                     size=30), \n",
    "                     title_x=0.45)\n",
    "\n",
    "# Adjust the x-axis label rotation\n",
    "figure.update_xaxes(tickangle=45)\n",
    "\n",
    "figure.show()"
   ]
  },
  {
   "cell_type": "markdown",
   "id": "5fa772bb-8ca7-440e-a5f1-d0788419b6e4",
   "metadata": {},
   "source": [
    "The `country`and the `product`, as expected, strongly influence the number of sold pieces."
   ]
  },
  {
   "cell_type": "markdown",
   "id": "4ee45181-c084-4fa1-a9cd-0bdb5c93bbf2",
   "metadata": {},
   "source": [
    "# Data Preparation"
   ]
  },
  {
   "cell_type": "markdown",
   "id": "351aaa50-75b1-4865-987a-46d16cb81657",
   "metadata": {},
   "source": [
    "## Product Normalization"
   ]
  },
  {
   "cell_type": "code",
   "execution_count": null,
   "id": "81c58f05-5785-4864-a05d-5239048af59c",
   "metadata": {},
   "outputs": [],
   "source": [
    "# Replace spaces and special characters\n",
    "train_data['product'] = train_data['product'].str.replace(' ', '_')\n",
    "train_data['product'] = train_data['product'].str.replace(':', '_')\n",
    "test_data['product'] = test_data['product'].str.replace(' ', '_')\n",
    "test_data['product'] = test_data['product'].str.replace(':', '_')"
   ]
  },
  {
   "cell_type": "code",
   "execution_count": null,
   "id": "fe93659a-ac73-4e41-a308-ce0f311071e3",
   "metadata": {},
   "outputs": [],
   "source": [
    "train_data"
   ]
  },
  {
   "cell_type": "markdown",
   "id": "ea938fa3-d06b-4156-b962-67495106c44d",
   "metadata": {},
   "source": [
    "## Features and Labels Definition"
   ]
  },
  {
   "cell_type": "code",
   "execution_count": null,
   "id": "0872dbe5-5829-4414-b972-70ffaf1379a3",
   "metadata": {},
   "outputs": [],
   "source": [
    "# Define features and labels\n",
    "numerical_features = ['date_day', \n",
    "                      'date_month', \n",
    "                      'date_year', \n",
    "                      'date_dayofweek']\n",
    "\n",
    "categorical_features = ['country', \n",
    "                        'store', \n",
    "                        'product']\n",
    "\n",
    "labels = ['num_sold']"
   ]
  },
  {
   "cell_type": "markdown",
   "id": "a5ff167e-2c20-4c3e-b418-682965249620",
   "metadata": {},
   "source": [
    "## Numerical Features\n",
    "\n",
    "Since there are no NaN values in the data, it is possible to skip the Fill NaN values step."
   ]
  },
  {
   "cell_type": "code",
   "execution_count": null,
   "id": "6053b35f-820b-44c2-a0b0-238a581d8c09",
   "metadata": {},
   "outputs": [],
   "source": [
    "# Numerical features pipeline\n",
    "numerical_features_pipeline = Pipeline(steps=[\n",
    "    ('numerical_scaler', StandardScaler())\n",
    "])"
   ]
  },
  {
   "cell_type": "markdown",
   "id": "77f2a203-5154-40fb-819e-b050a4b18255",
   "metadata": {},
   "source": [
    "## Categorical Features\n",
    "\n",
    "Since there are no NaN values in the data, it is possible to skip the Fill NaN values step."
   ]
  },
  {
   "cell_type": "code",
   "execution_count": null,
   "id": "1e9da5c9-0187-4d71-a43d-868cc747b30e",
   "metadata": {},
   "outputs": [],
   "source": [
    "# Categorical features pipeline\n",
    "categorical_features_pipeline = Pipeline(steps=[\n",
    "    ('categorical_one_hot_encoder', OneHotEncoder(handle_unknown='ignore'))\n",
    "])"
   ]
  },
  {
   "cell_type": "markdown",
   "id": "4a0e592d-aa89-4c24-9f79-f7780b48b7d6",
   "metadata": {},
   "source": [
    "## Bundle Data Preprocessing Steps"
   ]
  },
  {
   "cell_type": "code",
   "execution_count": null,
   "id": "6df74a6a-8630-4e64-a12f-850ad2d99164",
   "metadata": {},
   "outputs": [],
   "source": [
    "# Bunlde data preprocessing steps\n",
    "data_preprocessor = ColumnTransformer(\n",
    "    transformers=[\n",
    "        ('numerical_preprocessing', numerical_features_pipeline, numerical_features),\n",
    "        ('categorical_preprocessing', categorical_features_pipeline, categorical_features)\n",
    "    ])"
   ]
  },
  {
   "cell_type": "code",
   "execution_count": null,
   "id": "2cb1aff0-08de-4adf-bcb7-fd52ca51be39",
   "metadata": {},
   "outputs": [],
   "source": []
  }
 ],
 "metadata": {
  "kernelspec": {
   "display_name": "Python 3 (ipykernel)",
   "language": "python",
   "name": "python3"
  },
  "language_info": {
   "codemirror_mode": {
    "name": "ipython",
    "version": 3
   },
   "file_extension": ".py",
   "mimetype": "text/x-python",
   "name": "python",
   "nbconvert_exporter": "python",
   "pygments_lexer": "ipython3",
   "version": "3.10.5"
  }
 },
 "nbformat": 4,
 "nbformat_minor": 5
}
