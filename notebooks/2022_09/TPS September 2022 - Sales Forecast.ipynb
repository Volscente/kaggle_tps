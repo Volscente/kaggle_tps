{
 "cells": [
  {
   "cell_type": "markdown",
   "id": "dda5c47b-1105-408d-842f-ef6b54c7421d",
   "metadata": {},
   "source": [
    "# Introduction\n",
    "\n",
    "The notebook is intended to perform a Sales Forecast over the data of the [Tabular Playground Series - September 2022](https://www.kaggle.com/competitions/tabular-playground-series-sep-2022)"
   ]
  },
  {
   "cell_type": "code",
   "execution_count": null,
   "id": "d6e63dab-8e9e-4bcc-85b1-764ede281976",
   "metadata": {},
   "outputs": [],
   "source": [
    "# Import Standard Libraries\n",
    "import pandas as pd\n",
    "import numpy as np\n",
    "\n",
    "\n",
    "from sklearn.pipeline import Pipeline\n",
    "from sklearn.preprocessing import OneHotEncoder, StandardScaler\n",
    "from sklearn.compose import ColumnTransformer\n",
    "from sklearn.linear_model import LinearRegression\n",
    "from sklearn.metrics import mean_squared_error\n",
    "from sklearn.model_selection import StratifiedShuffleSplit"
   ]
  },
  {
   "cell_type": "markdown",
   "id": "8e83f60b-7ed4-47ad-885c-f1fcdecebd92",
   "metadata": {},
   "source": [
    "# Read Data"
   ]
  },
  {
   "cell_type": "code",
   "execution_count": null,
   "id": "5e4910c2-7e26-44d3-b081-71f9baea2377",
   "metadata": {
    "tags": []
   },
   "outputs": [],
   "source": [
    "# Read train and test data\n",
    "train_data = pd.read_csv('./../../data/2022_09/train.csv',\n",
    "                         parse_dates=['date'],\n",
    "                         index_col=0)\n",
    "test_data = pd.read_csv('./../../data/2022_09/test.csv',\n",
    "                        parse_dates=['date'],\n",
    "                        index_col=0)"
   ]
  },
  {
   "cell_type": "markdown",
   "id": "7952a0ab-fe91-4710-b5d1-f9ad39c4320a",
   "metadata": {},
   "source": [
    "# Exploratory Data Analysis"
   ]
  },
  {
   "cell_type": "markdown",
   "id": "82a47a3a-977b-4702-a789-d574290bdb0d",
   "metadata": {},
   "source": [
    "## Null Values"
   ]
  },
  {
   "cell_type": "code",
   "execution_count": null,
   "id": "ba527f40-509c-4492-ab48-5044fc127b8a",
   "metadata": {},
   "outputs": [],
   "source": [
    "# Define figure\n",
    "figure = make_subplots(rows=2, \n",
    "                       cols=1, \n",
    "                       subplot_titles=('Train Null Values Percentage', \n",
    "                                       'Test Null Values Percentage'))\n",
    "\n",
    "# Fetch Train & Test Data\n",
    "for i, (k, data) in enumerate({'train': train_data, 'test': test_data}.items()):\n",
    "    \n",
    "    print(data.isna().melt(value_name='missing'))"
   ]
  },
  {
   "cell_type": "code",
   "execution_count": null,
   "id": "105e52eb-b99a-4415-8bcb-20cd38490bf1",
   "metadata": {},
   "outputs": [],
   "source": [
    "sample_data = pd.DataFrame({'A': [1, 2, 3, 4], 'B': [5, 6, 7, np.nan], 'C': [9, 10, 11, 12]})"
   ]
  },
  {
   "cell_type": "code",
   "execution_count": null,
   "id": "b6a98cc6-ff55-41c4-ab50-c4dae9894945",
   "metadata": {},
   "outputs": [],
   "source": [
    "sample_data"
   ]
  },
  {
   "cell_type": "code",
   "execution_count": null,
   "id": "15097fb5-4ee3-45f9-91c9-63e1b61e6e43",
   "metadata": {},
   "outputs": [],
   "source": [
    "sample_data.isna().melt(var_name='Feature', value_name='Missing')"
   ]
  },
  {
   "cell_type": "code",
   "execution_count": null,
   "id": "554cac57-af3a-45e4-8565-3738f2c8972a",
   "metadata": {},
   "outputs": [],
   "source": [
    "ex.histogram(data_frame=sample_data.isna().melt(var_name='Feature', value_name='Missing'), \n",
    "             y='Feature', \n",
    "             color='Missing')"
   ]
  },
  {
   "cell_type": "markdown",
   "id": "4ee45181-c084-4fa1-a9cd-0bdb5c93bbf2",
   "metadata": {},
   "source": [
    "# Data Preparation"
   ]
  },
  {
   "cell_type": "markdown",
   "id": "351aaa50-75b1-4865-987a-46d16cb81657",
   "metadata": {},
   "source": [
    "## Product Normalization"
   ]
  },
  {
   "cell_type": "code",
   "execution_count": null,
   "id": "81c58f05-5785-4864-a05d-5239048af59c",
   "metadata": {},
   "outputs": [],
   "source": [
    "# Replace spaces and special characters\n",
    "train_data['product'] = train_data['product'].str.replace(' ', '_')\n",
    "train_data['product'] = train_data['product'].str.replace(':', '_')\n",
    "test_data['product'] = test_data['product'].str.replace(' ', '_')\n",
    "test_data['product'] = test_data['product'].str.replace(':', '_')"
   ]
  },
  {
   "cell_type": "markdown",
   "id": "ea938fa3-d06b-4156-b962-67495106c44d",
   "metadata": {},
   "source": [
    "## Features and Labels Definition"
   ]
  },
  {
   "cell_type": "code",
   "execution_count": null,
   "id": "0872dbe5-5829-4414-b972-70ffaf1379a3",
   "metadata": {},
   "outputs": [],
   "source": [
    "# Define features and labels\n",
    "numerical_features = ['date_day', \n",
    "                      'date_month', \n",
    "                      'date_year', \n",
    "                      'date_dayofweek']\n",
    "\n",
    "categorical_features = ['country', \n",
    "                        'store', \n",
    "                        'product']\n",
    "\n",
    "labels = ['num_sold']"
   ]
  },
  {
   "cell_type": "markdown",
   "id": "a5ff167e-2c20-4c3e-b418-682965249620",
   "metadata": {},
   "source": [
    "## Numerical Features\n",
    "\n",
    "Since there are no NaN values in the data, it is possible to skip the Fill NaN values step."
   ]
  },
  {
   "cell_type": "code",
   "execution_count": null,
   "id": "6053b35f-820b-44c2-a0b0-238a581d8c09",
   "metadata": {},
   "outputs": [],
   "source": [
    "# Numerical features pipeline\n",
    "numerical_features_pipeline = Pipeline(steps=[\n",
    "    ('numerical_scaler', StandardScaler())\n",
    "])"
   ]
  },
  {
   "cell_type": "markdown",
   "id": "77f2a203-5154-40fb-819e-b050a4b18255",
   "metadata": {},
   "source": [
    "## Categorical Features\n",
    "\n",
    "Since there are no NaN values in the data, it is possible to skip the Fill NaN values step."
   ]
  },
  {
   "cell_type": "code",
   "execution_count": null,
   "id": "1e9da5c9-0187-4d71-a43d-868cc747b30e",
   "metadata": {},
   "outputs": [],
   "source": [
    "# Categorical features pipeline\n",
    "categorical_features_pipeline = Pipeline(steps=[\n",
    "    ('categorical_one_hot_encoder', OneHotEncoder(handle_unknown='ignore'))\n",
    "])"
   ]
  },
  {
   "cell_type": "markdown",
   "id": "4a0e592d-aa89-4c24-9f79-f7780b48b7d6",
   "metadata": {},
   "source": [
    "## Bundle Data Preprocessing Steps"
   ]
  },
  {
   "cell_type": "code",
   "execution_count": null,
   "id": "6df74a6a-8630-4e64-a12f-850ad2d99164",
   "metadata": {},
   "outputs": [],
   "source": [
    "# Bunlde data preprocessing steps\n",
    "data_preprocessor = ColumnTransformer(\n",
    "    transformers=[\n",
    "        ('numerical_preprocessing', numerical_features_pipeline, numerical_features),\n",
    "        ('categorical_preprocessing', categorical_features_pipeline, categorical_features)\n",
    "    ])"
   ]
  },
  {
   "cell_type": "markdown",
   "id": "57522001-aaf5-4c38-b083-567f876ee4ae",
   "metadata": {},
   "source": [
    "# Train & Test Split\n",
    "\n",
    "Use the data from 2020 as validation set."
   ]
  },
  {
   "cell_type": "code",
   "execution_count": null,
   "id": "ec21446b-d6a4-463b-b506-b127675b73e7",
   "metadata": {},
   "outputs": [],
   "source": [
    "# Define X and y for the training set\n",
    "X = train_data[numerical_features + categorical_features]\n",
    "y = train_data[labels]"
   ]
  },
  {
   "cell_type": "code",
   "execution_count": null,
   "id": "f700248a-c2cd-4867-b392-f2ff1e4b6ea3",
   "metadata": {},
   "outputs": [],
   "source": [
    "# Split training data into train and validation\n",
    "X_train = X[X['date_year'] != 2020]\n",
    "y_train = y.iloc[X_train.index]\n",
    "X_test = X[X['date_year'] == 2020]\n",
    "y_test = y.iloc[X_test.index]"
   ]
  },
  {
   "cell_type": "code",
   "execution_count": null,
   "id": "fba79522-79dd-4f9f-b9ea-cd371f10d8e0",
   "metadata": {},
   "outputs": [],
   "source": [
    "# Define the a Stratified K-fold Shuffle Splitter\n",
    "stratified_kfold = StratifiedShuffleSplit(n_splits=5,\n",
    "                                          test_size=.3, \n",
    "                                          random_state=0)"
   ]
  },
  {
   "cell_type": "markdown",
   "id": "d32f0fc7-ec81-4a84-ba6b-5b028e916547",
   "metadata": {},
   "source": [
    "# Model"
   ]
  },
  {
   "cell_type": "code",
   "execution_count": null,
   "id": "e6dd5d68-5523-4682-a4ba-4464ef8c804f",
   "metadata": {},
   "outputs": [],
   "source": [
    "# Define function to compute the SMAPE (source: https://www.kaggle.com/code/jcaliz/tps-sep22-eda-baseline-you-were-looking-for)\n",
    "def smape(y_true, y_pred):\n",
    "    denominator = (np.abs(y_true) + np.abs(y_pred)) / 200.0\n",
    "    diff = np.abs(y_true - y_pred) / denominator\n",
    "    diff[denominator == 0] = 0.0\n",
    "    return np.nanmean(diff)"
   ]
  },
  {
   "cell_type": "code",
   "execution_count": null,
   "id": "dc67f56a-d45d-40fc-b5cd-e2664e8663f3",
   "metadata": {},
   "outputs": [],
   "source": [
    "# Define the used metrics\n",
    "metrics = ['smape', 'mse']"
   ]
  },
  {
   "cell_type": "code",
   "execution_count": null,
   "id": "e6b59977-79a9-469d-9d8f-ccac96447945",
   "metadata": {},
   "outputs": [],
   "source": [
    "# Initialize DataFrame of model performance\n",
    "performance = pd.DataFrame(columns=metrics)"
   ]
  },
  {
   "cell_type": "markdown",
   "id": "f70049f5-d972-4869-a043-aadb78fc904a",
   "metadata": {},
   "source": [
    "## Linear Regression"
   ]
  },
  {
   "cell_type": "code",
   "execution_count": null,
   "id": "67834173-7ca2-4f14-99f7-1ebe98635598",
   "metadata": {},
   "outputs": [],
   "source": [
    "%%time\n",
    "\n",
    "# Define the model\n",
    "model_lr = LinearRegression()\n",
    "\n",
    "# Define the pipeline\n",
    "pipe_lr = Pipeline([\n",
    "    ('data_preprocessing', data_preprocessor),\n",
    "    ('linear_regression', model_lr)\n",
    "])\n",
    "\n",
    "# Train the pipeline\n",
    "pipe_lr.fit(X_train, \n",
    "            y_train)\n",
    "\n",
    "# Get number of sold predictions\n",
    "predictions_lr = pipe_lr.predict(X_test)\n",
    "\n",
    "# Model evaluation\n",
    "smape_lr = round(smape(y_test, predictions_lr), 2)\n",
    "mse_lr = round(mean_squared_error(y_test, predictions_lr), 2)\n",
    "\n",
    "print('SMAPE: {}%'.format(smape_lr))\n",
    "print('MSE: {}'.format(mse_lr))\n",
    "print('\\n')"
   ]
  },
  {
   "cell_type": "code",
   "execution_count": null,
   "id": "5914fb00-9792-4d86-bbf7-e5565288d61a",
   "metadata": {},
   "outputs": [],
   "source": [
    "# Update 'performance' DataFrame\n",
    "performance.loc['linear_regression'] = [smape_lr, mse_lr]"
   ]
  },
  {
   "cell_type": "markdown",
   "id": "022f60d5-b9fd-446a-99ee-c239e6ec4995",
   "metadata": {},
   "source": [
    "## Linear Regression - Cross-Validation"
   ]
  },
  {
   "cell_type": "markdown",
   "id": "2a1e6810-46ac-40d4-9131-f19e539f446d",
   "metadata": {},
   "source": [
    "# Model Comparison"
   ]
  }
 ],
 "metadata": {
  "kernelspec": {
   "display_name": "Python 3 (ipykernel)",
   "language": "python",
   "name": "python3"
  },
  "language_info": {
   "codemirror_mode": {
    "name": "ipython",
    "version": 3
   },
   "file_extension": ".py",
   "mimetype": "text/x-python",
   "name": "python",
   "nbconvert_exporter": "python",
   "pygments_lexer": "ipython3",
   "version": "3.10.5"
  }
 },
 "nbformat": 4,
 "nbformat_minor": 5
}
