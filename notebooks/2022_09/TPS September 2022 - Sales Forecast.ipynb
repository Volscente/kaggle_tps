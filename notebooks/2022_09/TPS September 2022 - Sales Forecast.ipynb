{
 "cells": [
  {
   "cell_type": "markdown",
   "id": "dda5c47b-1105-408d-842f-ef6b54c7421d",
   "metadata": {},
   "source": [
    "# Introduction\n",
    "\n",
    "The notebook is intended to perform a Sales Forecast over the data of the [Tabular Playground Series - September 2022](https://www.kaggle.com/competitions/tabular-playground-series-sep-2022)"
   ]
  },
  {
   "cell_type": "code",
   "execution_count": null,
   "id": "d6e63dab-8e9e-4bcc-85b1-764ede281976",
   "metadata": {},
   "outputs": [],
   "source": [
    "# Import Standard Libraries\n",
    "import pandas as pd"
   ]
  },
  {
   "cell_type": "markdown",
   "id": "8e83f60b-7ed4-47ad-885c-f1fcdecebd92",
   "metadata": {},
   "source": [
    "# Read Data"
   ]
  },
  {
   "cell_type": "code",
   "execution_count": null,
   "id": "5e4910c2-7e26-44d3-b081-71f9baea2377",
   "metadata": {
    "jupyter": {
     "source_hidden": true
    },
    "tags": []
   },
   "outputs": [],
   "source": [
    "# Read train and test data\n",
    "train_data = pd.read_csv('./../../data/2022_09/train.csv')\n",
    "test_data = pd.read_csv('./../../data/2022_09/test.csv')"
   ]
  },
  {
   "cell_type": "code",
   "execution_count": null,
   "id": "16efe212-e81a-4454-802c-02e01f04c574",
   "metadata": {
    "jupyter": {
     "source_hidden": true
    },
    "tags": []
   },
   "outputs": [],
   "source": [
    "train_data.info()"
   ]
  },
  {
   "cell_type": "code",
   "execution_count": null,
   "id": "a1be7387-2a86-49d8-a4da-6f13662084ad",
   "metadata": {
    "jupyter": {
     "source_hidden": true
    },
    "tags": []
   },
   "outputs": [],
   "source": [
    "test_data.info()"
   ]
  },
  {
   "cell_type": "code",
   "execution_count": null,
   "id": "26bbc284-30fd-4447-bb92-42e19ec02981",
   "metadata": {
    "jupyter": {
     "source_hidden": true
    },
    "tags": []
   },
   "outputs": [],
   "source": [
    "train_data.head(5)"
   ]
  },
  {
   "cell_type": "code",
   "execution_count": null,
   "id": "79165c47-7ab9-4031-bb3d-2f9607823177",
   "metadata": {
    "jupyter": {
     "source_hidden": true
    },
    "tags": []
   },
   "outputs": [],
   "source": [
    "test_data.head(5)"
   ]
  },
  {
   "cell_type": "markdown",
   "id": "7952a0ab-fe91-4710-b5d1-f9ad39c4320a",
   "metadata": {},
   "source": [
    "# Exploratory Data Analysis"
   ]
  },
  {
   "cell_type": "markdown",
   "id": "c6858f02-70e7-4c1d-befc-e7e4bece9faf",
   "metadata": {},
   "source": [
    "## Row ID"
   ]
  },
  {
   "cell_type": "code",
   "execution_count": null,
   "id": "74ce9d51-c791-4d02-8153-982f28005d86",
   "metadata": {},
   "outputs": [],
   "source": [
    "# Check NaN values\n",
    "print(\"Row ID NaN values count: {}\".format(len(train_data[train_data['row_id'].isna()])))"
   ]
  },
  {
   "cell_type": "code",
   "execution_count": null,
   "id": "3071f4da-04ad-4ea3-af4a-04af35dcc6db",
   "metadata": {},
   "outputs": [],
   "source": [
    "# Check duplicated values\n",
    "print(\"Row ID duplicated values count: {}\".format(len(test_data[test_data['row_id'].duplicated()])))"
   ]
  },
  {
   "cell_type": "markdown",
   "id": "2eef0ea6-e2f0-4cc0-9814-1dc8ed3921b7",
   "metadata": {},
   "source": [
    "## Date"
   ]
  },
  {
   "cell_type": "code",
   "execution_count": null,
   "id": "07ac03d4-a9cf-47fc-98a9-62af5e6329b8",
   "metadata": {},
   "outputs": [],
   "source": [
    "# Extract day, month, year, day of the week and year_month information from 'date'\n",
    "train_data['date_day'] = train_data['date'].dt.day\n",
    "train_data['date_month'] = train_data['date'].dt.month\n",
    "train_data['date_year'] = train_data['date'].dt.year\n",
    "train_data['date_dayofweek'] = train_data['date'].dt.dayofweek\n",
    "train_data['date_year_month'] = pd.to_datetime(train_data['date']).dt.to_period('M')"
   ]
  },
  {
   "cell_type": "code",
   "execution_count": null,
   "id": "32901d32-2823-47e1-a079-c8369b7821a9",
   "metadata": {},
   "outputs": [],
   "source": []
  }
 ],
 "metadata": {
  "kernelspec": {
   "display_name": "Python 3 (ipykernel)",
   "language": "python",
   "name": "python3"
  },
  "language_info": {
   "codemirror_mode": {
    "name": "ipython",
    "version": 3
   },
   "file_extension": ".py",
   "mimetype": "text/x-python",
   "name": "python",
   "nbconvert_exporter": "python",
   "pygments_lexer": "ipython3",
   "version": "3.10.5"
  }
 },
 "nbformat": 4,
 "nbformat_minor": 5
}
