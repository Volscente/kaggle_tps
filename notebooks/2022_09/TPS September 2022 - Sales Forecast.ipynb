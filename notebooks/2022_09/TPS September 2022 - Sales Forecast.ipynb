{
 "cells": [
  {
   "cell_type": "markdown",
   "id": "16fac184",
   "metadata": {
    "papermill": {
     "duration": 0.021682,
     "end_time": "2022-09-27T13:55:21.962066",
     "exception": false,
     "start_time": "2022-09-27T13:55:21.940384",
     "status": "completed"
    },
    "tags": []
   },
   "source": [
    "# Introduction\n",
    "\n",
    "The notebook is intended to perform a Sales Forecast over the data of the [Tabular Playground Series - September 2022](https://www.kaggle.com/competitions/tabular-playground-series-sep-2022).\n",
    "\n",
    "Thanks to [this notebook](https://www.kaggle.com/code/jcaliz/tps-sep22-eda-baseline-you-were-looking-for) for the EDA ideas."
   ]
  },
  {
   "cell_type": "code",
   "execution_count": null,
   "id": "553f4ef4",
   "metadata": {
    "papermill": {
     "duration": 1.487411,
     "end_time": "2022-09-27T13:55:23.466301",
     "exception": false,
     "start_time": "2022-09-27T13:55:21.978890",
     "status": "completed"
    },
    "tags": []
   },
   "outputs": [],
   "source": [
    "# Import Standard Libraries\n",
    "import pandas as pd\n",
    "import numpy as np\n",
    "from itertools import product as cartesian_product\n",
    "import warnings\n",
    "\n",
    "from sklearn.pipeline import Pipeline\n",
    "from sklearn.preprocessing import OneHotEncoder, StandardScaler\n",
    "from sklearn.compose import ColumnTransformer\n",
    "from sklearn.linear_model import LinearRegression\n",
    "from sklearn.model_selection import StratifiedShuffleSplit, train_test_split, KFold\n",
    "\n",
    "from xgboost import XGBRegressor\n",
    "\n",
    "import lightgbm as lgb\n",
    "\n",
    "import seaborn as sns\n",
    "\n",
    "import matplotlib.pyplot as plt\n",
    "from matplotlib.gridspec import GridSpec\n",
    "import matplotlib.ticker as ticker\n",
    "\n",
    "import datetime\n",
    "\n",
    "# Suppress FutureWarning from Seaborn\n",
    "warnings.simplefilter(action='ignore', category=FutureWarning)"
   ]
  },
  {
   "cell_type": "code",
   "execution_count": null,
   "id": "6cbcabfd",
   "metadata": {
    "papermill": {
     "duration": 0.03045,
     "end_time": "2022-09-27T13:55:23.515152",
     "exception": false,
     "start_time": "2022-09-27T13:55:23.484702",
     "status": "completed"
    },
    "tags": []
   },
   "outputs": [],
   "source": [
    "# Define Seaborn theme parameters\n",
    "theme_parameters =  {\n",
    "    'axes.spines.right': False,\n",
    "    'axes.spines.top': False,\n",
    "    'grid.alpha':0.3,\n",
    "    'figure.figsize': (16, 6),\n",
    "    'font.family': 'Andale Mono',\n",
    "    'axes.titlesize': 24,\n",
    "    'figure.facecolor': '#E5E8E8',\n",
    "    'axes.facecolor': '#E5E8E8'\n",
    "}\n",
    "\n",
    "# Set the theme\n",
    "sns.set_theme(style='whitegrid',\n",
    "              palette=sns.color_palette('deep'), \n",
    "              rc=theme_parameters)"
   ]
  },
  {
   "cell_type": "code",
   "execution_count": null,
   "id": "299ccd45",
   "metadata": {
    "papermill": {
     "duration": 0.02588,
     "end_time": "2022-09-27T13:55:23.560290",
     "exception": false,
     "start_time": "2022-09-27T13:55:23.534410",
     "status": "completed"
    },
    "tags": []
   },
   "outputs": [],
   "source": [
    "# Notebook's variables\n",
    "kaggle = False"
   ]
  },
  {
   "cell_type": "markdown",
   "id": "c09635c4",
   "metadata": {
    "papermill": {
     "duration": 0.01712,
     "end_time": "2022-09-27T13:55:23.594910",
     "exception": false,
     "start_time": "2022-09-27T13:55:23.577790",
     "status": "completed"
    },
    "tags": []
   },
   "source": [
    "# Read Data"
   ]
  },
  {
   "cell_type": "code",
   "execution_count": null,
   "id": "16b7f46e",
   "metadata": {
    "papermill": {
     "duration": 0.027273,
     "end_time": "2022-09-27T13:55:23.638757",
     "exception": false,
     "start_time": "2022-09-27T13:55:23.611484",
     "status": "completed"
    },
    "tags": []
   },
   "outputs": [],
   "source": [
    "# Switch data path in case of local execution\n",
    "if kaggle:\n",
    "    train_data_path = '../input/tabular-playground-series-sep-2022/train.csv'\n",
    "    test_data_path = '../input/tabular-playground-series-sep-2022/test.csv'\n",
    "else:\n",
    "    train_data_path = './../../data/2022_09/train.csv'\n",
    "    test_data_path = './../../data/2022_09/test.csv'"
   ]
  },
  {
   "cell_type": "code",
   "execution_count": null,
   "id": "481459a1",
   "metadata": {
    "papermill": {
     "duration": 0.206734,
     "end_time": "2022-09-27T13:55:23.862178",
     "exception": false,
     "start_time": "2022-09-27T13:55:23.655444",
     "status": "completed"
    },
    "tags": []
   },
   "outputs": [],
   "source": [
    "# Read train and test data\n",
    "train_data = pd.read_csv(train_data_path,\n",
    "                         parse_dates=['date'],\n",
    "                             index_col=0)\n",
    "test_data = pd.read_csv(test_data_path,\n",
    "                        parse_dates=['date'],\n",
    "                        index_col=0)"
   ]
  },
  {
   "cell_type": "code",
   "execution_count": null,
   "id": "46d9cf98",
   "metadata": {
    "papermill": {
     "duration": 0.0509,
     "end_time": "2022-09-27T13:55:23.933576",
     "exception": false,
     "start_time": "2022-09-27T13:55:23.882676",
     "status": "completed"
    },
    "tags": []
   },
   "outputs": [],
   "source": [
    "train_data.info()"
   ]
  },
  {
   "cell_type": "code",
   "execution_count": null,
   "id": "0f24b74a",
   "metadata": {
    "papermill": {
     "duration": 0.034899,
     "end_time": "2022-09-27T13:55:23.987220",
     "exception": false,
     "start_time": "2022-09-27T13:55:23.952321",
     "status": "completed"
    },
    "tags": []
   },
   "outputs": [],
   "source": [
    "test_data.info()"
   ]
  },
  {
   "cell_type": "markdown",
   "id": "28575498",
   "metadata": {
    "papermill": {
     "duration": 0.017736,
     "end_time": "2022-09-27T13:55:24.022853",
     "exception": false,
     "start_time": "2022-09-27T13:55:24.005117",
     "status": "completed"
    },
    "tags": []
   },
   "source": [
    "# Exploratory Data Analysis"
   ]
  },
  {
   "cell_type": "markdown",
   "id": "5a8224be",
   "metadata": {
    "papermill": {
     "duration": 0.017604,
     "end_time": "2022-09-27T13:55:24.058384",
     "exception": false,
     "start_time": "2022-09-27T13:55:24.040780",
     "status": "completed"
    },
    "tags": []
   },
   "source": [
    "## Null Values"
   ]
  },
  {
   "cell_type": "code",
   "execution_count": null,
   "id": "0582aeef",
   "metadata": {
    "papermill": {
     "duration": 1.161348,
     "end_time": "2022-09-27T13:55:25.237136",
     "exception": false,
     "start_time": "2022-09-27T13:55:24.075788",
     "status": "completed"
    },
    "tags": []
   },
   "outputs": [],
   "source": [
    "# Define data to display\n",
    "data_to_display = {\n",
    "    'Train Data': train_data,\n",
    "    'Test Data': test_data\n",
    "}\n",
    "\n",
    "# Create figure\n",
    "figure = plt.figure(tight_layout=True, figsize=(16, 6))\n",
    "\n",
    "\n",
    "# Define figure's subplots\n",
    "grid_spec = GridSpec(len(data_to_display), 1)\n",
    "\n",
    "# Fetch data to plot\n",
    "for row, (name, data) in enumerate(data_to_display.items()):\n",
    "    \n",
    "    # Create subplot\n",
    "    ax = figure.add_subplot(grid_spec[row, 0])\n",
    "    \n",
    "    sns.histplot(data=data.isna().melt(var_name='Feature', value_name='Missing'), \n",
    "                 y='Feature', \n",
    "                 hue='Missing', \n",
    "                 multiple='fill',\n",
    "                 ax=ax)\n",
    "    \n",
    "    # Refactor x label as missing percentage\n",
    "    ax.xaxis.set_major_locator(ticker.LinearLocator(21))\n",
    "    ax.xaxis.set_major_formatter('{:.0%}'.format)\n",
    "    \n",
    "    # Set title and label\n",
    "    ax.set_title(name, fontsize=15)\n",
    "    ax.set_xlabel('Null Percentage', fontweight='bold')"
   ]
  },
  {
   "cell_type": "markdown",
   "id": "f8332f21",
   "metadata": {
    "papermill": {
     "duration": 0.017596,
     "end_time": "2022-09-27T13:55:25.272594",
     "exception": false,
     "start_time": "2022-09-27T13:55:25.254998",
     "status": "completed"
    },
    "tags": []
   },
   "source": [
    "There are no null values, so there is not need to impute the data while training or testing the model."
   ]
  },
  {
   "cell_type": "markdown",
   "id": "130c9e3b",
   "metadata": {
    "papermill": {
     "duration": 0.017434,
     "end_time": "2022-09-27T13:55:25.307805",
     "exception": false,
     "start_time": "2022-09-27T13:55:25.290371",
     "status": "completed"
    },
    "tags": []
   },
   "source": [
    "## Distribution of Sold Product per Country, Store and Product"
   ]
  },
  {
   "cell_type": "code",
   "execution_count": null,
   "id": "1a67cc92",
   "metadata": {
    "papermill": {
     "duration": 14.578811,
     "end_time": "2022-09-27T13:55:39.904823",
     "exception": false,
     "start_time": "2022-09-27T13:55:25.326012",
     "status": "completed"
    },
    "tags": []
   },
   "outputs": [],
   "source": [
    "# Define the subplot\n",
    "figure, ax = plt.subplots(12, 4, figsize=(25, 50))\n",
    "ax = ax.flatten()\n",
    "\n",
    "# Fetch the data to plot\n",
    "for index, (combination, data_plot) in enumerate(train_data.groupby(['country', 'store', 'product'])):\n",
    "    \n",
    "    sns.histplot(data=data_plot.num_sold, \n",
    "                 ax=ax[index])\n",
    "    \n",
    "    ax[index].set_title(' | '.join(combination), fontsize=14)\n",
    "\n",
    "plt.tight_layout()"
   ]
  },
  {
   "cell_type": "markdown",
   "id": "813d39a1",
   "metadata": {
    "papermill": {
     "duration": 0.022648,
     "end_time": "2022-09-27T13:55:39.949911",
     "exception": false,
     "start_time": "2022-09-27T13:55:39.927263",
     "status": "completed"
    },
    "tags": []
   },
   "source": [
    "Most of the countries have a skewed distribution, except Poland. "
   ]
  },
  {
   "cell_type": "markdown",
   "id": "10b279f5",
   "metadata": {
    "papermill": {
     "duration": 0.021948,
     "end_time": "2022-09-27T13:55:39.994520",
     "exception": false,
     "start_time": "2022-09-27T13:55:39.972572",
     "status": "completed"
    },
    "tags": []
   },
   "source": [
    "## Sold Product per Country"
   ]
  },
  {
   "cell_type": "code",
   "execution_count": null,
   "id": "a2f24456",
   "metadata": {
    "papermill": {
     "duration": 1.662113,
     "end_time": "2022-09-27T13:55:41.678712",
     "exception": false,
     "start_time": "2022-09-27T13:55:40.016599",
     "status": "completed"
    },
    "tags": []
   },
   "outputs": [],
   "source": [
    "# Plot the number of sold products per country with respect to product\n",
    "ax = sns.barplot(data=train_data, \n",
    "                 x='product', \n",
    "                 y='num_sold', \n",
    "                 hue='country')\n",
    "\n",
    "ax.set_title('Product Sold per Country')\n",
    "\n",
    "plt.show()"
   ]
  },
  {
   "cell_type": "markdown",
   "id": "b97feec7",
   "metadata": {
    "papermill": {
     "duration": 0.021994,
     "end_time": "2022-09-27T13:55:41.723412",
     "exception": false,
     "start_time": "2022-09-27T13:55:41.701418",
     "status": "completed"
    },
    "tags": []
   },
   "source": [
    "- Every product is sold by every country\n",
    "- Kaggle for Kids looks like the most sold\n",
    "- Use both Product and Country as features"
   ]
  },
  {
   "cell_type": "markdown",
   "id": "f23bfecb",
   "metadata": {
    "papermill": {
     "duration": 0.022612,
     "end_time": "2022-09-27T13:55:41.769081",
     "exception": false,
     "start_time": "2022-09-27T13:55:41.746469",
     "status": "completed"
    },
    "tags": []
   },
   "source": [
    "## Sold Product per Country over Time"
   ]
  },
  {
   "cell_type": "code",
   "execution_count": null,
   "id": "54c25d6c",
   "metadata": {
    "papermill": {
     "duration": 1.01963,
     "end_time": "2022-09-27T13:55:42.811644",
     "exception": false,
     "start_time": "2022-09-27T13:55:41.792014",
     "status": "completed"
    },
    "tags": []
   },
   "outputs": [],
   "source": [
    "# Plot the number of sold products per country with respect to time\n",
    "ax = sns.lineplot(\n",
    "    data=train_data.groupby([\n",
    "        train_data.date.dt.strftime('%Y-%m'), train_data.country \n",
    "    ])['num_sold'].sum().reset_index(), \n",
    "    x='date', \n",
    "    y='num_sold', \n",
    "    hue='country'\n",
    ")\n",
    "\n",
    "ax.set_title('Number of Sold Products per Country')\n",
    "\n",
    "plt.xticks(rotation=45)\n",
    "\n",
    "ax.xaxis.set_major_locator(ticker.MaxNLocator(nbins=train_data.date.dt.strftime('%Y-%m').nunique()/2))\n",
    "\n",
    "plt.show()"
   ]
  },
  {
   "cell_type": "markdown",
   "id": "78b438d2",
   "metadata": {
    "papermill": {
     "duration": 0.023639,
     "end_time": "2022-09-27T13:55:42.859351",
     "exception": false,
     "start_time": "2022-09-27T13:55:42.835712",
     "status": "completed"
    },
    "tags": []
   },
   "source": [
    "- There is a non-stationary point around early 2020\n",
    "- Year can be used as a feature"
   ]
  },
  {
   "cell_type": "markdown",
   "id": "9d1371fe",
   "metadata": {
    "papermill": {
     "duration": 0.024488,
     "end_time": "2022-09-27T13:55:42.907332",
     "exception": false,
     "start_time": "2022-09-27T13:55:42.882844",
     "status": "completed"
    },
    "tags": []
   },
   "source": [
    "## Date Range in Train & Test Data"
   ]
  },
  {
   "cell_type": "code",
   "execution_count": null,
   "id": "1c54c0f9",
   "metadata": {
    "papermill": {
     "duration": 0.341998,
     "end_time": "2022-09-27T13:55:43.273142",
     "exception": false,
     "start_time": "2022-09-27T13:55:42.931144",
     "status": "completed"
    },
    "tags": []
   },
   "outputs": [],
   "source": [
    "# Compute the min and max time range for train & test data\n",
    "train_range = train_data.date.agg(['min', 'max'])\n",
    "test_range = test_data.date.agg(['min', 'max'])\n",
    "\n",
    "# Define the subplot\n",
    "figure, ax = plt.subplots()\n",
    "\n",
    "# Plot the train_range time range\n",
    "ax.plot(train_range, \n",
    "        [0.2, 0.2], \n",
    "        linewidth=5, \n",
    "        marker='.', \n",
    "        markersize=30, \n",
    "        label='Train')\n",
    "\n",
    "# Plot test_rage time rage\n",
    "ax.plot(test_range, \n",
    "        [0.3, 0.3], \n",
    "        linewidth=5, \n",
    "        marker='.', \n",
    "        markersize=30, \n",
    "        label='Test')\n",
    "\n",
    "# Refine plot height\n",
    "ax.set_ylim(0.1, 0.4)\n",
    "ax.legend()\n",
    "\n",
    "# Remove the y-ticks since it's not need\n",
    "ax.set_yticks(ticks=[]);\n",
    "\n",
    "plt.xticks(fontsize=14)\n",
    "ax.legend(borderpad=1.5, fontsize=13)\n",
    "\n",
    "print('Train Data Time Range', train_range, '\\n', sep='\\n')\n",
    "print('Test Data Time Range', test_range, sep='\\n')\n",
    "print('\\n')"
   ]
  },
  {
   "cell_type": "markdown",
   "id": "5b45c1d9",
   "metadata": {
    "papermill": {
     "duration": 0.024773,
     "end_time": "2022-09-27T13:55:43.331073",
     "exception": false,
     "start_time": "2022-09-27T13:55:43.306300",
     "status": "completed"
    },
    "tags": []
   },
   "source": [
    "- Since the years between train & test data do not overlap the `year` can not be taken into account as a feature"
   ]
  },
  {
   "cell_type": "markdown",
   "id": "3a681763",
   "metadata": {
    "papermill": {
     "duration": 0.024012,
     "end_time": "2022-09-27T13:55:43.379650",
     "exception": false,
     "start_time": "2022-09-27T13:55:43.355638",
     "status": "completed"
    },
    "tags": []
   },
   "source": [
    "## Sold Product per Product over Time"
   ]
  },
  {
   "cell_type": "code",
   "execution_count": null,
   "id": "dde2aa5f",
   "metadata": {
    "papermill": {
     "duration": 2.021941,
     "end_time": "2022-09-27T13:55:45.426030",
     "exception": false,
     "start_time": "2022-09-27T13:55:43.404089",
     "status": "completed"
    },
    "tags": []
   },
   "outputs": [],
   "source": [
    "# Define the subplot\n",
    "figure, ax = plt.subplots(2, 2, figsize=(16, 9))\n",
    "ax = ax.flatten()\n",
    "hue_order = train_data['country'].unique()\n",
    "\n",
    "# Fetch the products\n",
    "for index, product in enumerate(train_data['product'].unique()):\n",
    "    \n",
    "    # Retrieve data\n",
    "    data_plot = train_data[train_data['product'] == product]\n",
    "        \n",
    "    # Plot\n",
    "    sns.lineplot(data=data_plot.groupby([\n",
    "                        data_plot.date.dt.strftime('%Y-%m'), \n",
    "                        data_plot.country\n",
    "                        ])['num_sold'].sum().reset_index(), \n",
    "                 x='date', \n",
    "                 y='num_sold', \n",
    "                 hue='country',\n",
    "                 hue_order=hue_order,\n",
    "                 ax=ax[index])\n",
    "    \n",
    "    # Retrieve legends information\n",
    "    handles = ax[index].get_legend_handles_labels()[0]\n",
    "    labels = ax[index].get_legend_handles_labels()[1]\n",
    "    ax[index].legend().remove()\n",
    "    \n",
    "    # Set the title\n",
    "    ax[index].set_title(product, fontsize=14)\n",
    "    ax[index].xaxis.set_major_locator(ticker.MaxNLocator(nbins=data_plot.date.dt.strftime('%Y-%m').nunique()/5))\n",
    "    \n",
    "# Set the legend\n",
    "figure.legend(handles, \n",
    "              labels, \n",
    "              loc='upper center', \n",
    "              bbox_to_anchor=(0.5, 1.03), \n",
    "              fontsize=12,\n",
    "              ncol=train_data['country'].nunique())\n",
    "    \n",
    "plt.tight_layout()"
   ]
  },
  {
   "cell_type": "markdown",
   "id": "8a65d7fa",
   "metadata": {
    "papermill": {
     "duration": 0.027198,
     "end_time": "2022-09-27T13:55:45.482360",
     "exception": false,
     "start_time": "2022-09-27T13:55:45.455162",
     "status": "completed"
    },
    "tags": []
   },
   "source": [
    "- As per the previous plot, there is a strange behavior in 2020\n",
    "- `Kaggle Advanced Techniques` and `Kaggle Getting Started` have a month seasonality. It could be useful to use the month as a feature."
   ]
  },
  {
   "cell_type": "markdown",
   "id": "7a88beb3",
   "metadata": {
    "papermill": {
     "duration": 0.026856,
     "end_time": "2022-09-27T13:55:45.537369",
     "exception": false,
     "start_time": "2022-09-27T13:55:45.510513",
     "status": "completed"
    },
    "tags": []
   },
   "source": [
    "## Sold Product per Product & Store over Time"
   ]
  },
  {
   "cell_type": "code",
   "execution_count": null,
   "id": "aaeb736c",
   "metadata": {
    "papermill": {
     "duration": 3.665758,
     "end_time": "2022-09-27T13:55:49.230594",
     "exception": false,
     "start_time": "2022-09-27T13:55:45.564836",
     "status": "completed"
    },
    "tags": []
   },
   "outputs": [],
   "source": [
    "# Define the subplot\n",
    "figure, ax = plt.subplots(4, 2, figsize=(16, 12), sharey=True)\n",
    "ax = ax.flatten()\n",
    "hue_order = train_data['country'].unique()\n",
    "\n",
    "# Compute every possible combination between 'product' and 'store'\n",
    "products = train_data['product'].unique()\n",
    "stores = train_data['store'].unique()\n",
    "iterator = cartesian_product(products, stores)\n",
    "\n",
    "# Fetch the data to plot\n",
    "for index, (product, store) in enumerate(iterator):\n",
    "    \n",
    "    # Retrieve the data to plot\n",
    "    data_plot = train_data[\n",
    "        (train_data['store'] == store) &\n",
    "        (train_data['product'] == product)]\n",
    "    \n",
    "    # Plot the data\n",
    "    sns.lineplot(\n",
    "        data=data_plot.groupby([\n",
    "            data_plot.date.dt.strftime('%Y-%m'), \n",
    "            data_plot.country\n",
    "        ])['num_sold'].sum().reset_index(),\n",
    "        x='date',\n",
    "        y='num_sold',\n",
    "        hue='country',\n",
    "        hue_order=hue_order,\n",
    "        ax=ax[index])\n",
    "    \n",
    "    # Set title\n",
    "    ax[index].set_title(f'{store} | {product}', \n",
    "                        fontsize=10)\n",
    "    \n",
    "    # Set bins\n",
    "    ax[index].xaxis.set_major_locator(ticker.MaxNLocator(nbins=data_plot.date.dt.strftime('%Y-%m').nunique()/5))\n",
    "    \n",
    "    # Retrieve legend information\n",
    "    handles = ax[index].get_legend_handles_labels()[0]\n",
    "    labels = ax[index].get_legend_handles_labels()[1]\n",
    "    ax[index].legend().remove()\n",
    "    \n",
    "\n",
    "# Set the legend\n",
    "figure.legend(handles, \n",
    "              labels, \n",
    "              loc='upper center', \n",
    "              bbox_to_anchor=(0.5, 1.03), \n",
    "              fontsize=12,\n",
    "              ncol=train_data['country'].nunique())\n",
    "    \n",
    "plt.tight_layout()                 "
   ]
  },
  {
   "cell_type": "markdown",
   "id": "0ff7dbeb",
   "metadata": {
    "papermill": {
     "duration": 0.030002,
     "end_time": "2022-09-27T13:55:49.291641",
     "exception": false,
     "start_time": "2022-09-27T13:55:49.261639",
     "status": "completed"
    },
    "tags": []
   },
   "source": [
    "- `KaggleRama` clarly sells less than `KaggleMart`. The store has to be a feature.\n",
    "- Non-stationary point in 2020\n",
    "- Monthly seasonality for `Kaggle Advanced Techniques` and `Kaggle Getting Started`"
   ]
  },
  {
   "cell_type": "markdown",
   "id": "1e063848",
   "metadata": {
    "papermill": {
     "duration": 0.029938,
     "end_time": "2022-09-27T13:55:49.351807",
     "exception": false,
     "start_time": "2022-09-27T13:55:49.321869",
     "status": "completed"
    },
    "tags": []
   },
   "source": [
    "## Seasonality"
   ]
  },
  {
   "cell_type": "code",
   "execution_count": null,
   "id": "d078d115",
   "metadata": {
    "papermill": {
     "duration": 0.047541,
     "end_time": "2022-09-27T13:55:49.429567",
     "exception": false,
     "start_time": "2022-09-27T13:55:49.382026",
     "status": "completed"
    },
    "tags": []
   },
   "outputs": [],
   "source": [
    "def plot_seasonality(seasonality_column, ci=95, alpha=1):\n",
    "    \"\"\"\n",
    "    Utility function for plot the specified seasonality in 'seasonality_column' with respect to the 'product' and 'store' grouping\n",
    "    \n",
    "    Parameters:\n",
    "        seasonality_column:\n",
    "        ci: Integer confidence interval value\n",
    "        alpha\n",
    "    \"\"\"\n",
    "    \n",
    "    # Define the subplots\n",
    "    figure, ax = plt.subplots(4, 2, figsize=(18, 20))\n",
    "    ax = ax.flatten()\n",
    "    hue_order = train_data['country'].unique()\n",
    "    \n",
    "    \n",
    "    # Compute every possible combination between 'product' and 'store'\n",
    "    products = train_data['product'].unique()\n",
    "    stores = train_data['store'].unique()\n",
    "    iterator = cartesian_product(products, stores)\n",
    "    \n",
    "    # Fetch the data to plot\n",
    "    for index, (product, store) in enumerate(iterator):\n",
    "        \n",
    "        # Retrieve the data to plot\n",
    "        data_plot = train_data[\n",
    "            (train_data['store'] == store) &\n",
    "            (train_data['product'] == product)]\n",
    "    \n",
    "        # Plot the data\n",
    "        sns.lineplot(\n",
    "            data=pd.melt(\n",
    "                data_plot, \n",
    "                id_vars=['country', seasonality_column],\n",
    "                value_vars=['num_sold'],\n",
    "                value_name='num_solds'\n",
    "            ),\n",
    "            x=seasonality_column,\n",
    "            y='num_solds',\n",
    "            hue='country',\n",
    "            ax=ax[index],\n",
    "            #errorbar=('ci', ci), - New Seaborn version\n",
    "            ci=ci,\n",
    "            alpha=alpha,\n",
    "            hue_order=hue_order\n",
    "        )\n",
    "        \n",
    "        # Set Title\n",
    "        ax[index].set_title(f'{store} | {product}', \n",
    "                             fontsize=12)\n",
    "        \n",
    "        # Retrieve legend information\n",
    "        handles = ax[index].get_legend_handles_labels()[0]\n",
    "        labels = ax[index].get_legend_handles_labels()[1]\n",
    "        ax[index].legend().remove()\n",
    "\n",
    "    # Set the legend\n",
    "    figure.legend(handles, \n",
    "                  labels, \n",
    "                  loc='upper center', \n",
    "                  bbox_to_anchor=(0.5, 1.03), \n",
    "                  fontsize=12,\n",
    "                  ncol=train_data['country'].nunique())\n",
    "    \n",
    "    # Set the figure title\n",
    "    plt.suptitle(f'Seasonality by {seasonality_column}',\n",
    "                 fontsize=16)\n",
    "    \n",
    "    plt.tight_layout()\n",
    "    \n",
    "    plt.show()"
   ]
  },
  {
   "cell_type": "markdown",
   "id": "9025c061",
   "metadata": {
    "papermill": {
     "duration": 0.030474,
     "end_time": "2022-09-27T13:55:49.490352",
     "exception": false,
     "start_time": "2022-09-27T13:55:49.459878",
     "status": "completed"
    },
    "tags": []
   },
   "source": [
    "### Engineering Date"
   ]
  },
  {
   "cell_type": "code",
   "execution_count": null,
   "id": "da0f01ae",
   "metadata": {
    "papermill": {
     "duration": 0.041434,
     "end_time": "2022-09-27T13:55:49.561976",
     "exception": false,
     "start_time": "2022-09-27T13:55:49.520542",
     "status": "completed"
    },
    "tags": []
   },
   "outputs": [],
   "source": [
    "def engineer_date(data: pd.DataFrame):\n",
    "    \"\"\"\n",
    "    Engineer the 'date' column to retrieve meaningful information such as the day, month, year, day of week, quarter, day of year and week of year\n",
    "    \n",
    "    Parameters:\n",
    "        data: Pandas DataFrame with the 'date' column\n",
    "    \n",
    "    Return:\n",
    "        data: Pandas DataFrame with the engineered date columns\n",
    "    \"\"\"\n",
    "    \n",
    "    # Day\n",
    "    data['day'] = data['date'].dt.day\n",
    "    \n",
    "    # Month\n",
    "    data['month'] = data['date'].dt.month\n",
    "    \n",
    "    # Year\n",
    "    data['year'] = data['date'].dt.year\n",
    "    \n",
    "    # Day of the week\n",
    "    data['dayofweek'] = data['date'].dt.dayofweek\n",
    "    \n",
    "    # Quarter\n",
    "    data['quarter'] = data['date'].dt.quarter\n",
    "    \n",
    "    # Day of the year\n",
    "    data['dayofyear'] = data['date'].dt.dayofyear\n",
    "    \n",
    "    # Week of the year\n",
    "    data['weekofyear'] = data['date'].dt.isocalendar().week\n",
    "    data.loc[data['weekofyear'] > 52, 'weekofyear'] = 52 # Not every year has 53 weeks, so let's cap to 52\n",
    "    data['weekofyear'] = data['weekofyear'].astype('int64') # Convert back the column to integer"
   ]
  },
  {
   "cell_type": "code",
   "execution_count": null,
   "id": "d61288db",
   "metadata": {
    "papermill": {
     "duration": 0.088966,
     "end_time": "2022-09-27T13:55:49.682276",
     "exception": false,
     "start_time": "2022-09-27T13:55:49.593310",
     "status": "completed"
    },
    "tags": []
   },
   "outputs": [],
   "source": [
    "# apply the 'engineer_date' function over the training and test sets\n",
    "engineer_date(train_data)\n",
    "engineer_date(test_data)"
   ]
  },
  {
   "cell_type": "markdown",
   "id": "6576a8da",
   "metadata": {
    "papermill": {
     "duration": 0.030352,
     "end_time": "2022-09-27T13:55:49.743189",
     "exception": false,
     "start_time": "2022-09-27T13:55:49.712837",
     "status": "completed"
    },
    "tags": []
   },
   "source": [
    "### Day"
   ]
  },
  {
   "cell_type": "code",
   "execution_count": null,
   "id": "c82533ef",
   "metadata": {
    "papermill": {
     "duration": 27.446124,
     "end_time": "2022-09-27T13:56:17.219173",
     "exception": false,
     "start_time": "2022-09-27T13:55:49.773049",
     "status": "completed"
    },
    "tags": []
   },
   "outputs": [],
   "source": [
    "plot_seasonality('day')"
   ]
  },
  {
   "cell_type": "markdown",
   "id": "af8b543a",
   "metadata": {
    "papermill": {
     "duration": 0.036105,
     "end_time": "2022-09-27T13:56:17.292314",
     "exception": false,
     "start_time": "2022-09-27T13:56:17.256209",
     "status": "completed"
    },
    "tags": []
   },
   "source": [
    "- There is a slightly increase toward the end of the month. Create a boolean variable for the last 27-30 days."
   ]
  },
  {
   "cell_type": "markdown",
   "id": "4ecd63eb",
   "metadata": {
    "papermill": {
     "duration": 0.035258,
     "end_time": "2022-09-27T13:56:17.363456",
     "exception": false,
     "start_time": "2022-09-27T13:56:17.328198",
     "status": "completed"
    },
    "tags": []
   },
   "source": [
    "### Month"
   ]
  },
  {
   "cell_type": "code",
   "execution_count": null,
   "id": "7487e246",
   "metadata": {
    "papermill": {
     "duration": 12.787028,
     "end_time": "2022-09-27T13:56:30.186271",
     "exception": false,
     "start_time": "2022-09-27T13:56:17.399243",
     "status": "completed"
    },
    "tags": []
   },
   "outputs": [],
   "source": [
    "plot_seasonality('month')"
   ]
  },
  {
   "cell_type": "markdown",
   "id": "00a93c7e",
   "metadata": {
    "papermill": {
     "duration": 0.042772,
     "end_time": "2022-09-27T13:56:30.271837",
     "exception": false,
     "start_time": "2022-09-27T13:56:30.229065",
     "status": "completed"
    },
    "tags": []
   },
   "source": [
    "- There is an increasing trend towards the end of the year\n",
    "- `Kaggle Advanced Techniques` is more popular at the start of the year, while `Kaggle Getting Started`is more popular at the end"
   ]
  },
  {
   "cell_type": "markdown",
   "id": "501195ed",
   "metadata": {
    "papermill": {
     "duration": 0.041912,
     "end_time": "2022-09-27T13:56:30.357146",
     "exception": false,
     "start_time": "2022-09-27T13:56:30.315234",
     "status": "completed"
    },
    "tags": []
   },
   "source": [
    "### Year"
   ]
  },
  {
   "cell_type": "code",
   "execution_count": null,
   "id": "b9277f92",
   "metadata": {
    "papermill": {
     "duration": 6.617534,
     "end_time": "2022-09-27T13:56:37.016322",
     "exception": false,
     "start_time": "2022-09-27T13:56:30.398788",
     "status": "completed"
    },
    "tags": []
   },
   "outputs": [],
   "source": [
    "plot_seasonality('year')"
   ]
  },
  {
   "cell_type": "markdown",
   "id": "95178d69",
   "metadata": {
    "papermill": {
     "duration": 0.047408,
     "end_time": "2022-09-27T13:56:37.112090",
     "exception": false,
     "start_time": "2022-09-27T13:56:37.064682",
     "status": "completed"
    },
    "tags": []
   },
   "source": [
    "- Quite a strange behavior in 2020, like a convergence point"
   ]
  },
  {
   "cell_type": "markdown",
   "id": "7b66abe8",
   "metadata": {
    "papermill": {
     "duration": 0.045934,
     "end_time": "2022-09-27T13:56:37.204235",
     "exception": false,
     "start_time": "2022-09-27T13:56:37.158301",
     "status": "completed"
    },
    "tags": []
   },
   "source": [
    "### Day of Week"
   ]
  },
  {
   "cell_type": "code",
   "execution_count": null,
   "id": "777ac2e7",
   "metadata": {
    "papermill": {
     "duration": 8.696043,
     "end_time": "2022-09-27T13:56:45.946529",
     "exception": false,
     "start_time": "2022-09-27T13:56:37.250486",
     "status": "completed"
    },
    "tags": []
   },
   "outputs": [],
   "source": [
    "plot_seasonality('dayofweek')"
   ]
  },
  {
   "cell_type": "markdown",
   "id": "d1424eb8",
   "metadata": {
    "papermill": {
     "duration": 0.050693,
     "end_time": "2022-09-27T13:56:46.048829",
     "exception": false,
     "start_time": "2022-09-27T13:56:45.998136",
     "status": "completed"
    },
    "tags": []
   },
   "source": [
    "- Increasing trend over the Weekend. It could be usefull to encode it as a feature."
   ]
  },
  {
   "cell_type": "markdown",
   "id": "4c35c362",
   "metadata": {
    "papermill": {
     "duration": 0.05013,
     "end_time": "2022-09-27T13:56:46.148986",
     "exception": false,
     "start_time": "2022-09-27T13:56:46.098856",
     "status": "completed"
    },
    "tags": []
   },
   "source": [
    "### Quarter"
   ]
  },
  {
   "cell_type": "code",
   "execution_count": null,
   "id": "656ab1c6",
   "metadata": {
    "papermill": {
     "duration": 6.697082,
     "end_time": "2022-09-27T13:56:52.896349",
     "exception": false,
     "start_time": "2022-09-27T13:56:46.199267",
     "status": "completed"
    },
    "tags": []
   },
   "outputs": [],
   "source": [
    "plot_seasonality('quarter')"
   ]
  },
  {
   "cell_type": "markdown",
   "id": "a1643ba5",
   "metadata": {
    "papermill": {
     "duration": 0.057581,
     "end_time": "2022-09-27T13:56:53.013286",
     "exception": false,
     "start_time": "2022-09-27T13:56:52.955705",
     "status": "completed"
    },
    "tags": []
   },
   "source": [
    "- Same seasonality as Month"
   ]
  },
  {
   "cell_type": "markdown",
   "id": "c5a57f76",
   "metadata": {
    "papermill": {
     "duration": 0.054632,
     "end_time": "2022-09-27T13:56:53.123498",
     "exception": false,
     "start_time": "2022-09-27T13:56:53.068866",
     "status": "completed"
    },
    "tags": []
   },
   "source": [
    "### Day of Year"
   ]
  },
  {
   "cell_type": "code",
   "execution_count": null,
   "id": "f72bf257",
   "metadata": {
    "papermill": {
     "duration": 287.44745,
     "end_time": "2022-09-27T14:01:40.626806",
     "exception": false,
     "start_time": "2022-09-27T13:56:53.179356",
     "status": "completed"
    },
    "tags": []
   },
   "outputs": [],
   "source": [
    "plot_seasonality('dayofyear')"
   ]
  },
  {
   "cell_type": "markdown",
   "id": "b6e0ed44",
   "metadata": {
    "papermill": {
     "duration": 0.066948,
     "end_time": "2022-09-27T14:01:40.763035",
     "exception": false,
     "start_time": "2022-09-27T14:01:40.696087",
     "status": "completed"
    },
    "tags": []
   },
   "source": [
    "- There is a spike in the final day of the year, probably due to the XMas holiday. Encode a feature for the 24/12 to 01/01."
   ]
  },
  {
   "cell_type": "markdown",
   "id": "c92f4b15",
   "metadata": {
    "papermill": {
     "duration": 0.068458,
     "end_time": "2022-09-27T14:01:40.899889",
     "exception": false,
     "start_time": "2022-09-27T14:01:40.831431",
     "status": "completed"
    },
    "tags": []
   },
   "source": [
    "### Week of the Year"
   ]
  },
  {
   "cell_type": "code",
   "execution_count": null,
   "id": "61facd1a",
   "metadata": {
    "papermill": {
     "duration": 44.000397,
     "end_time": "2022-09-27T14:02:24.967106",
     "exception": false,
     "start_time": "2022-09-27T14:01:40.966709",
     "status": "completed"
    },
    "tags": []
   },
   "outputs": [],
   "source": [
    "plot_seasonality('weekofyear')"
   ]
  },
  {
   "cell_type": "markdown",
   "id": "04ffafc9",
   "metadata": {
    "papermill": {
     "duration": 0.075652,
     "end_time": "2022-09-27T14:02:25.121465",
     "exception": false,
     "start_time": "2022-09-27T14:02:25.045813",
     "status": "completed"
    },
    "tags": []
   },
   "source": [
    "- Seasonality for the same product is the same across the two different stores\n",
    "- `Kaggle Advanced Techniques` is more popular at the start of the year, while `Kaggle Getting Started`is more popular at the end\n",
    "- Spike at the end of the year across all products and all stores"
   ]
  },
  {
   "cell_type": "markdown",
   "id": "f983fef1",
   "metadata": {
    "papermill": {
     "duration": 0.075555,
     "end_time": "2022-09-27T14:02:25.273121",
     "exception": false,
     "start_time": "2022-09-27T14:02:25.197566",
     "status": "completed"
    },
    "tags": []
   },
   "source": [
    "## Conclusions"
   ]
  },
  {
   "cell_type": "markdown",
   "id": "9681b46c",
   "metadata": {
    "papermill": {
     "duration": 0.074908,
     "end_time": "2022-09-27T14:02:25.423793",
     "exception": false,
     "start_time": "2022-09-27T14:02:25.348885",
     "status": "completed"
    },
    "tags": []
   },
   "source": [
    "- Include `product`, `store` and `country` as feature (one-hot encoded)\n",
    "- Include the `month` as a feature\n",
    "- Create a boolean variable indicating the end of the month (27 onwards)\n",
    "- Create a boolean variable indicating the weekend (from Friday onwards)\n",
    "- Create a boolean variable indicating the XMas holidays (from 24/12 to 01/01)"
   ]
  },
  {
   "cell_type": "markdown",
   "id": "104098a6",
   "metadata": {
    "papermill": {
     "duration": 0.07483,
     "end_time": "2022-09-27T14:02:25.574143",
     "exception": false,
     "start_time": "2022-09-27T14:02:25.499313",
     "status": "completed"
    },
    "tags": []
   },
   "source": [
    "# Data Preparation"
   ]
  },
  {
   "cell_type": "markdown",
   "id": "18b84ddd",
   "metadata": {
    "papermill": {
     "duration": 0.074702,
     "end_time": "2022-09-27T14:02:25.724469",
     "exception": false,
     "start_time": "2022-09-27T14:02:25.649767",
     "status": "completed"
    },
    "tags": []
   },
   "source": [
    "## Product Normalization"
   ]
  },
  {
   "cell_type": "code",
   "execution_count": null,
   "id": "fdacf815",
   "metadata": {
    "papermill": {
     "duration": 0.16166,
     "end_time": "2022-09-27T14:02:25.962973",
     "exception": false,
     "start_time": "2022-09-27T14:02:25.801313",
     "status": "completed"
    },
    "tags": []
   },
   "outputs": [],
   "source": [
    "# Replace spaces and special characters\n",
    "train_data['product'] = train_data['product'].str.replace(' ', '_')\n",
    "train_data['product'] = train_data['product'].str.replace(':', '_')\n",
    "\n",
    "test_data['product'] = test_data['product'].str.replace(' ', '_')\n",
    "test_data['product'] = test_data['product'].str.replace(':', '_')"
   ]
  },
  {
   "cell_type": "markdown",
   "id": "9979f072",
   "metadata": {
    "papermill": {
     "duration": 0.075027,
     "end_time": "2022-09-27T14:02:26.113792",
     "exception": false,
     "start_time": "2022-09-27T14:02:26.038765",
     "status": "completed"
    },
    "tags": []
   },
   "source": [
    "## Feature Engineering"
   ]
  },
  {
   "cell_type": "markdown",
   "id": "3cd8c1f1",
   "metadata": {
    "papermill": {
     "duration": 0.075582,
     "end_time": "2022-09-27T14:02:26.264818",
     "exception": false,
     "start_time": "2022-09-27T14:02:26.189236",
     "status": "completed"
    },
    "tags": []
   },
   "source": [
    "### End of Month"
   ]
  },
  {
   "cell_type": "code",
   "execution_count": null,
   "id": "f26bbaef",
   "metadata": {
    "papermill": {
     "duration": 0.08801,
     "end_time": "2022-09-27T14:02:26.428766",
     "exception": false,
     "start_time": "2022-09-27T14:02:26.340756",
     "status": "completed"
    },
    "tags": []
   },
   "outputs": [],
   "source": [
    "# Set the columns 'endofmonth' equals to 1 if the 'day' is between [27, 31]\n",
    "train_data['endofmonth'] = np.where((train_data['day'] >= 27) & (train_data['day'] <= 31), 1, 0)\n",
    "\n",
    "test_data['endofmonth'] = np.where((test_data['day'] >= 27) & (test_data['day'] <= 31), 1, 0)"
   ]
  },
  {
   "cell_type": "markdown",
   "id": "4e0aac9e",
   "metadata": {
    "papermill": {
     "duration": 0.075262,
     "end_time": "2022-09-27T14:02:26.579744",
     "exception": false,
     "start_time": "2022-09-27T14:02:26.504482",
     "status": "completed"
    },
    "tags": []
   },
   "source": [
    "### Weekend"
   ]
  },
  {
   "cell_type": "code",
   "execution_count": null,
   "id": "0cf2f372",
   "metadata": {
    "papermill": {
     "duration": 0.09899,
     "end_time": "2022-09-27T14:02:26.754854",
     "exception": false,
     "start_time": "2022-09-27T14:02:26.655864",
     "status": "completed"
    },
    "tags": []
   },
   "outputs": [],
   "source": [
    "# Compute 'friday', 'saturday' and 'sunday' columns depending on the column 'dayofweek'\n",
    "train_data['friday'] = np.where(train_data['dayofweek'] == 4, 1, 0)\n",
    "train_data['saturday'] = np.where(train_data['dayofweek'] == 5, 1, 0)\n",
    "train_data['sunday'] = np.where(train_data['dayofweek'] == 6, 1, 0)\n",
    "\n",
    "test_data['friday'] = np.where(test_data['dayofweek'] == 4, 1, 0)\n",
    "test_data['saturday'] = np.where(test_data['dayofweek'] == 5, 1, 0)\n",
    "test_data['sunday'] = np.where(test_data['dayofweek'] == 6, 1, 0)"
   ]
  },
  {
   "cell_type": "markdown",
   "id": "58148c98",
   "metadata": {
    "papermill": {
     "duration": 0.076461,
     "end_time": "2022-09-27T14:02:26.907128",
     "exception": false,
     "start_time": "2022-09-27T14:02:26.830667",
     "status": "completed"
    },
    "tags": []
   },
   "source": [
    "### XMas"
   ]
  },
  {
   "cell_type": "code",
   "execution_count": null,
   "id": "807d8651",
   "metadata": {
    "papermill": {
     "duration": 0.088112,
     "end_time": "2022-09-27T14:02:27.072218",
     "exception": false,
     "start_time": "2022-09-27T14:02:26.984106",
     "status": "completed"
    },
    "tags": []
   },
   "outputs": [],
   "source": [
    "# Set 'xmas' equals to one if the date is between 24/12 and 01/01\n",
    "train_data['xmas'] = np.where(\n",
    "    ((train_data['day'] >= 24) & (train_data['day'] <= 31) & (train_data['month'] == 12)) \n",
    "    | ((train_data['day'] == 1) &(train_data['month'] == 1)), 1, 0)\n",
    "\n",
    "test_data['xmas'] = np.where(\n",
    "    ((test_data['day'] >= 24) & (test_data['day'] <= 31) & (test_data['month'] == 12)) \n",
    "    | ((test_data['day'] == 1) &(test_data['month'] == 1)), 1, 0)"
   ]
  },
  {
   "cell_type": "markdown",
   "id": "9562c540",
   "metadata": {
    "papermill": {
     "duration": 0.075254,
     "end_time": "2022-09-27T14:02:27.237846",
     "exception": false,
     "start_time": "2022-09-27T14:02:27.162592",
     "status": "completed"
    },
    "tags": []
   },
   "source": [
    "## Features and Labels Definition"
   ]
  },
  {
   "cell_type": "code",
   "execution_count": null,
   "id": "6c1d2c0c",
   "metadata": {
    "papermill": {
     "duration": 0.082803,
     "end_time": "2022-09-27T14:02:27.395833",
     "exception": false,
     "start_time": "2022-09-27T14:02:27.313030",
     "status": "completed"
    },
    "tags": []
   },
   "outputs": [],
   "source": [
    "# Define features and labels\n",
    "numerical_features = ['day', \n",
    "                      'month', \n",
    "                      'dayofweek', \n",
    "                      'quarter', \n",
    "                      'dayofyear', \n",
    "                      'weekofyear', \n",
    "                      'endofmonth', \n",
    "                      'friday', \n",
    "                      'saturday', \n",
    "                      'sunday', \n",
    "                      'xmas']\n",
    "\n",
    "categorical_features = ['product', \n",
    "                        'store', \n",
    "                        'country']\n",
    "\n",
    "labels = ['num_sold']"
   ]
  },
  {
   "cell_type": "markdown",
   "id": "9c63590a",
   "metadata": {
    "papermill": {
     "duration": 0.075701,
     "end_time": "2022-09-27T14:02:27.547507",
     "exception": false,
     "start_time": "2022-09-27T14:02:27.471806",
     "status": "completed"
    },
    "tags": []
   },
   "source": [
    "## Numerical Features\n",
    "\n",
    "Since there are no NaN values in the data, it is possible to skip the Fill NaN values step."
   ]
  },
  {
   "cell_type": "code",
   "execution_count": null,
   "id": "39627fda",
   "metadata": {
    "papermill": {
     "duration": 0.084793,
     "end_time": "2022-09-27T14:02:27.707859",
     "exception": false,
     "start_time": "2022-09-27T14:02:27.623066",
     "status": "completed"
    },
    "tags": []
   },
   "outputs": [],
   "source": [
    "# Numerical features pipeline\n",
    "numerical_features_pipeline = Pipeline(steps=[\n",
    "    ('numerical_scaler', StandardScaler())\n",
    "])"
   ]
  },
  {
   "cell_type": "markdown",
   "id": "cdaf18ff",
   "metadata": {
    "papermill": {
     "duration": 0.075625,
     "end_time": "2022-09-27T14:02:27.859716",
     "exception": false,
     "start_time": "2022-09-27T14:02:27.784091",
     "status": "completed"
    },
    "tags": []
   },
   "source": [
    "## Categorical Features\n",
    "\n",
    "Since there are no NaN values in the data, it is possible to skip the Fill NaN values step."
   ]
  },
  {
   "cell_type": "code",
   "execution_count": null,
   "id": "3502eaf2",
   "metadata": {
    "papermill": {
     "duration": 0.085789,
     "end_time": "2022-09-27T14:02:28.022179",
     "exception": false,
     "start_time": "2022-09-27T14:02:27.936390",
     "status": "completed"
    },
    "tags": []
   },
   "outputs": [],
   "source": [
    "# Categorical features pipeline\n",
    "categorical_features_pipeline = Pipeline(steps=[\n",
    "    ('categorical_one_hot_encoder', OneHotEncoder(handle_unknown='ignore'))\n",
    "])"
   ]
  },
  {
   "cell_type": "markdown",
   "id": "15687eb3",
   "metadata": {
    "papermill": {
     "duration": 0.074866,
     "end_time": "2022-09-27T14:02:28.172772",
     "exception": false,
     "start_time": "2022-09-27T14:02:28.097906",
     "status": "completed"
    },
    "tags": []
   },
   "source": [
    "## Bundle Data Preprocessing Steps"
   ]
  },
  {
   "cell_type": "code",
   "execution_count": null,
   "id": "9e7a2b61",
   "metadata": {
    "papermill": {
     "duration": 0.084772,
     "end_time": "2022-09-27T14:02:28.332918",
     "exception": false,
     "start_time": "2022-09-27T14:02:28.248146",
     "status": "completed"
    },
    "tags": []
   },
   "outputs": [],
   "source": [
    "# Bunlde data preprocessing steps\n",
    "data_preprocessor = ColumnTransformer(\n",
    "    transformers=[\n",
    "        ('numerical_preprocessing', numerical_features_pipeline, numerical_features),\n",
    "        ('categorical_preprocessing', categorical_features_pipeline, categorical_features)\n",
    "    ])"
   ]
  },
  {
   "cell_type": "markdown",
   "id": "4a85774f",
   "metadata": {
    "papermill": {
     "duration": 0.07657,
     "end_time": "2022-09-27T14:02:28.484833",
     "exception": false,
     "start_time": "2022-09-27T14:02:28.408263",
     "status": "completed"
    },
    "tags": []
   },
   "source": [
    "# Train & Test Split"
   ]
  },
  {
   "cell_type": "code",
   "execution_count": null,
   "id": "c2514a56",
   "metadata": {
    "papermill": {
     "duration": 0.093141,
     "end_time": "2022-09-27T14:02:28.660706",
     "exception": false,
     "start_time": "2022-09-27T14:02:28.567565",
     "status": "completed"
    },
    "tags": []
   },
   "outputs": [],
   "source": [
    "# Define X and y for the training set\n",
    "X = train_data[numerical_features + categorical_features]\n",
    "y = train_data[labels]"
   ]
  },
  {
   "cell_type": "code",
   "execution_count": null,
   "id": "1435b0b9",
   "metadata": {
    "papermill": {
     "duration": 0.107647,
     "end_time": "2022-09-27T14:02:28.844396",
     "exception": false,
     "start_time": "2022-09-27T14:02:28.736749",
     "status": "completed"
    },
    "tags": []
   },
   "outputs": [],
   "source": [
    "# Split training data into train and validation\n",
    "X_train, X_test, y_train, y_test = train_test_split(X, y, test_size=0.33, random_state=42)"
   ]
  },
  {
   "cell_type": "markdown",
   "id": "37154665",
   "metadata": {
    "papermill": {
     "duration": 0.076124,
     "end_time": "2022-09-27T14:02:28.996915",
     "exception": false,
     "start_time": "2022-09-27T14:02:28.920791",
     "status": "completed"
    },
    "tags": []
   },
   "source": [
    "# Model Training"
   ]
  },
  {
   "cell_type": "code",
   "execution_count": null,
   "id": "1837ba4d",
   "metadata": {
    "papermill": {
     "duration": 0.086651,
     "end_time": "2022-09-27T14:02:29.160781",
     "exception": false,
     "start_time": "2022-09-27T14:02:29.074130",
     "status": "completed"
    },
    "tags": []
   },
   "outputs": [],
   "source": [
    "# Define function to compute the SMAPE\n",
    "def compute_smape(y_true, y_pred):\n",
    "    denominator = (np.abs(y_true) + np.abs(y_pred)) / 200.0\n",
    "    diff = np.abs(y_true - y_pred) / denominator\n",
    "    diff[denominator == 0] = 0.0\n",
    "    return np.nanmean(diff)"
   ]
  },
  {
   "cell_type": "code",
   "execution_count": null,
   "id": "f7764aa2",
   "metadata": {
    "papermill": {
     "duration": 0.087855,
     "end_time": "2022-09-27T14:02:29.324709",
     "exception": false,
     "start_time": "2022-09-27T14:02:29.236854",
     "status": "completed"
    },
    "tags": []
   },
   "outputs": [],
   "source": [
    "# Define the used metrics\n",
    "metrics = ['smape']"
   ]
  },
  {
   "cell_type": "code",
   "execution_count": null,
   "id": "975fed01",
   "metadata": {
    "papermill": {
     "duration": 0.089688,
     "end_time": "2022-09-27T14:02:29.490815",
     "exception": false,
     "start_time": "2022-09-27T14:02:29.401127",
     "status": "completed"
    },
    "tags": []
   },
   "outputs": [],
   "source": [
    "# Initialize DataFrame of model performance\n",
    "performance = pd.DataFrame(columns=metrics)"
   ]
  },
  {
   "cell_type": "markdown",
   "id": "a3e2b7f7",
   "metadata": {
    "papermill": {
     "duration": 0.077198,
     "end_time": "2022-09-27T14:02:29.643860",
     "exception": false,
     "start_time": "2022-09-27T14:02:29.566662",
     "status": "completed"
    },
    "tags": []
   },
   "source": [
    "## Linear Regression"
   ]
  },
  {
   "cell_type": "code",
   "execution_count": null,
   "id": "fdfcf941",
   "metadata": {
    "papermill": {
     "duration": 0.239618,
     "end_time": "2022-09-27T14:02:29.960770",
     "exception": false,
     "start_time": "2022-09-27T14:02:29.721152",
     "status": "completed"
    },
    "tags": []
   },
   "outputs": [],
   "source": [
    "%%time\n",
    "\n",
    "# Define the model\n",
    "model_lr = LinearRegression()\n",
    "\n",
    "# Define the pipeline\n",
    "pipe_lr = Pipeline([\n",
    "    ('data_preprocessing', data_preprocessor),\n",
    "    ('linear_regression', model_lr)\n",
    "])\n",
    "\n",
    "# Train the pipeline\n",
    "pipe_lr.fit(X_train, \n",
    "            y_train)\n",
    "\n",
    "# Get number of sold predictions\n",
    "predictions_lr = pipe_lr.predict(X_test)\n",
    "\n",
    "# Model evaluation\n",
    "smape_lr = round(compute_smape(y_test, predictions_lr), 2)\n",
    "\n",
    "print('SMAPE: {}%'.format(smape_lr))\n",
    "print('\\n')"
   ]
  },
  {
   "cell_type": "code",
   "execution_count": null,
   "id": "31288a6f",
   "metadata": {
    "papermill": {
     "duration": 0.089265,
     "end_time": "2022-09-27T14:02:30.183390",
     "exception": false,
     "start_time": "2022-09-27T14:02:30.094125",
     "status": "completed"
    },
    "tags": []
   },
   "outputs": [],
   "source": [
    "# Update 'performance' DataFrame\n",
    "performance.loc['linear_regression'] = [smape_lr]"
   ]
  },
  {
   "cell_type": "markdown",
   "id": "f7147dd4",
   "metadata": {
    "papermill": {
     "duration": 0.079235,
     "end_time": "2022-09-27T14:02:30.341042",
     "exception": false,
     "start_time": "2022-09-27T14:02:30.261807",
     "status": "completed"
    },
    "tags": []
   },
   "source": [
    "## XGBoost"
   ]
  },
  {
   "cell_type": "code",
   "execution_count": null,
   "id": "5203e0ee",
   "metadata": {
    "papermill": {
     "duration": 15.528381,
     "end_time": "2022-09-27T14:02:45.947482",
     "exception": false,
     "start_time": "2022-09-27T14:02:30.419101",
     "status": "completed"
    },
    "tags": []
   },
   "outputs": [],
   "source": [
    "%%time\n",
    "\n",
    "# Define the model\n",
    "model_xgb = XGBRegressor(n_estimators=500)\n",
    "\n",
    "# Define the pipeline\n",
    "pipe_xgb = Pipeline([\n",
    "    ('data_preprocessing', data_preprocessor),\n",
    "    ('xgboost', model_xgb)\n",
    "])\n",
    "\n",
    "# Train the pipeline\n",
    "pipe_xgb.fit(X_train,\n",
    "             y_train,\n",
    "             xgboost__verbose=False)\n",
    "\n",
    "# Get number of sold predictions\n",
    "predictions_xgb = pipe_xgb.predict(X_test).reshape(-1, 1) # Reshape is necessary for the SMAPE function\n",
    "\n",
    "# Model evaluation\n",
    "smape_xgb = round(compute_smape(y_test, predictions_xgb), 2)\n",
    "\n",
    "print('SMAPE: {}%'.format(smape_xgb))\n",
    "print('\\n')"
   ]
  },
  {
   "cell_type": "code",
   "execution_count": null,
   "id": "0d704936",
   "metadata": {
    "papermill": {
     "duration": 0.087421,
     "end_time": "2022-09-27T14:02:46.110527",
     "exception": false,
     "start_time": "2022-09-27T14:02:46.023106",
     "status": "completed"
    },
    "tags": []
   },
   "outputs": [],
   "source": [
    "# Update 'performance' DataFrame\n",
    "performance.loc['xgboost'] = [smape_xgb]"
   ]
  },
  {
   "cell_type": "markdown",
   "id": "b69589b3-0ee1-4dd0-a3eb-353c252987fe",
   "metadata": {},
   "source": [
    "## LightGBM"
   ]
  },
  {
   "cell_type": "code",
   "execution_count": null,
   "id": "3a03e806-1026-4b56-a325-0d9d16dc394d",
   "metadata": {},
   "outputs": [],
   "source": [
    "# Define hyperparameters\n",
    "hyperparameters_lgb = {\n",
    "    'boosting_type': 'gbdt',\n",
    "    'objective': 'regression',\n",
    "    'metric': 'rmse',\n",
    "    'force_row_wise': True,\n",
    "    'n_estimators': 1000,\n",
    "    'verbose': 0\n",
    "}"
   ]
  },
  {
   "cell_type": "code",
   "execution_count": null,
   "id": "fba26480-aae0-44cc-b621-e9e44f6135b9",
   "metadata": {},
   "outputs": [],
   "source": [
    "%%time\n",
    "\n",
    "# Define the model\n",
    "model_lgb = lgb.LGBMRegressor(**hyperparameters_lgb)\n",
    "\n",
    "# Define the pipeline\n",
    "pipe_lgb = Pipeline([\n",
    "    ('data_preprocessing', data_preprocessor),\n",
    "    ('lightgbm', model_lgb)\n",
    "])\n",
    "\n",
    "# Train the pipeline\n",
    "pipe_lgb.fit(X_train, \n",
    "             np.ravel(y_train)) # Change shape for LGBM\n",
    "\n",
    "# Get number of sold predictions\n",
    "predictions_lgb = pipe_lgb.predict(X_test).reshape(-1, 1) # Reshape is necessary for the SMAPE function\n",
    "\n",
    "# Model evaluation\n",
    "smape_lgb = round(compute_smape(y_test, predictions_lgb), 2)\n",
    "\n",
    "print('SMAPE: {}%'.format(smape_lgb))\n",
    "print('\\n')"
   ]
  },
  {
   "cell_type": "markdown",
   "id": "5ce7fc6e-41c4-4430-8c7b-e2090cafdfe7",
   "metadata": {},
   "source": [
    "## XGBoost - Cross-Validation"
   ]
  },
  {
   "cell_type": "code",
   "execution_count": null,
   "id": "a1c8e4bd-ad2c-46cb-8f99-c8378931bc74",
   "metadata": {},
   "outputs": [],
   "source": [
    "# Define the a Stratified K-fold Shuffle Splitter\n",
    "kfold = KFold(n_splits=2)"
   ]
  },
  {
   "cell_type": "code",
   "execution_count": null,
   "id": "397a8a81-bfdd-4d3b-b42b-b6db27259099",
   "metadata": {},
   "outputs": [],
   "source": [
    "def train_with_stratified_kfold(estimator, X, y, cv):\n",
    "    \"\"\"\n",
    "    Train an Estimator through a Stratified K-Fold Cross-Validation approach and return evaluation metrics\n",
    "    \n",
    "        Paramarameters:\n",
    "            estimator: sklearn.linear_model estimator to optimise\n",
    "            X: Pandas DataFrame of data\n",
    "            y: Pandas DataFrame of labels\n",
    "            cv: sklearn.model_selection splitter instance\n",
    "            \n",
    "        Returns:\n",
    "            smape: Float SMAPE\n",
    "    \"\"\"\n",
    "    \n",
    "    # Initialise empty lists for metrics\n",
    "    smape_list = []\n",
    "    \n",
    "    # Fetch the folds\n",
    "    for fold, (train_index, validation_index) in enumerate(cv.split(X, y)):\n",
    "        \n",
    "        # Split the data\n",
    "        X_train = X.loc[train_index]\n",
    "        X_validation = X.loc[validation_index]\n",
    "        y_train = y.loc[train_index]\n",
    "        y_validation = y.loc[validation_index]\n",
    "        \n",
    "        # Fit the estimator\n",
    "        estimator.fit(X_train, y_train)\n",
    "        \n",
    "        # Predictions\n",
    "        predictions = estimator.predict(X_validation).reshape(-1, 1)\n",
    "        \n",
    "        # Compute metrics\n",
    "        smape_fold = round(smape(y_validation, predictions), 2)\n",
    "        \n",
    "        print('---- Fold {} ----'.format(fold))\n",
    "        print('SMAPE: {}%'.format(smape_fold))\n",
    "        print('\\n')\n",
    "        \n",
    "        # Append mentrics to the corresponding list\n",
    "        smape_list.append(smape_fold)\n",
    "        \n",
    "    # Compute metrics average\n",
    "    smape = round(np.mean(smape_list), 2)\n",
    "        \n",
    "    return smape"
   ]
  },
  {
   "cell_type": "code",
   "execution_count": null,
   "id": "9d4c39d9-da36-4dba-980f-71457b923aa8",
   "metadata": {},
   "outputs": [],
   "source": [
    "# Define hyperparameters\n",
    "hyperparameters_xgb_cv = {\n",
    "    'n_estimators': 500\n",
    "}"
   ]
  },
  {
   "cell_type": "code",
   "execution_count": null,
   "id": "f850647b-b210-4f40-a247-4806e963c64a",
   "metadata": {},
   "outputs": [],
   "source": [
    "%%time\n",
    "\n",
    "# Define the model\n",
    "model_xgb_cv = XGBRegressor(**hyperparameters_xgb_cv)\n",
    "\n",
    "# Define the pipeline\n",
    "pipe_xgb_cv = Pipeline([\n",
    "    ('data_preprocessing', data_preprocessor),\n",
    "    ('xgboost', model_xgb_cv)\n",
    "])\n",
    "\n",
    "# Train the pipeline\n",
    "smape_xgb_cv = train_with_stratified_kfold(pipe_xgb_cv, X, y, kfold)\n",
    "\n",
    "print('SMAPE: {}%'.format(smape_xgb_cv))\n",
    "print('\\n')"
   ]
  },
  {
   "cell_type": "markdown",
   "id": "e88143a3",
   "metadata": {
    "papermill": {
     "duration": 0.076064,
     "end_time": "2022-09-27T14:02:46.264260",
     "exception": false,
     "start_time": "2022-09-27T14:02:46.188196",
     "status": "completed"
    },
    "tags": []
   },
   "source": [
    "# Model Evaluation & Explainability"
   ]
  },
  {
   "cell_type": "markdown",
   "id": "228edd3c",
   "metadata": {
    "papermill": {
     "duration": 0.075575,
     "end_time": "2022-09-27T14:02:46.416286",
     "exception": false,
     "start_time": "2022-09-27T14:02:46.340711",
     "status": "completed"
    },
    "tags": []
   },
   "source": [
    "## Feature Importance"
   ]
  },
  {
   "cell_type": "markdown",
   "id": "cc5b73f3",
   "metadata": {
    "papermill": {
     "duration": 0.078143,
     "end_time": "2022-09-27T14:02:46.570207",
     "exception": false,
     "start_time": "2022-09-27T14:02:46.492064",
     "status": "completed"
    },
    "tags": []
   },
   "source": [
    "### Linear Regression"
   ]
  },
  {
   "cell_type": "markdown",
   "id": "98afdde9",
   "metadata": {
    "papermill": {
     "duration": 0.075717,
     "end_time": "2022-09-27T14:02:46.723167",
     "exception": false,
     "start_time": "2022-09-27T14:02:46.647450",
     "status": "completed"
    },
    "tags": []
   },
   "source": [
    "### XGBoost"
   ]
  },
  {
   "cell_type": "code",
   "execution_count": null,
   "id": "1a6f7a89",
   "metadata": {
    "papermill": {
     "duration": 0.085895,
     "end_time": "2022-09-27T14:02:46.886358",
     "exception": false,
     "start_time": "2022-09-27T14:02:46.800463",
     "status": "completed"
    },
    "tags": []
   },
   "outputs": [],
   "source": [
    "#len(X_train.columns)"
   ]
  },
  {
   "cell_type": "code",
   "execution_count": null,
   "id": "dbd2938f",
   "metadata": {
    "papermill": {
     "duration": 0.084901,
     "end_time": "2022-09-27T14:02:47.047806",
     "exception": false,
     "start_time": "2022-09-27T14:02:46.962905",
     "status": "completed"
    },
    "tags": []
   },
   "outputs": [],
   "source": [
    "#pipe_xgb.named_steps['xgboost'].feature_importances_"
   ]
  },
  {
   "cell_type": "code",
   "execution_count": null,
   "id": "a4a6f1ae",
   "metadata": {
    "papermill": {
     "duration": 0.088226,
     "end_time": "2022-09-27T14:02:47.212752",
     "exception": false,
     "start_time": "2022-09-27T14:02:47.124526",
     "status": "completed"
    },
    "tags": []
   },
   "outputs": [],
   "source": [
    "#pipe_xgb.named_steps['xgboost'].get_score(importance_type='gain')"
   ]
  },
  {
   "cell_type": "markdown",
   "id": "22be3c7d",
   "metadata": {
    "papermill": {
     "duration": 0.076001,
     "end_time": "2022-09-27T14:02:47.366172",
     "exception": false,
     "start_time": "2022-09-27T14:02:47.290171",
     "status": "completed"
    },
    "tags": []
   },
   "source": [
    "## Model Comparison"
   ]
  },
  {
   "cell_type": "code",
   "execution_count": null,
   "id": "ec1ffe24",
   "metadata": {
    "papermill": {
     "duration": 0.255641,
     "end_time": "2022-09-27T14:02:47.698727",
     "exception": false,
     "start_time": "2022-09-27T14:02:47.443086",
     "status": "completed"
    },
    "tags": []
   },
   "outputs": [],
   "source": [
    "# Plot the models' evaluation metric\n",
    "ax = sns.barplot(data=performance, \n",
    "                 x=performance.index, \n",
    "                 y=performance['smape'].values)\n",
    "\n",
    "ax.set_title('Model Evaluation')\n",
    "\n",
    "ax.set_ylabel('SMAPE')\n",
    "\n",
    "plt.tight_layout()"
   ]
  },
  {
   "cell_type": "markdown",
   "id": "287bd55e",
   "metadata": {
    "papermill": {
     "duration": 0.076745,
     "end_time": "2022-09-27T14:02:47.852082",
     "exception": false,
     "start_time": "2022-09-27T14:02:47.775337",
     "status": "completed"
    },
    "tags": []
   },
   "source": [
    "# Submission"
   ]
  },
  {
   "cell_type": "code",
   "execution_count": null,
   "id": "10456297",
   "metadata": {
    "papermill": {
     "duration": 0.106881,
     "end_time": "2022-09-27T14:02:48.034464",
     "exception": false,
     "start_time": "2022-09-27T14:02:47.927583",
     "status": "completed"
    },
    "tags": []
   },
   "outputs": [],
   "source": [
    "# Generate predictions\n",
    "submission_predictions = pipe_lr.predict(test_data)"
   ]
  },
  {
   "cell_type": "code",
   "execution_count": null,
   "id": "8473a467",
   "metadata": {
    "papermill": {
     "duration": 0.087982,
     "end_time": "2022-09-27T14:02:48.277569",
     "exception": false,
     "start_time": "2022-09-27T14:02:48.189587",
     "status": "completed"
    },
    "tags": []
   },
   "outputs": [],
   "source": [
    "# Create submission DataFrame\n",
    "submission = pd.DataFrame({'row_id': test_data.index, 'num_sold': submission_predictions.reshape(-1,)})"
   ]
  },
  {
   "cell_type": "code",
   "execution_count": null,
   "id": "9840f3dd",
   "metadata": {
    "papermill": {
     "duration": 0.120576,
     "end_time": "2022-09-27T14:02:48.474403",
     "exception": false,
     "start_time": "2022-09-27T14:02:48.353827",
     "status": "completed"
    },
    "tags": []
   },
   "outputs": [],
   "source": [
    "# Write CSV File\n",
    "#submission.to_csv('submission_{}.csv'.format(datetime.datetime.now().strftime('%Y_%m_%d_%H_%M')), index=False)"
   ]
  }
 ],
 "metadata": {
  "kernelspec": {
   "display_name": "Python 3 (ipykernel)",
   "language": "python",
   "name": "python3"
  },
  "language_info": {
   "codemirror_mode": {
    "name": "ipython",
    "version": 3
   },
   "file_extension": ".py",
   "mimetype": "text/x-python",
   "name": "python",
   "nbconvert_exporter": "python",
   "pygments_lexer": "ipython3",
   "version": "3.10.5"
  },
  "papermill": {
   "default_parameters": {},
   "duration": 455.906158,
   "end_time": "2022-09-27T14:02:49.474445",
   "environment_variables": {},
   "exception": null,
   "input_path": "__notebook__.ipynb",
   "output_path": "__notebook__.ipynb",
   "parameters": {},
   "start_time": "2022-09-27T13:55:13.568287",
   "version": "2.3.4"
  }
 },
 "nbformat": 4,
 "nbformat_minor": 5
}
