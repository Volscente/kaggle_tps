{
 "cells": [
  {
   "cell_type": "markdown",
   "id": "4277ebc2-b19d-4c4a-8f94-6a10cb1900fa",
   "metadata": {},
   "source": [
    "# California Housing Challenge\n",
    "\n",
    "The notebook is intended to predict the average house value upon the provided house features."
   ]
  },
  {
   "cell_type": "code",
   "execution_count": null,
   "id": "95bf4b4b-42f8-41fb-be84-56991f436fae",
   "metadata": {},
   "outputs": [],
   "source": [
    "# Import Standard Libraries\n",
    "import pandas as pd\n",
    "import numpy as np\n",
    "\n",
    "import matplotlib.pyplot as plt\n",
    "import seaborn as sns\n",
    "\n",
    "from sklearn.pipeline import Pipeline\n",
    "from sklearn.impute import SimpleImputer\n",
    "from sklearn.preprocessing import StandardScaler, OrdinalEncoder\n",
    "from sklearn.compose import ColumnTransformer\n",
    "from sklearn.model_selection import train_test_split\n",
    "from sklearn.linear_model import LinearRegression\n",
    "from sklearn.metrics import mean_squared_error\n",
    "\n",
    "from xgboost import XGBRegressor"
   ]
  },
  {
   "cell_type": "code",
   "execution_count": null,
   "id": "1dd5a675-e97f-445e-b5d4-64a2269c32a0",
   "metadata": {},
   "outputs": [],
   "source": [
    "# Define Seaborn theme parameters\n",
    "theme_parameters =  {\n",
    "    'axes.spines.right': False,\n",
    "    'axes.spines.top': False,\n",
    "    'grid.alpha':0.3,\n",
    "    'figure.figsize': (16, 6),\n",
    "    'font.family': 'Andale Mono',\n",
    "    'axes.titlesize': 24,\n",
    "    'figure.facecolor': '#E5E8E8',\n",
    "    'axes.facecolor': '#E5E8E8'\n",
    "}\n",
    "\n",
    "# Set the theme\n",
    "sns.set_theme(style='whitegrid',\n",
    "              palette=sns.color_palette('deep'), \n",
    "              rc=theme_parameters)"
   ]
  },
  {
   "cell_type": "markdown",
   "id": "d38cc464-c2a7-4605-b911-e404ef855a14",
   "metadata": {},
   "source": [
    "# Read Data"
   ]
  },
  {
   "cell_type": "code",
   "execution_count": null,
   "id": "587c0f38-45ad-4bdb-b23d-06c8092ab063",
   "metadata": {},
   "outputs": [],
   "source": [
    "# Read training data\n",
    "california_housing_train = pd.read_csv('./../../data/season_3_episode_1/california_housing_train.csv')"
   ]
  },
  {
   "cell_type": "code",
   "execution_count": null,
   "id": "44aa2a7c-0909-4412-9557-8ce0724925bc",
   "metadata": {},
   "outputs": [],
   "source": [
    "california_housing_train.head()"
   ]
  },
  {
   "cell_type": "code",
   "execution_count": null,
   "id": "6e889b85-fc20-445a-a13d-37f6aa92aca5",
   "metadata": {},
   "outputs": [],
   "source": [
    "california_housing_train.info()"
   ]
  },
  {
   "cell_type": "markdown",
   "id": "9b56ce8d-49ee-448b-b59d-30bb59eeedce",
   "metadata": {},
   "source": [
    "# Exploratory Data Analysis (EDA)"
   ]
  },
  {
   "cell_type": "markdown",
   "id": "d843a3eb-a04a-4a35-a79e-bb95fbbd4146",
   "metadata": {},
   "source": [
    "## Median Income Distribution"
   ]
  },
  {
   "cell_type": "code",
   "execution_count": null,
   "id": "acb4bff0-d155-4182-a9d1-4461f048493e",
   "metadata": {},
   "outputs": [],
   "source": [
    "# Plot the distribution of the column 'MedInc'\n",
    "ax = sns.histplot(data=california_housing_train, \n",
    "                  x='MedInc')\n",
    "\n",
    "ax.set_title('Median Income Distribution')\n",
    "\n",
    "plt.show()"
   ]
  },
  {
   "cell_type": "markdown",
   "id": "d2d1cc05-c966-4fae-92b6-f2a9feb5c1fb",
   "metadata": {},
   "source": [
    "The data have a binomial distribution."
   ]
  },
  {
   "cell_type": "markdown",
   "id": "038ab4b4-d9b5-49b6-89c9-adac83e0c0d9",
   "metadata": {
    "tags": []
   },
   "source": [
    "## Median House Value over Median Income\n",
    "\n",
    "Explore the relationship of the `MedHouseVal` with respect to the `MedInc`"
   ]
  },
  {
   "cell_type": "code",
   "execution_count": null,
   "id": "7026e623-29a0-4523-8f14-741c0d000ade",
   "metadata": {},
   "outputs": [],
   "source": [
    "# Plot a scatterl plot of `MedHouseVal` over the `MedInc`\n",
    "ax = sns.scatterplot(data=california_housing_train,\n",
    "                     x='MedInc',\n",
    "                     y='MedHouseVal')\n",
    "\n",
    "ax.set_ylabel('Median House Value', \n",
    "              fontweight='bold')\n",
    "\n",
    "ax.set_xlabel('Median Income', \n",
    "              fontweight='bold')\n",
    "\n",
    "ax.set_title('Median House Value over Median Income', \n",
    "             fontsize=14)\n",
    "\n",
    "plt.xticks(rotation=45)\n",
    "\n",
    "plt.show()"
   ]
  },
  {
   "cell_type": "markdown",
   "id": "5cf5b78b-ba33-4acd-bdc4-a92fb877a364",
   "metadata": {},
   "source": [
    "There is a positive correlation between the Median House Value and the Median Income. However the data regarding the Median House Value seems to be capped at '5'."
   ]
  },
  {
   "cell_type": "markdown",
   "id": "60b60b7f-c0aa-493e-b44f-7a2be63f11b0",
   "metadata": {},
   "source": [
    "## House Age"
   ]
  },
  {
   "cell_type": "code",
   "execution_count": null,
   "id": "4ac16a98-1ab1-49fe-bdd4-54d9037c5f26",
   "metadata": {},
   "outputs": [],
   "source": [
    "# Plot the distribution of the column 'MedInc'\n",
    "ax = sns.histplot(data=california_housing_train, \n",
    "                  x='HouseAge', \n",
    "                  bins=california_housing_train['HouseAge'].nunique())\n",
    "\n",
    "ax.set_title('House Age Distribution')\n",
    "\n",
    "plt.show()"
   ]
  },
  {
   "cell_type": "markdown",
   "id": "e98d392b-6010-4760-a78a-d6c65f2f1c5c",
   "metadata": {},
   "source": [
    "It seems that there are not houses older than 52 years. Since there are 3 major trends (17, 25 and 52 years old), it could be reasonable to define a categorical variable called `HouseAgeClasnuniqueith the following values:\n",
    "- young\n",
    "- middle\n",
    "- old"
   ]
  },
  {
   "cell_type": "markdown",
   "id": "ec04851e-ea14-4062-8b68-53fe9eafbc90",
   "metadata": {},
   "source": [
    "### House Age Class Definition"
   ]
  },
  {
   "cell_type": "code",
   "execution_count": null,
   "id": "4fb12179-8885-4acb-af3d-f47e2e33f5cd",
   "metadata": {},
   "outputs": [],
   "source": [
    "# Compute precisely the 3 big peaks\n",
    "california_housing_train['HouseAge'].value_counts().head(3)"
   ]
  },
  {
   "cell_type": "code",
   "execution_count": null,
   "id": "376819c9-7442-4b2b-b78b-96b09efabc24",
   "metadata": {},
   "outputs": [],
   "source": [
    "# Define the conditions for the `HouseAgeClass` categories\n",
    "house_age_class_conditions = {\n",
    "    'young': california_housing_train['HouseAge'] <= 17,\n",
    "    'middle': (california_housing_train['HouseAge'] > 17) &  (california_housing_train['HouseAge'] < 52),\n",
    "    'old': california_housing_train['HouseAge'] == 52\n",
    "}"
   ]
  },
  {
   "cell_type": "code",
   "execution_count": null,
   "id": "d71ab430-9a22-4599-bd9d-c804f37f16ad",
   "metadata": {},
   "outputs": [],
   "source": [
    "# Define a categorical variable called `HouseAgeClass`\n",
    "california_housing_train['HouseAgeClass'] = np.select(house_age_class_conditions.values(), \n",
    "                                                      house_age_class_conditions.keys())"
   ]
  },
  {
   "cell_type": "markdown",
   "id": "5a83d9db-32aa-4b5f-93cb-71fa242b298b",
   "metadata": {},
   "source": [
    "## Median House Value over Median Income per House Age Class\n",
    "\n",
    "Explore the relationship of the `MedHouseVal` with respect to the `MedInc` group by `HouseAgeClass`"
   ]
  },
  {
   "cell_type": "code",
   "execution_count": null,
   "id": "59040d90-f62c-4b02-9f87-00b74e068963",
   "metadata": {},
   "outputs": [],
   "source": [
    "# Plot a scatterl plot of `MedHouseVal` over the `MedInc`\n",
    "ax = sns.scatterplot(data=california_housing_train,\n",
    "                     x='MedInc',\n",
    "                     y='MedHouseVal', \n",
    "                     hue='HouseAgeClass')\n",
    "\n",
    "ax.set_ylabel('Median House Value', \n",
    "              fontweight='bold')\n",
    "\n",
    "ax.set_xlabel('Median Income', \n",
    "              fontweight='bold')\n",
    "\n",
    "ax.set_title('Median House Value over Median Income', \n",
    "             fontsize=14)\n",
    "\n",
    "plt.xticks(rotation=45)\n",
    "\n",
    "plt.show()"
   ]
  },
  {
   "cell_type": "markdown",
   "id": "94b44a75-d506-44bf-b697-b2ec60b7ef19",
   "metadata": {},
   "source": [
    "# Data Preparation"
   ]
  },
  {
   "cell_type": "markdown",
   "id": "bfa17770-b5bc-4573-aaf7-66bed9c6278f",
   "metadata": {},
   "source": [
    "## Data Normalisation\n",
    "\n",
    "No data needs to be normalised."
   ]
  },
  {
   "cell_type": "markdown",
   "id": "1b5fe9bf-05ab-4f25-8bf5-d47ced0c0d22",
   "metadata": {},
   "source": [
    "## Feature Engineering\n",
    "\n",
    "The following features have already been engineered:\n",
    "- HouseAgeClass"
   ]
  },
  {
   "cell_type": "markdown",
   "id": "4d1af235-a580-4c35-8d02-8194bdc9884c",
   "metadata": {},
   "source": [
    "## Features and Label Definition"
   ]
  },
  {
   "cell_type": "code",
   "execution_count": null,
   "id": "e48184ec-95f9-4542-8113-627002ffe65c",
   "metadata": {},
   "outputs": [],
   "source": [
    "# Define the features and the label\n",
    "numerical_features = ['MedInc', \n",
    "                      'AveRooms', \n",
    "                      'AveBedrms', \n",
    "                      'Population', \n",
    "                      'AveOccup']\n",
    "\n",
    "categorical_features = ['HouseAgeClass']\n",
    "\n",
    "label = ['MedHouseVal']"
   ]
  },
  {
   "cell_type": "markdown",
   "id": "f7ba76d4-2781-41ad-aac6-623c7a43c419",
   "metadata": {},
   "source": [
    "## Data Pipeline"
   ]
  },
  {
   "cell_type": "code",
   "execution_count": null,
   "id": "7f4991fd-5e67-415f-bb0b-0583af03ae18",
   "metadata": {},
   "outputs": [],
   "source": [
    "# Define a pipeline for the numerical features\n",
    "numerical_features_pipeline = Pipeline(steps=[\n",
    "    ('numerical_imputer', SimpleImputer()),\n",
    "    ('numerical_scaler', StandardScaler())\n",
    "])"
   ]
  },
  {
   "cell_type": "code",
   "execution_count": null,
   "id": "79be3935-d72c-4ba6-a628-8de061ce64f7",
   "metadata": {},
   "outputs": [],
   "source": [
    "# Define a pipeline for the categorical features\n",
    "categorical_features_pipeline = Pipeline(steps=[\n",
    "    ('categorical_imputer', SimpleImputer(strategy='most_frequent')),\n",
    "    ('categorical_ordinal_encoder', OrdinalEncoder())\n",
    "])"
   ]
  },
  {
   "cell_type": "code",
   "execution_count": null,
   "id": "08d76384-6816-438d-b074-c44f3ba38fe0",
   "metadata": {},
   "outputs": [],
   "source": [
    "# Bundle data preprocessing steps\n",
    "data_preprocessor = ColumnTransformer(\n",
    "    transformers=[\n",
    "        ('numerical_preprocessing', numerical_features_pipeline, numerical_features),\n",
    "        ('categorical_preprocessing', categorical_features_pipeline, categorical_features),\n",
    "    ])"
   ]
  },
  {
   "cell_type": "markdown",
   "id": "70c5676c-0b27-4cb0-abcb-ca47ab468d66",
   "metadata": {},
   "source": [
    "# Train & Test Split"
   ]
  },
  {
   "cell_type": "code",
   "execution_count": null,
   "id": "40c44d37-0baf-4fa2-84c0-7b6878f71a0e",
   "metadata": {},
   "outputs": [],
   "source": [
    "# Define x and y for training set\n",
    "X = california_housing_train[numerical_features + categorical_features]\n",
    "y = california_housing_train[label]"
   ]
  },
  {
   "cell_type": "code",
   "execution_count": null,
   "id": "1567aac6-c20b-4ad9-a339-baf4fe20be16",
   "metadata": {},
   "outputs": [],
   "source": [
    "# Split training data into train and validation sets\n",
    "X_train, X_test, y_train, y_test = train_test_split(X, y, test_size=0.33, random_state=42)"
   ]
  },
  {
   "cell_type": "markdown",
   "id": "ab0c2a9e-a697-45fc-b57c-afcd660b7b66",
   "metadata": {},
   "source": [
    "# Model Training"
   ]
  },
  {
   "cell_type": "code",
   "execution_count": null,
   "id": "acc829a9-1863-4fe0-ba7c-ec8428fddad8",
   "metadata": {},
   "outputs": [],
   "source": [
    "# Define the used metrics\n",
    "models_metrics = ['RMSE']"
   ]
  },
  {
   "cell_type": "code",
   "execution_count": null,
   "id": "050c0b9a-d983-4155-92be-aef656a93e75",
   "metadata": {},
   "outputs": [],
   "source": [
    "# Initialize DataFrame of model performance\n",
    "models_performance = pd.DataFrame(columns=models_metrics)"
   ]
  },
  {
   "cell_type": "markdown",
   "id": "4bd074b5-f371-43cd-9ee0-cbd9eb02d501",
   "metadata": {},
   "source": [
    "## Linear Regression"
   ]
  },
  {
   "cell_type": "code",
   "execution_count": null,
   "id": "a50cac94-f944-4be8-b8cb-67d55170ef76",
   "metadata": {},
   "outputs": [],
   "source": [
    "%%time\n",
    "\n",
    "# Define the model\n",
    "model_lr = LinearRegression()\n",
    "\n",
    "# Define the pipeline\n",
    "pipe_lr = Pipeline([\n",
    "    ('data_preprocessing', data_preprocessor),\n",
    "    ('linear_regression', model_lr)\n",
    "])\n",
    "\n",
    "# Train the model\n",
    "pipe_lr.fit(X_train, \n",
    "            y_train)\n",
    "\n",
    "# Get Compute predictions on the validation set\n",
    "predictions_lr = pipe_lr.predict(X_test)\n",
    "\n",
    "# Model evaluation\n",
    "rmse_lr = round(mean_squared_error(y_test, predictions_lr), 2)\n",
    "\n",
    "print('RMSE: {}'.format(rmse_lr))\n",
    "print('\\n')"
   ]
  },
  {
   "cell_type": "code",
   "execution_count": null,
   "id": "8e211036-425e-4ee0-bba3-3895f3fee383",
   "metadata": {},
   "outputs": [],
   "source": [
    "# Update 'models_performance' DataFrame\n",
    "models_performance.loc['Linear Regression'] = [rmse_lr]"
   ]
  },
  {
   "cell_type": "markdown",
   "id": "2c4c0f87-165d-471f-80c2-fdcb69fedeee",
   "metadata": {},
   "source": [
    "## XGBoost"
   ]
  },
  {
   "cell_type": "code",
   "execution_count": null,
   "id": "990f24e9-c363-4d51-bb44-e5cd21f7eab1",
   "metadata": {},
   "outputs": [],
   "source": [
    "%%time\n",
    "\n",
    "# Define the model\n",
    "model_xgb = XGBRegressor(n_estimators=500)\n",
    "\n",
    "# Define the pipeline\n",
    "pipe_xgb = Pipeline([\n",
    "    ('data_preprocessing', data_preprocessor),\n",
    "    ('xgboost', model_xgb)\n",
    "])\n",
    "\n",
    "# Train the model\n",
    "pipe_xgb.fit(X_train,\n",
    "             y_train,\n",
    "             xgboost__verbose=False)\n",
    "\n",
    "# Compute the predictions on the validation set\n",
    "predictions_xgb = pipe_xgb.predict(X_test)\n",
    "\n",
    "# Model evaluation\n",
    "rmse_xgb = round(mean_squared_error(y_test, predictions_xgb), 2)\n",
    "\n",
    "print('RMSE: {}'.format(rmse_xgb))\n",
    "print('\\n')"
   ]
  },
  {
   "cell_type": "code",
   "execution_count": null,
   "id": "d552d277-5780-4822-b43c-70a1fb739e92",
   "metadata": {},
   "outputs": [],
   "source": [
    "# Update 'models_performance' DataFrame\n",
    "models_performance.loc['XGBoost'] = [rmse_xgb]"
   ]
  },
  {
   "cell_type": "code",
   "execution_count": null,
   "id": "96dbd0f3-6a51-470b-b199-f4710ecb2e0f",
   "metadata": {},
   "outputs": [],
   "source": [
    "#TODO XGBoost - K-Fold Cross-Validation"
   ]
  },
  {
   "cell_type": "code",
   "execution_count": null,
   "id": "b620dcf1-6076-427c-b6f4-4a510c9106ac",
   "metadata": {},
   "outputs": [],
   "source": [
    "#TODO PyTorch Neural Network"
   ]
  }
 ],
 "metadata": {
  "kernelspec": {
   "display_name": "Python 3 (ipykernel)",
   "language": "python",
   "name": "python3"
  },
  "language_info": {
   "codemirror_mode": {
    "name": "ipython",
    "version": 3
   },
   "file_extension": ".py",
   "mimetype": "text/x-python",
   "name": "python",
   "nbconvert_exporter": "python",
   "pygments_lexer": "ipython3",
   "version": "3.10.5"
  }
 },
 "nbformat": 4,
 "nbformat_minor": 5
}
