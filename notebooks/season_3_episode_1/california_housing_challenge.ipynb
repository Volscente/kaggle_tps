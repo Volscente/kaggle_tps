{
 "cells": [
  {
   "cell_type": "markdown",
   "id": "4277ebc2-b19d-4c4a-8f94-6a10cb1900fa",
   "metadata": {},
   "source": [
    "# California Housing Challenge\n",
    "\n",
    "The notebook is intended to predict the average house value upon the provided house features."
   ]
  },
  {
   "cell_type": "code",
   "execution_count": null,
   "id": "95bf4b4b-42f8-41fb-be84-56991f436fae",
   "metadata": {},
   "outputs": [],
   "source": [
    "# Import Standard Libraries\n",
    "import pandas as pd\n",
    "\n",
    "import matplotlib.pyplot as plt\n",
    "import seaborn as sns"
   ]
  },
  {
   "cell_type": "code",
   "execution_count": null,
   "id": "1dd5a675-e97f-445e-b5d4-64a2269c32a0",
   "metadata": {},
   "outputs": [],
   "source": [
    "# Define Seaborn theme parameters\n",
    "theme_parameters =  {\n",
    "    'axes.spines.right': False,\n",
    "    'axes.spines.top': False,\n",
    "    'grid.alpha':0.3,\n",
    "    'figure.figsize': (16, 6),\n",
    "    'font.family': 'Andale Mono',\n",
    "    'axes.titlesize': 24,\n",
    "    'figure.facecolor': '#E5E8E8',\n",
    "    'axes.facecolor': '#E5E8E8'\n",
    "}\n",
    "\n",
    "# Set the theme\n",
    "sns.set_theme(style='whitegrid',\n",
    "              palette=sns.color_palette('deep'), \n",
    "              rc=theme_parameters)"
   ]
  },
  {
   "cell_type": "markdown",
   "id": "d38cc464-c2a7-4605-b911-e404ef855a14",
   "metadata": {},
   "source": [
    "# Read Data"
   ]
  },
  {
   "cell_type": "code",
   "execution_count": null,
   "id": "587c0f38-45ad-4bdb-b23d-06c8092ab063",
   "metadata": {},
   "outputs": [],
   "source": [
    "# Read training data\n",
    "california_housing_train = pd.read_csv('./../../data/season_3_episode_1/california_housing_train.csv')"
   ]
  },
  {
   "cell_type": "code",
   "execution_count": null,
   "id": "44aa2a7c-0909-4412-9557-8ce0724925bc",
   "metadata": {},
   "outputs": [],
   "source": [
    "california_housing_train.head()"
   ]
  },
  {
   "cell_type": "code",
   "execution_count": null,
   "id": "6e889b85-fc20-445a-a13d-37f6aa92aca5",
   "metadata": {},
   "outputs": [],
   "source": [
    "california_housing_train.info()"
   ]
  },
  {
   "cell_type": "markdown",
   "id": "9b56ce8d-49ee-448b-b59d-30bb59eeedce",
   "metadata": {},
   "source": [
    "# Exploratory Data Analysis (EDA)"
   ]
  },
  {
   "cell_type": "markdown",
   "id": "d843a3eb-a04a-4a35-a79e-bb95fbbd4146",
   "metadata": {},
   "source": [
    "## Median Income Distribution"
   ]
  },
  {
   "cell_type": "code",
   "execution_count": null,
   "id": "acb4bff0-d155-4182-a9d1-4461f048493e",
   "metadata": {},
   "outputs": [],
   "source": [
    "# Plot the distribution of the column 'MedInc'\n",
    "ax = sns.histplot(data=california_housing_train, \n",
    "                  x='MedInc')\n",
    "\n",
    "ax.set_title('Median Income Distribution')\n",
    "\n",
    "plt.show()"
   ]
  },
  {
   "cell_type": "markdown",
   "id": "d2d1cc05-c966-4fae-92b6-f2a9feb5c1fb",
   "metadata": {},
   "source": [
    "The data have a binomial distribution."
   ]
  },
  {
   "cell_type": "markdown",
   "id": "038ab4b4-d9b5-49b6-89c9-adac83e0c0d9",
   "metadata": {
    "tags": []
   },
   "source": [
    "## Median House Value over Median Income\n",
    "\n",
    "Explore the relationship of the `MedHouseVal` with respect to the `MedInc`"
   ]
  },
  {
   "cell_type": "code",
   "execution_count": null,
   "id": "7026e623-29a0-4523-8f14-741c0d000ade",
   "metadata": {},
   "outputs": [],
   "source": [
    "# Plot a scatterl plot of `MedHouseVal` over the `MedInc`\n",
    "ax = sns.scatterplot(data=california_housing_train,\n",
    "                     x='MedInc',\n",
    "                     y='MedHouseVal')\n",
    "\n",
    "ax.set_ylabel('Median House Value', \n",
    "              fontweight='bold')\n",
    "\n",
    "ax.set_xlabel('Median Income', \n",
    "              fontweight='bold')\n",
    "\n",
    "ax.set_title('Median House Value over Median Income', \n",
    "             fontsize=14)\n",
    "\n",
    "plt.xticks(rotation=45)\n",
    "\n",
    "plt.show()"
   ]
  },
  {
   "cell_type": "markdown",
   "id": "5cf5b78b-ba33-4acd-bdc4-a92fb877a364",
   "metadata": {},
   "source": [
    "There is a positive correlation between the Median House Value and the Median Income. However the data regarding the Median House Value seems to be capped at '5'."
   ]
  },
  {
   "cell_type": "markdown",
   "id": "60b60b7f-c0aa-493e-b44f-7a2be63f11b0",
   "metadata": {},
   "source": [
    "## House Age"
   ]
  },
  {
   "cell_type": "code",
   "execution_count": null,
   "id": "4ac16a98-1ab1-49fe-bdd4-54d9037c5f26",
   "metadata": {},
   "outputs": [],
   "source": [
    "# Plot the distribution of the column 'MedInc'\n",
    "ax = sns.histplot(data=california_housing_train, \n",
    "                  x='HouseAge')\n",
    "\n",
    "ax.set_title('House Age Distribution')\n",
    "\n",
    "plt.show()"
   ]
  },
  {
   "cell_type": "markdown",
   "id": "e98d392b-6010-4760-a78a-d6c65f2f1c5c",
   "metadata": {},
   "source": [
    "It seems that there are not houses older than 52 years. Since there are 3 major trends (18, 35 and 52 years old), it could be reasonable to define a categorical variable called `HouseAgeClass` with the following values:\n",
    "- young\n",
    "- middle\n",
    "- old"
   ]
  },
  {
   "cell_type": "code",
   "execution_count": null,
   "id": "d71ab430-9a22-4599-bd9d-c804f37f16ad",
   "metadata": {},
   "outputs": [],
   "source": [
    "# Define a categorical variable called `HouseAgeClass`\n",
    "california_housing_train['HouseAgeClass'] "
   ]
  },
  {
   "cell_type": "code",
   "execution_count": null,
   "id": "47a451ba-9e34-4062-a8c1-ac5d82e1e746",
   "metadata": {},
   "outputs": [],
   "source": []
  }
 ],
 "metadata": {
  "kernelspec": {
   "display_name": "Python 3 (ipykernel)",
   "language": "python",
   "name": "python3"
  },
  "language_info": {
   "codemirror_mode": {
    "name": "ipython",
    "version": 3
   },
   "file_extension": ".py",
   "mimetype": "text/x-python",
   "name": "python",
   "nbconvert_exporter": "python",
   "pygments_lexer": "ipython3",
   "version": "3.10.5"
  }
 },
 "nbformat": 4,
 "nbformat_minor": 5
}
