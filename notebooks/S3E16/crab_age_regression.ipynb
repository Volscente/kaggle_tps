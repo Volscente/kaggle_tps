{
 "cells": [
  {
   "cell_type": "markdown",
   "id": "11bf6706-11cc-4647-b572-fcfa992bdf13",
   "metadata": {},
   "source": [
    "# Crab Age Regression\n",
    "\n",
    "**Context:** For a commercial crab farmer knowing the right age of the crab helps them decide if and when to harvest the crabs. Beyond a certain age, there is negligible growth in crab's physical characteristics and hence, it is important to time the harvesting to reduce cost and increase profit.\n",
    "\n",
    "<br>\n",
    "\n",
    "**Goal:** The dataset is used to estimate the age of the crab based on the physical attributes. \n",
    "\n",
    "<br>\n",
    "\n",
    "**Feature Description:**\n",
    "- Sex - Gender of the Crab (Male, Female and Indeterminate)\n",
    "- Length - Length of the Crab (Feet)\n",
    "- Diameter - Diameter of the Crab (Feet)\n",
    "- Height - Height of the Crab (Feet)\n",
    "- Weight - Weight of the Crab (Ounces)\n",
    "- Shucked Weight - Weight without the shell (Ounces)\n",
    "- Viscera Weight - It is weight that wraps around your abdominal organs deep inside body (Ounces)\n",
    "- Shell Weight - Weight of the Shell (Ounces)\n",
    "- Age - Age of the Crab (Months)\n",
    "\n",
    "<br>\n",
    "\n",
    "**Resources:**\n",
    "- [Kaggle Challenge](https://www.kaggle.com/competitions/playground-series-s3e16/data?select=train.csv)\n",
    "- [Original Dataset](https://www.kaggle.com/datasets/sidhus/crab-age-prediction)"
   ]
  }
 ],
 "metadata": {
  "kernelspec": {
   "display_name": "Python 3 (ipykernel)",
   "language": "python",
   "name": "python3"
  },
  "language_info": {
   "codemirror_mode": {
    "name": "ipython",
    "version": 3
   },
   "file_extension": ".py",
   "mimetype": "text/x-python",
   "name": "python",
   "nbconvert_exporter": "python",
   "pygments_lexer": "ipython3",
   "version": "3.10.5"
  }
 },
 "nbformat": 4,
 "nbformat_minor": 5
}
