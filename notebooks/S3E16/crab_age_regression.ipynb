{
 "cells": [
  {
   "cell_type": "markdown",
   "id": "11bf6706-11cc-4647-b572-fcfa992bdf13",
   "metadata": {},
   "source": [
    "# Crab Age Regression\n",
    "\n",
    "**Context:** For a commercial crab farmer knowing the right age of the crab helps them decide if and when to harvest the crabs. Beyond a certain age, there is negligible growth in crab's physical characteristics and hence, it is important to time the harvesting to reduce cost and increase profit.\n",
    "\n",
    "<br>\n",
    "\n",
    "**Goal:** The dataset is used to estimate the age of the crab based on the physical attributes. \n",
    "\n",
    "<br>\n",
    "\n",
    "**Feature Description:**\n",
    "- Sex - Gender of the Crab (Male, Female and Indeterminate)\n",
    "- Length - Length of the Crab (Feet)\n",
    "- Diameter - Diameter of the Crab (Feet)\n",
    "- Height - Height of the Crab (Feet)\n",
    "- Weight - Weight of the Crab (Ounces)\n",
    "- Shucked Weight - Weight without the shell (Ounces)\n",
    "- Viscera Weight - It is weight that wraps around your abdominal organs deep inside body (Ounces)\n",
    "- Shell Weight - Weight of the Shell (Ounces)\n",
    "- Age - Age of the Crab (Months)\n",
    "\n",
    "<br>\n",
    "\n",
    "**Resources:**\n",
    "- [Kaggle Challenge](https://www.kaggle.com/competitions/playground-series-s3e16/data?select=train.csv)\n",
    "- [Original Dataset](https://www.kaggle.com/datasets/sidhus/crab-age-prediction)"
   ]
  },
  {
   "cell_type": "code",
   "execution_count": 1,
   "id": "abb8644c-3c83-4fe7-9967-e0c3c6f30d1d",
   "metadata": {
    "tags": []
   },
   "outputs": [],
   "source": [
    "# Import Standard Libraries\n",
    "import os\n",
    "\n",
    "import pandas as pd\n",
    "import numpy as np\n",
    "import matplotlib.pyplot as plt\n",
    "import seaborn as sns\n",
    "\n",
    "import mlflow\n",
    "\n",
    "from pathlib import Path\n",
    "from colorama import Style, Fore\n",
    "\n",
    "from sklearn.impute import SimpleImputer\n",
    "from sklearn.compose import ColumnTransformer\n",
    "from sklearn.pipeline import Pipeline\n",
    "from sklearn.preprocessing import OneHotEncoder, FunctionTransformer, StandardScaler, MinMaxScaler\n",
    "from sklearn.linear_model import LinearRegression\n",
    "from sklearn.base import BaseEstimator, TransformerMixin\n",
    "from sklearn.model_selection import train_test_split, LearningCurveDisplay, \\\n",
    "                                    learning_curve, ShuffleSplit, GridSearchCV, \\\n",
    "                                    KFold\n",
    "\n",
    "from sklearn.metrics import mean_squared_error, mean_absolute_error, \\\n",
    "                            mean_absolute_percentage_error, r2_score\n",
    "from sklearn.ensemble import RandomForestRegressor\n",
    "\n",
    "from scipy import stats\n",
    "\n",
    "from xgboost import XGBRegressor"
   ]
  },
  {
   "cell_type": "code",
   "execution_count": 2,
   "id": "bd858a53-e89b-4d35-a2f7-33771f6a4cbb",
   "metadata": {
    "tags": []
   },
   "outputs": [],
   "source": [
    "# Define Seaborn theme parameters\n",
    "theme_parameters =  {\n",
    "    'axes.spines.right': False,\n",
    "    'axes.spines.top': False,\n",
    "    'grid.alpha':0.3,\n",
    "    'figure.figsize': (16, 6),\n",
    "    'font.family': 'Andale Mono',\n",
    "    'axes.titlesize': 24,\n",
    "    'figure.facecolor': '#E5E8E8',\n",
    "    'axes.facecolor': '#E5E8E8'\n",
    "}\n",
    "\n",
    "# Set the theme\n",
    "sns.set_theme(style='whitegrid',\n",
    "              palette=sns.color_palette('deep'), \n",
    "              rc=theme_parameters)"
   ]
  },
  {
   "cell_type": "code",
   "execution_count": 3,
   "id": "a29a8cdb-09fc-4e07-bf57-b7c261995506",
   "metadata": {
    "tags": []
   },
   "outputs": [],
   "source": [
    "# Define Colors\n",
    "black = Style.BRIGHT + Fore.BLACK\n",
    "magenta = Style.BRIGHT + Fore.MAGENTA\n",
    "red = Style.BRIGHT + Fore.RED\n",
    "blue = Style.BRIGHT + Fore.BLUE\n",
    "reset_colors = Style.RESET_ALL"
   ]
  },
  {
   "cell_type": "markdown",
   "id": "e27e3635-1d97-4bb3-8c88-3d9212d7b53e",
   "metadata": {},
   "source": [
    "# Read Data"
   ]
  },
  {
   "cell_type": "code",
   "execution_count": null,
   "id": "f1cdb782-389f-4e11-8e1c-bfc08f875357",
   "metadata": {},
   "outputs": [],
   "source": []
  }
 ],
 "metadata": {
  "kernelspec": {
   "display_name": "Python 3 (ipykernel)",
   "language": "python",
   "name": "python3"
  },
  "language_info": {
   "codemirror_mode": {
    "name": "ipython",
    "version": 3
   },
   "file_extension": ".py",
   "mimetype": "text/x-python",
   "name": "python",
   "nbconvert_exporter": "python",
   "pygments_lexer": "ipython3",
   "version": "3.10.5"
  }
 },
 "nbformat": 4,
 "nbformat_minor": 5
}
