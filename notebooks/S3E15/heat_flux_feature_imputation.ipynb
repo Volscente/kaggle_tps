{
 "cells": [
  {
   "cell_type": "markdown",
   "id": "1038634f-7b79-4c01-9ffe-9b5acf9c369c",
   "metadata": {},
   "source": [
    "# Heat Flux Feature Imputation\n",
    "\n",
    "**Context**: This dataset was prepared for the journal article entitled _\"On the prediction of critical heat flux using a physics-informed machine learning-aided framework\"_ (doi: 10.1016/j.applthermaleng.2019.114540). The dataset contains processed and compiled records of experimental critical heat flux and boundary conditions used for the work presented in the article.\n",
    "\n",
    "**Goal**: Through the provided features impute the `x_e_out [-]`.\n",
    "\n",
    "**Feature Description**:\n",
    "- Geometry[-]: geometry of the heat source\n",
    "- Pressure [Mpa]: Pressure inside the boiler\n",
    "- Length [mm]: the heated length of the heat source\n",
    "- Dh [mm]: channel heated diameter\n",
    "- De [mm]: channel equivalent (or hydraulic) diameter\n",
    "- chf_exp: Experimental critical heat flux [MW/m2]\n",
    "- mass_flux [kg/m2 s]: In physics and engineering, mass flux is the rate of mass flow\n",
    "- x_e [-]: loca/exit equilibrium (or thermodynamic) quality\n",
    "\n",
    "**Resources**:\n",
    "- [Kaggle Challenge](https://www.kaggle.com/competitions/playground-series-s3e15/overview)\n",
    "- [Dataset](https://www.kaggle.com/datasets/saurabhshahane/predicting-heat-flux)"
   ]
  },
  {
   "cell_type": "code",
   "execution_count": 1,
   "id": "b4ab77f9-5b0d-452c-9240-bbfce22090f6",
   "metadata": {
    "tags": []
   },
   "outputs": [],
   "source": [
    "# Import Standard Libraries\n",
    "import os\n",
    "\n",
    "import pandas as pd\n",
    "import numpy as np\n",
    "import matplotlib.pyplot as plt\n",
    "import seaborn as sns\n",
    "\n",
    "import mlflow\n",
    "\n",
    "from pathlib import Path\n",
    "from colorama import Style, Fore"
   ]
  },
  {
   "cell_type": "code",
   "execution_count": 2,
   "id": "d0255564-cf23-4092-a659-5159c4ced3c3",
   "metadata": {
    "tags": []
   },
   "outputs": [],
   "source": [
    "# Define Seaborn theme parameters\n",
    "theme_parameters =  {\n",
    "    'axes.spines.right': False,\n",
    "    'axes.spines.top': False,\n",
    "    'grid.alpha':0.3,\n",
    "    'figure.figsize': (16, 6),\n",
    "    'font.family': 'Andale Mono',\n",
    "    'axes.titlesize': 24,\n",
    "    'figure.facecolor': '#E5E8E8',\n",
    "    'axes.facecolor': '#E5E8E8'\n",
    "}\n",
    "\n",
    "# Set the theme\n",
    "sns.set_theme(style='whitegrid',\n",
    "              palette=sns.color_palette('deep'), \n",
    "              rc=theme_parameters)"
   ]
  },
  {
   "cell_type": "code",
   "execution_count": 3,
   "id": "261e5db3-54d2-417c-9678-14aa6b05fbb1",
   "metadata": {
    "tags": []
   },
   "outputs": [],
   "source": [
    "# Define Colors\n",
    "black = Style.BRIGHT + Fore.BLACK\n",
    "magenta = Style.BRIGHT + Fore.MAGENTA\n",
    "red = Style.BRIGHT + Fore.RED\n",
    "blue = Style.BRIGHT + Fore.BLUE\n",
    "reset_colors = Style.RESET_ALL"
   ]
  },
  {
   "cell_type": "markdown",
   "id": "7a093efd-89f3-4d45-8025-5127b91e250d",
   "metadata": {},
   "source": [
    "# Read Data"
   ]
  },
  {
   "cell_type": "code",
   "execution_count": 6,
   "id": "ed85499d-c7ef-4d11-a575-37b6b45f94c3",
   "metadata": {
    "tags": []
   },
   "outputs": [],
   "source": [
    "# Switch flag for Kaggle Cloud\n",
    "kaggle = False\n",
    "\n",
    "# Switch flag for including original dataset\n",
    "include_original_data = True"
   ]
  },
  {
   "cell_type": "code",
   "execution_count": 8,
   "id": "9fa63b71-0928-4577-9850-6789a1cf7144",
   "metadata": {
    "tags": []
   },
   "outputs": [],
   "source": [
    "# Read training data\n",
    "if kaggle:\n",
    "    \n",
    "    # Read data from Kaggle FS\n",
    "    data = pd.read_csv('/kaggle/input/playground-series-s3e15/data.csv')\n",
    "    original_data = pd.read_csv('/kaggle/input/originacsv/heat_flux_feature_imputation_original.csv')\n",
    "    \n",
    "else:\n",
    "    \n",
    "    # Define local data file paths\n",
    "    data_file_path = Path(os.path.abspath('')).parents[1] / 'data' / 'S3E15' / 'heat_flux_feature_imputation_data.csv'\n",
    "    original_data_file_path = Path(os.path.abspath('')).parents[1] / 'data' / 'S3E15' / 'heat_flux_feature_imputation_original.csv'\n",
    "   \n",
    "    data = pd.read_csv(data_file_path)\n",
    "    original_data = pd.read_csv(original_data_file_path)"
   ]
  },
  {
   "cell_type": "code",
   "execution_count": 9,
   "id": "9aadcbae-f7a5-4e30-876f-363d58e840c6",
   "metadata": {
    "tags": []
   },
   "outputs": [
    {
     "data": {
      "text/html": [
       "<div>\n",
       "<style scoped>\n",
       "    .dataframe tbody tr th:only-of-type {\n",
       "        vertical-align: middle;\n",
       "    }\n",
       "\n",
       "    .dataframe tbody tr th {\n",
       "        vertical-align: top;\n",
       "    }\n",
       "\n",
       "    .dataframe thead th {\n",
       "        text-align: right;\n",
       "    }\n",
       "</style>\n",
       "<table border=\"1\" class=\"dataframe\">\n",
       "  <thead>\n",
       "    <tr style=\"text-align: right;\">\n",
       "      <th></th>\n",
       "      <th>id</th>\n",
       "      <th>author</th>\n",
       "      <th>geometry</th>\n",
       "      <th>pressure [MPa]</th>\n",
       "      <th>mass_flux [kg/m2-s]</th>\n",
       "      <th>x_e_out [-]</th>\n",
       "      <th>D_e [mm]</th>\n",
       "      <th>D_h [mm]</th>\n",
       "      <th>length [mm]</th>\n",
       "      <th>chf_exp [MW/m2]</th>\n",
       "    </tr>\n",
       "  </thead>\n",
       "  <tbody>\n",
       "    <tr>\n",
       "      <th>0</th>\n",
       "      <td>0</td>\n",
       "      <td>Thompson</td>\n",
       "      <td>tube</td>\n",
       "      <td>7.00</td>\n",
       "      <td>3770.0</td>\n",
       "      <td>0.1754</td>\n",
       "      <td>NaN</td>\n",
       "      <td>10.8</td>\n",
       "      <td>432.0</td>\n",
       "      <td>3.6</td>\n",
       "    </tr>\n",
       "    <tr>\n",
       "      <th>1</th>\n",
       "      <td>1</td>\n",
       "      <td>Thompson</td>\n",
       "      <td>tube</td>\n",
       "      <td>NaN</td>\n",
       "      <td>6049.0</td>\n",
       "      <td>-0.0416</td>\n",
       "      <td>10.3</td>\n",
       "      <td>10.3</td>\n",
       "      <td>762.0</td>\n",
       "      <td>6.2</td>\n",
       "    </tr>\n",
       "    <tr>\n",
       "      <th>2</th>\n",
       "      <td>2</td>\n",
       "      <td>Thompson</td>\n",
       "      <td>NaN</td>\n",
       "      <td>13.79</td>\n",
       "      <td>2034.0</td>\n",
       "      <td>0.0335</td>\n",
       "      <td>7.7</td>\n",
       "      <td>7.7</td>\n",
       "      <td>457.0</td>\n",
       "      <td>2.5</td>\n",
       "    </tr>\n",
       "    <tr>\n",
       "      <th>3</th>\n",
       "      <td>3</td>\n",
       "      <td>Beus</td>\n",
       "      <td>annulus</td>\n",
       "      <td>13.79</td>\n",
       "      <td>3679.0</td>\n",
       "      <td>-0.0279</td>\n",
       "      <td>5.6</td>\n",
       "      <td>15.2</td>\n",
       "      <td>2134.0</td>\n",
       "      <td>3.0</td>\n",
       "    </tr>\n",
       "    <tr>\n",
       "      <th>4</th>\n",
       "      <td>4</td>\n",
       "      <td>NaN</td>\n",
       "      <td>tube</td>\n",
       "      <td>13.79</td>\n",
       "      <td>686.0</td>\n",
       "      <td>NaN</td>\n",
       "      <td>11.1</td>\n",
       "      <td>11.1</td>\n",
       "      <td>457.0</td>\n",
       "      <td>2.8</td>\n",
       "    </tr>\n",
       "  </tbody>\n",
       "</table>\n",
       "</div>"
      ],
      "text/plain": [
       "   id    author geometry  pressure [MPa]  mass_flux [kg/m2-s]  x_e_out [-]   \n",
       "0   0  Thompson     tube            7.00               3770.0       0.1754  \\\n",
       "1   1  Thompson     tube             NaN               6049.0      -0.0416   \n",
       "2   2  Thompson      NaN           13.79               2034.0       0.0335   \n",
       "3   3      Beus  annulus           13.79               3679.0      -0.0279   \n",
       "4   4       NaN     tube           13.79                686.0          NaN   \n",
       "\n",
       "   D_e [mm]  D_h [mm]  length [mm]  chf_exp [MW/m2]  \n",
       "0       NaN      10.8        432.0              3.6  \n",
       "1      10.3      10.3        762.0              6.2  \n",
       "2       7.7       7.7        457.0              2.5  \n",
       "3       5.6      15.2       2134.0              3.0  \n",
       "4      11.1      11.1        457.0              2.8  "
      ]
     },
     "execution_count": 9,
     "metadata": {},
     "output_type": "execute_result"
    }
   ],
   "source": [
    "data.head()"
   ]
  },
  {
   "cell_type": "code",
   "execution_count": 10,
   "id": "660458e0-a87c-4fa2-a862-f68d0c5bade5",
   "metadata": {
    "tags": []
   },
   "outputs": [
    {
     "name": "stdout",
     "output_type": "stream",
     "text": [
      "<class 'pandas.core.frame.DataFrame'>\n",
      "RangeIndex: 31644 entries, 0 to 31643\n",
      "Data columns (total 10 columns):\n",
      " #   Column               Non-Null Count  Dtype  \n",
      "---  ------               --------------  -----  \n",
      " 0   id                   31644 non-null  int64  \n",
      " 1   author               26620 non-null  object \n",
      " 2   geometry             26144 non-null  object \n",
      " 3   pressure [MPa]       27192 non-null  float64\n",
      " 4   mass_flux [kg/m2-s]  26853 non-null  float64\n",
      " 5   x_e_out [-]          21229 non-null  float64\n",
      " 6   D_e [mm]             26156 non-null  float64\n",
      " 7   D_h [mm]             27055 non-null  float64\n",
      " 8   length [mm]          26885 non-null  float64\n",
      " 9   chf_exp [MW/m2]      31644 non-null  float64\n",
      "dtypes: float64(7), int64(1), object(2)\n",
      "memory usage: 2.4+ MB\n"
     ]
    }
   ],
   "source": [
    "data.info()"
   ]
  },
  {
   "cell_type": "markdown",
   "id": "2886279d-e7b8-44df-8ab8-5167c5d727a3",
   "metadata": {},
   "source": [
    "Since there are some null values in the `x_e_out [-]`, the data would be splitted as follow:\n",
    "- Train Data: entries with `x_e_out [-]` non-null\n",
    "- Test Data: entries with `x_e_out [-]` null"
   ]
  },
  {
   "cell_type": "code",
   "execution_count": null,
   "id": "f4d21aa4-902b-4d94-a069-4d8d1c170e85",
   "metadata": {},
   "outputs": [],
   "source": []
  }
 ],
 "metadata": {
  "kernelspec": {
   "display_name": "Python 3 (ipykernel)",
   "language": "python",
   "name": "python3"
  },
  "language_info": {
   "codemirror_mode": {
    "name": "ipython",
    "version": 3
   },
   "file_extension": ".py",
   "mimetype": "text/x-python",
   "name": "python",
   "nbconvert_exporter": "python",
   "pygments_lexer": "ipython3",
   "version": "3.10.5"
  }
 },
 "nbformat": 4,
 "nbformat_minor": 5
}
