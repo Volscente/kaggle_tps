{
 "cells": [
  {
   "cell_type": "markdown",
   "metadata": {},
   "source": [
    "# Introduction\n",
    "\n",
    "Perform a Binary Classification over the Rocket League score chance of Team A and Team B."
   ]
  },
  {
   "cell_type": "code",
   "execution_count": null,
   "metadata": {},
   "outputs": [],
   "source": [
    "# Import Standard Libraries\n",
    "import pandas as pd\n",
    "import os\n",
    "\n",
    "import matplotlib.pyplot as plt\n",
    "from matplotlib.gridspec import GridSpec\n",
    "import matplotlib.ticker as ticker\n",
    "import seaborn as sns\n",
    "\n",
    "# Set Pandas Options\n",
    "pd.set_option('display.max_columns', 500)"
   ]
  },
  {
   "cell_type": "code",
   "execution_count": null,
   "metadata": {},
   "outputs": [],
   "source": [
    "# Define Seaborn theme parameters\n",
    "theme_parameters =  {\n",
    "    'axes.spines.right': False,\n",
    "    'axes.spines.top': False,\n",
    "    'grid.alpha':0.3,\n",
    "    'figure.figsize': (16, 6),\n",
    "    'font.family': 'Andale Mono',\n",
    "    'axes.titlesize': 24,\n",
    "    'figure.facecolor': '#E5E8E8',\n",
    "    'axes.facecolor': '#E5E8E8'\n",
    "}\n",
    "\n",
    "# Set the theme\n",
    "sns.set_theme(style='whitegrid',\n",
    "              palette=sns.color_palette('deep'), \n",
    "              rc=theme_parameters)"
   ]
  },
  {
   "cell_type": "code",
   "execution_count": null,
   "metadata": {},
   "outputs": [],
   "source": [
    "# Notebook's variables\n",
    "sample_size = 5000\n",
    "input_path_prefix = '../input/tabular-playground-series-oct-2022/train_'"
   ]
  },
  {
   "cell_type": "markdown",
   "metadata": {},
   "source": [
    "# Read Data\n",
    "\n",
    "Since the data are to big for being all read, a 20% of sample data from each file would be taken into account and concatenated into a single DataFrame."
   ]
  },
  {
   "cell_type": "markdown",
   "metadata": {},
   "source": [
    "## Train Data"
   ]
  },
  {
   "cell_type": "code",
   "execution_count": null,
   "metadata": {},
   "outputs": [],
   "source": [
    "# Read train dtypes\n",
    "train_dtypes_df = pd.read_csv('../input/tabular-playground-series-oct-2022/train_dtypes.csv')\n",
    "\n",
    "# Convert the train dtypes DataFrame to a dictionary\n",
    "train_dtypes_dict = dict(zip(train_dtypes_df.column, train_dtypes_df.dtype))"
   ]
  },
  {
   "cell_type": "code",
   "execution_count": null,
   "metadata": {},
   "outputs": [],
   "source": [
    "# Initialise empty train_data\n",
    "train_data = pd.DataFrame(columns=train_dtypes_dict.keys())\n",
    "\n",
    "# Fetch train input files\n",
    "for index in range(10):\n",
    "    \n",
    "    # Train data path\n",
    "    input_train_data_path = input_path_prefix + str(index) + '.csv'\n",
    "        \n",
    "    # Read data\n",
    "    input_train_data = pd.read_csv(input_train_data_path,\n",
    "                                   dtype=train_dtypes_dict,\n",
    "                                   nrows=sample_size)\n",
    "    \n",
    "    # Concatenate\n",
    "    train_data = pd.concat([train_data, input_train_data])"
   ]
  },
  {
   "cell_type": "code",
   "execution_count": null,
   "metadata": {},
   "outputs": [],
   "source": [
    "train_data.info()"
   ]
  },
  {
   "cell_type": "code",
   "execution_count": null,
   "metadata": {},
   "outputs": [],
   "source": [
    "train_data.head()"
   ]
  },
  {
   "cell_type": "markdown",
   "metadata": {},
   "source": [
    "## Test Data"
   ]
  },
  {
   "cell_type": "code",
   "execution_count": null,
   "metadata": {},
   "outputs": [],
   "source": [
    "# Read test dtypes\n",
    "test_dtypes_df = pd.read_csv('../input/tabular-playground-series-oct-2022/test_dtypes.csv')\n",
    "\n",
    "# Convert the test dtypes DataFrame to a dictionary\n",
    "test_dtypes_dict = dict(zip(test_dtypes_df.column, test_dtypes_df.dtype))"
   ]
  },
  {
   "cell_type": "code",
   "execution_count": null,
   "metadata": {},
   "outputs": [],
   "source": [
    "test_data = pd.read_csv('../input/tabular-playground-series-oct-2022/test.csv',\n",
    "                        dtype=test_dtypes_dict)"
   ]
  },
  {
   "cell_type": "markdown",
   "metadata": {},
   "source": [
    "# Exploratory Data Analysis"
   ]
  },
  {
   "cell_type": "markdown",
   "metadata": {},
   "source": [
    "## Null Values Percentage"
   ]
  },
  {
   "cell_type": "code",
   "execution_count": null,
   "metadata": {},
   "outputs": [],
   "source": [
    "# Define data to display\n",
    "data_to_display = {\n",
    "    'Train Data': train_data,\n",
    "    'Test Data': test_data\n",
    "}\n",
    "\n",
    "# Create figure\n",
    "figure = plt.figure(tight_layout=True, figsize=(16, 20))\n",
    "\n",
    "# Define figure's subplots\n",
    "grid_spec = GridSpec(len(data_to_display), 1)\n",
    "\n",
    "# Fetch data to plot\n",
    "for row, (name, dataframe) in enumerate(data_to_display.items()):\n",
    "    \n",
    "    # Create subplot\n",
    "    ax = figure.add_subplot(grid_spec[row, 0])\n",
    "    \n",
    "    sns.histplot(data=dataframe.isna().melt(var_name='Feature', value_name='Missing'), \n",
    "                 y='Feature', \n",
    "                 hue='Missing', \n",
    "                 multiple='fill',\n",
    "                 ax=ax)\n",
    "    \n",
    "    # Refactor x label as missing percentage\n",
    "    ax.xaxis.set_major_locator(ticker.LinearLocator(21))\n",
    "    ax.xaxis.set_major_formatter('{:.0%}'.format)\n",
    "    \n",
    "    # Set title and label\n",
    "    ax.set_title(name, fontsize=15)\n",
    "    ax.set_xlabel('Null Percentage')"
   ]
  },
  {
   "cell_type": "markdown",
   "metadata": {},
   "source": [
    "## Ball Position Distribution"
   ]
  },
  {
   "cell_type": "code",
   "execution_count": null,
   "metadata": {},
   "outputs": [],
   "source": [
    "# Define ball's position feature\n",
    "ball_position = ['ball_pos_x', 'ball_pos_y', 'ball_pos_z']"
   ]
  },
  {
   "cell_type": "code",
   "execution_count": null,
   "metadata": {},
   "outputs": [],
   "source": [
    "# Define the subplot\n",
    "figure, ax = plt.subplots(3, 1, figsize=(16, 9))\n",
    "ax = ax.flatten()\n",
    "\n",
    "# Fetch the data to plot\n",
    "for index, column in enumerate(train_data[ball_position].columns):\n",
    "    \n",
    "    # Plot data\n",
    "    sns.histplot(data=train_data[column], \n",
    "                 ax=ax[index])\n",
    "    \n",
    "    ax[index].set_title(' | '.join(combination), fontsize=14)\n",
    "    \n",
    "plt.tight_layout()"
   ]
  }
 ],
 "metadata": {
  "kernelspec": {
   "display_name": "Python 3",
   "language": "python",
   "name": "python3"
  },
  "language_info": {
   "codemirror_mode": {
    "name": "ipython",
    "version": 3
   },
   "file_extension": ".py",
   "mimetype": "text/x-python",
   "name": "python",
   "nbconvert_exporter": "python",
   "pygments_lexer": "ipython3",
   "version": "3.7.12"
  }
 },
 "nbformat": 4,
 "nbformat_minor": 4
}
