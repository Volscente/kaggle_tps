{
 "cells": [
  {
   "cell_type": "markdown",
   "id": "4100d6ad-cf86-4bbc-9362-05f5040202bb",
   "metadata": {},
   "source": [
    "# Machine Failure Classification\n",
    "\n",
    "**Context:** Missing\n",
    "\n",
    "<br>\n",
    "\n",
    "**Goal:** The dataset is used to predict whatever a machine will fail (1) or not (0). \n",
    "\n",
    "<br>\n",
    "\n",
    "**Feature Description:**\n",
    "- Missing\n",
    "\n",
    "<br>\n",
    "\n",
    "**Resources:**\n",
    "- [Kaggle Challenge](https://www.kaggle.com/competitions/playground-series-s3e17/overview)\n",
    "- [Original Dataset](https://www.kaggle.com/datasets/dineshmanikanta/machine-failure-predictions)"
   ]
  },
  {
   "cell_type": "code",
   "execution_count": 1,
   "id": "e0ab2df8-3276-4fa1-aefb-929500489d0a",
   "metadata": {},
   "outputs": [],
   "source": [
    "# Import Standard Libraries\n",
    "import os\n",
    "import re\n",
    "\n",
    "import pandas as pd\n",
    "import numpy as np\n",
    "import matplotlib.pyplot as plt\n",
    "from matplotlib.gridspec import GridSpec\n",
    "import matplotlib.ticker as ticker\n",
    "import seaborn as sns\n",
    "\n",
    "import mlflow\n",
    "\n",
    "from pathlib import Path\n",
    "from colorama import Style, Fore"
   ]
  },
  {
   "cell_type": "code",
   "execution_count": 2,
   "id": "78428317-5d47-4211-ad5b-530a003d45e8",
   "metadata": {
    "tags": []
   },
   "outputs": [],
   "source": [
    "# Define Seaborn theme parameters\n",
    "theme_parameters =  {\n",
    "    'axes.spines.right': False,\n",
    "    'axes.spines.top': False,\n",
    "    'grid.alpha':0.3,\n",
    "    'figure.figsize': (16, 6),\n",
    "    'font.family': 'Andale Mono',\n",
    "    'axes.titlesize': 24,\n",
    "    'figure.facecolor': '#E5E8E8',\n",
    "    'axes.facecolor': '#E5E8E8'\n",
    "}\n",
    "\n",
    "# Set the theme\n",
    "sns.set_theme(style='whitegrid',\n",
    "              palette=sns.color_palette('deep'), \n",
    "              rc=theme_parameters)"
   ]
  },
  {
   "cell_type": "code",
   "execution_count": 3,
   "id": "04c441ef-aebb-4ec8-9b24-bb1b1babf836",
   "metadata": {
    "tags": []
   },
   "outputs": [],
   "source": [
    "# Define Colors\n",
    "black = Style.BRIGHT + Fore.BLACK\n",
    "magenta = Style.BRIGHT + Fore.MAGENTA\n",
    "red = Style.BRIGHT + Fore.RED\n",
    "blue = Style.BRIGHT + Fore.BLUE\n",
    "reset_colors = Style.RESET_ALL"
   ]
  },
  {
   "cell_type": "markdown",
   "id": "7b6298a2-b146-4908-90f7-01bc68261bef",
   "metadata": {},
   "source": [
    "# Read Data"
   ]
  },
  {
   "cell_type": "code",
   "execution_count": 6,
   "id": "573689b9-a17b-4a7d-a024-72e0757d5309",
   "metadata": {
    "tags": []
   },
   "outputs": [],
   "source": [
    "# Switch flag for Kaggle Cloud\n",
    "kaggle = False\n",
    "\n",
    "# Switch flag for including original dataset\n",
    "include_original_data = True"
   ]
  },
  {
   "cell_type": "code",
   "execution_count": 7,
   "id": "aa0c62d4-0e80-48ec-b270-0bec8937fc1e",
   "metadata": {
    "tags": []
   },
   "outputs": [],
   "source": [
    "# Read training data\n",
    "if kaggle:\n",
    "    \n",
    "    # Read data from Kaggle FS\n",
    "    data = pd.read_csv('', index_col=0)\n",
    "    original_data = pd.read_csv('', index_col=0)\n",
    "    \n",
    "else:\n",
    "    \n",
    "    # Define local data file paths\n",
    "    train_data_file_path = Path(os.path.abspath('')).parents[1] / 'data' / 'S3E17' / 'machine_failure_classification_train.csv'\n",
    "    test_data_file_path = Path(os.path.abspath('')).parents[1] / 'data' / 'S3E17' / 'machine_failure_classification_test.csv'\n",
    "    original_data_file_path = Path(os.path.abspath('')).parents[1] / 'data' / 'S3E17' / 'machine_failure_classification_original.csv'\n",
    "   \n",
    "    # Read data with Pandas DataFrame\n",
    "    train_data = pd.read_csv(train_data_file_path, index_col=0)\n",
    "    test_data = pd.read_csv(test_data_file_path, index_col=0)\n",
    "    original_data = pd.read_csv(original_data_file_path, index_col=0)"
   ]
  },
  {
   "cell_type": "code",
   "execution_count": 8,
   "id": "0c0d582d-633b-4f86-b15f-64e37984bb45",
   "metadata": {
    "tags": []
   },
   "outputs": [
    {
     "data": {
      "text/html": [
       "<div>\n",
       "<style scoped>\n",
       "    .dataframe tbody tr th:only-of-type {\n",
       "        vertical-align: middle;\n",
       "    }\n",
       "\n",
       "    .dataframe tbody tr th {\n",
       "        vertical-align: top;\n",
       "    }\n",
       "\n",
       "    .dataframe thead th {\n",
       "        text-align: right;\n",
       "    }\n",
       "</style>\n",
       "<table border=\"1\" class=\"dataframe\">\n",
       "  <thead>\n",
       "    <tr style=\"text-align: right;\">\n",
       "      <th></th>\n",
       "      <th>Product ID</th>\n",
       "      <th>Type</th>\n",
       "      <th>Air temperature [K]</th>\n",
       "      <th>Process temperature [K]</th>\n",
       "      <th>Rotational speed [rpm]</th>\n",
       "      <th>Torque [Nm]</th>\n",
       "      <th>Tool wear [min]</th>\n",
       "      <th>Machine failure</th>\n",
       "      <th>TWF</th>\n",
       "      <th>HDF</th>\n",
       "      <th>PWF</th>\n",
       "      <th>OSF</th>\n",
       "      <th>RNF</th>\n",
       "    </tr>\n",
       "    <tr>\n",
       "      <th>id</th>\n",
       "      <th></th>\n",
       "      <th></th>\n",
       "      <th></th>\n",
       "      <th></th>\n",
       "      <th></th>\n",
       "      <th></th>\n",
       "      <th></th>\n",
       "      <th></th>\n",
       "      <th></th>\n",
       "      <th></th>\n",
       "      <th></th>\n",
       "      <th></th>\n",
       "      <th></th>\n",
       "    </tr>\n",
       "  </thead>\n",
       "  <tbody>\n",
       "    <tr>\n",
       "      <th>0</th>\n",
       "      <td>L50096</td>\n",
       "      <td>L</td>\n",
       "      <td>300.6</td>\n",
       "      <td>309.6</td>\n",
       "      <td>1596</td>\n",
       "      <td>36.1</td>\n",
       "      <td>140</td>\n",
       "      <td>0</td>\n",
       "      <td>0</td>\n",
       "      <td>0</td>\n",
       "      <td>0</td>\n",
       "      <td>0</td>\n",
       "      <td>0</td>\n",
       "    </tr>\n",
       "    <tr>\n",
       "      <th>1</th>\n",
       "      <td>M20343</td>\n",
       "      <td>M</td>\n",
       "      <td>302.6</td>\n",
       "      <td>312.1</td>\n",
       "      <td>1759</td>\n",
       "      <td>29.1</td>\n",
       "      <td>200</td>\n",
       "      <td>0</td>\n",
       "      <td>0</td>\n",
       "      <td>0</td>\n",
       "      <td>0</td>\n",
       "      <td>0</td>\n",
       "      <td>0</td>\n",
       "    </tr>\n",
       "    <tr>\n",
       "      <th>2</th>\n",
       "      <td>L49454</td>\n",
       "      <td>L</td>\n",
       "      <td>299.3</td>\n",
       "      <td>308.5</td>\n",
       "      <td>1805</td>\n",
       "      <td>26.5</td>\n",
       "      <td>25</td>\n",
       "      <td>0</td>\n",
       "      <td>0</td>\n",
       "      <td>0</td>\n",
       "      <td>0</td>\n",
       "      <td>0</td>\n",
       "      <td>0</td>\n",
       "    </tr>\n",
       "    <tr>\n",
       "      <th>3</th>\n",
       "      <td>L53355</td>\n",
       "      <td>L</td>\n",
       "      <td>301.0</td>\n",
       "      <td>310.9</td>\n",
       "      <td>1524</td>\n",
       "      <td>44.3</td>\n",
       "      <td>197</td>\n",
       "      <td>0</td>\n",
       "      <td>0</td>\n",
       "      <td>0</td>\n",
       "      <td>0</td>\n",
       "      <td>0</td>\n",
       "      <td>0</td>\n",
       "    </tr>\n",
       "    <tr>\n",
       "      <th>4</th>\n",
       "      <td>M24050</td>\n",
       "      <td>M</td>\n",
       "      <td>298.0</td>\n",
       "      <td>309.0</td>\n",
       "      <td>1641</td>\n",
       "      <td>35.4</td>\n",
       "      <td>34</td>\n",
       "      <td>0</td>\n",
       "      <td>0</td>\n",
       "      <td>0</td>\n",
       "      <td>0</td>\n",
       "      <td>0</td>\n",
       "      <td>0</td>\n",
       "    </tr>\n",
       "  </tbody>\n",
       "</table>\n",
       "</div>"
      ],
      "text/plain": [
       "   Product ID Type  Air temperature [K]  Process temperature [K]   \n",
       "id                                                                 \n",
       "0      L50096    L                300.6                    309.6  \\\n",
       "1      M20343    M                302.6                    312.1   \n",
       "2      L49454    L                299.3                    308.5   \n",
       "3      L53355    L                301.0                    310.9   \n",
       "4      M24050    M                298.0                    309.0   \n",
       "\n",
       "    Rotational speed [rpm]  Torque [Nm]  Tool wear [min]  Machine failure   \n",
       "id                                                                          \n",
       "0                     1596         36.1              140                0  \\\n",
       "1                     1759         29.1              200                0   \n",
       "2                     1805         26.5               25                0   \n",
       "3                     1524         44.3              197                0   \n",
       "4                     1641         35.4               34                0   \n",
       "\n",
       "    TWF  HDF  PWF  OSF  RNF  \n",
       "id                           \n",
       "0     0    0    0    0    0  \n",
       "1     0    0    0    0    0  \n",
       "2     0    0    0    0    0  \n",
       "3     0    0    0    0    0  \n",
       "4     0    0    0    0    0  "
      ]
     },
     "execution_count": 8,
     "metadata": {},
     "output_type": "execute_result"
    }
   ],
   "source": [
    "train_data.head()"
   ]
  },
  {
   "cell_type": "code",
   "execution_count": 9,
   "id": "3b82d84d-d160-4b14-86b0-27ea9dc14eff",
   "metadata": {
    "tags": []
   },
   "outputs": [
    {
     "name": "stdout",
     "output_type": "stream",
     "text": [
      "<class 'pandas.core.frame.DataFrame'>\n",
      "Index: 136429 entries, 0 to 136428\n",
      "Data columns (total 13 columns):\n",
      " #   Column                   Non-Null Count   Dtype  \n",
      "---  ------                   --------------   -----  \n",
      " 0   Product ID               136429 non-null  object \n",
      " 1   Type                     136429 non-null  object \n",
      " 2   Air temperature [K]      136429 non-null  float64\n",
      " 3   Process temperature [K]  136429 non-null  float64\n",
      " 4   Rotational speed [rpm]   136429 non-null  int64  \n",
      " 5   Torque [Nm]              136429 non-null  float64\n",
      " 6   Tool wear [min]          136429 non-null  int64  \n",
      " 7   Machine failure          136429 non-null  int64  \n",
      " 8   TWF                      136429 non-null  int64  \n",
      " 9   HDF                      136429 non-null  int64  \n",
      " 10  PWF                      136429 non-null  int64  \n",
      " 11  OSF                      136429 non-null  int64  \n",
      " 12  RNF                      136429 non-null  int64  \n",
      "dtypes: float64(3), int64(8), object(2)\n",
      "memory usage: 14.6+ MB\n"
     ]
    }
   ],
   "source": [
    "train_data.info()"
   ]
  },
  {
   "cell_type": "markdown",
   "id": "1224c287-0ed0-4713-8855-16e66d358b03",
   "metadata": {},
   "source": [
    "# Exploratory Data Analysis (EDA)"
   ]
  },
  {
   "cell_type": "code",
   "execution_count": 10,
   "id": "bae6cb7a-1a68-4d6b-8c5f-7942cc6f8443",
   "metadata": {
    "tags": []
   },
   "outputs": [],
   "source": [
    "# Define dictionary of data to plot\n",
    "data_to_plot = {'Train': train_data, \n",
    "                'Test': test_data, \n",
    "                'Original': original_data}"
   ]
  },
  {
   "cell_type": "markdown",
   "id": "e23e321d-dcc3-4ce4-8c91-39885be3ebb6",
   "metadata": {},
   "source": [
    "## Shapes Information"
   ]
  },
  {
   "cell_type": "code",
   "execution_count": 11,
   "id": "5ffa1fcf-4ab3-4816-98f7-de0cc3e0e293",
   "metadata": {
    "tags": []
   },
   "outputs": [
    {
     "name": "stdout",
     "output_type": "stream",
     "text": [
      "\u001b[1m\u001b[34mData Shapes:\u001b[1m\u001b[34m\n",
      "- Train Data     -> \u001b[1m\u001b[31m(136429, 13)\u001b[1m\u001b[34m\n",
      "- Original Data  -> \u001b[1m\u001b[31m(10000, 13)\u001b[1m\u001b[34m\n",
      "- Test Data      -> \u001b[1m\u001b[31m(90954, 12)\n",
      "\n"
     ]
    }
   ],
   "source": [
    "# Print shapes information\n",
    "print(f'{blue}Data Shapes:'\n",
    "      f'{blue}\\n- Train Data     -> {red}{train_data.shape}'\n",
    "      f'{blue}\\n- Original Data  -> {red}{original_data.shape}'\n",
    "      f'{blue}\\n- Test Data      -> {red}{test_data.shape}\\n')"
   ]
  },
  {
   "cell_type": "markdown",
   "id": "c48fc899-e758-48aa-b613-0052c30dd8eb",
   "metadata": {},
   "source": [
    "## Null Values Information"
   ]
  },
  {
   "cell_type": "code",
   "execution_count": 12,
   "id": "e63df209-5333-495a-b662-366f50134076",
   "metadata": {
    "tags": []
   },
   "outputs": [
    {
     "name": "stdout",
     "output_type": "stream",
     "text": [
      "\u001b[1m\u001b[34mData Columns with Null Values:\u001b[1m\u001b[34m\n",
      "- Train Data     -> \u001b[1m\u001b[31m0\u001b[1m\u001b[34m\n",
      "- Original Data  -> \u001b[1m\u001b[31m0\u001b[1m\u001b[34m\n",
      "- Test Data      -> \u001b[1m\u001b[31m0\n",
      "\n"
     ]
    }
   ],
   "source": [
    "# Print null values information\n",
    "print(f'{blue}Data Columns with Null Values:'\n",
    "      f'{blue}\\n- Train Data     -> {red}{train_data.isnull().any().sum()}'\n",
    "      f'{blue}\\n- Original Data  -> {red}{original_data.isnull().any().sum()}'\n",
    "      f'{blue}\\n- Test Data      -> {red}{test_data.isnull().any().sum()}\\n')"
   ]
  },
  {
   "cell_type": "markdown",
   "id": "bef24e74-9e38-435f-bb71-e535e59ffd2b",
   "metadata": {},
   "source": [
    "No null values to fill. Good news!"
   ]
  },
  {
   "cell_type": "markdown",
   "id": "cea127f9-54f2-4f42-87f2-c1927ded0fb3",
   "metadata": {},
   "source": [
    "## Feature Distribution"
   ]
  },
  {
   "cell_type": "markdown",
   "id": "042f735f-a479-4a7b-8dfd-353be9386aac",
   "metadata": {},
   "source": [
    "### Numerical Feature Distribution"
   ]
  },
  {
   "cell_type": "markdown",
   "id": "aa837e2c-40fc-492f-bb0e-f17e7f91c862",
   "metadata": {},
   "source": [
    "### Categorical Feature Distribution"
   ]
  },
  {
   "cell_type": "markdown",
   "id": "bebd87b0-c7d5-4b5a-81e5-aee3d68896b8",
   "metadata": {},
   "source": [
    "#### Product ID"
   ]
  },
  {
   "cell_type": "code",
   "execution_count": 16,
   "id": "dbb5ee2a-a2af-47c0-ba4b-49392f247b4e",
   "metadata": {
    "tags": []
   },
   "outputs": [
    {
     "name": "stdout",
     "output_type": "stream",
     "text": [
      "\u001b[1m\u001b[34mProduct IDs:\u001b[1m\u001b[34m\n",
      "- Train Data     -> \u001b[1m\u001b[31m9976\u001b[1m\u001b[34m\n",
      "- Original Data  -> \u001b[1m\u001b[31m10000\u001b[1m\u001b[34m\n",
      "- Test Data      -> \u001b[1m\u001b[31m9909\n",
      "\n"
     ]
    }
   ],
   "source": [
    "# Print null values information\n",
    "print(f\"{blue}Product IDs:\"\n",
    "      f\"{blue}\\n- Train Data     -> {red}{train_data['Product ID'].nunique()}\"\n",
    "      f\"{blue}\\n- Original Data  -> {red}{original_data['Product ID'].nunique()}\"\n",
    "      f\"{blue}\\n- Test Data      -> {red}{test_data['Product ID'].nunique()}\\n\")"
   ]
  },
  {
   "cell_type": "code",
   "execution_count": null,
   "id": "abea93b5-0ba9-45c7-8b7f-fd0ba0a26b20",
   "metadata": {},
   "outputs": [],
   "source": [
    "# Distribution of samples per Product ID"
   ]
  }
 ],
 "metadata": {
  "kernelspec": {
   "display_name": "Python 3 (ipykernel)",
   "language": "python",
   "name": "python3"
  },
  "language_info": {
   "codemirror_mode": {
    "name": "ipython",
    "version": 3
   },
   "file_extension": ".py",
   "mimetype": "text/x-python",
   "name": "python",
   "nbconvert_exporter": "python",
   "pygments_lexer": "ipython3",
   "version": "3.10.5"
  }
 },
 "nbformat": 4,
 "nbformat_minor": 5
}
