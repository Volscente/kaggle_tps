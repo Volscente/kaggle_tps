{
 "cells": [
  {
   "cell_type": "markdown",
   "id": "4100d6ad-cf86-4bbc-9362-05f5040202bb",
   "metadata": {},
   "source": [
    "# Machine Failure Classification\n",
    "\n",
    "**Context:** Missing\n",
    "\n",
    "<br>\n",
    "\n",
    "**Goal:** The dataset is used to predict whatever a machine will fail (1) or not (0). \n",
    "\n",
    "<br>\n",
    "\n",
    "**Feature Description:**\n",
    "- Missing\n",
    "\n",
    "<br>\n",
    "\n",
    "**Resources:**\n",
    "- [Kaggle Challenge](https://www.kaggle.com/competitions/playground-series-s3e17/overview)\n",
    "- [Original Dataset](https://www.kaggle.com/datasets/dineshmanikanta/machine-failure-predictions)"
   ]
  },
  {
   "cell_type": "code",
   "execution_count": null,
   "id": "e0ab2df8-3276-4fa1-aefb-929500489d0a",
   "metadata": {},
   "outputs": [],
   "source": []
  }
 ],
 "metadata": {
  "kernelspec": {
   "display_name": "Python 3 (ipykernel)",
   "language": "python",
   "name": "python3"
  },
  "language_info": {
   "codemirror_mode": {
    "name": "ipython",
    "version": 3
   },
   "file_extension": ".py",
   "mimetype": "text/x-python",
   "name": "python",
   "nbconvert_exporter": "python",
   "pygments_lexer": "ipython3",
   "version": "3.10.5"
  }
 },
 "nbformat": 4,
 "nbformat_minor": 5
}
